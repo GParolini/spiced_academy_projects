{
 "cells": [
  {
   "cell_type": "markdown",
   "metadata": {},
   "source": [
    "# Kaggle Submission Project 2: ML Classification"
   ]
  },
  {
   "cell_type": "markdown",
   "metadata": {},
   "source": [
    "## Imports"
   ]
  },
  {
   "cell_type": "code",
   "execution_count": 79,
   "metadata": {},
   "outputs": [],
   "source": [
    "import pandas as pd\n",
    "import matplotlib.pyplot as plt\n",
    "import seaborn as sns\n",
    "import numpy as np\n",
    "from sklearn.compose import ColumnTransformer\n",
    "from sklearn.impute import SimpleImputer\n",
    "from sklearn.preprocessing import OneHotEncoder, MinMaxScaler, KBinsDiscretizer\n",
    "from sklearn.preprocessing import FunctionTransformer\n",
    "from sklearn.pipeline import make_pipeline\n",
    "from sklearn.model_selection import train_test_split\n",
    "from sklearn.linear_model import LogisticRegression\n",
    "from sklearn.tree import DecisionTreeClassifier\n",
    "from sklearn.ensemble import RandomForestClassifier\n",
    "from sklearn.metrics import accuracy_score, classification_report\n",
    "from sklearn.metrics import plot_confusion_matrix\n",
    "from sklearn.metrics import roc_curve\n",
    "from sklearn.metrics import plot_roc_curve"
   ]
  },
  {
   "cell_type": "markdown",
   "metadata": {},
   "source": [
    "## Titanic dataset"
   ]
  },
  {
   "cell_type": "code",
   "execution_count": 80,
   "metadata": {
    "scrolled": true
   },
   "outputs": [],
   "source": [
    "df =pd.read_csv(\"train.csv\", index_col = 0)"
   ]
  },
  {
   "cell_type": "markdown",
   "metadata": {},
   "source": [
    "## Feature Engineering"
   ]
  },
  {
   "cell_type": "code",
   "execution_count": 81,
   "metadata": {},
   "outputs": [],
   "source": [
    "# Drop the 'Survived' column\n",
    "#It cannot be used for feature engineering because it is the variable the model should predict\n",
    "df_feature_eng_titanic = df.drop(columns =['Survived'], axis =1)\n"
   ]
  },
  {
   "cell_type": "code",
   "execution_count": 82,
   "metadata": {},
   "outputs": [],
   "source": [
    "Xtrain = df_feature_eng_titanic\n",
    "ytrain = df['Survived']"
   ]
  },
  {
   "cell_type": "code",
   "execution_count": 83,
   "metadata": {},
   "outputs": [
    {
     "data": {
      "text/plain": [
       "((891, 10), (891,))"
      ]
     },
     "execution_count": 83,
     "metadata": {},
     "output_type": "execute_result"
    }
   ],
   "source": [
    "Xtrain.shape, ytrain.shape"
   ]
  },
  {
   "cell_type": "code",
   "execution_count": 84,
   "metadata": {
    "scrolled": true
   },
   "outputs": [
    {
     "name": "stdout",
     "output_type": "stream",
     "text": [
      "Null values in column 'Pclass':  0\n",
      "Null values in column 'Sex':  0\n",
      "Null values in column 'Age':  177\n",
      "Null values in column 'Fare':  0\n",
      "Null values in column 'Cabin':  687\n",
      "Null values in column 'Embarked':  2\n",
      "Null values in column 'SibSp':  0\n"
     ]
    }
   ],
   "source": [
    "# Checking missing data\n",
    "print(\"Null values in column 'Pclass': \", df_feature_eng_titanic['Pclass'].isna().sum())\n",
    "print(\"Null values in column 'Sex': \", df_feature_eng_titanic['Sex'].isna().sum())\n",
    "print(\"Null values in column 'Age': \", df_feature_eng_titanic['Age'].isna().sum())\n",
    "print(\"Null values in column 'Fare': \", df_feature_eng_titanic['Fare'].isna().sum())\n",
    "print(\"Null values in column 'Cabin': \", df_feature_eng_titanic['Cabin'].isna().sum())\n",
    "print(\"Null values in column 'Embarked': \", df_feature_eng_titanic['Embarked'].isna().sum())\n",
    "print(\"Null values in column 'SibSp': \", df_feature_eng_titanic['SibSp'].isna().sum())"
   ]
  },
  {
   "cell_type": "code",
   "execution_count": 85,
   "metadata": {},
   "outputs": [],
   "source": [
    "pipeline_age = make_pipeline(\n",
    "    SimpleImputer(strategy='mean'), \n",
    "    KBinsDiscretizer(n_bins=5, encode='onehot', strategy='uniform'),\n",
    ")\n"
   ]
  },
  {
   "cell_type": "code",
   "execution_count": 86,
   "metadata": {},
   "outputs": [],
   "source": [
    "def name_cabin(df):\n",
    "    cabin = df['Cabin'].fillna('X')\n",
    "    name = cabin.str[0]\n",
    "    return name.values.reshape(-1, 1)\n",
    "\n",
    "\n",
    "pipeline_cabin = make_pipeline(\n",
    "    FunctionTransformer(name_cabin),\n",
    "    OneHotEncoder(sparse=False, handle_unknown='ignore'),\n",
    ")\n"
   ]
  },
  {
   "cell_type": "code",
   "execution_count": 87,
   "metadata": {},
   "outputs": [],
   "source": [
    "pipeline_embarked = make_pipeline(\n",
    "    SimpleImputer(strategy='constant', fill_value='X' ),\n",
    "    OneHotEncoder(sparse=False, handle_unknown='ignore'),\n",
    ")"
   ]
  },
  {
   "cell_type": "code",
   "execution_count": 88,
   "metadata": {},
   "outputs": [],
   "source": [
    "pipeline_fare = make_pipeline(\n",
    "    SimpleImputer(strategy='median'),\n",
    "    MinMaxScaler(),\n",
    ")"
   ]
  },
  {
   "cell_type": "code",
   "execution_count": 89,
   "metadata": {},
   "outputs": [],
   "source": [
    "#ColumnTransformer automatically drops the columns not explicitly mentioned (unless other param. are given)\n",
    "trans = ColumnTransformer([\n",
    "   ('one_hot_enc', OneHotEncoder(sparse=False, handle_unknown='ignore'), ['Pclass','Sex']),\n",
    "    ('impute_and_bin', pipeline_age, ['Age']),\n",
    "    ('scale', pipeline_fare, ['Fare']),\n",
    "    ('cabin', pipeline_cabin, ['Cabin']),\n",
    "    ('embarked', pipeline_embarked, ['Embarked']),\n",
    "])"
   ]
  },
  {
   "cell_type": "code",
   "execution_count": 90,
   "metadata": {
    "scrolled": true
   },
   "outputs": [
    {
     "data": {
      "text/plain": [
       "(891, 24)"
      ]
     },
     "execution_count": 90,
     "metadata": {},
     "output_type": "execute_result"
    }
   ],
   "source": [
    "trans.fit(Xtrain, ytrain)\n",
    "Xtrain_transform = trans.transform(Xtrain)  # result is a single numpy array\n",
    "Xtrain_transform.shape\n",
    "\n"
   ]
  },
  {
   "cell_type": "markdown",
   "metadata": {},
   "source": [
    "## Logistic regression"
   ]
  },
  {
   "cell_type": "code",
   "execution_count": 91,
   "metadata": {
    "scrolled": true
   },
   "outputs": [
    {
     "data": {
      "text/plain": [
       "LogisticRegression()"
      ]
     },
     "execution_count": 91,
     "metadata": {},
     "output_type": "execute_result"
    }
   ],
   "source": [
    "model_lr = LogisticRegression()\n",
    "model_lr.fit(Xtrain_transform, ytrain)"
   ]
  },
  {
   "cell_type": "code",
   "execution_count": 92,
   "metadata": {
    "scrolled": false
   },
   "outputs": [],
   "source": [
    "test = pd.read_csv('test.csv', index_col =0)"
   ]
  },
  {
   "cell_type": "code",
   "execution_count": 93,
   "metadata": {},
   "outputs": [
    {
     "name": "stdout",
     "output_type": "stream",
     "text": [
      "Null values in column 'Pclass':  0\n",
      "Null values in column 'Sex':  0\n",
      "Null values in column 'Age':  86\n",
      "Null values in column 'Fare':  1\n",
      "Null values in column 'Cabin':  327\n",
      "Null values in column 'Embarked':  0\n",
      "Null values in column 'SibSp':  0\n"
     ]
    }
   ],
   "source": [
    "print(\"Null values in column 'Pclass': \", test['Pclass'].isna().sum())\n",
    "print(\"Null values in column 'Sex': \", test['Sex'].isna().sum())\n",
    "print(\"Null values in column 'Age': \", test['Age'].isna().sum())\n",
    "print(\"Null values in column 'Fare': \", test['Fare'].isna().sum())\n",
    "print(\"Null values in column 'Cabin': \", test['Cabin'].isna().sum())\n",
    "print(\"Null values in column 'Embarked': \", test['Embarked'].isna().sum())\n",
    "print(\"Null values in column 'SibSp': \", test['SibSp'].isna().sum())"
   ]
  },
  {
   "cell_type": "code",
   "execution_count": 94,
   "metadata": {
    "scrolled": true
   },
   "outputs": [],
   "source": [
    "Xtest_transform = trans.transform(test) "
   ]
  },
  {
   "cell_type": "code",
   "execution_count": 95,
   "metadata": {
    "scrolled": true
   },
   "outputs": [
    {
     "data": {
      "text/plain": [
       "(418, 24)"
      ]
     },
     "execution_count": 95,
     "metadata": {},
     "output_type": "execute_result"
    }
   ],
   "source": [
    "Xtest_transform.shape"
   ]
  },
  {
   "cell_type": "code",
   "execution_count": 96,
   "metadata": {},
   "outputs": [],
   "source": [
    "ypred_lr = model_lr.predict(Xtest_transform)\n"
   ]
  },
  {
   "cell_type": "code",
   "execution_count": 97,
   "metadata": {},
   "outputs": [],
   "source": [
    "submission_lr = pd.DataFrame(ypred_lr, index=test.index, columns=['Survived'])\n",
    "submission_lr.to_csv('submission_lr.csv')"
   ]
  },
  {
   "cell_type": "markdown",
   "metadata": {},
   "source": [
    "## Decision Tree"
   ]
  },
  {
   "cell_type": "code",
   "execution_count": 98,
   "metadata": {},
   "outputs": [
    {
     "data": {
      "text/plain": [
       "DecisionTreeClassifier(max_depth=5)"
      ]
     },
     "execution_count": 98,
     "metadata": {},
     "output_type": "execute_result"
    }
   ],
   "source": [
    "model_dt = DecisionTreeClassifier(max_depth=5)  # we allow that many questions\n",
    "model_dt.fit(Xtrain_transform,ytrain)"
   ]
  },
  {
   "cell_type": "code",
   "execution_count": 99,
   "metadata": {},
   "outputs": [],
   "source": [
    "ypred_dt = model_dt.predict(Xtest_transform)"
   ]
  },
  {
   "cell_type": "code",
   "execution_count": 100,
   "metadata": {},
   "outputs": [],
   "source": [
    "submission_dt = pd.DataFrame(ypred_dt, index=test.index, columns=['Survived'])\n",
    "submission_dt.to_csv('submission_dt.csv')"
   ]
  },
  {
   "cell_type": "markdown",
   "metadata": {},
   "source": [
    "## Random forest"
   ]
  },
  {
   "cell_type": "code",
   "execution_count": 101,
   "metadata": {},
   "outputs": [],
   "source": [
    "model_rf = RandomForestClassifier(max_depth=6, random_state=0)"
   ]
  },
  {
   "cell_type": "code",
   "execution_count": 102,
   "metadata": {},
   "outputs": [
    {
     "data": {
      "text/plain": [
       "RandomForestClassifier(max_depth=6, random_state=0)"
      ]
     },
     "execution_count": 102,
     "metadata": {},
     "output_type": "execute_result"
    }
   ],
   "source": [
    "model_rf.fit(Xtrain_transform, ytrain)"
   ]
  },
  {
   "cell_type": "code",
   "execution_count": 103,
   "metadata": {},
   "outputs": [],
   "source": [
    "ypred_rf = model_rf.predict(Xtest_transform)"
   ]
  },
  {
   "cell_type": "code",
   "execution_count": 104,
   "metadata": {},
   "outputs": [],
   "source": [
    "submission_rf = pd.DataFrame(ypred_rf, index=test.index, columns=['Survived'])\n",
    "submission_rf.to_csv('submission_rf.csv')"
   ]
  },
  {
   "cell_type": "code",
   "execution_count": null,
   "metadata": {},
   "outputs": [],
   "source": []
  }
 ],
 "metadata": {
  "kernelspec": {
   "display_name": "Python 3",
   "language": "python",
   "name": "python3"
  },
  "language_info": {
   "codemirror_mode": {
    "name": "ipython",
    "version": 3
   },
   "file_extension": ".py",
   "mimetype": "text/x-python",
   "name": "python",
   "nbconvert_exporter": "python",
   "pygments_lexer": "ipython3",
   "version": "3.7.1"
  }
 },
 "nbformat": 4,
 "nbformat_minor": 4
}
