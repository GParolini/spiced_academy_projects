{
 "cells": [
  {
   "cell_type": "markdown",
   "metadata": {},
   "source": [
    "# Project 2: ML Classification"
   ]
  },
  {
   "cell_type": "markdown",
   "metadata": {},
   "source": [
    "The notebook explains how to create a ML model to predict death and survival for the Titanic passengers. Passengers' data are available here: https://www.kaggle.com/c/titanic. The notebook was developed as as study project for the Spiced Academy Data Science Bootcamp."
   ]
  },
  {
   "cell_type": "markdown",
   "metadata": {},
   "source": [
    "## Imports"
   ]
  },
  {
   "cell_type": "code",
   "execution_count": 71,
   "metadata": {},
   "outputs": [],
   "source": [
    "import pandas as pd\n",
    "import matplotlib.pyplot as plt\n",
    "import seaborn as sns\n",
    "import numpy as np\n",
    "from sklearn.compose import ColumnTransformer\n",
    "from sklearn.impute import SimpleImputer\n",
    "from sklearn.preprocessing import OneHotEncoder, MinMaxScaler, KBinsDiscretizer\n",
    "from sklearn.preprocessing import FunctionTransformer\n",
    "from sklearn.pipeline import make_pipeline\n",
    "from sklearn.model_selection import train_test_split\n",
    "from sklearn.linear_model import LogisticRegression\n",
    "from sklearn.metrics import accuracy_score, classification_report\n",
    "from sklearn.metrics import plot_confusion_matrix\n",
    "from sklearn.metrics import roc_curve\n",
    "from sklearn.metrics import plot_roc_curve\n",
    "from sklearn.tree import DecisionTreeClassifier\n",
    "from sklearn.tree import plot_tree\n",
    "from sklearn.tree import export_graphviz\n",
    "from sklearn.externals.six import StringIO\n",
    "from sklearn.ensemble import RandomForestClassifier\n",
    "import pydotplus\n",
    "\n"
   ]
  },
  {
   "cell_type": "markdown",
   "metadata": {},
   "source": [
    "## Titanic dataset"
   ]
  },
  {
   "cell_type": "code",
   "execution_count": 5,
   "metadata": {
    "scrolled": true
   },
   "outputs": [],
   "source": [
    "df =pd.read_csv(\"train.csv\", index_col = False)"
   ]
  },
  {
   "cell_type": "code",
   "execution_count": 6,
   "metadata": {},
   "outputs": [
    {
     "data": {
      "text/html": [
       "<div>\n",
       "<style scoped>\n",
       "    .dataframe tbody tr th:only-of-type {\n",
       "        vertical-align: middle;\n",
       "    }\n",
       "\n",
       "    .dataframe tbody tr th {\n",
       "        vertical-align: top;\n",
       "    }\n",
       "\n",
       "    .dataframe thead th {\n",
       "        text-align: right;\n",
       "    }\n",
       "</style>\n",
       "<table border=\"1\" class=\"dataframe\">\n",
       "  <thead>\n",
       "    <tr style=\"text-align: right;\">\n",
       "      <th></th>\n",
       "      <th>PassengerId</th>\n",
       "      <th>Survived</th>\n",
       "      <th>Pclass</th>\n",
       "      <th>Name</th>\n",
       "      <th>Sex</th>\n",
       "      <th>Age</th>\n",
       "      <th>SibSp</th>\n",
       "      <th>Parch</th>\n",
       "      <th>Ticket</th>\n",
       "      <th>Fare</th>\n",
       "      <th>Cabin</th>\n",
       "      <th>Embarked</th>\n",
       "    </tr>\n",
       "  </thead>\n",
       "  <tbody>\n",
       "    <tr>\n",
       "      <th>0</th>\n",
       "      <td>1</td>\n",
       "      <td>0</td>\n",
       "      <td>3</td>\n",
       "      <td>Braund, Mr. Owen Harris</td>\n",
       "      <td>male</td>\n",
       "      <td>22.0</td>\n",
       "      <td>1</td>\n",
       "      <td>0</td>\n",
       "      <td>A/5 21171</td>\n",
       "      <td>7.2500</td>\n",
       "      <td>NaN</td>\n",
       "      <td>S</td>\n",
       "    </tr>\n",
       "    <tr>\n",
       "      <th>1</th>\n",
       "      <td>2</td>\n",
       "      <td>1</td>\n",
       "      <td>1</td>\n",
       "      <td>Cumings, Mrs. John Bradley (Florence Briggs Th...</td>\n",
       "      <td>female</td>\n",
       "      <td>38.0</td>\n",
       "      <td>1</td>\n",
       "      <td>0</td>\n",
       "      <td>PC 17599</td>\n",
       "      <td>71.2833</td>\n",
       "      <td>C85</td>\n",
       "      <td>C</td>\n",
       "    </tr>\n",
       "    <tr>\n",
       "      <th>2</th>\n",
       "      <td>3</td>\n",
       "      <td>1</td>\n",
       "      <td>3</td>\n",
       "      <td>Heikkinen, Miss. Laina</td>\n",
       "      <td>female</td>\n",
       "      <td>26.0</td>\n",
       "      <td>0</td>\n",
       "      <td>0</td>\n",
       "      <td>STON/O2. 3101282</td>\n",
       "      <td>7.9250</td>\n",
       "      <td>NaN</td>\n",
       "      <td>S</td>\n",
       "    </tr>\n",
       "    <tr>\n",
       "      <th>3</th>\n",
       "      <td>4</td>\n",
       "      <td>1</td>\n",
       "      <td>1</td>\n",
       "      <td>Futrelle, Mrs. Jacques Heath (Lily May Peel)</td>\n",
       "      <td>female</td>\n",
       "      <td>35.0</td>\n",
       "      <td>1</td>\n",
       "      <td>0</td>\n",
       "      <td>113803</td>\n",
       "      <td>53.1000</td>\n",
       "      <td>C123</td>\n",
       "      <td>S</td>\n",
       "    </tr>\n",
       "    <tr>\n",
       "      <th>4</th>\n",
       "      <td>5</td>\n",
       "      <td>0</td>\n",
       "      <td>3</td>\n",
       "      <td>Allen, Mr. William Henry</td>\n",
       "      <td>male</td>\n",
       "      <td>35.0</td>\n",
       "      <td>0</td>\n",
       "      <td>0</td>\n",
       "      <td>373450</td>\n",
       "      <td>8.0500</td>\n",
       "      <td>NaN</td>\n",
       "      <td>S</td>\n",
       "    </tr>\n",
       "    <tr>\n",
       "      <th>...</th>\n",
       "      <td>...</td>\n",
       "      <td>...</td>\n",
       "      <td>...</td>\n",
       "      <td>...</td>\n",
       "      <td>...</td>\n",
       "      <td>...</td>\n",
       "      <td>...</td>\n",
       "      <td>...</td>\n",
       "      <td>...</td>\n",
       "      <td>...</td>\n",
       "      <td>...</td>\n",
       "      <td>...</td>\n",
       "    </tr>\n",
       "    <tr>\n",
       "      <th>886</th>\n",
       "      <td>887</td>\n",
       "      <td>0</td>\n",
       "      <td>2</td>\n",
       "      <td>Montvila, Rev. Juozas</td>\n",
       "      <td>male</td>\n",
       "      <td>27.0</td>\n",
       "      <td>0</td>\n",
       "      <td>0</td>\n",
       "      <td>211536</td>\n",
       "      <td>13.0000</td>\n",
       "      <td>NaN</td>\n",
       "      <td>S</td>\n",
       "    </tr>\n",
       "    <tr>\n",
       "      <th>887</th>\n",
       "      <td>888</td>\n",
       "      <td>1</td>\n",
       "      <td>1</td>\n",
       "      <td>Graham, Miss. Margaret Edith</td>\n",
       "      <td>female</td>\n",
       "      <td>19.0</td>\n",
       "      <td>0</td>\n",
       "      <td>0</td>\n",
       "      <td>112053</td>\n",
       "      <td>30.0000</td>\n",
       "      <td>B42</td>\n",
       "      <td>S</td>\n",
       "    </tr>\n",
       "    <tr>\n",
       "      <th>888</th>\n",
       "      <td>889</td>\n",
       "      <td>0</td>\n",
       "      <td>3</td>\n",
       "      <td>Johnston, Miss. Catherine Helen \"Carrie\"</td>\n",
       "      <td>female</td>\n",
       "      <td>NaN</td>\n",
       "      <td>1</td>\n",
       "      <td>2</td>\n",
       "      <td>W./C. 6607</td>\n",
       "      <td>23.4500</td>\n",
       "      <td>NaN</td>\n",
       "      <td>S</td>\n",
       "    </tr>\n",
       "    <tr>\n",
       "      <th>889</th>\n",
       "      <td>890</td>\n",
       "      <td>1</td>\n",
       "      <td>1</td>\n",
       "      <td>Behr, Mr. Karl Howell</td>\n",
       "      <td>male</td>\n",
       "      <td>26.0</td>\n",
       "      <td>0</td>\n",
       "      <td>0</td>\n",
       "      <td>111369</td>\n",
       "      <td>30.0000</td>\n",
       "      <td>C148</td>\n",
       "      <td>C</td>\n",
       "    </tr>\n",
       "    <tr>\n",
       "      <th>890</th>\n",
       "      <td>891</td>\n",
       "      <td>0</td>\n",
       "      <td>3</td>\n",
       "      <td>Dooley, Mr. Patrick</td>\n",
       "      <td>male</td>\n",
       "      <td>32.0</td>\n",
       "      <td>0</td>\n",
       "      <td>0</td>\n",
       "      <td>370376</td>\n",
       "      <td>7.7500</td>\n",
       "      <td>NaN</td>\n",
       "      <td>Q</td>\n",
       "    </tr>\n",
       "  </tbody>\n",
       "</table>\n",
       "<p>891 rows × 12 columns</p>\n",
       "</div>"
      ],
      "text/plain": [
       "     PassengerId  Survived  Pclass  \\\n",
       "0              1         0       3   \n",
       "1              2         1       1   \n",
       "2              3         1       3   \n",
       "3              4         1       1   \n",
       "4              5         0       3   \n",
       "..           ...       ...     ...   \n",
       "886          887         0       2   \n",
       "887          888         1       1   \n",
       "888          889         0       3   \n",
       "889          890         1       1   \n",
       "890          891         0       3   \n",
       "\n",
       "                                                  Name     Sex   Age  SibSp  \\\n",
       "0                              Braund, Mr. Owen Harris    male  22.0      1   \n",
       "1    Cumings, Mrs. John Bradley (Florence Briggs Th...  female  38.0      1   \n",
       "2                               Heikkinen, Miss. Laina  female  26.0      0   \n",
       "3         Futrelle, Mrs. Jacques Heath (Lily May Peel)  female  35.0      1   \n",
       "4                             Allen, Mr. William Henry    male  35.0      0   \n",
       "..                                                 ...     ...   ...    ...   \n",
       "886                              Montvila, Rev. Juozas    male  27.0      0   \n",
       "887                       Graham, Miss. Margaret Edith  female  19.0      0   \n",
       "888           Johnston, Miss. Catherine Helen \"Carrie\"  female   NaN      1   \n",
       "889                              Behr, Mr. Karl Howell    male  26.0      0   \n",
       "890                                Dooley, Mr. Patrick    male  32.0      0   \n",
       "\n",
       "     Parch            Ticket     Fare Cabin Embarked  \n",
       "0        0         A/5 21171   7.2500   NaN        S  \n",
       "1        0          PC 17599  71.2833   C85        C  \n",
       "2        0  STON/O2. 3101282   7.9250   NaN        S  \n",
       "3        0            113803  53.1000  C123        S  \n",
       "4        0            373450   8.0500   NaN        S  \n",
       "..     ...               ...      ...   ...      ...  \n",
       "886      0            211536  13.0000   NaN        S  \n",
       "887      0            112053  30.0000   B42        S  \n",
       "888      2        W./C. 6607  23.4500   NaN        S  \n",
       "889      0            111369  30.0000  C148        C  \n",
       "890      0            370376   7.7500   NaN        Q  \n",
       "\n",
       "[891 rows x 12 columns]"
      ]
     },
     "execution_count": 6,
     "metadata": {},
     "output_type": "execute_result"
    }
   ],
   "source": [
    "df"
   ]
  },
  {
   "cell_type": "markdown",
   "metadata": {},
   "source": [
    "## Exploratory data analysis"
   ]
  },
  {
   "cell_type": "code",
   "execution_count": 7,
   "metadata": {},
   "outputs": [
    {
     "data": {
      "image/png": "[encoded data removed]",
      "text/plain": [
       "<Figure size 720x504 with 1 Axes>"
      ]
     },
     "metadata": {
      "needs_background": "dark"
     },
     "output_type": "display_data"
    }
   ],
   "source": [
    "plt.figure(figsize=(10, 7))\n",
    "ds_plot = df['Survived'].value_counts().plot(kind='bar', color = 'teal')\n",
    "plt.xticks(ticks=[0, 1], labels=['Dead', 'Survived'], color ='grey', rotation =0)\n",
    "plt.yticks(color ='grey')\n",
    "plt.grid(color = 'lightgrey', axis='y')\n",
    "plt.title(\"Survived and dead Titanic passengers\", color ='grey')\n",
    "\n",
    "for index,data in enumerate(df['Survived'].value_counts()):\n",
    "    plt.text(x=index , y =data-80, s=f\"{data}\" , fontdict=dict(fontsize=14));\n"
   ]
  },
  {
   "cell_type": "code",
   "execution_count": 8,
   "metadata": {},
   "outputs": [
    {
     "name": "stdout",
     "output_type": "stream",
     "text": [
      "Percentage of first class passengers survived:  62.96\n",
      "Percentage of second class passengers survived:  47.28\n",
      "Percentage of third class passengers survived:  24.24\n"
     ]
    }
   ],
   "source": [
    "#Survival percentage per passengers' class\n",
    "survived_1c = df[(df['Pclass'] == 1) & (df['Survived']==1)].shape[0]\n",
    "firstc_pass = df[df['Pclass'] == 1].shape[0]\n",
    "prop_surv_1cp = (survived_1c/firstc_pass)*100\n",
    "\n",
    "print(\"Percentage of first class passengers survived: \", round(prop_surv_1cp,2))\n",
    "\n",
    "survived_2c = df[(df['Pclass'] == 2) & (df['Survived']==1)].shape[0]\n",
    "secondc_pass = df[df['Pclass'] == 2].shape[0]\n",
    "prop_surv_2cp = (survived_2c/secondc_pass)*100\n",
    "\n",
    "print(\"Percentage of second class passengers survived: \", round(prop_surv_2cp,2))\n",
    "\n",
    "survived_3c = df[(df['Pclass'] == 3) & (df['Survived']==1)].shape[0]\n",
    "thirdc_pass = df[df['Pclass'] == 3].shape[0]\n",
    "prop_surv_3cp = (survived_3c/thirdc_pass)*100\n",
    "\n",
    "print(\"Percentage of third class passengers survived: \", round(prop_surv_3cp,2))\n",
    "\n",
    "  "
   ]
  },
  {
   "cell_type": "code",
   "execution_count": 9,
   "metadata": {},
   "outputs": [
    {
     "name": "stdout",
     "output_type": "stream",
     "text": [
      "{'Women in 1 class': 94, 'Women in 2 class': 76, 'Women in 3 class': 144} {'Men 1 class': 122, 'Men 2 class': 108, 'Men 3 class': 347}\n"
     ]
    },
    {
     "data": {
      "image/png": "[encoded data removed]",
      "text/plain": [
       "<Figure size 720x504 with 1 Axes>"
      ]
     },
     "metadata": {
      "needs_background": "dark"
     },
     "output_type": "display_data"
    }
   ],
   "source": [
    "#Plot of survival per gender and passengers' class\n",
    "pass_dict_female = { }\t\n",
    "for shipclass in range (1,4):\n",
    "    pass_dict_female.update({'Women in '+str(shipclass)+' class': df[(df['Pclass'] == shipclass) \n",
    "                                                         & (df['Sex']=='female')].shape[0]})\n",
    "\n",
    "    \n",
    "pass_dict_male = { }\n",
    "for shipclass in range (1,4):\n",
    "    pass_dict_male.update({'Men '+str(shipclass)+' class': df[(df['Pclass'] == shipclass) \n",
    "                                                         & (df['Sex']=='male')].shape[0]})\n",
    "    \n",
    "print(pass_dict_female, pass_dict_male)\n",
    "\n",
    "\n",
    "labels = ['1st class', '2nd class', '3rd class']\n",
    "men = list(pass_dict_male.values())\n",
    "women = list(pass_dict_female.values())\n",
    "width = 0.30\n",
    "\n",
    "\n",
    "fig, ax = plt.subplots(figsize=(10, 7))\n",
    "\n",
    "ax.bar(labels, men, width, label='Men', color = 'darkseagreen' )\n",
    "ax.bar(labels, women, width, bottom=men, color = 'teal',\n",
    "       label='Women')\n",
    "\n",
    "ax.set_ylabel('Passengers')\n",
    "ax.set_title('Male and Female Titanic passengers divided per cabin class')\n",
    "ax.legend()\n",
    "plt.xticks(color ='grey', rotation =0)\n",
    "plt.yticks(color ='grey')\n",
    "plt.grid(color = 'lightgrey', axis='y')\n",
    "\n",
    "#for index,data in enumerate(men):\n",
    "    #plt.text(x=index , y =data-60, s=f\"{data}\" , fontdict=dict(fontsize=16))\n",
    "\n",
    "#for index,data in enumerate(women):\n",
    "    #plt.text(x=index , y =data+50, s=f\"{data}\" , fontdict=dict(fontsize=16));"
   ]
  },
  {
   "cell_type": "code",
   "execution_count": 10,
   "metadata": {},
   "outputs": [
    {
     "data": {
      "image/png": "[encoded data removed]",
      "text/plain": [
       "<Figure size 864x576 with 1 Axes>"
      ]
     },
     "metadata": {
      "needs_background": "dark"
     },
     "output_type": "display_data"
    }
   ],
   "source": [
    "# Plot of age distribution and survival rate\n",
    "plt.figure(figsize=(12,8))\n",
    "df['Age'].plot.hist(bins =17, rwidth =0.97, color = 'teal')\n",
    "df[df['Survived']==1]['Age'].plot.hist(bins =17, rwidth =0.97, color = 'gold')\n",
    "plt.xticks(np.arange(0, 85, 5), color ='grey', rotation =0)\n",
    "plt.yticks(color ='grey')\n",
    "plt.grid(color = 'lightgrey', axis='y')\n",
    "labels = ['Passengers age', 'Survived passengers']\n",
    "my_lg=plt.legend()\n",
    "#my_lg[1].text() = 'Survived passengers'\n",
    "plt.title(\"Titanic passengers age distribution and survival\", color ='grey');"
   ]
  },
  {
   "cell_type": "code",
   "execution_count": 11,
   "metadata": {},
   "outputs": [
    {
     "name": "stdout",
     "output_type": "stream",
     "text": [
      "Average age for Titanic survivors (years):  28.34\n",
      "Average age for Titanic dead passengers (years):  30.63\n"
     ]
    }
   ],
   "source": [
    "#Average age survivors and dead passengers\n",
    "av_age_surv = df[df['Survived']==1]['Age'].mean()\n",
    "print(\"Average age for Titanic survivors (years): \", round(av_age_surv,2))\n",
    "av_age_dead = df[df['Survived']==0]['Age'].mean()\n",
    "print(\"Average age for Titanic dead passengers (years): \", round(av_age_dead,2))\n"
   ]
  },
  {
   "cell_type": "code",
   "execution_count": 12,
   "metadata": {},
   "outputs": [
    {
     "name": "stdout",
     "output_type": "stream",
     "text": [
      "29.7\n"
     ]
    }
   ],
   "source": [
    "#Mean age Titanic passengers\n",
    "mean_age = round(df['Age'].mean(), 1)\n",
    "print(mean_age)\n",
    "\n"
   ]
  },
  {
   "cell_type": "code",
   "execution_count": 13,
   "metadata": {},
   "outputs": [],
   "source": [
    "#df['Age'] = df['Age'].fillna(mean_age)\n"
   ]
  },
  {
   "cell_type": "code",
   "execution_count": 14,
   "metadata": {},
   "outputs": [
    {
     "data": {
      "text/plain": [
       "array([22.  , 38.  , 26.  , 35.  ,   nan, 54.  ,  2.  , 27.  , 14.  ,\n",
       "        4.  , 58.  , 20.  , 39.  , 55.  , 31.  , 34.  , 15.  , 28.  ,\n",
       "        8.  , 19.  , 40.  , 66.  , 42.  , 21.  , 18.  ,  3.  ,  7.  ,\n",
       "       49.  , 29.  , 65.  , 28.5 ,  5.  , 11.  , 45.  , 17.  , 32.  ,\n",
       "       16.  , 25.  ,  0.83, 30.  , 33.  , 23.  , 24.  , 46.  , 59.  ,\n",
       "       71.  , 37.  , 47.  , 14.5 , 70.5 , 32.5 , 12.  ,  9.  , 36.5 ,\n",
       "       51.  , 55.5 , 40.5 , 44.  ,  1.  , 61.  , 56.  , 50.  , 36.  ,\n",
       "       45.5 , 20.5 , 62.  , 41.  , 52.  , 63.  , 23.5 ,  0.92, 43.  ,\n",
       "       60.  , 10.  , 64.  , 13.  , 48.  ,  0.75, 53.  , 57.  , 80.  ,\n",
       "       70.  , 24.5 ,  6.  ,  0.67, 30.5 ,  0.42, 34.5 , 74.  ])"
      ]
     },
     "execution_count": 14,
     "metadata": {},
     "output_type": "execute_result"
    }
   ],
   "source": [
    "    df['Age'].unique()"
   ]
  },
  {
   "cell_type": "code",
   "execution_count": 15,
   "metadata": {},
   "outputs": [
    {
     "name": "stdout",
     "output_type": "stream",
     "text": [
      "Pclass        1           2           3     \n",
      "Sex      female male female male female male\n",
      "Survived                                    \n",
      "0             3   77      6   91     72  300\n",
      "1            91   45     70   17     72   47\n"
     ]
    }
   ],
   "source": [
    "contingency_titanic = pd.crosstab(index=df['Survived'], columns= [df['Pclass'], df['Sex']])\n",
    "print(contingency_titanic)"
   ]
  },
  {
   "cell_type": "code",
   "execution_count": 16,
   "metadata": {},
   "outputs": [
    {
     "data": {
      "image/png": "[encoded data removed]",
      "text/plain": [
       "<Figure size 864x576 with 1 Axes>"
      ]
     },
     "metadata": {
      "needs_background": "dark"
     },
     "output_type": "display_data"
    }
   ],
   "source": [
    "contingency_titanic.plot(kind='bar', stacked=False, colormap='viridis',\n",
    "                         figsize=(12,8), grid = True)\n",
    "plt.tick_params(axis='x', colors='grey',  rotation =0)\n",
    "plt.tick_params(axis='y', colors='grey')\n",
    "plt.title(\"Contingency table\",color='grey');"
   ]
  },
  {
   "cell_type": "markdown",
   "metadata": {},
   "source": [
    "## Feature Engineering"
   ]
  },
  {
   "cell_type": "code",
   "execution_count": 17,
   "metadata": {},
   "outputs": [
    {
     "data": {
      "text/plain": [
       "Index(['PassengerId', 'Survived', 'Pclass', 'Name', 'Sex', 'Age', 'SibSp',\n",
       "       'Parch', 'Ticket', 'Fare', 'Cabin', 'Embarked'],\n",
       "      dtype='object')"
      ]
     },
     "execution_count": 17,
     "metadata": {},
     "output_type": "execute_result"
    }
   ],
   "source": [
    "#Checking the data available for feature engineering\n",
    "df.columns"
   ]
  },
  {
   "cell_type": "code",
   "execution_count": 18,
   "metadata": {},
   "outputs": [],
   "source": [
    "# Drop the 'Survived' column\n",
    "#It cannot be used for feature engineering because it is the variable the model should predict\n",
    "df_feature_eng_titanic = df.drop(columns =['Survived'], axis =1)\n"
   ]
  },
  {
   "cell_type": "code",
   "execution_count": 19,
   "metadata": {},
   "outputs": [
    {
     "data": {
      "text/plain": [
       "Index(['PassengerId', 'Pclass', 'Name', 'Sex', 'Age', 'SibSp', 'Parch',\n",
       "       'Ticket', 'Fare', 'Cabin', 'Embarked'],\n",
       "      dtype='object')"
      ]
     },
     "execution_count": 19,
     "metadata": {},
     "output_type": "execute_result"
    }
   ],
   "source": [
    "df_feature_eng_titanic.columns\n"
   ]
  },
  {
   "cell_type": "markdown",
   "metadata": {},
   "source": [
    "** In the logistic regression model I will include only the data related to travel class, gender and age that the exploratory data analysis suggested as key factors for survival."
   ]
  },
  {
   "cell_type": "markdown",
   "metadata": {},
   "source": [
    "## Split train-test"
   ]
  },
  {
   "cell_type": "code",
   "execution_count": 20,
   "metadata": {},
   "outputs": [],
   "source": [
    "X = df_feature_eng_titanic\n",
    "y = df['Survived']"
   ]
  },
  {
   "cell_type": "code",
   "execution_count": 21,
   "metadata": {},
   "outputs": [
    {
     "name": "stdout",
     "output_type": "stream",
     "text": [
      "     PassengerId  Pclass                              Name     Sex    Age  \\\n",
      "298          299       1             Saalfeld, Mr. Adolphe    male    NaN   \n",
      "884          885       3            Sutehall, Mr. Henry Jr    male  25.00   \n",
      "247          248       2   Hamalainen, Mrs. William (Anna)  female  24.00   \n",
      "478          479       3         Karlsson, Mr. Nils August    male  22.00   \n",
      "305          306       1    Allison, Master. Hudson Trevor    male   0.92   \n",
      "..           ...     ...                               ...     ...    ...   \n",
      "106          107       3  Salkjelsvik, Miss. Anna Kristine  female  21.00   \n",
      "270          271       1             Cairns, Mr. Alexander    male    NaN   \n",
      "860          861       3           Hansen, Mr. Claus Peter    male  41.00   \n",
      "435          436       1         Carter, Miss. Lucile Polk  female  14.00   \n",
      "102          103       1         White, Mr. Richard Frasar    male  21.00   \n",
      "\n",
      "     SibSp  Parch           Ticket      Fare    Cabin Embarked  \n",
      "298      0      0            19988   30.5000     C106        S  \n",
      "884      0      0  SOTON/OQ 392076    7.0500      NaN        S  \n",
      "247      0      2           250649   14.5000      NaN        S  \n",
      "478      0      0           350060    7.5208      NaN        S  \n",
      "305      1      2           113781  151.5500  C22 C26        S  \n",
      "..     ...    ...              ...       ...      ...      ...  \n",
      "106      0      0           343120    7.6500      NaN        S  \n",
      "270      0      0           113798   31.0000      NaN        S  \n",
      "860      2      0           350026   14.1083      NaN        S  \n",
      "435      1      2           113760  120.0000  B96 B98        S  \n",
      "102      0      1            35281   77.2875      D26        S  \n",
      "\n",
      "[668 rows x 11 columns]\n"
     ]
    }
   ],
   "source": [
    "Xtrain, Xtest, ytrain, ytest = train_test_split(X, y, random_state=42)\n",
    "Xtrain.shape, Xtest.shape, ytrain.shape, ytest.shape\n",
    "\n",
    "print(Xtrain)"
   ]
  },
  {
   "cell_type": "code",
   "execution_count": 22,
   "metadata": {},
   "outputs": [
    {
     "name": "stdout",
     "output_type": "stream",
     "text": [
      "Null values in column 'Pclass':  0\n",
      "Null values in column 'Sex':  0\n",
      "Null values in column 'Age':  177\n",
      "Null values in column 'Fare':  0\n",
      "Null values in column 'Cabin':  687\n",
      "Null values in column 'Embarked':  2\n",
      "Null values in column 'SibSp':  0\n"
     ]
    }
   ],
   "source": [
    "# Checking missing data\n",
    "print(\"Null values in column 'Pclass': \", df_feature_eng_titanic['Pclass'].isna().sum())\n",
    "print(\"Null values in column 'Sex': \", df_feature_eng_titanic['Sex'].isna().sum())\n",
    "print(\"Null values in column 'Age': \", df_feature_eng_titanic['Age'].isna().sum())\n",
    "print(\"Null values in column 'Fare': \", df_feature_eng_titanic['Fare'].isna().sum())\n",
    "print(\"Null values in column 'Cabin': \", df_feature_eng_titanic['Cabin'].isna().sum())\n",
    "print(\"Null values in column 'Embarked': \", df_feature_eng_titanic['Embarked'].isna().sum())\n",
    "print(\"Null values in column 'SibSp': \", df_feature_eng_titanic['SibSp'].isna().sum())"
   ]
  },
  {
   "cell_type": "code",
   "execution_count": 23,
   "metadata": {},
   "outputs": [],
   "source": [
    "pipeline_age = make_pipeline(\n",
    "    SimpleImputer(strategy='mean'), \n",
    "    KBinsDiscretizer(n_bins=5, encode='onehot', strategy='uniform'),\n",
    ")\n"
   ]
  },
  {
   "cell_type": "code",
   "execution_count": 24,
   "metadata": {},
   "outputs": [],
   "source": [
    "def name_cabin(df):\n",
    "    cabin = df['Cabin'].fillna('X')\n",
    "    name = cabin.str[0]\n",
    "    return name.values.reshape(-1, 1)\n",
    "\n",
    "\n",
    "pipeline_cabin = make_pipeline(\n",
    "    FunctionTransformer(name_cabin),\n",
    "    OneHotEncoder(sparse=False, handle_unknown='ignore'),\n",
    ")\n"
   ]
  },
  {
   "cell_type": "code",
   "execution_count": 25,
   "metadata": {},
   "outputs": [],
   "source": [
    "pipeline_embarked = make_pipeline(\n",
    "    SimpleImputer(strategy='constant', fill_value='X' ),\n",
    "    OneHotEncoder(sparse=False, handle_unknown='ignore'),\n",
    ")"
   ]
  },
  {
   "cell_type": "code",
   "execution_count": 26,
   "metadata": {},
   "outputs": [],
   "source": [
    "#ColumnTransformer automatically drops the columns not explicitly mentioned (unless other param. are given)\n",
    "trans = ColumnTransformer([\n",
    "   ('one_hot_enc', OneHotEncoder(sparse=False, handle_unknown='ignore'), ['Pclass','Sex']),\n",
    "    ('impute_and_bin', pipeline_age, ['Age']),\n",
    "    ('scale', MinMaxScaler(), ['Fare']),\n",
    "    ('cabin', pipeline_cabin, ['Cabin']),\n",
    "    #('embarked', pipeline_embarked, ['Embarked']),\n",
    "])"
   ]
  },
  {
   "cell_type": "code",
   "execution_count": 27,
   "metadata": {
    "scrolled": true
   },
   "outputs": [
    {
     "data": {
      "text/plain": [
       "(668, 20)"
      ]
     },
     "execution_count": 27,
     "metadata": {},
     "output_type": "execute_result"
    }
   ],
   "source": [
    "trans.fit(Xtrain, ytrain)\n",
    "Xtrain_transform = trans.transform(Xtrain)  # result is a single numpy array\n",
    "Xtrain_transform.shape"
   ]
  },
  {
   "cell_type": "code",
   "execution_count": 28,
   "metadata": {
    "scrolled": true
   },
   "outputs": [
    {
     "data": {
      "text/plain": [
       "array([[1., 0., 0., ..., 0., 0., 0.],\n",
       "       [0., 0., 1., ..., 0., 0., 1.],\n",
       "       [0., 1., 0., ..., 0., 0., 1.],\n",
       "       ...,\n",
       "       [0., 0., 1., ..., 0., 0., 1.],\n",
       "       [1., 0., 0., ..., 0., 0., 0.],\n",
       "       [1., 0., 0., ..., 0., 0., 0.]])"
      ]
     },
     "execution_count": 28,
     "metadata": {},
     "output_type": "execute_result"
    }
   ],
   "source": [
    "Xtrain_transform"
   ]
  },
  {
   "cell_type": "markdown",
   "metadata": {},
   "source": [
    "## Logistic regression"
   ]
  },
  {
   "cell_type": "code",
   "execution_count": 29,
   "metadata": {
    "scrolled": true
   },
   "outputs": [
    {
     "data": {
      "text/plain": [
       "LogisticRegression(C=1.0, class_weight=None, dual=False, fit_intercept=True,\n",
       "                   intercept_scaling=1, l1_ratio=None, max_iter=100,\n",
       "                   multi_class='auto', n_jobs=None, penalty='l2',\n",
       "                   random_state=None, solver='lbfgs', tol=0.0001, verbose=0,\n",
       "                   warm_start=False)"
      ]
     },
     "execution_count": 29,
     "metadata": {},
     "output_type": "execute_result"
    }
   ],
   "source": [
    "model = LogisticRegression()\n",
    "model.fit(Xtrain_transform, ytrain)"
   ]
  },
  {
   "cell_type": "code",
   "execution_count": 30,
   "metadata": {},
   "outputs": [
    {
     "data": {
      "text/plain": [
       "(223, 20)"
      ]
     },
     "execution_count": 30,
     "metadata": {},
     "output_type": "execute_result"
    }
   ],
   "source": [
    "Xtest_transform = trans.transform(Xtest)\n",
    "Xtest_transform.shape"
   ]
  },
  {
   "cell_type": "code",
   "execution_count": 31,
   "metadata": {
    "scrolled": false
   },
   "outputs": [
    {
     "data": {
      "text/plain": [
       "0.81"
      ]
     },
     "execution_count": 31,
     "metadata": {},
     "output_type": "execute_result"
    }
   ],
   "source": [
    "ypred = model.predict(Xtrain_transform)\n",
    "acc = accuracy_score(ytrain, ypred)\n",
    "round(acc, 2) #same as accuracy_score(ytrain, ypred)"
   ]
  },
  {
   "cell_type": "code",
   "execution_count": 32,
   "metadata": {},
   "outputs": [
    {
     "name": "stdout",
     "output_type": "stream",
     "text": [
      "              precision    recall  f1-score   support\n",
      "\n",
      "           0       0.84      0.85      0.85       415\n",
      "           1       0.75      0.74      0.74       253\n",
      "\n",
      "    accuracy                           0.81       668\n",
      "   macro avg       0.80      0.79      0.79       668\n",
      "weighted avg       0.81      0.81      0.81       668\n",
      "\n"
     ]
    }
   ],
   "source": [
    "print(classification_report(ytrain, ypred))"
   ]
  },
  {
   "cell_type": "code",
   "execution_count": 33,
   "metadata": {},
   "outputs": [
    {
     "data": {
      "image/png": "[encoded data removed]",
      "text/plain": [
       "<Figure size 432x288 with 2 Axes>"
      ]
     },
     "metadata": {
      "needs_background": "light"
     },
     "output_type": "display_data"
    }
   ],
   "source": [
    "cm = plot_confusion_matrix(model, Xtrain_transform, ytrain,\n",
    "                                 cmap=plt.cm.Blues)\n",
    "plt.title(\"Confusion matrix train dataset\",color='grey');"
   ]
  },
  {
   "cell_type": "code",
   "execution_count": 34,
   "metadata": {},
   "outputs": [
    {
     "data": {
      "text/plain": [
       "(223, 20)"
      ]
     },
     "execution_count": 34,
     "metadata": {},
     "output_type": "execute_result"
    }
   ],
   "source": [
    "Xtest_transform = trans.transform(Xtest)\n",
    "Xtest_transform.shape"
   ]
  },
  {
   "cell_type": "code",
   "execution_count": 35,
   "metadata": {},
   "outputs": [
    {
     "data": {
      "text/plain": [
       "0.8"
      ]
     },
     "execution_count": 35,
     "metadata": {},
     "output_type": "execute_result"
    }
   ],
   "source": [
    "ypred_test = model.predict(Xtest_transform)\n",
    "acc = accuracy_score(ytest, ypred_test)\n",
    "round(acc, 2)"
   ]
  },
  {
   "cell_type": "markdown",
   "metadata": {},
   "source": [
    "## Decision Tree"
   ]
  },
  {
   "cell_type": "code",
   "execution_count": 36,
   "metadata": {},
   "outputs": [
    {
     "data": {
      "text/plain": [
       "DecisionTreeClassifier(ccp_alpha=0.0, class_weight=None, criterion='gini',\n",
       "                       max_depth=3, max_features=None, max_leaf_nodes=None,\n",
       "                       min_impurity_decrease=0.0, min_impurity_split=None,\n",
       "                       min_samples_leaf=1, min_samples_split=2,\n",
       "                       min_weight_fraction_leaf=0.0, presort='deprecated',\n",
       "                       random_state=None, splitter='best')"
      ]
     },
     "execution_count": 36,
     "metadata": {},
     "output_type": "execute_result"
    }
   ],
   "source": [
    "m = DecisionTreeClassifier(max_depth=3)  # we allow that many questions\n",
    "m.fit(Xtrain_transform,ytrain)"
   ]
  },
  {
   "cell_type": "code",
   "execution_count": 37,
   "metadata": {},
   "outputs": [],
   "source": [
    "ypred_dt = m.predict(Xtrain_transform)"
   ]
  },
  {
   "cell_type": "code",
   "execution_count": 38,
   "metadata": {},
   "outputs": [
    {
     "name": "stdout",
     "output_type": "stream",
     "text": [
      "0.8203592814371258\n"
     ]
    }
   ],
   "source": [
    "print(accuracy_score(ytrain, ypred_dt))"
   ]
  },
  {
   "cell_type": "code",
   "execution_count": 44,
   "metadata": {},
   "outputs": [
    {
     "data": {
      "text/plain": [
       "Index(['PassengerId', 'Pclass', 'Name', 'Sex', 'Age', 'SibSp', 'Parch',\n",
       "       'Ticket', 'Fare', 'Cabin', 'Embarked'],\n",
       "      dtype='object')"
      ]
     },
     "execution_count": 44,
     "metadata": {},
     "output_type": "execute_result"
    }
   ],
   "source": [
    "Xtrain.columns"
   ]
  },
  {
   "cell_type": "code",
   "execution_count": 53,
   "metadata": {},
   "outputs": [],
   "source": [
    "#col_transf_attr = ColumnTransformer.get_feature_names()"
   ]
  },
  {
   "cell_type": "code",
   "execution_count": 40,
   "metadata": {
    "scrolled": true
   },
   "outputs": [
    {
     "data": {
      "image/png": "[encoded data removed]",
      "text/plain": [
       "<Figure size 864x576 with 1 Axes>"
      ]
     },
     "metadata": {
      "needs_background": "light"
     },
     "output_type": "display_data"
    }
   ],
   "source": [
    "plt.figure(figsize=(12,8))\n",
    "t =plot_tree(m, class_names = [\"Survived\", \"Dead\"])"
   ]
  },
  {
   "cell_type": "code",
   "execution_count": 41,
   "metadata": {},
   "outputs": [],
   "source": [
    "import graphviz as gv"
   ]
  },
  {
   "cell_type": "code",
   "execution_count": 59,
   "metadata": {},
   "outputs": [
    {
     "name": "stdout",
     "output_type": "stream",
     "text": [
      "Collecting package metadata (repodata.json): done\n",
      "Solving environment: done\n",
      "\n",
      "## Package Plan ##\n",
      "\n",
      "  environment location: /Users/giudittaparolini/anaconda3/envs/testenv\n",
      "\n",
      "  added / updated specs:\n",
      "    - pydotplus\n",
      "\n",
      "\n",
      "The following packages will be downloaded:\n",
      "\n",
      "    package                    |            build\n",
      "    ---------------------------|-----------------\n",
      "    ca-certificates-2020.12.5  |       h033912b_0         138 KB  conda-forge\n",
      "    certifi-2020.12.5          |   py37hf985489_1         143 KB  conda-forge\n",
      "    openssl-1.1.1k             |       h0d85af4_0         1.9 MB  conda-forge\n",
      "    pydotplus-2.0.2            |     pyhd1c1de3_3          23 KB  conda-forge\n",
      "    ------------------------------------------------------------\n",
      "                                           Total:         2.2 MB\n",
      "\n",
      "The following NEW packages will be INSTALLED:\n",
      "\n",
      "  pydotplus          conda-forge/noarch::pydotplus-2.0.2-pyhd1c1de3_3\n",
      "  python_abi         conda-forge/osx-64::python_abi-3.7-1_cp37m\n",
      "\n",
      "The following packages will be UPDATED:\n",
      "\n",
      "  ca-certificates    anaconda::ca-certificates-2020.10.14-0 --> conda-forge::ca-certificates-2020.12.5-h033912b_0\n",
      "  certifi                anaconda::certifi-2020.6.20-py37_0 --> conda-forge::certifi-2020.12.5-py37hf985489_1\n",
      "\n",
      "The following packages will be SUPERSEDED by a higher-priority channel:\n",
      "\n",
      "  openssl                anaconda::openssl-1.1.1-h1de35cc_0 --> conda-forge::openssl-1.1.1k-h0d85af4_0\n",
      "\n",
      "\n",
      "\n",
      "Downloading and Extracting Packages\n",
      "certifi-2020.12.5    | 143 KB    | ##################################### | 100% \n",
      "ca-certificates-2020 | 138 KB    | ##################################### | 100% \n",
      "pydotplus-2.0.2      | 23 KB     | ##################################### | 100% \n",
      "openssl-1.1.1k       | 1.9 MB    | ##################################### | 100% \n",
      "Preparing transaction: done\n",
      "Verifying transaction: done\n",
      "Executing transaction: done\n",
      "\n",
      "Note: you may need to restart the kernel to use updated packages.\n"
     ]
    }
   ],
   "source": [
    "! conda install -c conda-forge pydotplus "
   ]
  },
  {
   "cell_type": "code",
   "execution_count": 70,
   "metadata": {},
   "outputs": [
    {
     "data": {
      "text/plain": [
       "True"
      ]
     },
     "execution_count": 70,
     "metadata": {},
     "output_type": "execute_result"
    }
   ],
   "source": [
    "dot_data = StringIO()\n",
    "\n",
    "export_graphviz(decision_tree =m, out_file =dot_data,\n",
    "                class_names= ['Survived', 'Dead'],\n",
    "                rounded = True,\n",
    "                filled=True)\n",
    "\n",
    "graph = pydotplus.graph_from_dot_data(dot_data.getvalue())  \n",
    "graph.write_png('my_decision_tree.png')"
   ]
  },
  {
   "cell_type": "code",
   "execution_count": 64,
   "metadata": {},
   "outputs": [],
   "source": [
    "df_labels = pd.DataFrame(Xtrain_transform)"
   ]
  },
  {
   "cell_type": "code",
   "execution_count": 65,
   "metadata": {},
   "outputs": [
    {
     "data": {
      "text/html": [
       "<div>\n",
       "<style scoped>\n",
       "    .dataframe tbody tr th:only-of-type {\n",
       "        vertical-align: middle;\n",
       "    }\n",
       "\n",
       "    .dataframe tbody tr th {\n",
       "        vertical-align: top;\n",
       "    }\n",
       "\n",
       "    .dataframe thead th {\n",
       "        text-align: right;\n",
       "    }\n",
       "</style>\n",
       "<table border=\"1\" class=\"dataframe\">\n",
       "  <thead>\n",
       "    <tr style=\"text-align: right;\">\n",
       "      <th></th>\n",
       "      <th>0</th>\n",
       "      <th>1</th>\n",
       "      <th>2</th>\n",
       "      <th>3</th>\n",
       "      <th>4</th>\n",
       "      <th>5</th>\n",
       "      <th>6</th>\n",
       "      <th>7</th>\n",
       "      <th>8</th>\n",
       "      <th>9</th>\n",
       "      <th>10</th>\n",
       "      <th>11</th>\n",
       "      <th>12</th>\n",
       "      <th>13</th>\n",
       "      <th>14</th>\n",
       "      <th>15</th>\n",
       "      <th>16</th>\n",
       "      <th>17</th>\n",
       "      <th>18</th>\n",
       "      <th>19</th>\n",
       "    </tr>\n",
       "  </thead>\n",
       "  <tbody>\n",
       "    <tr>\n",
       "      <th>0</th>\n",
       "      <td>1.0</td>\n",
       "      <td>0.0</td>\n",
       "      <td>0.0</td>\n",
       "      <td>0.0</td>\n",
       "      <td>1.0</td>\n",
       "      <td>0.0</td>\n",
       "      <td>1.0</td>\n",
       "      <td>0.0</td>\n",
       "      <td>0.0</td>\n",
       "      <td>0.0</td>\n",
       "      <td>0.059532</td>\n",
       "      <td>0.0</td>\n",
       "      <td>0.0</td>\n",
       "      <td>1.0</td>\n",
       "      <td>0.0</td>\n",
       "      <td>0.0</td>\n",
       "      <td>0.0</td>\n",
       "      <td>0.0</td>\n",
       "      <td>0.0</td>\n",
       "      <td>0.0</td>\n",
       "    </tr>\n",
       "    <tr>\n",
       "      <th>1</th>\n",
       "      <td>0.0</td>\n",
       "      <td>0.0</td>\n",
       "      <td>1.0</td>\n",
       "      <td>0.0</td>\n",
       "      <td>1.0</td>\n",
       "      <td>0.0</td>\n",
       "      <td>1.0</td>\n",
       "      <td>0.0</td>\n",
       "      <td>0.0</td>\n",
       "      <td>0.0</td>\n",
       "      <td>0.013761</td>\n",
       "      <td>0.0</td>\n",
       "      <td>0.0</td>\n",
       "      <td>0.0</td>\n",
       "      <td>0.0</td>\n",
       "      <td>0.0</td>\n",
       "      <td>0.0</td>\n",
       "      <td>0.0</td>\n",
       "      <td>0.0</td>\n",
       "      <td>1.0</td>\n",
       "    </tr>\n",
       "    <tr>\n",
       "      <th>2</th>\n",
       "      <td>0.0</td>\n",
       "      <td>1.0</td>\n",
       "      <td>0.0</td>\n",
       "      <td>1.0</td>\n",
       "      <td>0.0</td>\n",
       "      <td>0.0</td>\n",
       "      <td>1.0</td>\n",
       "      <td>0.0</td>\n",
       "      <td>0.0</td>\n",
       "      <td>0.0</td>\n",
       "      <td>0.028302</td>\n",
       "      <td>0.0</td>\n",
       "      <td>0.0</td>\n",
       "      <td>0.0</td>\n",
       "      <td>0.0</td>\n",
       "      <td>0.0</td>\n",
       "      <td>0.0</td>\n",
       "      <td>0.0</td>\n",
       "      <td>0.0</td>\n",
       "      <td>1.0</td>\n",
       "    </tr>\n",
       "    <tr>\n",
       "      <th>3</th>\n",
       "      <td>0.0</td>\n",
       "      <td>0.0</td>\n",
       "      <td>1.0</td>\n",
       "      <td>0.0</td>\n",
       "      <td>1.0</td>\n",
       "      <td>0.0</td>\n",
       "      <td>1.0</td>\n",
       "      <td>0.0</td>\n",
       "      <td>0.0</td>\n",
       "      <td>0.0</td>\n",
       "      <td>0.014680</td>\n",
       "      <td>0.0</td>\n",
       "      <td>0.0</td>\n",
       "      <td>0.0</td>\n",
       "      <td>0.0</td>\n",
       "      <td>0.0</td>\n",
       "      <td>0.0</td>\n",
       "      <td>0.0</td>\n",
       "      <td>0.0</td>\n",
       "      <td>1.0</td>\n",
       "    </tr>\n",
       "    <tr>\n",
       "      <th>4</th>\n",
       "      <td>1.0</td>\n",
       "      <td>0.0</td>\n",
       "      <td>0.0</td>\n",
       "      <td>0.0</td>\n",
       "      <td>1.0</td>\n",
       "      <td>1.0</td>\n",
       "      <td>0.0</td>\n",
       "      <td>0.0</td>\n",
       "      <td>0.0</td>\n",
       "      <td>0.0</td>\n",
       "      <td>0.295806</td>\n",
       "      <td>0.0</td>\n",
       "      <td>0.0</td>\n",
       "      <td>1.0</td>\n",
       "      <td>0.0</td>\n",
       "      <td>0.0</td>\n",
       "      <td>0.0</td>\n",
       "      <td>0.0</td>\n",
       "      <td>0.0</td>\n",
       "      <td>0.0</td>\n",
       "    </tr>\n",
       "    <tr>\n",
       "      <th>...</th>\n",
       "      <td>...</td>\n",
       "      <td>...</td>\n",
       "      <td>...</td>\n",
       "      <td>...</td>\n",
       "      <td>...</td>\n",
       "      <td>...</td>\n",
       "      <td>...</td>\n",
       "      <td>...</td>\n",
       "      <td>...</td>\n",
       "      <td>...</td>\n",
       "      <td>...</td>\n",
       "      <td>...</td>\n",
       "      <td>...</td>\n",
       "      <td>...</td>\n",
       "      <td>...</td>\n",
       "      <td>...</td>\n",
       "      <td>...</td>\n",
       "      <td>...</td>\n",
       "      <td>...</td>\n",
       "      <td>...</td>\n",
       "    </tr>\n",
       "    <tr>\n",
       "      <th>663</th>\n",
       "      <td>0.0</td>\n",
       "      <td>0.0</td>\n",
       "      <td>1.0</td>\n",
       "      <td>1.0</td>\n",
       "      <td>0.0</td>\n",
       "      <td>0.0</td>\n",
       "      <td>1.0</td>\n",
       "      <td>0.0</td>\n",
       "      <td>0.0</td>\n",
       "      <td>0.0</td>\n",
       "      <td>0.014932</td>\n",
       "      <td>0.0</td>\n",
       "      <td>0.0</td>\n",
       "      <td>0.0</td>\n",
       "      <td>0.0</td>\n",
       "      <td>0.0</td>\n",
       "      <td>0.0</td>\n",
       "      <td>0.0</td>\n",
       "      <td>0.0</td>\n",
       "      <td>1.0</td>\n",
       "    </tr>\n",
       "    <tr>\n",
       "      <th>664</th>\n",
       "      <td>1.0</td>\n",
       "      <td>0.0</td>\n",
       "      <td>0.0</td>\n",
       "      <td>0.0</td>\n",
       "      <td>1.0</td>\n",
       "      <td>0.0</td>\n",
       "      <td>1.0</td>\n",
       "      <td>0.0</td>\n",
       "      <td>0.0</td>\n",
       "      <td>0.0</td>\n",
       "      <td>0.060508</td>\n",
       "      <td>0.0</td>\n",
       "      <td>0.0</td>\n",
       "      <td>0.0</td>\n",
       "      <td>0.0</td>\n",
       "      <td>0.0</td>\n",
       "      <td>0.0</td>\n",
       "      <td>0.0</td>\n",
       "      <td>0.0</td>\n",
       "      <td>1.0</td>\n",
       "    </tr>\n",
       "    <tr>\n",
       "      <th>665</th>\n",
       "      <td>0.0</td>\n",
       "      <td>0.0</td>\n",
       "      <td>1.0</td>\n",
       "      <td>0.0</td>\n",
       "      <td>1.0</td>\n",
       "      <td>0.0</td>\n",
       "      <td>0.0</td>\n",
       "      <td>1.0</td>\n",
       "      <td>0.0</td>\n",
       "      <td>0.0</td>\n",
       "      <td>0.027538</td>\n",
       "      <td>0.0</td>\n",
       "      <td>0.0</td>\n",
       "      <td>0.0</td>\n",
       "      <td>0.0</td>\n",
       "      <td>0.0</td>\n",
       "      <td>0.0</td>\n",
       "      <td>0.0</td>\n",
       "      <td>0.0</td>\n",
       "      <td>1.0</td>\n",
       "    </tr>\n",
       "    <tr>\n",
       "      <th>666</th>\n",
       "      <td>1.0</td>\n",
       "      <td>0.0</td>\n",
       "      <td>0.0</td>\n",
       "      <td>1.0</td>\n",
       "      <td>0.0</td>\n",
       "      <td>1.0</td>\n",
       "      <td>0.0</td>\n",
       "      <td>0.0</td>\n",
       "      <td>0.0</td>\n",
       "      <td>0.0</td>\n",
       "      <td>0.234224</td>\n",
       "      <td>0.0</td>\n",
       "      <td>1.0</td>\n",
       "      <td>0.0</td>\n",
       "      <td>0.0</td>\n",
       "      <td>0.0</td>\n",
       "      <td>0.0</td>\n",
       "      <td>0.0</td>\n",
       "      <td>0.0</td>\n",
       "      <td>0.0</td>\n",
       "    </tr>\n",
       "    <tr>\n",
       "      <th>667</th>\n",
       "      <td>1.0</td>\n",
       "      <td>0.0</td>\n",
       "      <td>0.0</td>\n",
       "      <td>0.0</td>\n",
       "      <td>1.0</td>\n",
       "      <td>0.0</td>\n",
       "      <td>1.0</td>\n",
       "      <td>0.0</td>\n",
       "      <td>0.0</td>\n",
       "      <td>0.0</td>\n",
       "      <td>0.150855</td>\n",
       "      <td>0.0</td>\n",
       "      <td>0.0</td>\n",
       "      <td>0.0</td>\n",
       "      <td>1.0</td>\n",
       "      <td>0.0</td>\n",
       "      <td>0.0</td>\n",
       "      <td>0.0</td>\n",
       "      <td>0.0</td>\n",
       "      <td>0.0</td>\n",
       "    </tr>\n",
       "  </tbody>\n",
       "</table>\n",
       "<p>668 rows × 20 columns</p>\n",
       "</div>"
      ],
      "text/plain": [
       "       0    1    2    3    4    5    6    7    8    9        10   11   12  \\\n",
       "0    1.0  0.0  0.0  0.0  1.0  0.0  1.0  0.0  0.0  0.0  0.059532  0.0  0.0   \n",
       "1    0.0  0.0  1.0  0.0  1.0  0.0  1.0  0.0  0.0  0.0  0.013761  0.0  0.0   \n",
       "2    0.0  1.0  0.0  1.0  0.0  0.0  1.0  0.0  0.0  0.0  0.028302  0.0  0.0   \n",
       "3    0.0  0.0  1.0  0.0  1.0  0.0  1.0  0.0  0.0  0.0  0.014680  0.0  0.0   \n",
       "4    1.0  0.0  0.0  0.0  1.0  1.0  0.0  0.0  0.0  0.0  0.295806  0.0  0.0   \n",
       "..   ...  ...  ...  ...  ...  ...  ...  ...  ...  ...       ...  ...  ...   \n",
       "663  0.0  0.0  1.0  1.0  0.0  0.0  1.0  0.0  0.0  0.0  0.014932  0.0  0.0   \n",
       "664  1.0  0.0  0.0  0.0  1.0  0.0  1.0  0.0  0.0  0.0  0.060508  0.0  0.0   \n",
       "665  0.0  0.0  1.0  0.0  1.0  0.0  0.0  1.0  0.0  0.0  0.027538  0.0  0.0   \n",
       "666  1.0  0.0  0.0  1.0  0.0  1.0  0.0  0.0  0.0  0.0  0.234224  0.0  1.0   \n",
       "667  1.0  0.0  0.0  0.0  1.0  0.0  1.0  0.0  0.0  0.0  0.150855  0.0  0.0   \n",
       "\n",
       "      13   14   15   16   17   18   19  \n",
       "0    1.0  0.0  0.0  0.0  0.0  0.0  0.0  \n",
       "1    0.0  0.0  0.0  0.0  0.0  0.0  1.0  \n",
       "2    0.0  0.0  0.0  0.0  0.0  0.0  1.0  \n",
       "3    0.0  0.0  0.0  0.0  0.0  0.0  1.0  \n",
       "4    1.0  0.0  0.0  0.0  0.0  0.0  0.0  \n",
       "..   ...  ...  ...  ...  ...  ...  ...  \n",
       "663  0.0  0.0  0.0  0.0  0.0  0.0  1.0  \n",
       "664  0.0  0.0  0.0  0.0  0.0  0.0  1.0  \n",
       "665  0.0  0.0  0.0  0.0  0.0  0.0  1.0  \n",
       "666  0.0  0.0  0.0  0.0  0.0  0.0  0.0  \n",
       "667  0.0  1.0  0.0  0.0  0.0  0.0  0.0  \n",
       "\n",
       "[668 rows x 20 columns]"
      ]
     },
     "execution_count": 65,
     "metadata": {},
     "output_type": "execute_result"
    }
   ],
   "source": [
    "df_labels"
   ]
  },
  {
   "cell_type": "code",
   "execution_count": 68,
   "metadata": {},
   "outputs": [
    {
     "ename": "AttributeError",
     "evalue": "Transformer impute_and_bin (type Pipeline) does not provide get_feature_names.",
     "output_type": "error",
     "traceback": [
      "\u001b[0;31m---------------------------------------------------------------------------\u001b[0m",
      "\u001b[0;31mAttributeError\u001b[0m                            Traceback (most recent call last)",
      "\u001b[0;32m<ipython-input-68-a091eb5378e0>\u001b[0m in \u001b[0;36m<module>\u001b[0;34m\u001b[0m\n\u001b[0;32m----> 1\u001b[0;31m \u001b[0mtrans\u001b[0m\u001b[0;34m.\u001b[0m\u001b[0mget_feature_names\u001b[0m\u001b[0;34m(\u001b[0m\u001b[0;34m)\u001b[0m\u001b[0;34m\u001b[0m\u001b[0;34m\u001b[0m\u001b[0m\n\u001b[0m",
      "\u001b[0;32m~/anaconda3/envs/testenv/lib/python3.7/site-packages/sklearn/compose/_column_transformer.py\u001b[0m in \u001b[0;36mget_feature_names\u001b[0;34m(self)\u001b[0m\n\u001b[1;32m    361\u001b[0m                 raise AttributeError(\"Transformer %s (type %s) does not \"\n\u001b[1;32m    362\u001b[0m                                      \u001b[0;34m\"provide get_feature_names.\"\u001b[0m\u001b[0;34m\u001b[0m\u001b[0;34m\u001b[0m\u001b[0m\n\u001b[0;32m--> 363\u001b[0;31m                                      % (str(name), type(trans).__name__))\n\u001b[0m\u001b[1;32m    364\u001b[0m             feature_names.extend([name + \"__\" + f for f in\n\u001b[1;32m    365\u001b[0m                                   trans.get_feature_names()])\n",
      "\u001b[0;31mAttributeError\u001b[0m: Transformer impute_and_bin (type Pipeline) does not provide get_feature_names."
     ]
    }
   ],
   "source": [
    "trans.get_feature_names()"
   ]
  },
  {
   "cell_type": "code",
   "execution_count": 63,
   "metadata": {},
   "outputs": [
    {
     "data": {
      "image/svg+xml": [
       "<?xml version=\"1.0\" encoding=\"UTF-8\" standalone=\"no\"?>\n",
       "<!DOCTYPE svg PUBLIC \"-//W3C//DTD SVG 1.1//EN\"\n",
       " \"http://www.w3.org/Graphics/SVG/1.1/DTD/svg11.dtd\">\n",
       "<!-- Generated by graphviz version 2.42.3 (20191010.1750)\n",
       " -->\n",
       "<!-- Title: Tree Pages: 1 -->\n",
       "<svg width=\"1026pt\" height=\"414pt\"\n",
       " viewBox=\"0.00 0.00 1026.32 414.00\" xmlns=\"http://www.w3.org/2000/svg\" xmlns:xlink=\"http://www.w3.org/1999/xlink\">\n",
       "<g id=\"graph0\" class=\"graph\" transform=\"scale(1 1) rotate(0) translate(4 410)\">\n",
       "<title>Tree</title>\n",
       "<polygon fill=\"white\" stroke=\"transparent\" points=\"-4,4 -4,-410 1022.32,-410 1022.32,4 -4,4\"/>\n",
       "<!-- 0 -->\n",
       "<g id=\"node1\" class=\"node\">\n",
       "<title>0</title>\n",
       "<path fill=\"#f5ceb2\" stroke=\"black\" d=\"M560.86,-406C560.86,-406 457.46,-406 457.46,-406 451.46,-406 445.46,-400 445.46,-394 445.46,-394 445.46,-340 445.46,-340 445.46,-334 451.46,-328 457.46,-328 457.46,-328 560.86,-328 560.86,-328 566.86,-328 572.86,-334 572.86,-340 572.86,-340 572.86,-394 572.86,-394 572.86,-400 566.86,-406 560.86,-406\"/>\n",
       "<text text-anchor=\"middle\" x=\"509.16\" y=\"-390.8\" font-family=\"Helvetica,sans-Serif\" font-size=\"14.00\">X[3] &lt;= 0.5</text>\n",
       "<text text-anchor=\"middle\" x=\"509.16\" y=\"-376.8\" font-family=\"Helvetica,sans-Serif\" font-size=\"14.00\">gini = 0.471</text>\n",
       "<text text-anchor=\"middle\" x=\"509.16\" y=\"-362.8\" font-family=\"Helvetica,sans-Serif\" font-size=\"14.00\">samples = 668</text>\n",
       "<text text-anchor=\"middle\" x=\"509.16\" y=\"-348.8\" font-family=\"Helvetica,sans-Serif\" font-size=\"14.00\">value = [415, 253]</text>\n",
       "<text text-anchor=\"middle\" x=\"509.16\" y=\"-334.8\" font-family=\"Helvetica,sans-Serif\" font-size=\"14.00\">class = Survived</text>\n",
       "</g>\n",
       "<!-- 1 -->\n",
       "<g id=\"node2\" class=\"node\">\n",
       "<title>1</title>\n",
       "<path fill=\"#eb9e67\" stroke=\"black\" d=\"M429.07,-292C429.07,-292 333.25,-292 333.25,-292 327.25,-292 321.25,-286 321.25,-280 321.25,-280 321.25,-226 321.25,-226 321.25,-220 327.25,-214 333.25,-214 333.25,-214 429.07,-214 429.07,-214 435.07,-214 441.07,-220 441.07,-226 441.07,-226 441.07,-280 441.07,-280 441.07,-286 435.07,-292 429.07,-292\"/>\n",
       "<text text-anchor=\"middle\" x=\"381.16\" y=\"-276.8\" font-family=\"Helvetica,sans-Serif\" font-size=\"14.00\">X[19] &lt;= 0.5</text>\n",
       "<text text-anchor=\"middle\" x=\"381.16\" y=\"-262.8\" font-family=\"Helvetica,sans-Serif\" font-size=\"14.00\">gini = 0.307</text>\n",
       "<text text-anchor=\"middle\" x=\"381.16\" y=\"-248.8\" font-family=\"Helvetica,sans-Serif\" font-size=\"14.00\">samples = 439</text>\n",
       "<text text-anchor=\"middle\" x=\"381.16\" y=\"-234.8\" font-family=\"Helvetica,sans-Serif\" font-size=\"14.00\">value = [356, 83]</text>\n",
       "<text text-anchor=\"middle\" x=\"381.16\" y=\"-220.8\" font-family=\"Helvetica,sans-Serif\" font-size=\"14.00\">class = Survived</text>\n",
       "</g>\n",
       "<!-- 0&#45;&gt;1 -->\n",
       "<g id=\"edge1\" class=\"edge\">\n",
       "<title>0&#45;&gt;1</title>\n",
       "<path fill=\"none\" stroke=\"black\" d=\"M465.47,-327.77C454.76,-318.4 443.2,-308.29 432.18,-298.64\"/>\n",
       "<polygon fill=\"black\" stroke=\"black\" points=\"434.49,-296.01 424.66,-292.06 429.88,-301.28 434.49,-296.01\"/>\n",
       "<text text-anchor=\"middle\" x=\"426.32\" y=\"-312.8\" font-family=\"Helvetica,sans-Serif\" font-size=\"14.00\">True</text>\n",
       "</g>\n",
       "<!-- 8 -->\n",
       "<g id=\"node9\" class=\"node\">\n",
       "<title>8</title>\n",
       "<path fill=\"#7ebfee\" stroke=\"black\" d=\"M683.07,-292C683.07,-292 587.25,-292 587.25,-292 581.25,-292 575.25,-286 575.25,-280 575.25,-280 575.25,-226 575.25,-226 575.25,-220 581.25,-214 587.25,-214 587.25,-214 683.07,-214 683.07,-214 689.07,-214 695.07,-220 695.07,-226 695.07,-226 695.07,-280 695.07,-280 695.07,-286 689.07,-292 683.07,-292\"/>\n",
       "<text text-anchor=\"middle\" x=\"635.16\" y=\"-276.8\" font-family=\"Helvetica,sans-Serif\" font-size=\"14.00\">X[2] &lt;= 0.5</text>\n",
       "<text text-anchor=\"middle\" x=\"635.16\" y=\"-262.8\" font-family=\"Helvetica,sans-Serif\" font-size=\"14.00\">gini = 0.383</text>\n",
       "<text text-anchor=\"middle\" x=\"635.16\" y=\"-248.8\" font-family=\"Helvetica,sans-Serif\" font-size=\"14.00\">samples = 229</text>\n",
       "<text text-anchor=\"middle\" x=\"635.16\" y=\"-234.8\" font-family=\"Helvetica,sans-Serif\" font-size=\"14.00\">value = [59, 170]</text>\n",
       "<text text-anchor=\"middle\" x=\"635.16\" y=\"-220.8\" font-family=\"Helvetica,sans-Serif\" font-size=\"14.00\">class = Dead</text>\n",
       "</g>\n",
       "<!-- 0&#45;&gt;8 -->\n",
       "<g id=\"edge8\" class=\"edge\">\n",
       "<title>0&#45;&gt;8</title>\n",
       "<path fill=\"none\" stroke=\"black\" d=\"M552.17,-327.77C562.61,-318.49 573.87,-308.48 584.62,-298.92\"/>\n",
       "<polygon fill=\"black\" stroke=\"black\" points=\"587.2,-301.32 592.34,-292.06 582.54,-296.09 587.2,-301.32\"/>\n",
       "<text text-anchor=\"middle\" x=\"590.88\" y=\"-312.82\" font-family=\"Helvetica,sans-Serif\" font-size=\"14.00\">False</text>\n",
       "</g>\n",
       "<!-- 2 -->\n",
       "<g id=\"node3\" class=\"node\">\n",
       "<title>2</title>\n",
       "<path fill=\"#f7d9c4\" stroke=\"black\" d=\"M232.48,-178C232.48,-178 137.84,-178 137.84,-178 131.84,-178 125.84,-172 125.84,-166 125.84,-166 125.84,-112 125.84,-112 125.84,-106 131.84,-100 137.84,-100 137.84,-100 232.48,-100 232.48,-100 238.48,-100 244.48,-106 244.48,-112 244.48,-112 244.48,-166 244.48,-166 244.48,-172 238.48,-178 232.48,-178\"/>\n",
       "<text text-anchor=\"middle\" x=\"185.16\" y=\"-162.8\" font-family=\"Helvetica,sans-Serif\" font-size=\"14.00\">X[5] &lt;= 0.5</text>\n",
       "<text text-anchor=\"middle\" x=\"185.16\" y=\"-148.8\" font-family=\"Helvetica,sans-Serif\" font-size=\"14.00\">gini = 0.485</text>\n",
       "<text text-anchor=\"middle\" x=\"185.16\" y=\"-134.8\" font-family=\"Helvetica,sans-Serif\" font-size=\"14.00\">samples = 80</text>\n",
       "<text text-anchor=\"middle\" x=\"185.16\" y=\"-120.8\" font-family=\"Helvetica,sans-Serif\" font-size=\"14.00\">value = [47, 33]</text>\n",
       "<text text-anchor=\"middle\" x=\"185.16\" y=\"-106.8\" font-family=\"Helvetica,sans-Serif\" font-size=\"14.00\">class = Survived</text>\n",
       "</g>\n",
       "<!-- 1&#45;&gt;2 -->\n",
       "<g id=\"edge2\" class=\"edge\">\n",
       "<title>1&#45;&gt;2</title>\n",
       "<path fill=\"none\" stroke=\"black\" d=\"M321.02,-217.64C299.66,-205.43 275.46,-191.6 253.46,-179.03\"/>\n",
       "<polygon fill=\"black\" stroke=\"black\" points=\"254.93,-175.84 244.51,-173.91 251.46,-181.92 254.93,-175.84\"/>\n",
       "</g>\n",
       "<!-- 5 -->\n",
       "<g id=\"node6\" class=\"node\">\n",
       "<title>5</title>\n",
       "<path fill=\"#e99559\" stroke=\"black\" d=\"M429.07,-178C429.07,-178 333.25,-178 333.25,-178 327.25,-178 321.25,-172 321.25,-166 321.25,-166 321.25,-112 321.25,-112 321.25,-106 327.25,-100 333.25,-100 333.25,-100 429.07,-100 429.07,-100 435.07,-100 441.07,-106 441.07,-112 441.07,-112 441.07,-166 441.07,-166 441.07,-172 435.07,-178 429.07,-178\"/>\n",
       "<text text-anchor=\"middle\" x=\"381.16\" y=\"-162.8\" font-family=\"Helvetica,sans-Serif\" font-size=\"14.00\">X[5] &lt;= 0.5</text>\n",
       "<text text-anchor=\"middle\" x=\"381.16\" y=\"-148.8\" font-family=\"Helvetica,sans-Serif\" font-size=\"14.00\">gini = 0.24</text>\n",
       "<text text-anchor=\"middle\" x=\"381.16\" y=\"-134.8\" font-family=\"Helvetica,sans-Serif\" font-size=\"14.00\">samples = 359</text>\n",
       "<text text-anchor=\"middle\" x=\"381.16\" y=\"-120.8\" font-family=\"Helvetica,sans-Serif\" font-size=\"14.00\">value = [309, 50]</text>\n",
       "<text text-anchor=\"middle\" x=\"381.16\" y=\"-106.8\" font-family=\"Helvetica,sans-Serif\" font-size=\"14.00\">class = Survived</text>\n",
       "</g>\n",
       "<!-- 1&#45;&gt;5 -->\n",
       "<g id=\"edge5\" class=\"edge\">\n",
       "<title>1&#45;&gt;5</title>\n",
       "<path fill=\"none\" stroke=\"black\" d=\"M381.16,-213.77C381.16,-205.57 381.16,-196.8 381.16,-188.28\"/>\n",
       "<polygon fill=\"black\" stroke=\"black\" points=\"384.66,-188.06 381.16,-178.06 377.66,-188.06 384.66,-188.06\"/>\n",
       "</g>\n",
       "<!-- 3 -->\n",
       "<g id=\"node4\" class=\"node\">\n",
       "<title>3</title>\n",
       "<path fill=\"#f4c9ab\" stroke=\"black\" d=\"M106.48,-64C106.48,-64 11.84,-64 11.84,-64 5.84,-64 -0.16,-58 -0.16,-52 -0.16,-52 -0.16,-12 -0.16,-12 -0.16,-6 5.84,0 11.84,0 11.84,0 106.48,0 106.48,0 112.48,0 118.48,-6 118.48,-12 118.48,-12 118.48,-52 118.48,-52 118.48,-58 112.48,-64 106.48,-64\"/>\n",
       "<text text-anchor=\"middle\" x=\"59.16\" y=\"-48.8\" font-family=\"Helvetica,sans-Serif\" font-size=\"14.00\">gini = 0.463</text>\n",
       "<text text-anchor=\"middle\" x=\"59.16\" y=\"-34.8\" font-family=\"Helvetica,sans-Serif\" font-size=\"14.00\">samples = 74</text>\n",
       "<text text-anchor=\"middle\" x=\"59.16\" y=\"-20.8\" font-family=\"Helvetica,sans-Serif\" font-size=\"14.00\">value = [47, 27]</text>\n",
       "<text text-anchor=\"middle\" x=\"59.16\" y=\"-6.8\" font-family=\"Helvetica,sans-Serif\" font-size=\"14.00\">class = Survived</text>\n",
       "</g>\n",
       "<!-- 2&#45;&gt;3 -->\n",
       "<g id=\"edge3\" class=\"edge\">\n",
       "<title>2&#45;&gt;3</title>\n",
       "<path fill=\"none\" stroke=\"black\" d=\"M139.31,-99.8C127.88,-90.27 115.63,-80.06 104.23,-70.56\"/>\n",
       "<polygon fill=\"black\" stroke=\"black\" points=\"106.42,-67.83 96.5,-64.12 101.94,-73.21 106.42,-67.83\"/>\n",
       "</g>\n",
       "<!-- 4 -->\n",
       "<g id=\"node5\" class=\"node\">\n",
       "<title>4</title>\n",
       "<path fill=\"#399de5\" stroke=\"black\" d=\"M221.98,-64C221.98,-64 148.34,-64 148.34,-64 142.34,-64 136.34,-58 136.34,-52 136.34,-52 136.34,-12 136.34,-12 136.34,-6 142.34,0 148.34,0 148.34,0 221.98,0 221.98,0 227.98,0 233.98,-6 233.98,-12 233.98,-12 233.98,-52 233.98,-52 233.98,-58 227.98,-64 221.98,-64\"/>\n",
       "<text text-anchor=\"middle\" x=\"185.16\" y=\"-48.8\" font-family=\"Helvetica,sans-Serif\" font-size=\"14.00\">gini = 0.0</text>\n",
       "<text text-anchor=\"middle\" x=\"185.16\" y=\"-34.8\" font-family=\"Helvetica,sans-Serif\" font-size=\"14.00\">samples = 6</text>\n",
       "<text text-anchor=\"middle\" x=\"185.16\" y=\"-20.8\" font-family=\"Helvetica,sans-Serif\" font-size=\"14.00\">value = [0, 6]</text>\n",
       "<text text-anchor=\"middle\" x=\"185.16\" y=\"-6.8\" font-family=\"Helvetica,sans-Serif\" font-size=\"14.00\">class = Dead</text>\n",
       "</g>\n",
       "<!-- 2&#45;&gt;4 -->\n",
       "<g id=\"edge4\" class=\"edge\">\n",
       "<title>2&#45;&gt;4</title>\n",
       "<path fill=\"none\" stroke=\"black\" d=\"M185.16,-99.8C185.16,-91.46 185.16,-82.6 185.16,-74.15\"/>\n",
       "<polygon fill=\"black\" stroke=\"black\" points=\"188.66,-74.12 185.16,-64.12 181.66,-74.12 188.66,-74.12\"/>\n",
       "</g>\n",
       "<!-- 6 -->\n",
       "<g id=\"node7\" class=\"node\">\n",
       "<title>6</title>\n",
       "<path fill=\"#e89153\" stroke=\"black\" d=\"M360.07,-64C360.07,-64 264.25,-64 264.25,-64 258.25,-64 252.25,-58 252.25,-52 252.25,-52 252.25,-12 252.25,-12 252.25,-6 258.25,0 264.25,0 264.25,0 360.07,0 360.07,0 366.07,0 372.07,-6 372.07,-12 372.07,-12 372.07,-52 372.07,-52 372.07,-58 366.07,-64 360.07,-64\"/>\n",
       "<text text-anchor=\"middle\" x=\"312.16\" y=\"-48.8\" font-family=\"Helvetica,sans-Serif\" font-size=\"14.00\">gini = 0.203</text>\n",
       "<text text-anchor=\"middle\" x=\"312.16\" y=\"-34.8\" font-family=\"Helvetica,sans-Serif\" font-size=\"14.00\">samples = 323</text>\n",
       "<text text-anchor=\"middle\" x=\"312.16\" y=\"-20.8\" font-family=\"Helvetica,sans-Serif\" font-size=\"14.00\">value = [286, 37]</text>\n",
       "<text text-anchor=\"middle\" x=\"312.16\" y=\"-6.8\" font-family=\"Helvetica,sans-Serif\" font-size=\"14.00\">class = Survived</text>\n",
       "</g>\n",
       "<!-- 5&#45;&gt;6 -->\n",
       "<g id=\"edge6\" class=\"edge\">\n",
       "<title>5&#45;&gt;6</title>\n",
       "<path fill=\"none\" stroke=\"black\" d=\"M356.05,-99.8C350.21,-90.91 343.99,-81.43 338.11,-72.49\"/>\n",
       "<polygon fill=\"black\" stroke=\"black\" points=\"341.03,-70.55 332.61,-64.12 335.18,-74.4 341.03,-70.55\"/>\n",
       "</g>\n",
       "<!-- 7 -->\n",
       "<g id=\"node8\" class=\"node\">\n",
       "<title>7</title>\n",
       "<path fill=\"#f4c8a9\" stroke=\"black\" d=\"M496.48,-64C496.48,-64 401.84,-64 401.84,-64 395.84,-64 389.84,-58 389.84,-52 389.84,-52 389.84,-12 389.84,-12 389.84,-6 395.84,0 401.84,0 401.84,0 496.48,0 496.48,0 502.48,0 508.48,-6 508.48,-12 508.48,-12 508.48,-52 508.48,-52 508.48,-58 502.48,-64 496.48,-64\"/>\n",
       "<text text-anchor=\"middle\" x=\"449.16\" y=\"-48.8\" font-family=\"Helvetica,sans-Serif\" font-size=\"14.00\">gini = 0.461</text>\n",
       "<text text-anchor=\"middle\" x=\"449.16\" y=\"-34.8\" font-family=\"Helvetica,sans-Serif\" font-size=\"14.00\">samples = 36</text>\n",
       "<text text-anchor=\"middle\" x=\"449.16\" y=\"-20.8\" font-family=\"Helvetica,sans-Serif\" font-size=\"14.00\">value = [23, 13]</text>\n",
       "<text text-anchor=\"middle\" x=\"449.16\" y=\"-6.8\" font-family=\"Helvetica,sans-Serif\" font-size=\"14.00\">class = Survived</text>\n",
       "</g>\n",
       "<!-- 5&#45;&gt;7 -->\n",
       "<g id=\"edge7\" class=\"edge\">\n",
       "<title>5&#45;&gt;7</title>\n",
       "<path fill=\"none\" stroke=\"black\" d=\"M405.9,-99.8C411.6,-91 417.67,-81.63 423.41,-72.76\"/>\n",
       "<polygon fill=\"black\" stroke=\"black\" points=\"426.51,-74.41 429.01,-64.12 420.63,-70.61 426.51,-74.41\"/>\n",
       "</g>\n",
       "<!-- 9 -->\n",
       "<g id=\"node10\" class=\"node\">\n",
       "<title>9</title>\n",
       "<path fill=\"#40a0e6\" stroke=\"black\" d=\"M678.75,-178C678.75,-178 591.57,-178 591.57,-178 585.57,-178 579.57,-172 579.57,-166 579.57,-166 579.57,-112 579.57,-112 579.57,-106 585.57,-100 591.57,-100 591.57,-100 678.75,-100 678.75,-100 684.75,-100 690.75,-106 690.75,-112 690.75,-112 690.75,-166 690.75,-166 690.75,-172 684.75,-178 678.75,-178\"/>\n",
       "<text text-anchor=\"middle\" x=\"635.16\" y=\"-162.8\" font-family=\"Helvetica,sans-Serif\" font-size=\"14.00\">X[13] &lt;= 0.5</text>\n",
       "<text text-anchor=\"middle\" x=\"635.16\" y=\"-148.8\" font-family=\"Helvetica,sans-Serif\" font-size=\"14.00\">gini = 0.064</text>\n",
       "<text text-anchor=\"middle\" x=\"635.16\" y=\"-134.8\" font-family=\"Helvetica,sans-Serif\" font-size=\"14.00\">samples = 120</text>\n",
       "<text text-anchor=\"middle\" x=\"635.16\" y=\"-120.8\" font-family=\"Helvetica,sans-Serif\" font-size=\"14.00\">value = [4, 116]</text>\n",
       "<text text-anchor=\"middle\" x=\"635.16\" y=\"-106.8\" font-family=\"Helvetica,sans-Serif\" font-size=\"14.00\">class = Dead</text>\n",
       "</g>\n",
       "<!-- 8&#45;&gt;9 -->\n",
       "<g id=\"edge9\" class=\"edge\">\n",
       "<title>8&#45;&gt;9</title>\n",
       "<path fill=\"none\" stroke=\"black\" d=\"M635.16,-213.77C635.16,-205.57 635.16,-196.8 635.16,-188.28\"/>\n",
       "<polygon fill=\"black\" stroke=\"black\" points=\"638.66,-188.06 635.16,-178.06 631.66,-188.06 638.66,-188.06\"/>\n",
       "</g>\n",
       "<!-- 12 -->\n",
       "<g id=\"node13\" class=\"node\">\n",
       "<title>12</title>\n",
       "<path fill=\"#fffdfb\" stroke=\"black\" d=\"M873.48,-178C873.48,-178 778.84,-178 778.84,-178 772.84,-178 766.84,-172 766.84,-166 766.84,-166 766.84,-112 766.84,-112 766.84,-106 772.84,-100 778.84,-100 778.84,-100 873.48,-100 873.48,-100 879.48,-100 885.48,-106 885.48,-112 885.48,-112 885.48,-166 885.48,-166 885.48,-172 879.48,-178 873.48,-178\"/>\n",
       "<text text-anchor=\"middle\" x=\"826.16\" y=\"-162.8\" font-family=\"Helvetica,sans-Serif\" font-size=\"14.00\">X[10] &lt;= 0.046</text>\n",
       "<text text-anchor=\"middle\" x=\"826.16\" y=\"-148.8\" font-family=\"Helvetica,sans-Serif\" font-size=\"14.00\">gini = 0.5</text>\n",
       "<text text-anchor=\"middle\" x=\"826.16\" y=\"-134.8\" font-family=\"Helvetica,sans-Serif\" font-size=\"14.00\">samples = 109</text>\n",
       "<text text-anchor=\"middle\" x=\"826.16\" y=\"-120.8\" font-family=\"Helvetica,sans-Serif\" font-size=\"14.00\">value = [55, 54]</text>\n",
       "<text text-anchor=\"middle\" x=\"826.16\" y=\"-106.8\" font-family=\"Helvetica,sans-Serif\" font-size=\"14.00\">class = Survived</text>\n",
       "</g>\n",
       "<!-- 8&#45;&gt;12 -->\n",
       "<g id=\"edge12\" class=\"edge\">\n",
       "<title>8&#45;&gt;12</title>\n",
       "<path fill=\"none\" stroke=\"black\" d=\"M695.33,-216.72C715.33,-204.99 737.73,-191.85 758.27,-179.81\"/>\n",
       "<polygon fill=\"black\" stroke=\"black\" points=\"760.09,-182.8 766.95,-174.72 756.55,-176.76 760.09,-182.8\"/>\n",
       "</g>\n",
       "<!-- 10 -->\n",
       "<g id=\"node11\" class=\"node\">\n",
       "<title>10</title>\n",
       "<path fill=\"#3b9ee5\" stroke=\"black\" d=\"M618.5,-64C618.5,-64 537.82,-64 537.82,-64 531.82,-64 525.82,-58 525.82,-52 525.82,-52 525.82,-12 525.82,-12 525.82,-6 531.82,0 537.82,0 537.82,0 618.5,0 618.5,0 624.5,0 630.5,-6 630.5,-12 630.5,-12 630.5,-52 630.5,-52 630.5,-58 624.5,-64 618.5,-64\"/>\n",
       "<text text-anchor=\"middle\" x=\"578.16\" y=\"-48.8\" font-family=\"Helvetica,sans-Serif\" font-size=\"14.00\">gini = 0.02</text>\n",
       "<text text-anchor=\"middle\" x=\"578.16\" y=\"-34.8\" font-family=\"Helvetica,sans-Serif\" font-size=\"14.00\">samples = 98</text>\n",
       "<text text-anchor=\"middle\" x=\"578.16\" y=\"-20.8\" font-family=\"Helvetica,sans-Serif\" font-size=\"14.00\">value = [1, 97]</text>\n",
       "<text text-anchor=\"middle\" x=\"578.16\" y=\"-6.8\" font-family=\"Helvetica,sans-Serif\" font-size=\"14.00\">class = Dead</text>\n",
       "</g>\n",
       "<!-- 9&#45;&gt;10 -->\n",
       "<g id=\"edge10\" class=\"edge\">\n",
       "<title>9&#45;&gt;10</title>\n",
       "<path fill=\"none\" stroke=\"black\" d=\"M614.42,-99.8C609.7,-91.09 604.66,-81.82 599.9,-73.04\"/>\n",
       "<polygon fill=\"black\" stroke=\"black\" points=\"602.9,-71.24 595.05,-64.12 596.75,-74.58 602.9,-71.24\"/>\n",
       "</g>\n",
       "<!-- 11 -->\n",
       "<g id=\"node12\" class=\"node\">\n",
       "<title>11</title>\n",
       "<path fill=\"#58ace9\" stroke=\"black\" d=\"M740.5,-64C740.5,-64 659.82,-64 659.82,-64 653.82,-64 647.82,-58 647.82,-52 647.82,-52 647.82,-12 647.82,-12 647.82,-6 653.82,0 659.82,0 659.82,0 740.5,0 740.5,0 746.5,0 752.5,-6 752.5,-12 752.5,-12 752.5,-52 752.5,-52 752.5,-58 746.5,-64 740.5,-64\"/>\n",
       "<text text-anchor=\"middle\" x=\"700.16\" y=\"-48.8\" font-family=\"Helvetica,sans-Serif\" font-size=\"14.00\">gini = 0.236</text>\n",
       "<text text-anchor=\"middle\" x=\"700.16\" y=\"-34.8\" font-family=\"Helvetica,sans-Serif\" font-size=\"14.00\">samples = 22</text>\n",
       "<text text-anchor=\"middle\" x=\"700.16\" y=\"-20.8\" font-family=\"Helvetica,sans-Serif\" font-size=\"14.00\">value = [3, 19]</text>\n",
       "<text text-anchor=\"middle\" x=\"700.16\" y=\"-6.8\" font-family=\"Helvetica,sans-Serif\" font-size=\"14.00\">class = Dead</text>\n",
       "</g>\n",
       "<!-- 9&#45;&gt;11 -->\n",
       "<g id=\"edge11\" class=\"edge\">\n",
       "<title>9&#45;&gt;11</title>\n",
       "<path fill=\"none\" stroke=\"black\" d=\"M658.81,-99.8C664.26,-91 670.06,-81.63 675.54,-72.76\"/>\n",
       "<polygon fill=\"black\" stroke=\"black\" points=\"678.61,-74.46 680.9,-64.12 672.66,-70.78 678.61,-74.46\"/>\n",
       "</g>\n",
       "<!-- 13 -->\n",
       "<g id=\"node14\" class=\"node\">\n",
       "<title>13</title>\n",
       "<path fill=\"#c7e3f8\" stroke=\"black\" d=\"M870.29,-64C870.29,-64 782.03,-64 782.03,-64 776.03,-64 770.03,-58 770.03,-52 770.03,-52 770.03,-12 770.03,-12 770.03,-6 776.03,0 782.03,0 782.03,0 870.29,0 870.29,0 876.29,0 882.29,-6 882.29,-12 882.29,-12 882.29,-52 882.29,-52 882.29,-58 876.29,-64 870.29,-64\"/>\n",
       "<text text-anchor=\"middle\" x=\"826.16\" y=\"-48.8\" font-family=\"Helvetica,sans-Serif\" font-size=\"14.00\">gini = 0.486</text>\n",
       "<text text-anchor=\"middle\" x=\"826.16\" y=\"-34.8\" font-family=\"Helvetica,sans-Serif\" font-size=\"14.00\">samples = 91</text>\n",
       "<text text-anchor=\"middle\" x=\"826.16\" y=\"-20.8\" font-family=\"Helvetica,sans-Serif\" font-size=\"14.00\">value = [38, 53]</text>\n",
       "<text text-anchor=\"middle\" x=\"826.16\" y=\"-6.8\" font-family=\"Helvetica,sans-Serif\" font-size=\"14.00\">class = Dead</text>\n",
       "</g>\n",
       "<!-- 12&#45;&gt;13 -->\n",
       "<g id=\"edge13\" class=\"edge\">\n",
       "<title>12&#45;&gt;13</title>\n",
       "<path fill=\"none\" stroke=\"black\" d=\"M826.16,-99.8C826.16,-91.46 826.16,-82.6 826.16,-74.15\"/>\n",
       "<polygon fill=\"black\" stroke=\"black\" points=\"829.66,-74.12 826.16,-64.12 822.66,-74.12 829.66,-74.12\"/>\n",
       "</g>\n",
       "<!-- 14 -->\n",
       "<g id=\"node15\" class=\"node\">\n",
       "<title>14</title>\n",
       "<path fill=\"#e78845\" stroke=\"black\" d=\"M1006.48,-64C1006.48,-64 911.84,-64 911.84,-64 905.84,-64 899.84,-58 899.84,-52 899.84,-52 899.84,-12 899.84,-12 899.84,-6 905.84,0 911.84,0 911.84,0 1006.48,0 1006.48,0 1012.48,0 1018.48,-6 1018.48,-12 1018.48,-12 1018.48,-52 1018.48,-52 1018.48,-58 1012.48,-64 1006.48,-64\"/>\n",
       "<text text-anchor=\"middle\" x=\"959.16\" y=\"-48.8\" font-family=\"Helvetica,sans-Serif\" font-size=\"14.00\">gini = 0.105</text>\n",
       "<text text-anchor=\"middle\" x=\"959.16\" y=\"-34.8\" font-family=\"Helvetica,sans-Serif\" font-size=\"14.00\">samples = 18</text>\n",
       "<text text-anchor=\"middle\" x=\"959.16\" y=\"-20.8\" font-family=\"Helvetica,sans-Serif\" font-size=\"14.00\">value = [17, 1]</text>\n",
       "<text text-anchor=\"middle\" x=\"959.16\" y=\"-6.8\" font-family=\"Helvetica,sans-Serif\" font-size=\"14.00\">class = Survived</text>\n",
       "</g>\n",
       "<!-- 12&#45;&gt;14 -->\n",
       "<g id=\"edge14\" class=\"edge\">\n",
       "<title>12&#45;&gt;14</title>\n",
       "<path fill=\"none\" stroke=\"black\" d=\"M874.55,-99.8C886.62,-90.27 899.55,-80.06 911.58,-70.56\"/>\n",
       "<polygon fill=\"black\" stroke=\"black\" points=\"914.06,-73.06 919.75,-64.12 909.73,-67.57 914.06,-73.06\"/>\n",
       "</g>\n",
       "</g>\n",
       "</svg>\n"
      ],
      "text/plain": [
       "<graphviz.files.Source at 0x7fa3430b0c90>"
      ]
     },
     "execution_count": 63,
     "metadata": {},
     "output_type": "execute_result"
    }
   ],
   "source": [
    "export_graphviz(decision_tree =m, out_file ='tree.dot',\n",
    "                class_names= ['Survived', 'Dead'],\n",
    "                rounded = True,\n",
    "               filled=True)\n",
    "\n",
    "gv.Source.from_file('tree.dot', format = 'png')\n"
   ]
  },
  {
   "cell_type": "markdown",
   "metadata": {},
   "source": [
    "## Random forest"
   ]
  },
  {
   "cell_type": "code",
   "execution_count": 83,
   "metadata": {},
   "outputs": [],
   "source": [
    "titanic_rf = RandomForestClassifier(max_depth=4, random_state=0)"
   ]
  },
  {
   "cell_type": "code",
   "execution_count": 84,
   "metadata": {},
   "outputs": [
    {
     "data": {
      "text/plain": [
       "RandomForestClassifier(bootstrap=True, ccp_alpha=0.0, class_weight=None,\n",
       "                       criterion='gini', max_depth=4, max_features='auto',\n",
       "                       max_leaf_nodes=None, max_samples=None,\n",
       "                       min_impurity_decrease=0.0, min_impurity_split=None,\n",
       "                       min_samples_leaf=1, min_samples_split=2,\n",
       "                       min_weight_fraction_leaf=0.0, n_estimators=100,\n",
       "                       n_jobs=None, oob_score=False, random_state=0, verbose=0,\n",
       "                       warm_start=False)"
      ]
     },
     "execution_count": 84,
     "metadata": {},
     "output_type": "execute_result"
    }
   ],
   "source": [
    "titanic_rf.fit(Xtrain_transform, ytrain)"
   ]
  },
  {
   "cell_type": "code",
   "execution_count": 85,
   "metadata": {},
   "outputs": [],
   "source": [
    "ypred_rf = titanic_rf.predict(Xtrain_transform)"
   ]
  },
  {
   "cell_type": "code",
   "execution_count": 86,
   "metadata": {},
   "outputs": [
    {
     "name": "stdout",
     "output_type": "stream",
     "text": [
      "0.8323353293413174\n"
     ]
    }
   ],
   "source": [
    "print(accuracy_score(ytrain, ypred_rf))"
   ]
  }
 ],
 "metadata": {
  "kernelspec": {
   "display_name": "Python 3",
   "language": "python",
   "name": "python3"
  },
  "language_info": {
   "codemirror_mode": {
    "name": "ipython",
    "version": 3
   },
   "file_extension": ".py",
   "mimetype": "text/x-python",
   "name": "python",
   "nbconvert_exporter": "python",
   "pygments_lexer": "ipython3",
   "version": "3.7.7"
  }
 },
 "nbformat": 4,
 "nbformat_minor": 4
}
