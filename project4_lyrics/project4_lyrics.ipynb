{
 "cells": [
  {
   "cell_type": "markdown",
   "metadata": {},
   "source": [
    "# Project 4: Web scraping and text classification"
   ]
  },
  {
   "cell_type": "markdown",
   "metadata": {},
   "source": [
    "The notebook explains how to create a ML classification model to predict the author of the lyrics scraped from the website https://www.lyrics.com. The notebook was developed as as study project for the Spiced Academy Data Science Bootcamp."
   ]
  },
  {
   "cell_type": "code",
   "execution_count": 16,
   "metadata": {},
   "outputs": [],
   "source": [
    "import requests\n",
    "from bs4 import BeautifulSoup\n",
    "import re\n",
    "import os\n",
    "import csv"
   ]
  },
  {
   "cell_type": "code",
   "execution_count": 17,
   "metadata": {},
   "outputs": [],
   "source": [
    "#scraping Bob Dylan's songs\n",
    "url_dylan = 'https://www.lyrics.com/artist/Bob-Dylan/4147'"
   ]
  },
  {
   "cell_type": "code",
   "execution_count": 18,
   "metadata": {},
   "outputs": [],
   "source": [
    "response_dylan = requests.get(url_dylan)"
   ]
  },
  {
   "cell_type": "code",
   "execution_count": 19,
   "metadata": {},
   "outputs": [
    {
     "data": {
      "text/plain": [
       "200"
      ]
     },
     "execution_count": 19,
     "metadata": {},
     "output_type": "execute_result"
    }
   ],
   "source": [
    "#checking the status of the request\n",
    "response_dylan.status_code"
   ]
  },
  {
   "cell_type": "code",
   "execution_count": 20,
   "metadata": {},
   "outputs": [],
   "source": [
    "html_dylan = response_dylan.text"
   ]
  },
  {
   "cell_type": "code",
   "execution_count": 21,
   "metadata": {},
   "outputs": [],
   "source": [
    "parsed_html_dylan = BeautifulSoup(html_dylan)"
   ]
  },
  {
   "cell_type": "code",
   "execution_count": 22,
   "metadata": {},
   "outputs": [],
   "source": [
    "links_dylan = parsed_html_dylan.find_all('a')\n"
   ]
  },
  {
   "cell_type": "code",
   "execution_count": 23,
   "metadata": {},
   "outputs": [],
   "source": [
    "# function to format the artist's name as included in the lyrics' links\n",
    "# the name is inputed as a string and the white spaces are used to split the name\n",
    "\n",
    "def format_artist_name (name):\n",
    "    name_parts = name.split()\n",
    "    name_length = len(name_parts)\n",
    "    author_name = []\n",
    "    for x in range (0, name_length):\n",
    "        author_name.append(name_parts[x])\n",
    "    author_str =\"\"\n",
    "    result= \"+\".join(author_name, )\n",
    "    return result"
   ]
  },
  {
   "cell_type": "code",
   "execution_count": 24,
   "metadata": {},
   "outputs": [],
   "source": [
    "dylan = format_artist_name(\"Bob Dylan\")"
   ]
  },
  {
   "cell_type": "code",
   "execution_count": 25,
   "metadata": {},
   "outputs": [],
   "source": [
    "# function to extract the urls for the lyric webpages\n",
    "\n",
    "def get_lyric_url(links, artist):\n",
    "    artist_name = format_artist_name(artist)\n",
    "    \n",
    "    lyric_url_list = []\n",
    "    for link in links:\n",
    "        try:\n",
    "            if artist_name in link.get('href'):\n",
    "                part_url = link.get('href')\n",
    "                lyric_url_list.append(\"https://www.lyrics.com/track/\" + part_url[7:])\n",
    "        except:\n",
    "            continue\n",
    "    \n",
    "    return lyric_url_list\n",
    "    \n",
    "       \n",
    "\n",
    "lyric_urls_dylan = get_lyric_url(links_dylan, \"Bob Dylan\")\n"
   ]
  },
  {
   "cell_type": "code",
   "execution_count": 27,
   "metadata": {},
   "outputs": [],
   "source": [
    "def get_lyrics(lyric_urls, artist):\n",
    "    artist_name = format_artist_name(artist)\n",
    "    current_wd = os.getcwd()\n",
    "    new_d_name = artist_name.lower().replace(\"+\", \"_\")\n",
    "    artist_d = os.mkdir(current_wd+'/'+new_d_name)\n",
    "    \n",
    "    metadata = [[\"song_num\", \"song_title\"]]\n",
    "    for url in lyric_urls:\n",
    "        r = requests.get(url)\n",
    "        html_songpage = r.text\n",
    "        parsed_html_songpage = BeautifulSoup(html_songpage)\n",
    "        try:\n",
    "            song_title = parsed_html_songpage.find_all(\"h1\", attrs={'class': 'lyric-title'})[0].text\n",
    "            song_text = parsed_html_songpage.find_all(\"pre\")[0].text #, attrs={'class': 'lyric-body wselect-cnt'})\n",
    "            filename = re.search(\"\\d+\",url).group()\n",
    "            metadata_song = [filename,song_title]\n",
    "            metadata.append(metadata_song)\n",
    "            path = current_wd + '/'+ new_d_name + '/' + filename+\".txt\"\n",
    "        \n",
    "            with open(path, 'w') as file:\n",
    "                file.write(song_text)\n",
    "        except:\n",
    "            continue\n",
    "    \n",
    "    path_metadata = current_wd + '/'+ new_d_name + '/' + \"metadata\" + \".csv\"\n",
    "    with open(path_metadata, 'w') as csv_file:\n",
    "        csv_file_writer = csv.writer(csv_file)\n",
    "        csv_file_writer.writerows(metadata)\n",
    "        \n",
    "        \n",
    "        \n",
    "        \n",
    "          \n"
   ]
  },
  {
   "cell_type": "code",
   "execution_count": null,
   "metadata": {},
   "outputs": [],
   "source": [
    "#\n",
    "dylan_lyrics = get_lyrics(lyric_urls_dylan, \"Bob Dylan\")"
   ]
  },
  {
   "cell_type": "code",
   "execution_count": null,
   "metadata": {},
   "outputs": [],
   "source": []
  }
 ],
 "metadata": {
  "kernelspec": {
   "display_name": "Python 3",
   "language": "python",
   "name": "python3"
  },
  "language_info": {
   "codemirror_mode": {
    "name": "ipython",
    "version": 3
   },
   "file_extension": ".py",
   "mimetype": "text/x-python",
   "name": "python",
   "nbconvert_exporter": "python",
   "pygments_lexer": "ipython3",
   "version": "3.7.7"
  }
 },
 "nbformat": 4,
 "nbformat_minor": 4
}
