{
 "cells": [
  {
   "cell_type": "markdown",
   "metadata": {},
   "source": [
    "# Project 4: Web scraping and text classification"
   ]
  },
  {
   "cell_type": "markdown",
   "metadata": {},
   "source": [
    "The notebook explains how to create a ML classification model to predict the author of the lyrics scraped from the website https://www.lyrics.com. The notebook was developed as as study project for the Spiced Academy Data Science Bootcamp."
   ]
  },
  {
   "cell_type": "code",
   "execution_count": 1,
   "metadata": {},
   "outputs": [],
   "source": [
    "import requests\n",
    "from bs4 import BeautifulSoup\n",
    "import re\n",
    "import os\n",
    "import csv\n",
    "import pandas as pd\n",
    "import glob\n",
    "import numpy as np\n",
    "from sklearn.model_selection import train_test_split\n",
    "from sklearn.linear_model import LogisticRegression\n",
    "from sklearn.feature_extraction.text import CountVectorizer, TfidfVectorizer\n",
    "from sklearn.naive_bayes import MultinomialNB\n",
    "import nltk\n",
    "from nltk.tokenize import word_tokenize\n",
    "from nltk.corpus import stopwords"
   ]
  },
  {
   "cell_type": "markdown",
   "metadata": {},
   "source": [
    "## Web scraping author 1 (Bob Dylan)"
   ]
  },
  {
   "cell_type": "code",
   "execution_count": 17,
   "metadata": {},
   "outputs": [],
   "source": [
    "#scraping Bob Dylan's songs\n",
    "url_dylan = 'https://www.lyrics.com/artist/Bob-Dylan/4147'"
   ]
  },
  {
   "cell_type": "code",
   "execution_count": 18,
   "metadata": {},
   "outputs": [],
   "source": [
    "response_dylan = requests.get(url_dylan)"
   ]
  },
  {
   "cell_type": "code",
   "execution_count": 19,
   "metadata": {},
   "outputs": [
    {
     "data": {
      "text/plain": [
       "200"
      ]
     },
     "execution_count": 19,
     "metadata": {},
     "output_type": "execute_result"
    }
   ],
   "source": [
    "#checking the status of the request\n",
    "response_dylan.status_code"
   ]
  },
  {
   "cell_type": "code",
   "execution_count": 20,
   "metadata": {},
   "outputs": [],
   "source": [
    "html_dylan = response_dylan.text"
   ]
  },
  {
   "cell_type": "code",
   "execution_count": 21,
   "metadata": {},
   "outputs": [],
   "source": [
    "parsed_html_dylan = BeautifulSoup(html_dylan)"
   ]
  },
  {
   "cell_type": "code",
   "execution_count": 22,
   "metadata": {},
   "outputs": [],
   "source": [
    "links_dylan = parsed_html_dylan.find_all('a')\n"
   ]
  },
  {
   "cell_type": "code",
   "execution_count": 23,
   "metadata": {},
   "outputs": [],
   "source": [
    "# function to format the artist's name as included in the lyrics' links\n",
    "# the name is inputed as a string and the white spaces are used to split the name\n",
    "\n",
    "def format_artist_name (name):\n",
    "    name_parts = name.split()\n",
    "    name_length = len(name_parts)\n",
    "    author_name = []\n",
    "    for x in range (0, name_length):\n",
    "        author_name.append(name_parts[x])\n",
    "    author_str =\"\"\n",
    "    result= \"+\".join(author_name, )\n",
    "    return result"
   ]
  },
  {
   "cell_type": "code",
   "execution_count": 24,
   "metadata": {},
   "outputs": [],
   "source": [
    "dylan = format_artist_name(\"Bob Dylan\")"
   ]
  },
  {
   "cell_type": "code",
   "execution_count": 25,
   "metadata": {},
   "outputs": [],
   "source": [
    "# function to extract the urls for the lyric webpages\n",
    "\n",
    "def get_lyric_url(links, artist):\n",
    "    artist_name = format_artist_name(artist)\n",
    "    \n",
    "    lyric_url_list = []\n",
    "    for link in links:\n",
    "        try:\n",
    "            if artist_name in link.get('href'):\n",
    "                part_url = link.get('href')\n",
    "                lyric_url_list.append(\"https://www.lyrics.com/track/\" + part_url[7:])\n",
    "        except:\n",
    "            continue\n",
    "    \n",
    "    return lyric_url_list\n",
    "    \n",
    "       \n",
    "\n",
    "lyric_urls_dylan = get_lyric_url(links_dylan, \"Bob Dylan\")\n"
   ]
  },
  {
   "cell_type": "code",
   "execution_count": 27,
   "metadata": {},
   "outputs": [],
   "source": [
    "def get_lyrics(lyric_urls, artist):\n",
    "    artist_name = format_artist_name(artist)\n",
    "    current_wd = os.getcwd()\n",
    "    new_d_name = artist_name.lower().replace(\"+\", \"_\")\n",
    "    artist_d = os.mkdir(current_wd+'/'+new_d_name)\n",
    "    \n",
    "    metadata = [[\"song_num\", \"song_title\"]]\n",
    "    for url in lyric_urls:\n",
    "        r = requests.get(url)\n",
    "        html_songpage = r.text\n",
    "        parsed_html_songpage = BeautifulSoup(html_songpage)\n",
    "        try:\n",
    "            song_title = parsed_html_songpage.find_all(\"h1\", attrs={'class': 'lyric-title'})[0].text\n",
    "            song_text = parsed_html_songpage.find_all(\"pre\")[0].text #, attrs={'class': 'lyric-body wselect-cnt'})\n",
    "            filename = re.search(\"\\d+\",url).group()\n",
    "            metadata_song = [filename,song_title]\n",
    "            metadata.append(metadata_song)\n",
    "            path = current_wd + '/'+ new_d_name + '/' + filename+\".txt\"\n",
    "        \n",
    "            with open(path, 'w') as file:\n",
    "                file.write(song_text)\n",
    "        except:\n",
    "            continue\n",
    "    \n",
    "    path_metadata = current_wd + '/'+ new_d_name + '/' + \"metadata\" + \".csv\"\n",
    "    with open(path_metadata, 'w') as csv_file:\n",
    "        csv_file_writer = csv.writer(csv_file)\n",
    "        csv_file_writer.writerows(metadata)\n",
    "        \n",
    "        \n",
    "        \n",
    "        \n",
    "          \n"
   ]
  },
  {
   "cell_type": "code",
   "execution_count": null,
   "metadata": {},
   "outputs": [],
   "source": [
    "#collecting Dylan's song lyrics\n",
    "dylan_lyrics = get_lyrics(lyric_urls_dylan, \"Bob Dylan\")"
   ]
  },
  {
   "cell_type": "markdown",
   "metadata": {},
   "source": [
    "## Web scraping author 2 (Bruce Springsteen)"
   ]
  },
  {
   "cell_type": "code",
   "execution_count": 319,
   "metadata": {},
   "outputs": [
    {
     "ename": "NameError",
     "evalue": "name 'format_artist_name' is not defined",
     "output_type": "error",
     "traceback": [
      "\u001b[0;31m---------------------------------------------------------------------------\u001b[0m",
      "\u001b[0;31mNameError\u001b[0m                                 Traceback (most recent call last)",
      "\u001b[0;32m<ipython-input-319-74eeb208466a>\u001b[0m in \u001b[0;36m<module>\u001b[0;34m\u001b[0m\n\u001b[1;32m      5\u001b[0m \u001b[0mparsed_html_sprin\u001b[0m \u001b[0;34m=\u001b[0m \u001b[0mBeautifulSoup\u001b[0m\u001b[0;34m(\u001b[0m\u001b[0mhtml_sprin\u001b[0m\u001b[0;34m)\u001b[0m\u001b[0;34m\u001b[0m\u001b[0;34m\u001b[0m\u001b[0m\n\u001b[1;32m      6\u001b[0m \u001b[0mlinks_sprin\u001b[0m \u001b[0;34m=\u001b[0m \u001b[0mparsed_html_sprin\u001b[0m\u001b[0;34m.\u001b[0m\u001b[0mfind_all\u001b[0m\u001b[0;34m(\u001b[0m\u001b[0;34m'a'\u001b[0m\u001b[0;34m)\u001b[0m\u001b[0;34m\u001b[0m\u001b[0;34m\u001b[0m\u001b[0m\n\u001b[0;32m----> 7\u001b[0;31m \u001b[0mholiday\u001b[0m \u001b[0;34m=\u001b[0m \u001b[0mformat_artist_name\u001b[0m\u001b[0;34m(\u001b[0m\u001b[0;34m\"Bruce Springsteen\"\u001b[0m\u001b[0;34m)\u001b[0m\u001b[0;34m\u001b[0m\u001b[0;34m\u001b[0m\u001b[0m\n\u001b[0m\u001b[1;32m      8\u001b[0m \u001b[0mlyric_urls_sprin\u001b[0m \u001b[0;34m=\u001b[0m \u001b[0mget_lyric_url\u001b[0m\u001b[0;34m(\u001b[0m\u001b[0mlinks_sprin\u001b[0m\u001b[0;34m,\u001b[0m \u001b[0;34m\"Bruce Springsteen\"\u001b[0m\u001b[0;34m)\u001b[0m\u001b[0;34m\u001b[0m\u001b[0;34m\u001b[0m\u001b[0m\n\u001b[1;32m      9\u001b[0m \u001b[0msprin_lyrics\u001b[0m \u001b[0;34m=\u001b[0m \u001b[0mget_lyrics\u001b[0m\u001b[0;34m(\u001b[0m\u001b[0mlyric_urls_sprin\u001b[0m\u001b[0;34m,\u001b[0m \u001b[0;34m\"Bruce Springsteen\"\u001b[0m\u001b[0;34m)\u001b[0m\u001b[0;34m\u001b[0m\u001b[0;34m\u001b[0m\u001b[0m\n",
      "\u001b[0;31mNameError\u001b[0m: name 'format_artist_name' is not defined"
     ]
    }
   ],
   "source": [
    "#scraping Bruce Springsteen's songs\n",
    "url_sprin = 'https://www.lyrics.com/artist/Bruce-Springsteen/5505'\n",
    "response_sprin = requests.get(url_sprin)\n",
    "html_sprin = response_sprin.text\n",
    "parsed_html_sprin = BeautifulSoup(html_sprin)\n",
    "links_sprin = parsed_html_sprin.find_all('a')\n",
    "holiday = format_artist_name(\"Bruce Springsteen\")\n",
    "lyric_urls_sprin = get_lyric_url(links_sprin, \"Bruce Springsteen\")\n",
    "sprin_lyrics = get_lyrics(lyric_urls_sprin, \"Bruce Springsteen\")"
   ]
  },
  {
   "cell_type": "markdown",
   "metadata": {},
   "source": [
    "## Reading the scraped data"
   ]
  },
  {
   "cell_type": "code",
   "execution_count": 2,
   "metadata": {},
   "outputs": [],
   "source": [
    "# Reading the Bob Dylan's data in a df\n",
    "metadata_path_dylan = os.getcwd() + '/'+ \"bob_dylan\" + '/' + \"metadata.csv\"\n",
    "\n",
    "#Generating a dataframe for the songs metadata\n",
    "df_metadata_dylan = pd.read_csv(metadata_path_dylan)\n",
    "df_metadata_dylan['author']= 'Bob Dylan'\n",
    "\n",
    "#def read_metadata_author(author):\n",
    "    "
   ]
  },
  {
   "cell_type": "code",
   "execution_count": 3,
   "metadata": {},
   "outputs": [
    {
     "name": "stdout",
     "output_type": "stream",
     "text": [
      "song_num       int64\n",
      "song_title    object\n",
      "author        object\n",
      "dtype: object\n"
     ]
    }
   ],
   "source": [
    "print(df_metadata_dylan.dtypes)"
   ]
  },
  {
   "cell_type": "code",
   "execution_count": 4,
   "metadata": {},
   "outputs": [
    {
     "data": {
      "text/html": [
       "<div>\n",
       "<style scoped>\n",
       "    .dataframe tbody tr th:only-of-type {\n",
       "        vertical-align: middle;\n",
       "    }\n",
       "\n",
       "    .dataframe tbody tr th {\n",
       "        vertical-align: top;\n",
       "    }\n",
       "\n",
       "    .dataframe thead th {\n",
       "        text-align: right;\n",
       "    }\n",
       "</style>\n",
       "<table border=\"1\" class=\"dataframe\">\n",
       "  <thead>\n",
       "    <tr style=\"text-align: right;\">\n",
       "      <th></th>\n",
       "      <th>song_num</th>\n",
       "      <th>song_title</th>\n",
       "      <th>author</th>\n",
       "    </tr>\n",
       "  </thead>\n",
       "  <tbody>\n",
       "    <tr>\n",
       "      <th>0</th>\n",
       "      <td>36145301</td>\n",
       "      <td>Buckets of Rain</td>\n",
       "      <td>Bob Dylan</td>\n",
       "    </tr>\n",
       "    <tr>\n",
       "      <th>1</th>\n",
       "      <td>36145307</td>\n",
       "      <td>Idiot Wind</td>\n",
       "      <td>Bob Dylan</td>\n",
       "    </tr>\n",
       "    <tr>\n",
       "      <th>2</th>\n",
       "      <td>36145303</td>\n",
       "      <td>If You See Her, Say Hello</td>\n",
       "      <td>Bob Dylan</td>\n",
       "    </tr>\n",
       "  </tbody>\n",
       "</table>\n",
       "</div>"
      ],
      "text/plain": [
       "   song_num                 song_title     author\n",
       "0  36145301            Buckets of Rain  Bob Dylan\n",
       "1  36145307                 Idiot Wind  Bob Dylan\n",
       "2  36145303  If You See Her, Say Hello  Bob Dylan"
      ]
     },
     "execution_count": 4,
     "metadata": {},
     "output_type": "execute_result"
    }
   ],
   "source": [
    "df_metadata_dylan.head(3)"
   ]
  },
  {
   "cell_type": "code",
   "execution_count": 5,
   "metadata": {},
   "outputs": [
    {
     "name": "stdout",
     "output_type": "stream",
     "text": [
      "song_num        int64\n",
      "song_lyrics    object\n",
      "dtype: object\n"
     ]
    }
   ],
   "source": [
    "txt_files = glob.glob(\"bob_dylan/*.txt\")\n",
    "current_wd = os.getcwd()\n",
    "\n",
    "lyrics_dict_dylan ={ }\n",
    "for file in txt_files:\n",
    "    filename = re.search(r\"\\d+\", file).group()\n",
    "    txt_filename = filename + \".txt\"\n",
    "    with open (os.path.join(current_wd,\"bob_dylan\", txt_filename), 'r+') as f:\n",
    "        lyrics = f.read()\n",
    "        lyrics_dict_dylan.update({filename:lyrics})\n",
    "        \n",
    "df_lyrics_dylan = pd.DataFrame.from_dict(lyrics_dict_dylan, orient='index').reset_index()\n",
    "df_lyrics_dylan.columns =[\"song_num\", \"song_lyrics\"]\n",
    "df_lyrics_dylan['song_num']= df_lyrics_dylan['song_num'].astype(np.int64)\n",
    "df_lyrics_dylan.head(3)\n",
    "print(df_lyrics_dylan.dtypes)\n",
    "\n",
    "\n",
    "\n",
    "#def read_file_content(txt_folder):\n",
    "    \n",
    "    "
   ]
  },
  {
   "cell_type": "code",
   "execution_count": 6,
   "metadata": {},
   "outputs": [
    {
     "name": "stdout",
     "output_type": "stream",
     "text": [
      "(6546, 4)\n"
     ]
    }
   ],
   "source": [
    "df_dylan = df_metadata_dylan.merge(df_lyrics_dylan)\n",
    "\n",
    "df_dylan.head(3)\n",
    "print(df_dylan.shape)"
   ]
  },
  {
   "cell_type": "code",
   "execution_count": 7,
   "metadata": {},
   "outputs": [
    {
     "name": "stdout",
     "output_type": "stream",
     "text": [
      "song_num        int64\n",
      "song_lyrics    object\n",
      "dtype: object\n",
      "(2706, 4)\n"
     ]
    },
    {
     "data": {
      "text/html": [
       "<div>\n",
       "<style scoped>\n",
       "    .dataframe tbody tr th:only-of-type {\n",
       "        vertical-align: middle;\n",
       "    }\n",
       "\n",
       "    .dataframe tbody tr th {\n",
       "        vertical-align: top;\n",
       "    }\n",
       "\n",
       "    .dataframe thead th {\n",
       "        text-align: right;\n",
       "    }\n",
       "</style>\n",
       "<table border=\"1\" class=\"dataframe\">\n",
       "  <thead>\n",
       "    <tr style=\"text-align: right;\">\n",
       "      <th></th>\n",
       "      <th>song_num</th>\n",
       "      <th>song_title</th>\n",
       "      <th>author</th>\n",
       "      <th>song_lyrics</th>\n",
       "    </tr>\n",
       "  </thead>\n",
       "  <tbody>\n",
       "    <tr>\n",
       "      <th>0</th>\n",
       "      <td>36456915</td>\n",
       "      <td>Dancing in the Dark</td>\n",
       "      <td>Bruce Springsteen</td>\n",
       "      <td>I get up in the evenin'\\nAnd I ain't got nothi...</td>\n",
       "    </tr>\n",
       "    <tr>\n",
       "      <th>1</th>\n",
       "      <td>36456910</td>\n",
       "      <td>Badlands</td>\n",
       "      <td>Bruce Springsteen</td>\n",
       "      <td>Lights out tonight\\nTrouble in the heartland\\n...</td>\n",
       "    </tr>\n",
       "    <tr>\n",
       "      <th>2</th>\n",
       "      <td>36456909</td>\n",
       "      <td>Cover Me</td>\n",
       "      <td>Bruce Springsteen</td>\n",
       "      <td>The times are tough now, just getting tougher\\...</td>\n",
       "    </tr>\n",
       "  </tbody>\n",
       "</table>\n",
       "</div>"
      ],
      "text/plain": [
       "   song_num           song_title             author  \\\n",
       "0  36456915  Dancing in the Dark  Bruce Springsteen   \n",
       "1  36456910             Badlands  Bruce Springsteen   \n",
       "2  36456909             Cover Me  Bruce Springsteen   \n",
       "\n",
       "                                         song_lyrics  \n",
       "0  I get up in the evenin'\\nAnd I ain't got nothi...  \n",
       "1  Lights out tonight\\nTrouble in the heartland\\n...  \n",
       "2  The times are tough now, just getting tougher\\...  "
      ]
     },
     "execution_count": 7,
     "metadata": {},
     "output_type": "execute_result"
    }
   ],
   "source": [
    "# Reading the Bruce Springsteen's data in a df\n",
    "metadata_path_sprin = os.getcwd() + '/'+ \"bruce_springsteen\" + '/' + \"metadata.csv\"\n",
    "df_metadata_sprin = pd.read_csv(metadata_path_sprin)\n",
    "df_metadata_sprin['author']= 'Bruce Springsteen'\n",
    "txt_files = glob.glob(\"bruce_springsteen/*.txt\")\n",
    "current_wd = os.getcwd()\n",
    "\n",
    "lyrics_dict_sprin ={ }\n",
    "for file in txt_files:\n",
    "    filename = re.search(r\"\\d+\", file).group()\n",
    "    txt_filename = filename + \".txt\"\n",
    "    with open (os.path.join(current_wd,\"bruce_springsteen\", txt_filename), 'r+') as f:\n",
    "        lyrics = f.read()\n",
    "        lyrics_dict_sprin.update({filename:lyrics})\n",
    "        \n",
    "df_lyrics_sprin = pd.DataFrame.from_dict(lyrics_dict_sprin, orient='index').reset_index()\n",
    "df_lyrics_sprin.columns =[\"song_num\", \"song_lyrics\"]\n",
    "df_lyrics_sprin['song_num']= df_lyrics_sprin['song_num'].astype(np.int64)\n",
    "df_lyrics_sprin.head(3)\n",
    "\n",
    "print(df_lyrics_sprin.dtypes)\n",
    "df_sprin = df_metadata_sprin.merge(df_lyrics_sprin)\n",
    "print(df_sprin.shape)\n",
    "df_sprin.head(3\n",
    "              )\n"
   ]
  },
  {
   "cell_type": "code",
   "execution_count": 8,
   "metadata": {},
   "outputs": [],
   "source": [
    "# Joining the two authors dataframes\n",
    "df = pd.concat([df_dylan, df_sprin])"
   ]
  },
  {
   "cell_type": "code",
   "execution_count": 9,
   "metadata": {},
   "outputs": [],
   "source": [
    "X_train, X_test, y_train, y_test = train_test_split(df.drop([\"author\"], axis=1), df[\"author\"],\n",
    "                                                    test_size=0.2, random_state=42)"
   ]
  },
  {
   "cell_type": "code",
   "execution_count": 10,
   "metadata": {},
   "outputs": [
    {
     "data": {
      "text/html": [
       "<div>\n",
       "<style scoped>\n",
       "    .dataframe tbody tr th:only-of-type {\n",
       "        vertical-align: middle;\n",
       "    }\n",
       "\n",
       "    .dataframe tbody tr th {\n",
       "        vertical-align: top;\n",
       "    }\n",
       "\n",
       "    .dataframe thead th {\n",
       "        text-align: right;\n",
       "    }\n",
       "</style>\n",
       "<table border=\"1\" class=\"dataframe\">\n",
       "  <thead>\n",
       "    <tr style=\"text-align: right;\">\n",
       "      <th></th>\n",
       "      <th>song_num</th>\n",
       "      <th>song_title</th>\n",
       "      <th>song_lyrics</th>\n",
       "    </tr>\n",
       "  </thead>\n",
       "  <tbody>\n",
       "    <tr>\n",
       "      <th>4756</th>\n",
       "      <td>22184408</td>\n",
       "      <td>Jokerman</td>\n",
       "      <td>Standing on the waters casting your bread\\nWhi...</td>\n",
       "    </tr>\n",
       "    <tr>\n",
       "      <th>2302</th>\n",
       "      <td>21226112</td>\n",
       "      <td>The Times They Are a-Changin'</td>\n",
       "      <td>Come gather 'round people\\nWherever you roam\\n...</td>\n",
       "    </tr>\n",
       "    <tr>\n",
       "      <th>5278</th>\n",
       "      <td>772620</td>\n",
       "      <td>Emotionally Yours</td>\n",
       "      <td>Come baby, find me, come baby, remind me of wh...</td>\n",
       "    </tr>\n",
       "  </tbody>\n",
       "</table>\n",
       "</div>"
      ],
      "text/plain": [
       "      song_num                     song_title  \\\n",
       "4756  22184408                       Jokerman   \n",
       "2302  21226112  The Times They Are a-Changin'   \n",
       "5278    772620              Emotionally Yours   \n",
       "\n",
       "                                            song_lyrics  \n",
       "4756  Standing on the waters casting your bread\\nWhi...  \n",
       "2302  Come gather 'round people\\nWherever you roam\\n...  \n",
       "5278  Come baby, find me, come baby, remind me of wh...  "
      ]
     },
     "execution_count": 10,
     "metadata": {},
     "output_type": "execute_result"
    }
   ],
   "source": [
    "X_train.head(3)"
   ]
  },
  {
   "cell_type": "code",
   "execution_count": 11,
   "metadata": {},
   "outputs": [],
   "source": [
    "X_train['cleaned_lyric'] = X_train['song_lyrics'].str.replace(\"\\d+|\\n|[.,:;!?]|\\s\", \" \")"
   ]
  },
  {
   "cell_type": "code",
   "execution_count": 12,
   "metadata": {},
   "outputs": [],
   "source": [
    "text_list = X_train['cleaned_lyric'].tolist()"
   ]
  },
  {
   "cell_type": "code",
   "execution_count": 13,
   "metadata": {},
   "outputs": [
    {
     "name": "stderr",
     "output_type": "stream",
     "text": [
      "[nltk_data] Downloading package punkt to\n",
      "[nltk_data]     /Users/giudittaparolini/nltk_data...\n",
      "[nltk_data]   Package punkt is already up-to-date!\n"
     ]
    },
    {
     "data": {
      "text/plain": [
       "True"
      ]
     },
     "execution_count": 13,
     "metadata": {},
     "output_type": "execute_result"
    }
   ],
   "source": [
    "nltk.download('punkt')"
   ]
  },
  {
   "cell_type": "code",
   "execution_count": 14,
   "metadata": {},
   "outputs": [
    {
     "name": "stderr",
     "output_type": "stream",
     "text": [
      "[nltk_data] Downloading package stopwords to\n",
      "[nltk_data]     /Users/giudittaparolini/nltk_data...\n",
      "[nltk_data]   Package stopwords is already up-to-date!\n"
     ]
    },
    {
     "data": {
      "text/plain": [
       "True"
      ]
     },
     "execution_count": 14,
     "metadata": {},
     "output_type": "execute_result"
    }
   ],
   "source": [
    "nltk.download('stopwords')"
   ]
  },
  {
   "cell_type": "code",
   "execution_count": 15,
   "metadata": {},
   "outputs": [],
   "source": [
    "nltk_stopwords = stopwords.words(\"english\")"
   ]
  },
  {
   "cell_type": "code",
   "execution_count": 16,
   "metadata": {},
   "outputs": [],
   "source": [
    "my_stopwords = nltk_stopwords+['aa']"
   ]
  },
  {
   "cell_type": "code",
   "execution_count": 17,
   "metadata": {},
   "outputs": [],
   "source": [
    "tokens_list = [word_tokenize(text) for text in text_list]"
   ]
  },
  {
   "cell_type": "code",
   "execution_count": 18,
   "metadata": {},
   "outputs": [],
   "source": [
    "cleaned_tokens = []\n",
    "for text in tokens_list:\n",
    "    cleaned_tokens_subl = []\n",
    "    for token in text:\n",
    "        if (token not in my_stopwords) and (len(token)>3):\n",
    "            cleaned_tokens_subl.append(token)\n",
    "    cleaned_tokens.append(cleaned_tokens_subl)\n",
    "        "
   ]
  },
  {
   "cell_type": "code",
   "execution_count": 19,
   "metadata": {},
   "outputs": [],
   "source": [
    "cleaned_tokens_str_format = []\n",
    "for element in cleaned_tokens:\n",
    "    my_str = \" \".join(map(str, element))\n",
    "    cleaned_tokens_str_format.append(my_str)\n",
    "\n"
   ]
  },
  {
   "cell_type": "code",
   "execution_count": 20,
   "metadata": {},
   "outputs": [],
   "source": [
    "X_train['cleaned_lyric'] = X_train['cleaned_lyric'].astype(\"string\")"
   ]
  },
  {
   "cell_type": "code",
   "execution_count": 21,
   "metadata": {},
   "outputs": [
    {
     "data": {
      "text/plain": [
       "song_num          int64\n",
       "song_title       object\n",
       "song_lyrics      object\n",
       "cleaned_lyric    string\n",
       "dtype: object"
      ]
     },
     "execution_count": 21,
     "metadata": {},
     "output_type": "execute_result"
    }
   ],
   "source": [
    "X_train.dtypes"
   ]
  },
  {
   "cell_type": "code",
   "execution_count": 22,
   "metadata": {},
   "outputs": [
    {
     "data": {
      "text/plain": [
       "4756    Bob Dylan\n",
       "2302    Bob Dylan\n",
       "5278    Bob Dylan\n",
       "Name: author, dtype: object"
      ]
     },
     "execution_count": 22,
     "metadata": {},
     "output_type": "execute_result"
    }
   ],
   "source": [
    "y_train.head(3)"
   ]
  },
  {
   "cell_type": "code",
   "execution_count": 23,
   "metadata": {},
   "outputs": [],
   "source": [
    "list_cleaned_lyrics = X_train['cleaned_lyric'].tolist()"
   ]
  },
  {
   "cell_type": "code",
   "execution_count": 24,
   "metadata": {},
   "outputs": [],
   "source": [
    "\n",
    "labels = y_train.tolist()"
   ]
  },
  {
   "cell_type": "code",
   "execution_count": 25,
   "metadata": {},
   "outputs": [],
   "source": [
    "vect = TfidfVectorizer()\n",
    "X =  vect.fit_transform(list_cleaned_lyrics)"
   ]
  },
  {
   "cell_type": "code",
   "execution_count": 26,
   "metadata": {},
   "outputs": [
    {
     "data": {
      "text/plain": [
       "(7401, 11192)"
      ]
     },
     "execution_count": 26,
     "metadata": {},
     "output_type": "execute_result"
    }
   ],
   "source": [
    "X.shape"
   ]
  },
  {
   "cell_type": "code",
   "execution_count": 27,
   "metadata": {},
   "outputs": [
    {
     "data": {
      "text/html": [
       "<div>\n",
       "<style scoped>\n",
       "    .dataframe tbody tr th:only-of-type {\n",
       "        vertical-align: middle;\n",
       "    }\n",
       "\n",
       "    .dataframe tbody tr th {\n",
       "        vertical-align: top;\n",
       "    }\n",
       "\n",
       "    .dataframe thead th {\n",
       "        text-align: right;\n",
       "    }\n",
       "</style>\n",
       "<table border=\"1\" class=\"dataframe\">\n",
       "  <thead>\n",
       "    <tr style=\"text-align: right;\">\n",
       "      <th></th>\n",
       "      <th>0</th>\n",
       "      <th>1</th>\n",
       "      <th>2</th>\n",
       "      <th>3</th>\n",
       "      <th>4</th>\n",
       "      <th>5</th>\n",
       "      <th>6</th>\n",
       "      <th>7</th>\n",
       "      <th>8</th>\n",
       "      <th>9</th>\n",
       "      <th>...</th>\n",
       "      <th>11182</th>\n",
       "      <th>11183</th>\n",
       "      <th>11184</th>\n",
       "      <th>11185</th>\n",
       "      <th>11186</th>\n",
       "      <th>11187</th>\n",
       "      <th>11188</th>\n",
       "      <th>11189</th>\n",
       "      <th>11190</th>\n",
       "      <th>11191</th>\n",
       "    </tr>\n",
       "  </thead>\n",
       "  <tbody>\n",
       "    <tr>\n",
       "      <th>Bob Dylan</th>\n",
       "      <td>0.0</td>\n",
       "      <td>0.0</td>\n",
       "      <td>0.0</td>\n",
       "      <td>0.0</td>\n",
       "      <td>0.0</td>\n",
       "      <td>0.0</td>\n",
       "      <td>0.0</td>\n",
       "      <td>0.0</td>\n",
       "      <td>0.0</td>\n",
       "      <td>0.0</td>\n",
       "      <td>...</td>\n",
       "      <td>0.0</td>\n",
       "      <td>0.0</td>\n",
       "      <td>0.0</td>\n",
       "      <td>0.0</td>\n",
       "      <td>0.0</td>\n",
       "      <td>0.0</td>\n",
       "      <td>0.0</td>\n",
       "      <td>0.0</td>\n",
       "      <td>0.0</td>\n",
       "      <td>0.0</td>\n",
       "    </tr>\n",
       "    <tr>\n",
       "      <th>Bob Dylan</th>\n",
       "      <td>0.0</td>\n",
       "      <td>0.0</td>\n",
       "      <td>0.0</td>\n",
       "      <td>0.0</td>\n",
       "      <td>0.0</td>\n",
       "      <td>0.0</td>\n",
       "      <td>0.0</td>\n",
       "      <td>0.0</td>\n",
       "      <td>0.0</td>\n",
       "      <td>0.0</td>\n",
       "      <td>...</td>\n",
       "      <td>0.0</td>\n",
       "      <td>0.0</td>\n",
       "      <td>0.0</td>\n",
       "      <td>0.0</td>\n",
       "      <td>0.0</td>\n",
       "      <td>0.0</td>\n",
       "      <td>0.0</td>\n",
       "      <td>0.0</td>\n",
       "      <td>0.0</td>\n",
       "      <td>0.0</td>\n",
       "    </tr>\n",
       "    <tr>\n",
       "      <th>Bob Dylan</th>\n",
       "      <td>0.0</td>\n",
       "      <td>0.0</td>\n",
       "      <td>0.0</td>\n",
       "      <td>0.0</td>\n",
       "      <td>0.0</td>\n",
       "      <td>0.0</td>\n",
       "      <td>0.0</td>\n",
       "      <td>0.0</td>\n",
       "      <td>0.0</td>\n",
       "      <td>0.0</td>\n",
       "      <td>...</td>\n",
       "      <td>0.0</td>\n",
       "      <td>0.0</td>\n",
       "      <td>0.0</td>\n",
       "      <td>0.0</td>\n",
       "      <td>0.0</td>\n",
       "      <td>0.0</td>\n",
       "      <td>0.0</td>\n",
       "      <td>0.0</td>\n",
       "      <td>0.0</td>\n",
       "      <td>0.0</td>\n",
       "    </tr>\n",
       "    <tr>\n",
       "      <th>Bob Dylan</th>\n",
       "      <td>0.0</td>\n",
       "      <td>0.0</td>\n",
       "      <td>0.0</td>\n",
       "      <td>0.0</td>\n",
       "      <td>0.0</td>\n",
       "      <td>0.0</td>\n",
       "      <td>0.0</td>\n",
       "      <td>0.0</td>\n",
       "      <td>0.0</td>\n",
       "      <td>0.0</td>\n",
       "      <td>...</td>\n",
       "      <td>0.0</td>\n",
       "      <td>0.0</td>\n",
       "      <td>0.0</td>\n",
       "      <td>0.0</td>\n",
       "      <td>0.0</td>\n",
       "      <td>0.0</td>\n",
       "      <td>0.0</td>\n",
       "      <td>0.0</td>\n",
       "      <td>0.0</td>\n",
       "      <td>0.0</td>\n",
       "    </tr>\n",
       "    <tr>\n",
       "      <th>Bob Dylan</th>\n",
       "      <td>0.0</td>\n",
       "      <td>0.0</td>\n",
       "      <td>0.0</td>\n",
       "      <td>0.0</td>\n",
       "      <td>0.0</td>\n",
       "      <td>0.0</td>\n",
       "      <td>0.0</td>\n",
       "      <td>0.0</td>\n",
       "      <td>0.0</td>\n",
       "      <td>0.0</td>\n",
       "      <td>...</td>\n",
       "      <td>0.0</td>\n",
       "      <td>0.0</td>\n",
       "      <td>0.0</td>\n",
       "      <td>0.0</td>\n",
       "      <td>0.0</td>\n",
       "      <td>0.0</td>\n",
       "      <td>0.0</td>\n",
       "      <td>0.0</td>\n",
       "      <td>0.0</td>\n",
       "      <td>0.0</td>\n",
       "    </tr>\n",
       "    <tr>\n",
       "      <th>...</th>\n",
       "      <td>...</td>\n",
       "      <td>...</td>\n",
       "      <td>...</td>\n",
       "      <td>...</td>\n",
       "      <td>...</td>\n",
       "      <td>...</td>\n",
       "      <td>...</td>\n",
       "      <td>...</td>\n",
       "      <td>...</td>\n",
       "      <td>...</td>\n",
       "      <td>...</td>\n",
       "      <td>...</td>\n",
       "      <td>...</td>\n",
       "      <td>...</td>\n",
       "      <td>...</td>\n",
       "      <td>...</td>\n",
       "      <td>...</td>\n",
       "      <td>...</td>\n",
       "      <td>...</td>\n",
       "      <td>...</td>\n",
       "      <td>...</td>\n",
       "    </tr>\n",
       "    <tr>\n",
       "      <th>Bob Dylan</th>\n",
       "      <td>0.0</td>\n",
       "      <td>0.0</td>\n",
       "      <td>0.0</td>\n",
       "      <td>0.0</td>\n",
       "      <td>0.0</td>\n",
       "      <td>0.0</td>\n",
       "      <td>0.0</td>\n",
       "      <td>0.0</td>\n",
       "      <td>0.0</td>\n",
       "      <td>0.0</td>\n",
       "      <td>...</td>\n",
       "      <td>0.0</td>\n",
       "      <td>0.0</td>\n",
       "      <td>0.0</td>\n",
       "      <td>0.0</td>\n",
       "      <td>0.0</td>\n",
       "      <td>0.0</td>\n",
       "      <td>0.0</td>\n",
       "      <td>0.0</td>\n",
       "      <td>0.0</td>\n",
       "      <td>0.0</td>\n",
       "    </tr>\n",
       "    <tr>\n",
       "      <th>Bob Dylan</th>\n",
       "      <td>0.0</td>\n",
       "      <td>0.0</td>\n",
       "      <td>0.0</td>\n",
       "      <td>0.0</td>\n",
       "      <td>0.0</td>\n",
       "      <td>0.0</td>\n",
       "      <td>0.0</td>\n",
       "      <td>0.0</td>\n",
       "      <td>0.0</td>\n",
       "      <td>0.0</td>\n",
       "      <td>...</td>\n",
       "      <td>0.0</td>\n",
       "      <td>0.0</td>\n",
       "      <td>0.0</td>\n",
       "      <td>0.0</td>\n",
       "      <td>0.0</td>\n",
       "      <td>0.0</td>\n",
       "      <td>0.0</td>\n",
       "      <td>0.0</td>\n",
       "      <td>0.0</td>\n",
       "      <td>0.0</td>\n",
       "    </tr>\n",
       "    <tr>\n",
       "      <th>Bob Dylan</th>\n",
       "      <td>0.0</td>\n",
       "      <td>0.0</td>\n",
       "      <td>0.0</td>\n",
       "      <td>0.0</td>\n",
       "      <td>0.0</td>\n",
       "      <td>0.0</td>\n",
       "      <td>0.0</td>\n",
       "      <td>0.0</td>\n",
       "      <td>0.0</td>\n",
       "      <td>0.0</td>\n",
       "      <td>...</td>\n",
       "      <td>0.0</td>\n",
       "      <td>0.0</td>\n",
       "      <td>0.0</td>\n",
       "      <td>0.0</td>\n",
       "      <td>0.0</td>\n",
       "      <td>0.0</td>\n",
       "      <td>0.0</td>\n",
       "      <td>0.0</td>\n",
       "      <td>0.0</td>\n",
       "      <td>0.0</td>\n",
       "    </tr>\n",
       "    <tr>\n",
       "      <th>Bob Dylan</th>\n",
       "      <td>0.0</td>\n",
       "      <td>0.0</td>\n",
       "      <td>0.0</td>\n",
       "      <td>0.0</td>\n",
       "      <td>0.0</td>\n",
       "      <td>0.0</td>\n",
       "      <td>0.0</td>\n",
       "      <td>0.0</td>\n",
       "      <td>0.0</td>\n",
       "      <td>0.0</td>\n",
       "      <td>...</td>\n",
       "      <td>0.0</td>\n",
       "      <td>0.0</td>\n",
       "      <td>0.0</td>\n",
       "      <td>0.0</td>\n",
       "      <td>0.0</td>\n",
       "      <td>0.0</td>\n",
       "      <td>0.0</td>\n",
       "      <td>0.0</td>\n",
       "      <td>0.0</td>\n",
       "      <td>0.0</td>\n",
       "    </tr>\n",
       "    <tr>\n",
       "      <th>Bruce Springsteen</th>\n",
       "      <td>0.0</td>\n",
       "      <td>0.0</td>\n",
       "      <td>0.0</td>\n",
       "      <td>0.0</td>\n",
       "      <td>0.0</td>\n",
       "      <td>0.0</td>\n",
       "      <td>0.0</td>\n",
       "      <td>0.0</td>\n",
       "      <td>0.0</td>\n",
       "      <td>0.0</td>\n",
       "      <td>...</td>\n",
       "      <td>0.0</td>\n",
       "      <td>0.0</td>\n",
       "      <td>0.0</td>\n",
       "      <td>0.0</td>\n",
       "      <td>0.0</td>\n",
       "      <td>0.0</td>\n",
       "      <td>0.0</td>\n",
       "      <td>0.0</td>\n",
       "      <td>0.0</td>\n",
       "      <td>0.0</td>\n",
       "    </tr>\n",
       "  </tbody>\n",
       "</table>\n",
       "<p>7401 rows × 11192 columns</p>\n",
       "</div>"
      ],
      "text/plain": [
       "                   0      1      2      3      4      5      6      7      \\\n",
       "Bob Dylan            0.0    0.0    0.0    0.0    0.0    0.0    0.0    0.0   \n",
       "Bob Dylan            0.0    0.0    0.0    0.0    0.0    0.0    0.0    0.0   \n",
       "Bob Dylan            0.0    0.0    0.0    0.0    0.0    0.0    0.0    0.0   \n",
       "Bob Dylan            0.0    0.0    0.0    0.0    0.0    0.0    0.0    0.0   \n",
       "Bob Dylan            0.0    0.0    0.0    0.0    0.0    0.0    0.0    0.0   \n",
       "...                  ...    ...    ...    ...    ...    ...    ...    ...   \n",
       "Bob Dylan            0.0    0.0    0.0    0.0    0.0    0.0    0.0    0.0   \n",
       "Bob Dylan            0.0    0.0    0.0    0.0    0.0    0.0    0.0    0.0   \n",
       "Bob Dylan            0.0    0.0    0.0    0.0    0.0    0.0    0.0    0.0   \n",
       "Bob Dylan            0.0    0.0    0.0    0.0    0.0    0.0    0.0    0.0   \n",
       "Bruce Springsteen    0.0    0.0    0.0    0.0    0.0    0.0    0.0    0.0   \n",
       "\n",
       "                   8      9      ...  11182  11183  11184  11185  11186  \\\n",
       "Bob Dylan            0.0    0.0  ...    0.0    0.0    0.0    0.0    0.0   \n",
       "Bob Dylan            0.0    0.0  ...    0.0    0.0    0.0    0.0    0.0   \n",
       "Bob Dylan            0.0    0.0  ...    0.0    0.0    0.0    0.0    0.0   \n",
       "Bob Dylan            0.0    0.0  ...    0.0    0.0    0.0    0.0    0.0   \n",
       "Bob Dylan            0.0    0.0  ...    0.0    0.0    0.0    0.0    0.0   \n",
       "...                  ...    ...  ...    ...    ...    ...    ...    ...   \n",
       "Bob Dylan            0.0    0.0  ...    0.0    0.0    0.0    0.0    0.0   \n",
       "Bob Dylan            0.0    0.0  ...    0.0    0.0    0.0    0.0    0.0   \n",
       "Bob Dylan            0.0    0.0  ...    0.0    0.0    0.0    0.0    0.0   \n",
       "Bob Dylan            0.0    0.0  ...    0.0    0.0    0.0    0.0    0.0   \n",
       "Bruce Springsteen    0.0    0.0  ...    0.0    0.0    0.0    0.0    0.0   \n",
       "\n",
       "                   11187  11188  11189  11190  11191  \n",
       "Bob Dylan            0.0    0.0    0.0    0.0    0.0  \n",
       "Bob Dylan            0.0    0.0    0.0    0.0    0.0  \n",
       "Bob Dylan            0.0    0.0    0.0    0.0    0.0  \n",
       "Bob Dylan            0.0    0.0    0.0    0.0    0.0  \n",
       "Bob Dylan            0.0    0.0    0.0    0.0    0.0  \n",
       "...                  ...    ...    ...    ...    ...  \n",
       "Bob Dylan            0.0    0.0    0.0    0.0    0.0  \n",
       "Bob Dylan            0.0    0.0    0.0    0.0    0.0  \n",
       "Bob Dylan            0.0    0.0    0.0    0.0    0.0  \n",
       "Bob Dylan            0.0    0.0    0.0    0.0    0.0  \n",
       "Bruce Springsteen    0.0    0.0    0.0    0.0    0.0  \n",
       "\n",
       "[7401 rows x 11192 columns]"
      ]
     },
     "execution_count": 27,
     "metadata": {},
     "output_type": "execute_result"
    }
   ],
   "source": [
    "pd.DataFrame(X.todense(), index=labels)"
   ]
  },
  {
   "cell_type": "markdown",
   "metadata": {},
   "source": [
    "## Fitting a logistic regression model"
   ]
  },
  {
   "cell_type": "code",
   "execution_count": 77,
   "metadata": {},
   "outputs": [],
   "source": [
    "model_lr = LogisticRegression().fit(X, y_train)"
   ]
  },
  {
   "cell_type": "code",
   "execution_count": 78,
   "metadata": {},
   "outputs": [
    {
     "data": {
      "text/plain": [
       "0.9847317930009458"
      ]
     },
     "execution_count": 78,
     "metadata": {},
     "output_type": "execute_result"
    }
   ],
   "source": [
    "model_lr.score(X, y_train)"
   ]
  },
  {
   "cell_type": "code",
   "execution_count": 79,
   "metadata": {},
   "outputs": [],
   "source": [
    "X_test['cleaned_lyric'] = X_test['song_lyrics'].str.replace(\"\\d+|\\n|[.,:;!?]|\\s\", \" \")"
   ]
  },
  {
   "cell_type": "code",
   "execution_count": 80,
   "metadata": {},
   "outputs": [],
   "source": [
    "text_list_test = X_test['cleaned_lyric'].tolist()"
   ]
  },
  {
   "cell_type": "code",
   "execution_count": 81,
   "metadata": {},
   "outputs": [],
   "source": [
    "tokens_list_test = [word_tokenize(text) for text in text_list_test]"
   ]
  },
  {
   "cell_type": "code",
   "execution_count": 82,
   "metadata": {},
   "outputs": [],
   "source": [
    "cleaned_tokens_test = []\n",
    "for text in tokens_list_test:\n",
    "    cleaned_tokens_subl = []\n",
    "    for token in text:\n",
    "        if (token not in my_stopwords) and (len(token)>3):\n",
    "            cleaned_tokens_subl.append(token)\n",
    "    cleaned_tokens_test.append(cleaned_tokens_subl)"
   ]
  },
  {
   "cell_type": "code",
   "execution_count": 83,
   "metadata": {},
   "outputs": [],
   "source": [
    "cleaned_tokens_str_format_test = []\n",
    "for element in cleaned_tokens_test:\n",
    "    my_str = \" \".join(map(str, element))\n",
    "    cleaned_tokens_str_format_test.append(my_str)"
   ]
  },
  {
   "cell_type": "code",
   "execution_count": 84,
   "metadata": {},
   "outputs": [],
   "source": [
    "X_test['cleaned_lyric'] = pd.Series(data=cleaned_tokens_str_format_test, index = X_test.index)"
   ]
  },
  {
   "cell_type": "code",
   "execution_count": 85,
   "metadata": {},
   "outputs": [],
   "source": [
    "list_cleaned_lyrics_test = X_test['cleaned_lyric'].tolist()"
   ]
  },
  {
   "cell_type": "code",
   "execution_count": 86,
   "metadata": {},
   "outputs": [],
   "source": [
    "X_test_transformed = vect.transform(list_cleaned_lyrics_test)"
   ]
  },
  {
   "cell_type": "code",
   "execution_count": 87,
   "metadata": {},
   "outputs": [
    {
     "data": {
      "text/plain": [
       "(1851, 11192)"
      ]
     },
     "execution_count": 87,
     "metadata": {},
     "output_type": "execute_result"
    }
   ],
   "source": [
    "X_test_transformed.shape"
   ]
  },
  {
   "cell_type": "code",
   "execution_count": 88,
   "metadata": {},
   "outputs": [],
   "source": [
    "ypred = model_lr.predict(X_test_transformed)    "
   ]
  },
  {
   "cell_type": "code",
   "execution_count": 89,
   "metadata": {},
   "outputs": [
    {
     "data": {
      "text/plain": [
       "(1851,)"
      ]
     },
     "execution_count": 89,
     "metadata": {},
     "output_type": "execute_result"
    }
   ],
   "source": [
    "ypred.shape"
   ]
  },
  {
   "cell_type": "code",
   "execution_count": 90,
   "metadata": {},
   "outputs": [
    {
     "data": {
      "text/plain": [
       "0.9567801188546732"
      ]
     },
     "execution_count": 90,
     "metadata": {},
     "output_type": "execute_result"
    }
   ],
   "source": [
    "model_lr.score(X_test_transformed,y_test)"
   ]
  },
  {
   "cell_type": "code",
   "execution_count": 91,
   "metadata": {},
   "outputs": [],
   "source": [
    "probs = model_lr.predict_proba(X_test_transformed)  \n",
    "\n"
   ]
  },
  {
   "cell_type": "code",
   "execution_count": 92,
   "metadata": {},
   "outputs": [],
   "source": [
    "df_probs = pd.DataFrame(probs)"
   ]
  },
  {
   "cell_type": "code",
   "execution_count": 93,
   "metadata": {},
   "outputs": [
    {
     "data": {
      "text/plain": [
       "numpy.ndarray"
      ]
     },
     "execution_count": 93,
     "metadata": {},
     "output_type": "execute_result"
    }
   ],
   "source": [
    "type(ypred)"
   ]
  },
  {
   "cell_type": "code",
   "execution_count": 94,
   "metadata": {},
   "outputs": [],
   "source": [
    "ser_ypred = pd.Series(ypred) "
   ]
  },
  {
   "cell_type": "code",
   "execution_count": 95,
   "metadata": {},
   "outputs": [],
   "source": [
    "pred_df = df_probs.merge(ser_ypred.rename('ypred'), left_index=True, right_index=True)"
   ]
  },
  {
   "cell_type": "code",
   "execution_count": 96,
   "metadata": {},
   "outputs": [
    {
     "data": {
      "text/html": [
       "<div>\n",
       "<style scoped>\n",
       "    .dataframe tbody tr th:only-of-type {\n",
       "        vertical-align: middle;\n",
       "    }\n",
       "\n",
       "    .dataframe tbody tr th {\n",
       "        vertical-align: top;\n",
       "    }\n",
       "\n",
       "    .dataframe thead th {\n",
       "        text-align: right;\n",
       "    }\n",
       "</style>\n",
       "<table border=\"1\" class=\"dataframe\">\n",
       "  <thead>\n",
       "    <tr style=\"text-align: right;\">\n",
       "      <th></th>\n",
       "      <th>0</th>\n",
       "      <th>1</th>\n",
       "      <th>ypred</th>\n",
       "    </tr>\n",
       "  </thead>\n",
       "  <tbody>\n",
       "    <tr>\n",
       "      <th>0</th>\n",
       "      <td>0.919401</td>\n",
       "      <td>0.080599</td>\n",
       "      <td>Bob Dylan</td>\n",
       "    </tr>\n",
       "    <tr>\n",
       "      <th>1</th>\n",
       "      <td>0.869043</td>\n",
       "      <td>0.130957</td>\n",
       "      <td>Bob Dylan</td>\n",
       "    </tr>\n",
       "    <tr>\n",
       "      <th>2</th>\n",
       "      <td>0.141812</td>\n",
       "      <td>0.858188</td>\n",
       "      <td>Bruce Springsteen</td>\n",
       "    </tr>\n",
       "    <tr>\n",
       "      <th>3</th>\n",
       "      <td>0.029374</td>\n",
       "      <td>0.970626</td>\n",
       "      <td>Bruce Springsteen</td>\n",
       "    </tr>\n",
       "    <tr>\n",
       "      <th>4</th>\n",
       "      <td>0.828357</td>\n",
       "      <td>0.171643</td>\n",
       "      <td>Bob Dylan</td>\n",
       "    </tr>\n",
       "    <tr>\n",
       "      <th>...</th>\n",
       "      <td>...</td>\n",
       "      <td>...</td>\n",
       "      <td>...</td>\n",
       "    </tr>\n",
       "    <tr>\n",
       "      <th>1846</th>\n",
       "      <td>0.858517</td>\n",
       "      <td>0.141483</td>\n",
       "      <td>Bob Dylan</td>\n",
       "    </tr>\n",
       "    <tr>\n",
       "      <th>1847</th>\n",
       "      <td>0.829871</td>\n",
       "      <td>0.170129</td>\n",
       "      <td>Bob Dylan</td>\n",
       "    </tr>\n",
       "    <tr>\n",
       "      <th>1848</th>\n",
       "      <td>0.871338</td>\n",
       "      <td>0.128662</td>\n",
       "      <td>Bob Dylan</td>\n",
       "    </tr>\n",
       "    <tr>\n",
       "      <th>1849</th>\n",
       "      <td>0.187011</td>\n",
       "      <td>0.812989</td>\n",
       "      <td>Bruce Springsteen</td>\n",
       "    </tr>\n",
       "    <tr>\n",
       "      <th>1850</th>\n",
       "      <td>0.653346</td>\n",
       "      <td>0.346654</td>\n",
       "      <td>Bob Dylan</td>\n",
       "    </tr>\n",
       "  </tbody>\n",
       "</table>\n",
       "<p>1851 rows × 3 columns</p>\n",
       "</div>"
      ],
      "text/plain": [
       "             0         1              ypred\n",
       "0     0.919401  0.080599          Bob Dylan\n",
       "1     0.869043  0.130957          Bob Dylan\n",
       "2     0.141812  0.858188  Bruce Springsteen\n",
       "3     0.029374  0.970626  Bruce Springsteen\n",
       "4     0.828357  0.171643          Bob Dylan\n",
       "...        ...       ...                ...\n",
       "1846  0.858517  0.141483          Bob Dylan\n",
       "1847  0.829871  0.170129          Bob Dylan\n",
       "1848  0.871338  0.128662          Bob Dylan\n",
       "1849  0.187011  0.812989  Bruce Springsteen\n",
       "1850  0.653346  0.346654          Bob Dylan\n",
       "\n",
       "[1851 rows x 3 columns]"
      ]
     },
     "execution_count": 96,
     "metadata": {},
     "output_type": "execute_result"
    }
   ],
   "source": [
    "pred_df"
   ]
  },
  {
   "cell_type": "code",
   "execution_count": 97,
   "metadata": {},
   "outputs": [],
   "source": [
    "y_test.index = pred_df.index"
   ]
  },
  {
   "cell_type": "code",
   "execution_count": 98,
   "metadata": {},
   "outputs": [],
   "source": [
    "pred_df['y_true'] = y_test"
   ]
  },
  {
   "cell_type": "code",
   "execution_count": 99,
   "metadata": {},
   "outputs": [
    {
     "data": {
      "text/html": [
       "<div>\n",
       "<style scoped>\n",
       "    .dataframe tbody tr th:only-of-type {\n",
       "        vertical-align: middle;\n",
       "    }\n",
       "\n",
       "    .dataframe tbody tr th {\n",
       "        vertical-align: top;\n",
       "    }\n",
       "\n",
       "    .dataframe thead th {\n",
       "        text-align: right;\n",
       "    }\n",
       "</style>\n",
       "<table border=\"1\" class=\"dataframe\">\n",
       "  <thead>\n",
       "    <tr style=\"text-align: right;\">\n",
       "      <th></th>\n",
       "      <th>0</th>\n",
       "      <th>1</th>\n",
       "      <th>ypred</th>\n",
       "      <th>y_true</th>\n",
       "    </tr>\n",
       "  </thead>\n",
       "  <tbody>\n",
       "    <tr>\n",
       "      <th>0</th>\n",
       "      <td>0.919401</td>\n",
       "      <td>0.080599</td>\n",
       "      <td>Bob Dylan</td>\n",
       "      <td>Bob Dylan</td>\n",
       "    </tr>\n",
       "    <tr>\n",
       "      <th>1</th>\n",
       "      <td>0.869043</td>\n",
       "      <td>0.130957</td>\n",
       "      <td>Bob Dylan</td>\n",
       "      <td>Bob Dylan</td>\n",
       "    </tr>\n",
       "    <tr>\n",
       "      <th>2</th>\n",
       "      <td>0.141812</td>\n",
       "      <td>0.858188</td>\n",
       "      <td>Bruce Springsteen</td>\n",
       "      <td>Bruce Springsteen</td>\n",
       "    </tr>\n",
       "    <tr>\n",
       "      <th>3</th>\n",
       "      <td>0.029374</td>\n",
       "      <td>0.970626</td>\n",
       "      <td>Bruce Springsteen</td>\n",
       "      <td>Bruce Springsteen</td>\n",
       "    </tr>\n",
       "    <tr>\n",
       "      <th>4</th>\n",
       "      <td>0.828357</td>\n",
       "      <td>0.171643</td>\n",
       "      <td>Bob Dylan</td>\n",
       "      <td>Bob Dylan</td>\n",
       "    </tr>\n",
       "    <tr>\n",
       "      <th>...</th>\n",
       "      <td>...</td>\n",
       "      <td>...</td>\n",
       "      <td>...</td>\n",
       "      <td>...</td>\n",
       "    </tr>\n",
       "    <tr>\n",
       "      <th>1846</th>\n",
       "      <td>0.858517</td>\n",
       "      <td>0.141483</td>\n",
       "      <td>Bob Dylan</td>\n",
       "      <td>Bob Dylan</td>\n",
       "    </tr>\n",
       "    <tr>\n",
       "      <th>1847</th>\n",
       "      <td>0.829871</td>\n",
       "      <td>0.170129</td>\n",
       "      <td>Bob Dylan</td>\n",
       "      <td>Bob Dylan</td>\n",
       "    </tr>\n",
       "    <tr>\n",
       "      <th>1848</th>\n",
       "      <td>0.871338</td>\n",
       "      <td>0.128662</td>\n",
       "      <td>Bob Dylan</td>\n",
       "      <td>Bob Dylan</td>\n",
       "    </tr>\n",
       "    <tr>\n",
       "      <th>1849</th>\n",
       "      <td>0.187011</td>\n",
       "      <td>0.812989</td>\n",
       "      <td>Bruce Springsteen</td>\n",
       "      <td>Bruce Springsteen</td>\n",
       "    </tr>\n",
       "    <tr>\n",
       "      <th>1850</th>\n",
       "      <td>0.653346</td>\n",
       "      <td>0.346654</td>\n",
       "      <td>Bob Dylan</td>\n",
       "      <td>Bob Dylan</td>\n",
       "    </tr>\n",
       "  </tbody>\n",
       "</table>\n",
       "<p>1851 rows × 4 columns</p>\n",
       "</div>"
      ],
      "text/plain": [
       "             0         1              ypred             y_true\n",
       "0     0.919401  0.080599          Bob Dylan          Bob Dylan\n",
       "1     0.869043  0.130957          Bob Dylan          Bob Dylan\n",
       "2     0.141812  0.858188  Bruce Springsteen  Bruce Springsteen\n",
       "3     0.029374  0.970626  Bruce Springsteen  Bruce Springsteen\n",
       "4     0.828357  0.171643          Bob Dylan          Bob Dylan\n",
       "...        ...       ...                ...                ...\n",
       "1846  0.858517  0.141483          Bob Dylan          Bob Dylan\n",
       "1847  0.829871  0.170129          Bob Dylan          Bob Dylan\n",
       "1848  0.871338  0.128662          Bob Dylan          Bob Dylan\n",
       "1849  0.187011  0.812989  Bruce Springsteen  Bruce Springsteen\n",
       "1850  0.653346  0.346654          Bob Dylan          Bob Dylan\n",
       "\n",
       "[1851 rows x 4 columns]"
      ]
     },
     "execution_count": 99,
     "metadata": {},
     "output_type": "execute_result"
    }
   ],
   "source": [
    "pred_df"
   ]
  },
  {
   "cell_type": "code",
   "execution_count": 100,
   "metadata": {},
   "outputs": [
    {
     "data": {
      "text/plain": [
       "RangeIndex(start=0, stop=1851, step=1)"
      ]
     },
     "execution_count": 100,
     "metadata": {},
     "output_type": "execute_result"
    }
   ],
   "source": [
    "pred_df.index"
   ]
  },
  {
   "cell_type": "code",
   "execution_count": 101,
   "metadata": {},
   "outputs": [
    {
     "data": {
      "text/plain": [
       "Int64Index([ 586, 4890, 2559, 1630, 3064, 1145, 6145,  289,  620, 6066,\n",
       "            ...\n",
       "             297, 1578, 5356,  445, 2377, 3487, 6156, 5255, 2217, 2650],\n",
       "           dtype='int64', length=1851)"
      ]
     },
     "execution_count": 101,
     "metadata": {},
     "output_type": "execute_result"
    }
   ],
   "source": [
    "X_test.index"
   ]
  },
  {
   "cell_type": "code",
   "execution_count": 102,
   "metadata": {},
   "outputs": [],
   "source": [
    "pred_check = pd.concat([X_test.reset_index(drop=True),pred_df.reset_index(drop=True)], axis=1)\n"
   ]
  },
  {
   "cell_type": "code",
   "execution_count": 103,
   "metadata": {},
   "outputs": [
    {
     "data": {
      "text/html": [
       "<div>\n",
       "<style scoped>\n",
       "    .dataframe tbody tr th:only-of-type {\n",
       "        vertical-align: middle;\n",
       "    }\n",
       "\n",
       "    .dataframe tbody tr th {\n",
       "        vertical-align: top;\n",
       "    }\n",
       "\n",
       "    .dataframe thead th {\n",
       "        text-align: right;\n",
       "    }\n",
       "</style>\n",
       "<table border=\"1\" class=\"dataframe\">\n",
       "  <thead>\n",
       "    <tr style=\"text-align: right;\">\n",
       "      <th></th>\n",
       "      <th>song_num</th>\n",
       "      <th>song_title</th>\n",
       "      <th>song_lyrics</th>\n",
       "      <th>cleaned_lyric</th>\n",
       "      <th>0</th>\n",
       "      <th>1</th>\n",
       "      <th>ypred</th>\n",
       "      <th>y_true</th>\n",
       "    </tr>\n",
       "  </thead>\n",
       "  <tbody>\n",
       "    <tr>\n",
       "      <th>0</th>\n",
       "      <td>32346969</td>\n",
       "      <td>Like a Rolling Stone [Take 5] [remake] [Rehear...</td>\n",
       "      <td>Once upon a time you dressed so fine\\nThrew th...</td>\n",
       "      <td>Once upon time dressed fine Threw bums dime pr...</td>\n",
       "      <td>0.919401</td>\n",
       "      <td>0.080599</td>\n",
       "      <td>Bob Dylan</td>\n",
       "      <td>Bob Dylan</td>\n",
       "    </tr>\n",
       "    <tr>\n",
       "      <th>1</th>\n",
       "      <td>1906865</td>\n",
       "      <td>You Ain't Going Nowhere</td>\n",
       "      <td>Clouds so swift\\nRain won’t lift\\nGate won’t c...</td>\n",
       "      <td>Clouds swift Rain lift Gate close Railings fro...</td>\n",
       "      <td>0.869043</td>\n",
       "      <td>0.130957</td>\n",
       "      <td>Bob Dylan</td>\n",
       "      <td>Bob Dylan</td>\n",
       "    </tr>\n",
       "    <tr>\n",
       "      <th>2</th>\n",
       "      <td>14251760</td>\n",
       "      <td>Adam Raised a Cain</td>\n",
       "      <td>In the summer that I was baptized\\nMy father h...</td>\n",
       "      <td>summer baptized father held side water said cr...</td>\n",
       "      <td>0.141812</td>\n",
       "      <td>0.858188</td>\n",
       "      <td>Bruce Springsteen</td>\n",
       "      <td>Bruce Springsteen</td>\n",
       "    </tr>\n",
       "    <tr>\n",
       "      <th>3</th>\n",
       "      <td>8308531</td>\n",
       "      <td>Darkness on the Edge of Town</td>\n",
       "      <td>Well they're still racing out at the trestles\\...</td>\n",
       "      <td>Well still racing trestles blood never burned ...</td>\n",
       "      <td>0.029374</td>\n",
       "      <td>0.970626</td>\n",
       "      <td>Bruce Springsteen</td>\n",
       "      <td>Bruce Springsteen</td>\n",
       "    </tr>\n",
       "    <tr>\n",
       "      <th>4</th>\n",
       "      <td>5440027</td>\n",
       "      <td>I Shall Be Released</td>\n",
       "      <td>They say every man must need protection\\nThey ...</td>\n",
       "      <td>They every must need protection They every mus...</td>\n",
       "      <td>0.828357</td>\n",
       "      <td>0.171643</td>\n",
       "      <td>Bob Dylan</td>\n",
       "      <td>Bob Dylan</td>\n",
       "    </tr>\n",
       "    <tr>\n",
       "      <th>...</th>\n",
       "      <td>...</td>\n",
       "      <td>...</td>\n",
       "      <td>...</td>\n",
       "      <td>...</td>\n",
       "      <td>...</td>\n",
       "      <td>...</td>\n",
       "      <td>...</td>\n",
       "      <td>...</td>\n",
       "    </tr>\n",
       "    <tr>\n",
       "      <th>1846</th>\n",
       "      <td>8304717</td>\n",
       "      <td>Can't Wait</td>\n",
       "      <td>I can't wait\\nWait for you to change your mind...</td>\n",
       "      <td>wait Wait change mind late tryin walk line Wel...</td>\n",
       "      <td>0.858517</td>\n",
       "      <td>0.141483</td>\n",
       "      <td>Bob Dylan</td>\n",
       "      <td>Bob Dylan</td>\n",
       "    </tr>\n",
       "    <tr>\n",
       "      <th>1847</th>\n",
       "      <td>5059002</td>\n",
       "      <td>Just Like Tom Thumb's Blues</td>\n",
       "      <td>When you're lost in the rain in Juarez when it...</td>\n",
       "      <td>When lost rain Juarez Easter time gravity fail...</td>\n",
       "      <td>0.829871</td>\n",
       "      <td>0.170129</td>\n",
       "      <td>Bob Dylan</td>\n",
       "      <td>Bob Dylan</td>\n",
       "    </tr>\n",
       "    <tr>\n",
       "      <th>1848</th>\n",
       "      <td>2598857</td>\n",
       "      <td>Up to Me [#]</td>\n",
       "      <td>Everything went from bad to worse\\nMoney never...</td>\n",
       "      <td>Everything went worse Money never changed thin...</td>\n",
       "      <td>0.871338</td>\n",
       "      <td>0.128662</td>\n",
       "      <td>Bob Dylan</td>\n",
       "      <td>Bob Dylan</td>\n",
       "    </tr>\n",
       "    <tr>\n",
       "      <th>1849</th>\n",
       "      <td>217862</td>\n",
       "      <td>Stand on It</td>\n",
       "      <td>Well Jimmy Lee was hookin' 'round the far turn...</td>\n",
       "      <td>Well Jimmy hookin 'round turn funky southern F...</td>\n",
       "      <td>0.187011</td>\n",
       "      <td>0.812989</td>\n",
       "      <td>Bruce Springsteen</td>\n",
       "      <td>Bruce Springsteen</td>\n",
       "    </tr>\n",
       "    <tr>\n",
       "      <th>1850</th>\n",
       "      <td>14970994</td>\n",
       "      <td>Ain't Talkin' [Alternate Version][Alternate Ta...</td>\n",
       "      <td>As I walked out tonight in the mystic garden\\n...</td>\n",
       "      <td>walked tonight mystic garden wounded flowers d...</td>\n",
       "      <td>0.653346</td>\n",
       "      <td>0.346654</td>\n",
       "      <td>Bob Dylan</td>\n",
       "      <td>Bob Dylan</td>\n",
       "    </tr>\n",
       "  </tbody>\n",
       "</table>\n",
       "<p>1851 rows × 8 columns</p>\n",
       "</div>"
      ],
      "text/plain": [
       "      song_num                                         song_title  \\\n",
       "0     32346969  Like a Rolling Stone [Take 5] [remake] [Rehear...   \n",
       "1      1906865                            You Ain't Going Nowhere   \n",
       "2     14251760                                 Adam Raised a Cain   \n",
       "3      8308531                       Darkness on the Edge of Town   \n",
       "4      5440027                                I Shall Be Released   \n",
       "...        ...                                                ...   \n",
       "1846   8304717                                         Can't Wait   \n",
       "1847   5059002                        Just Like Tom Thumb's Blues   \n",
       "1848   2598857                                       Up to Me [#]   \n",
       "1849    217862                                        Stand on It   \n",
       "1850  14970994  Ain't Talkin' [Alternate Version][Alternate Ta...   \n",
       "\n",
       "                                            song_lyrics  \\\n",
       "0     Once upon a time you dressed so fine\\nThrew th...   \n",
       "1     Clouds so swift\\nRain won’t lift\\nGate won’t c...   \n",
       "2     In the summer that I was baptized\\nMy father h...   \n",
       "3     Well they're still racing out at the trestles\\...   \n",
       "4     They say every man must need protection\\nThey ...   \n",
       "...                                                 ...   \n",
       "1846  I can't wait\\nWait for you to change your mind...   \n",
       "1847  When you're lost in the rain in Juarez when it...   \n",
       "1848  Everything went from bad to worse\\nMoney never...   \n",
       "1849  Well Jimmy Lee was hookin' 'round the far turn...   \n",
       "1850  As I walked out tonight in the mystic garden\\n...   \n",
       "\n",
       "                                          cleaned_lyric         0         1  \\\n",
       "0     Once upon time dressed fine Threw bums dime pr...  0.919401  0.080599   \n",
       "1     Clouds swift Rain lift Gate close Railings fro...  0.869043  0.130957   \n",
       "2     summer baptized father held side water said cr...  0.141812  0.858188   \n",
       "3     Well still racing trestles blood never burned ...  0.029374  0.970626   \n",
       "4     They every must need protection They every mus...  0.828357  0.171643   \n",
       "...                                                 ...       ...       ...   \n",
       "1846  wait Wait change mind late tryin walk line Wel...  0.858517  0.141483   \n",
       "1847  When lost rain Juarez Easter time gravity fail...  0.829871  0.170129   \n",
       "1848  Everything went worse Money never changed thin...  0.871338  0.128662   \n",
       "1849  Well Jimmy hookin 'round turn funky southern F...  0.187011  0.812989   \n",
       "1850  walked tonight mystic garden wounded flowers d...  0.653346  0.346654   \n",
       "\n",
       "                  ypred             y_true  \n",
       "0             Bob Dylan          Bob Dylan  \n",
       "1             Bob Dylan          Bob Dylan  \n",
       "2     Bruce Springsteen  Bruce Springsteen  \n",
       "3     Bruce Springsteen  Bruce Springsteen  \n",
       "4             Bob Dylan          Bob Dylan  \n",
       "...                 ...                ...  \n",
       "1846          Bob Dylan          Bob Dylan  \n",
       "1847          Bob Dylan          Bob Dylan  \n",
       "1848          Bob Dylan          Bob Dylan  \n",
       "1849  Bruce Springsteen  Bruce Springsteen  \n",
       "1850          Bob Dylan          Bob Dylan  \n",
       "\n",
       "[1851 rows x 8 columns]"
      ]
     },
     "execution_count": 103,
     "metadata": {},
     "output_type": "execute_result"
    }
   ],
   "source": [
    "pred_check"
   ]
  },
  {
   "cell_type": "code",
   "execution_count": 104,
   "metadata": {},
   "outputs": [],
   "source": [
    "compare = pred_check[pred_check['ypred'] != pred_check['y_true'] ]"
   ]
  },
  {
   "cell_type": "code",
   "execution_count": 105,
   "metadata": {},
   "outputs": [
    {
     "data": {
      "text/html": [
       "<div>\n",
       "<style scoped>\n",
       "    .dataframe tbody tr th:only-of-type {\n",
       "        vertical-align: middle;\n",
       "    }\n",
       "\n",
       "    .dataframe tbody tr th {\n",
       "        vertical-align: top;\n",
       "    }\n",
       "\n",
       "    .dataframe thead th {\n",
       "        text-align: right;\n",
       "    }\n",
       "</style>\n",
       "<table border=\"1\" class=\"dataframe\">\n",
       "  <thead>\n",
       "    <tr style=\"text-align: right;\">\n",
       "      <th></th>\n",
       "      <th>song_num</th>\n",
       "      <th>song_title</th>\n",
       "      <th>song_lyrics</th>\n",
       "      <th>cleaned_lyric</th>\n",
       "      <th>0</th>\n",
       "      <th>1</th>\n",
       "      <th>ypred</th>\n",
       "      <th>y_true</th>\n",
       "    </tr>\n",
       "  </thead>\n",
       "  <tbody>\n",
       "    <tr>\n",
       "      <th>26</th>\n",
       "      <td>12299174</td>\n",
       "      <td>Someday Baby</td>\n",
       "      <td>I don't care what you do, I don't care what yo...</td>\n",
       "      <td>care care care long stay Someday baby worry We...</td>\n",
       "      <td>0.460608</td>\n",
       "      <td>0.539392</td>\n",
       "      <td>Bruce Springsteen</td>\n",
       "      <td>Bob Dylan</td>\n",
       "    </tr>\n",
       "    <tr>\n",
       "      <th>47</th>\n",
       "      <td>35896423</td>\n",
       "      <td>I Want You [Take 1] [Take]</td>\n",
       "      <td>The guilty undertaker sighs\\nThe lonesome orga...</td>\n",
       "      <td>guilty undertaker sighs lonesome organ grinder...</td>\n",
       "      <td>0.487337</td>\n",
       "      <td>0.512663</td>\n",
       "      <td>Bruce Springsteen</td>\n",
       "      <td>Bob Dylan</td>\n",
       "    </tr>\n",
       "    <tr>\n",
       "      <th>100</th>\n",
       "      <td>8304636</td>\n",
       "      <td>I Want You</td>\n",
       "      <td>The guilty undertaker sighs\\nThe lonesome orga...</td>\n",
       "      <td>guilty undertaker sighs lonesome organ grinder...</td>\n",
       "      <td>0.487337</td>\n",
       "      <td>0.512663</td>\n",
       "      <td>Bruce Springsteen</td>\n",
       "      <td>Bob Dylan</td>\n",
       "    </tr>\n",
       "    <tr>\n",
       "      <th>137</th>\n",
       "      <td>9214666</td>\n",
       "      <td>I Want You</td>\n",
       "      <td>The guilty undertaker sighs\\nThe lonesome orga...</td>\n",
       "      <td>guilty undertaker sighs lonesome organ grinder...</td>\n",
       "      <td>0.487337</td>\n",
       "      <td>0.512663</td>\n",
       "      <td>Bruce Springsteen</td>\n",
       "      <td>Bob Dylan</td>\n",
       "    </tr>\n",
       "    <tr>\n",
       "      <th>174</th>\n",
       "      <td>30084273</td>\n",
       "      <td>My Wife's Home Town</td>\n",
       "      <td>Well, I didn't come here to deal with a doggon...</td>\n",
       "      <td>Well come deal doggone thing came hear drop cy...</td>\n",
       "      <td>0.492686</td>\n",
       "      <td>0.507314</td>\n",
       "      <td>Bruce Springsteen</td>\n",
       "      <td>Bob Dylan</td>\n",
       "    </tr>\n",
       "    <tr>\n",
       "      <th>...</th>\n",
       "      <td>...</td>\n",
       "      <td>...</td>\n",
       "      <td>...</td>\n",
       "      <td>...</td>\n",
       "      <td>...</td>\n",
       "      <td>...</td>\n",
       "      <td>...</td>\n",
       "      <td>...</td>\n",
       "    </tr>\n",
       "    <tr>\n",
       "      <th>1690</th>\n",
       "      <td>5620370</td>\n",
       "      <td>Let's Be Friends (Skin to Skin)</td>\n",
       "      <td>I been watchin' you a long time\\nTrying to fig...</td>\n",
       "      <td>watchin long time Trying figure moving line ti...</td>\n",
       "      <td>0.710939</td>\n",
       "      <td>0.289061</td>\n",
       "      <td>Bob Dylan</td>\n",
       "      <td>Bruce Springsteen</td>\n",
       "    </tr>\n",
       "    <tr>\n",
       "      <th>1722</th>\n",
       "      <td>32625921</td>\n",
       "      <td>I Believe in Miracles</td>\n",
       "      <td>I used to be on an endless run;\\nBelieved in m...</td>\n",
       "      <td>used endless Believed miracles 'cause blessed ...</td>\n",
       "      <td>0.501310</td>\n",
       "      <td>0.498690</td>\n",
       "      <td>Bob Dylan</td>\n",
       "      <td>Bruce Springsteen</td>\n",
       "    </tr>\n",
       "    <tr>\n",
       "      <th>1812</th>\n",
       "      <td>24940019</td>\n",
       "      <td>Don't Fall Apart On Me Tonight</td>\n",
       "      <td>Just a minute before you leave, girl\\nJust a m...</td>\n",
       "      <td>Just minute leave girl Just minute touch door ...</td>\n",
       "      <td>0.324338</td>\n",
       "      <td>0.675662</td>\n",
       "      <td>Bruce Springsteen</td>\n",
       "      <td>Bob Dylan</td>\n",
       "    </tr>\n",
       "    <tr>\n",
       "      <th>1836</th>\n",
       "      <td>23366984</td>\n",
       "      <td>Awake [Live]</td>\n",
       "      <td>A beautiful and blinding morning\\nThe world ou...</td>\n",
       "      <td>beautiful blinding morning world outside begin...</td>\n",
       "      <td>0.869281</td>\n",
       "      <td>0.130719</td>\n",
       "      <td>Bob Dylan</td>\n",
       "      <td>Bruce Springsteen</td>\n",
       "    </tr>\n",
       "    <tr>\n",
       "      <th>1842</th>\n",
       "      <td>30084569</td>\n",
       "      <td>Billy 4</td>\n",
       "      <td>There's guns across the river about to pound y...</td>\n",
       "      <td>There guns across river pound There lawman tra...</td>\n",
       "      <td>0.429091</td>\n",
       "      <td>0.570909</td>\n",
       "      <td>Bruce Springsteen</td>\n",
       "      <td>Bob Dylan</td>\n",
       "    </tr>\n",
       "  </tbody>\n",
       "</table>\n",
       "<p>80 rows × 8 columns</p>\n",
       "</div>"
      ],
      "text/plain": [
       "      song_num                       song_title  \\\n",
       "26    12299174                     Someday Baby   \n",
       "47    35896423       I Want You [Take 1] [Take]   \n",
       "100    8304636                       I Want You   \n",
       "137    9214666                       I Want You   \n",
       "174   30084273              My Wife's Home Town   \n",
       "...        ...                              ...   \n",
       "1690   5620370  Let's Be Friends (Skin to Skin)   \n",
       "1722  32625921            I Believe in Miracles   \n",
       "1812  24940019   Don't Fall Apart On Me Tonight   \n",
       "1836  23366984                     Awake [Live]   \n",
       "1842  30084569                          Billy 4   \n",
       "\n",
       "                                            song_lyrics  \\\n",
       "26    I don't care what you do, I don't care what yo...   \n",
       "47    The guilty undertaker sighs\\nThe lonesome orga...   \n",
       "100   The guilty undertaker sighs\\nThe lonesome orga...   \n",
       "137   The guilty undertaker sighs\\nThe lonesome orga...   \n",
       "174   Well, I didn't come here to deal with a doggon...   \n",
       "...                                                 ...   \n",
       "1690  I been watchin' you a long time\\nTrying to fig...   \n",
       "1722  I used to be on an endless run;\\nBelieved in m...   \n",
       "1812  Just a minute before you leave, girl\\nJust a m...   \n",
       "1836  A beautiful and blinding morning\\nThe world ou...   \n",
       "1842  There's guns across the river about to pound y...   \n",
       "\n",
       "                                          cleaned_lyric         0         1  \\\n",
       "26    care care care long stay Someday baby worry We...  0.460608  0.539392   \n",
       "47    guilty undertaker sighs lonesome organ grinder...  0.487337  0.512663   \n",
       "100   guilty undertaker sighs lonesome organ grinder...  0.487337  0.512663   \n",
       "137   guilty undertaker sighs lonesome organ grinder...  0.487337  0.512663   \n",
       "174   Well come deal doggone thing came hear drop cy...  0.492686  0.507314   \n",
       "...                                                 ...       ...       ...   \n",
       "1690  watchin long time Trying figure moving line ti...  0.710939  0.289061   \n",
       "1722  used endless Believed miracles 'cause blessed ...  0.501310  0.498690   \n",
       "1812  Just minute leave girl Just minute touch door ...  0.324338  0.675662   \n",
       "1836  beautiful blinding morning world outside begin...  0.869281  0.130719   \n",
       "1842  There guns across river pound There lawman tra...  0.429091  0.570909   \n",
       "\n",
       "                  ypred             y_true  \n",
       "26    Bruce Springsteen          Bob Dylan  \n",
       "47    Bruce Springsteen          Bob Dylan  \n",
       "100   Bruce Springsteen          Bob Dylan  \n",
       "137   Bruce Springsteen          Bob Dylan  \n",
       "174   Bruce Springsteen          Bob Dylan  \n",
       "...                 ...                ...  \n",
       "1690          Bob Dylan  Bruce Springsteen  \n",
       "1722          Bob Dylan  Bruce Springsteen  \n",
       "1812  Bruce Springsteen          Bob Dylan  \n",
       "1836          Bob Dylan  Bruce Springsteen  \n",
       "1842  Bruce Springsteen          Bob Dylan  \n",
       "\n",
       "[80 rows x 8 columns]"
      ]
     },
     "execution_count": 105,
     "metadata": {},
     "output_type": "execute_result"
    }
   ],
   "source": [
    "compare"
   ]
  },
  {
   "cell_type": "code",
   "execution_count": 106,
   "metadata": {},
   "outputs": [
    {
     "data": {
      "text/plain": [
       "(80, 8)"
      ]
     },
     "execution_count": 106,
     "metadata": {},
     "output_type": "execute_result"
    }
   ],
   "source": [
    "compare.shape"
   ]
  },
  {
   "cell_type": "markdown",
   "metadata": {},
   "source": [
    "## Testing user input"
   ]
  },
  {
   "cell_type": "code",
   "execution_count": 108,
   "metadata": {},
   "outputs": [
    {
     "name": "stdin",
     "output_type": "stream",
     "text": [
      " \n"
     ]
    }
   ],
   "source": [
    "user = input()"
   ]
  },
  {
   "cell_type": "code",
   "execution_count": null,
   "metadata": {},
   "outputs": [],
   "source": [
    "user_t = vect.transform( [user] ) "
   ]
  },
  {
   "cell_type": "code",
   "execution_count": null,
   "metadata": {},
   "outputs": [],
   "source": [
    "model.predict(user_t)"
   ]
  },
  {
   "cell_type": "markdown",
   "metadata": {},
   "source": [
    "## Naive Bayes Model"
   ]
  },
  {
   "cell_type": "code",
   "execution_count": 109,
   "metadata": {},
   "outputs": [],
   "source": [
    "model_nb = MultinomialNB().fit(X, y_train)"
   ]
  },
  {
   "cell_type": "code",
   "execution_count": 110,
   "metadata": {},
   "outputs": [
    {
     "data": {
      "text/plain": [
       "0.9548709633833266"
      ]
     },
     "execution_count": 110,
     "metadata": {},
     "output_type": "execute_result"
    }
   ],
   "source": [
    "model_nb.score(X, y_train)"
   ]
  },
  {
   "cell_type": "code",
   "execution_count": 111,
   "metadata": {},
   "outputs": [],
   "source": [
    "ypred_nb = model_nb.predict(X_test_transformed)    "
   ]
  },
  {
   "cell_type": "code",
   "execution_count": 112,
   "metadata": {},
   "outputs": [
    {
     "data": {
      "text/plain": [
       "0.9621826039978391"
      ]
     },
     "execution_count": 112,
     "metadata": {},
     "output_type": "execute_result"
    }
   ],
   "source": [
    "model_nb.score(X_test_transformed,y_test)"
   ]
  },
  {
   "cell_type": "code",
   "execution_count": 113,
   "metadata": {},
   "outputs": [],
   "source": [
    "probs_nb = model_nb.predict_proba(X_test_transformed)  "
   ]
  },
  {
   "cell_type": "code",
   "execution_count": 114,
   "metadata": {},
   "outputs": [],
   "source": [
    "df_probs_nb = pd.DataFrame(probs_nb)"
   ]
  },
  {
   "cell_type": "code",
   "execution_count": 115,
   "metadata": {},
   "outputs": [
    {
     "data": {
      "text/html": [
       "<div>\n",
       "<style scoped>\n",
       "    .dataframe tbody tr th:only-of-type {\n",
       "        vertical-align: middle;\n",
       "    }\n",
       "\n",
       "    .dataframe tbody tr th {\n",
       "        vertical-align: top;\n",
       "    }\n",
       "\n",
       "    .dataframe thead th {\n",
       "        text-align: right;\n",
       "    }\n",
       "</style>\n",
       "<table border=\"1\" class=\"dataframe\">\n",
       "  <thead>\n",
       "    <tr style=\"text-align: right;\">\n",
       "      <th></th>\n",
       "      <th>0</th>\n",
       "      <th>1</th>\n",
       "    </tr>\n",
       "  </thead>\n",
       "  <tbody>\n",
       "    <tr>\n",
       "      <th>0</th>\n",
       "      <td>0.999892</td>\n",
       "      <td>0.000108</td>\n",
       "    </tr>\n",
       "    <tr>\n",
       "      <th>1</th>\n",
       "      <td>0.976424</td>\n",
       "      <td>0.023576</td>\n",
       "    </tr>\n",
       "    <tr>\n",
       "      <th>2</th>\n",
       "      <td>0.085451</td>\n",
       "      <td>0.914549</td>\n",
       "    </tr>\n",
       "    <tr>\n",
       "      <th>3</th>\n",
       "      <td>0.030276</td>\n",
       "      <td>0.969724</td>\n",
       "    </tr>\n",
       "    <tr>\n",
       "      <th>4</th>\n",
       "      <td>0.980461</td>\n",
       "      <td>0.019539</td>\n",
       "    </tr>\n",
       "    <tr>\n",
       "      <th>...</th>\n",
       "      <td>...</td>\n",
       "      <td>...</td>\n",
       "    </tr>\n",
       "    <tr>\n",
       "      <th>1846</th>\n",
       "      <td>0.975277</td>\n",
       "      <td>0.024723</td>\n",
       "    </tr>\n",
       "    <tr>\n",
       "      <th>1847</th>\n",
       "      <td>0.995585</td>\n",
       "      <td>0.004415</td>\n",
       "    </tr>\n",
       "    <tr>\n",
       "      <th>1848</th>\n",
       "      <td>0.991458</td>\n",
       "      <td>0.008542</td>\n",
       "    </tr>\n",
       "    <tr>\n",
       "      <th>1849</th>\n",
       "      <td>0.082754</td>\n",
       "      <td>0.917246</td>\n",
       "    </tr>\n",
       "    <tr>\n",
       "      <th>1850</th>\n",
       "      <td>0.738737</td>\n",
       "      <td>0.261263</td>\n",
       "    </tr>\n",
       "  </tbody>\n",
       "</table>\n",
       "<p>1851 rows × 2 columns</p>\n",
       "</div>"
      ],
      "text/plain": [
       "             0         1\n",
       "0     0.999892  0.000108\n",
       "1     0.976424  0.023576\n",
       "2     0.085451  0.914549\n",
       "3     0.030276  0.969724\n",
       "4     0.980461  0.019539\n",
       "...        ...       ...\n",
       "1846  0.975277  0.024723\n",
       "1847  0.995585  0.004415\n",
       "1848  0.991458  0.008542\n",
       "1849  0.082754  0.917246\n",
       "1850  0.738737  0.261263\n",
       "\n",
       "[1851 rows x 2 columns]"
      ]
     },
     "execution_count": 115,
     "metadata": {},
     "output_type": "execute_result"
    }
   ],
   "source": [
    "df_probs_nb"
   ]
  },
  {
   "cell_type": "code",
   "execution_count": 116,
   "metadata": {},
   "outputs": [],
   "source": [
    "pred_df_nb = df_probs_nb.merge(ser_ypred.rename('ypred'), left_index=True, right_index=True)"
   ]
  },
  {
   "cell_type": "code",
   "execution_count": 117,
   "metadata": {},
   "outputs": [],
   "source": [
    "pred_df_nb['y_true'] = y_test"
   ]
  },
  {
   "cell_type": "code",
   "execution_count": 118,
   "metadata": {},
   "outputs": [],
   "source": [
    "pred_check_nb = pd.concat([X_test.reset_index(drop=True),pred_df_nb.reset_index(drop=True)], axis=1)"
   ]
  },
  {
   "cell_type": "code",
   "execution_count": 119,
   "metadata": {},
   "outputs": [],
   "source": [
    "compare_nb = pred_check_nb[pred_check_nb['ypred'] != pred_check_nb['y_true'] ]"
   ]
  },
  {
   "cell_type": "code",
   "execution_count": 120,
   "metadata": {},
   "outputs": [
    {
     "data": {
      "text/html": [
       "<div>\n",
       "<style scoped>\n",
       "    .dataframe tbody tr th:only-of-type {\n",
       "        vertical-align: middle;\n",
       "    }\n",
       "\n",
       "    .dataframe tbody tr th {\n",
       "        vertical-align: top;\n",
       "    }\n",
       "\n",
       "    .dataframe thead th {\n",
       "        text-align: right;\n",
       "    }\n",
       "</style>\n",
       "<table border=\"1\" class=\"dataframe\">\n",
       "  <thead>\n",
       "    <tr style=\"text-align: right;\">\n",
       "      <th></th>\n",
       "      <th>song_num</th>\n",
       "      <th>song_title</th>\n",
       "      <th>song_lyrics</th>\n",
       "      <th>cleaned_lyric</th>\n",
       "      <th>0</th>\n",
       "      <th>1</th>\n",
       "      <th>ypred</th>\n",
       "      <th>y_true</th>\n",
       "    </tr>\n",
       "  </thead>\n",
       "  <tbody>\n",
       "    <tr>\n",
       "      <th>26</th>\n",
       "      <td>12299174</td>\n",
       "      <td>Someday Baby</td>\n",
       "      <td>I don't care what you do, I don't care what yo...</td>\n",
       "      <td>care care care long stay Someday baby worry We...</td>\n",
       "      <td>0.798509</td>\n",
       "      <td>0.201491</td>\n",
       "      <td>Bruce Springsteen</td>\n",
       "      <td>Bob Dylan</td>\n",
       "    </tr>\n",
       "    <tr>\n",
       "      <th>47</th>\n",
       "      <td>35896423</td>\n",
       "      <td>I Want You [Take 1] [Take]</td>\n",
       "      <td>The guilty undertaker sighs\\nThe lonesome orga...</td>\n",
       "      <td>guilty undertaker sighs lonesome organ grinder...</td>\n",
       "      <td>0.981926</td>\n",
       "      <td>0.018074</td>\n",
       "      <td>Bruce Springsteen</td>\n",
       "      <td>Bob Dylan</td>\n",
       "    </tr>\n",
       "    <tr>\n",
       "      <th>100</th>\n",
       "      <td>8304636</td>\n",
       "      <td>I Want You</td>\n",
       "      <td>The guilty undertaker sighs\\nThe lonesome orga...</td>\n",
       "      <td>guilty undertaker sighs lonesome organ grinder...</td>\n",
       "      <td>0.981926</td>\n",
       "      <td>0.018074</td>\n",
       "      <td>Bruce Springsteen</td>\n",
       "      <td>Bob Dylan</td>\n",
       "    </tr>\n",
       "    <tr>\n",
       "      <th>137</th>\n",
       "      <td>9214666</td>\n",
       "      <td>I Want You</td>\n",
       "      <td>The guilty undertaker sighs\\nThe lonesome orga...</td>\n",
       "      <td>guilty undertaker sighs lonesome organ grinder...</td>\n",
       "      <td>0.981926</td>\n",
       "      <td>0.018074</td>\n",
       "      <td>Bruce Springsteen</td>\n",
       "      <td>Bob Dylan</td>\n",
       "    </tr>\n",
       "    <tr>\n",
       "      <th>174</th>\n",
       "      <td>30084273</td>\n",
       "      <td>My Wife's Home Town</td>\n",
       "      <td>Well, I didn't come here to deal with a doggon...</td>\n",
       "      <td>Well come deal doggone thing came hear drop cy...</td>\n",
       "      <td>0.748616</td>\n",
       "      <td>0.251384</td>\n",
       "      <td>Bruce Springsteen</td>\n",
       "      <td>Bob Dylan</td>\n",
       "    </tr>\n",
       "    <tr>\n",
       "      <th>...</th>\n",
       "      <td>...</td>\n",
       "      <td>...</td>\n",
       "      <td>...</td>\n",
       "      <td>...</td>\n",
       "      <td>...</td>\n",
       "      <td>...</td>\n",
       "      <td>...</td>\n",
       "      <td>...</td>\n",
       "    </tr>\n",
       "    <tr>\n",
       "      <th>1690</th>\n",
       "      <td>5620370</td>\n",
       "      <td>Let's Be Friends (Skin to Skin)</td>\n",
       "      <td>I been watchin' you a long time\\nTrying to fig...</td>\n",
       "      <td>watchin long time Trying figure moving line ti...</td>\n",
       "      <td>0.884423</td>\n",
       "      <td>0.115577</td>\n",
       "      <td>Bob Dylan</td>\n",
       "      <td>Bruce Springsteen</td>\n",
       "    </tr>\n",
       "    <tr>\n",
       "      <th>1722</th>\n",
       "      <td>32625921</td>\n",
       "      <td>I Believe in Miracles</td>\n",
       "      <td>I used to be on an endless run;\\nBelieved in m...</td>\n",
       "      <td>used endless Believed miracles 'cause blessed ...</td>\n",
       "      <td>0.530043</td>\n",
       "      <td>0.469957</td>\n",
       "      <td>Bob Dylan</td>\n",
       "      <td>Bruce Springsteen</td>\n",
       "    </tr>\n",
       "    <tr>\n",
       "      <th>1812</th>\n",
       "      <td>24940019</td>\n",
       "      <td>Don't Fall Apart On Me Tonight</td>\n",
       "      <td>Just a minute before you leave, girl\\nJust a m...</td>\n",
       "      <td>Just minute leave girl Just minute touch door ...</td>\n",
       "      <td>0.757987</td>\n",
       "      <td>0.242013</td>\n",
       "      <td>Bruce Springsteen</td>\n",
       "      <td>Bob Dylan</td>\n",
       "    </tr>\n",
       "    <tr>\n",
       "      <th>1836</th>\n",
       "      <td>23366984</td>\n",
       "      <td>Awake [Live]</td>\n",
       "      <td>A beautiful and blinding morning\\nThe world ou...</td>\n",
       "      <td>beautiful blinding morning world outside begin...</td>\n",
       "      <td>0.960954</td>\n",
       "      <td>0.039046</td>\n",
       "      <td>Bob Dylan</td>\n",
       "      <td>Bruce Springsteen</td>\n",
       "    </tr>\n",
       "    <tr>\n",
       "      <th>1842</th>\n",
       "      <td>30084569</td>\n",
       "      <td>Billy 4</td>\n",
       "      <td>There's guns across the river about to pound y...</td>\n",
       "      <td>There guns across river pound There lawman tra...</td>\n",
       "      <td>0.446229</td>\n",
       "      <td>0.553771</td>\n",
       "      <td>Bruce Springsteen</td>\n",
       "      <td>Bob Dylan</td>\n",
       "    </tr>\n",
       "  </tbody>\n",
       "</table>\n",
       "<p>80 rows × 8 columns</p>\n",
       "</div>"
      ],
      "text/plain": [
       "      song_num                       song_title  \\\n",
       "26    12299174                     Someday Baby   \n",
       "47    35896423       I Want You [Take 1] [Take]   \n",
       "100    8304636                       I Want You   \n",
       "137    9214666                       I Want You   \n",
       "174   30084273              My Wife's Home Town   \n",
       "...        ...                              ...   \n",
       "1690   5620370  Let's Be Friends (Skin to Skin)   \n",
       "1722  32625921            I Believe in Miracles   \n",
       "1812  24940019   Don't Fall Apart On Me Tonight   \n",
       "1836  23366984                     Awake [Live]   \n",
       "1842  30084569                          Billy 4   \n",
       "\n",
       "                                            song_lyrics  \\\n",
       "26    I don't care what you do, I don't care what yo...   \n",
       "47    The guilty undertaker sighs\\nThe lonesome orga...   \n",
       "100   The guilty undertaker sighs\\nThe lonesome orga...   \n",
       "137   The guilty undertaker sighs\\nThe lonesome orga...   \n",
       "174   Well, I didn't come here to deal with a doggon...   \n",
       "...                                                 ...   \n",
       "1690  I been watchin' you a long time\\nTrying to fig...   \n",
       "1722  I used to be on an endless run;\\nBelieved in m...   \n",
       "1812  Just a minute before you leave, girl\\nJust a m...   \n",
       "1836  A beautiful and blinding morning\\nThe world ou...   \n",
       "1842  There's guns across the river about to pound y...   \n",
       "\n",
       "                                          cleaned_lyric         0         1  \\\n",
       "26    care care care long stay Someday baby worry We...  0.798509  0.201491   \n",
       "47    guilty undertaker sighs lonesome organ grinder...  0.981926  0.018074   \n",
       "100   guilty undertaker sighs lonesome organ grinder...  0.981926  0.018074   \n",
       "137   guilty undertaker sighs lonesome organ grinder...  0.981926  0.018074   \n",
       "174   Well come deal doggone thing came hear drop cy...  0.748616  0.251384   \n",
       "...                                                 ...       ...       ...   \n",
       "1690  watchin long time Trying figure moving line ti...  0.884423  0.115577   \n",
       "1722  used endless Believed miracles 'cause blessed ...  0.530043  0.469957   \n",
       "1812  Just minute leave girl Just minute touch door ...  0.757987  0.242013   \n",
       "1836  beautiful blinding morning world outside begin...  0.960954  0.039046   \n",
       "1842  There guns across river pound There lawman tra...  0.446229  0.553771   \n",
       "\n",
       "                  ypred             y_true  \n",
       "26    Bruce Springsteen          Bob Dylan  \n",
       "47    Bruce Springsteen          Bob Dylan  \n",
       "100   Bruce Springsteen          Bob Dylan  \n",
       "137   Bruce Springsteen          Bob Dylan  \n",
       "174   Bruce Springsteen          Bob Dylan  \n",
       "...                 ...                ...  \n",
       "1690          Bob Dylan  Bruce Springsteen  \n",
       "1722          Bob Dylan  Bruce Springsteen  \n",
       "1812  Bruce Springsteen          Bob Dylan  \n",
       "1836          Bob Dylan  Bruce Springsteen  \n",
       "1842  Bruce Springsteen          Bob Dylan  \n",
       "\n",
       "[80 rows x 8 columns]"
      ]
     },
     "execution_count": 120,
     "metadata": {},
     "output_type": "execute_result"
    }
   ],
   "source": [
    "compare_nb"
   ]
  },
  {
   "cell_type": "code",
   "execution_count": 121,
   "metadata": {},
   "outputs": [],
   "source": [
    "lr_mist = compare['song_title'].tolist()"
   ]
  },
  {
   "cell_type": "code",
   "execution_count": 122,
   "metadata": {},
   "outputs": [
    {
     "data": {
      "text/plain": [
       "['Someday Baby',\n",
       " 'I Want You [Take 1] [Take]',\n",
       " 'I Want You',\n",
       " 'I Want You',\n",
       " \"My Wife's Home Town\",\n",
       " 'Under the Red Sky',\n",
       " 'War',\n",
       " 'When Will I Be Loved',\n",
       " 'Bloodshot Eyes',\n",
       " 'War',\n",
       " 'Angel Eyes',\n",
       " 'Easy Money',\n",
       " 'The Ghost of Tom Joad',\n",
       " 'Held Up Without a Gun',\n",
       " 'I Want You',\n",
       " 'The Wrestler [*]',\n",
       " 'To Be Alone with You [Take 1] [Take]',\n",
       " \"My Wife's Home Town\",\n",
       " 'I Want You',\n",
       " 'Give My Love to Rose',\n",
       " 'This Ole House',\n",
       " 'Superstar',\n",
       " 'When the Saints Go Marching In [Live]',\n",
       " 'Un-Break My Heart',\n",
       " \"Something's Burning, Baby\",\n",
       " 'Just Like This Train',\n",
       " 'You Angel You',\n",
       " 'Punishment Fits the Crime',\n",
       " 'Someday Baby',\n",
       " 'Went to See the Gypsy',\n",
       " 'I Want You',\n",
       " 'Step It Up and Go [Remastered]',\n",
       " 'God Knows',\n",
       " 'Code of Silence',\n",
       " 'If I Had a Hammer [*]',\n",
       " 'John Henry',\n",
       " 'I Want You',\n",
       " 'Held Up Without a Gun',\n",
       " 'I Want You',\n",
       " 'I Want You',\n",
       " 'I Want You',\n",
       " 'Never Gonna Be the Same Again',\n",
       " \"Don't Fall Apart on Me Tonight\",\n",
       " 'God Knows',\n",
       " \"Tell Me That It Isn't True\",\n",
       " 'Why Was I Born',\n",
       " 'This Nearly Was Mine',\n",
       " 'One for the Road',\n",
       " 'Mary Hamilton [Stereo][Multimedia Track]',\n",
       " 'Jet Pilot [#]',\n",
       " 'Black Rider',\n",
       " 'I Want You',\n",
       " 'To Be Alone with You',\n",
       " 'One for the Road',\n",
       " 'Heartland',\n",
       " 'Fortunate Son',\n",
       " 'Held Up Without a Gun [*]',\n",
       " 'Road to Nowhere',\n",
       " 'Jet Pilot',\n",
       " \"I Couldn't Sleep a Wink Last Night\",\n",
       " 'Step It Up and Go',\n",
       " 'Under the Red Sky',\n",
       " 'Mrs. McGrath [DVD]',\n",
       " 'You Angel You',\n",
       " \"Froggie Went a Courtin'\",\n",
       " 'I Want You [incomplete] [Live]',\n",
       " 'Somebody Touched Me',\n",
       " 'When the Saints Go Marching In',\n",
       " 'I Want You',\n",
       " 'Easy Money [CD]',\n",
       " 'Someday Baby [Alternate Version][#]',\n",
       " 'You Angel You',\n",
       " 'Someday Baby',\n",
       " 'You Angel You',\n",
       " \"Don't Fall Apart on Me Tonight\",\n",
       " \"Let's Be Friends (Skin to Skin)\",\n",
       " 'I Believe in Miracles',\n",
       " \"Don't Fall Apart On Me Tonight\",\n",
       " 'Awake [Live]',\n",
       " 'Billy 4']"
      ]
     },
     "execution_count": 122,
     "metadata": {},
     "output_type": "execute_result"
    }
   ],
   "source": [
    "lr_mist"
   ]
  },
  {
   "cell_type": "code",
   "execution_count": 123,
   "metadata": {},
   "outputs": [],
   "source": [
    "nb_mist = compare_nb ['song_title'].tolist()"
   ]
  },
  {
   "cell_type": "code",
   "execution_count": 124,
   "metadata": {},
   "outputs": [
    {
     "data": {
      "text/plain": [
       "['Someday Baby',\n",
       " 'I Want You [Take 1] [Take]',\n",
       " 'I Want You',\n",
       " 'I Want You',\n",
       " \"My Wife's Home Town\",\n",
       " 'Under the Red Sky',\n",
       " 'War',\n",
       " 'When Will I Be Loved',\n",
       " 'Bloodshot Eyes',\n",
       " 'War',\n",
       " 'Angel Eyes',\n",
       " 'Easy Money',\n",
       " 'The Ghost of Tom Joad',\n",
       " 'Held Up Without a Gun',\n",
       " 'I Want You',\n",
       " 'The Wrestler [*]',\n",
       " 'To Be Alone with You [Take 1] [Take]',\n",
       " \"My Wife's Home Town\",\n",
       " 'I Want You',\n",
       " 'Give My Love to Rose',\n",
       " 'This Ole House',\n",
       " 'Superstar',\n",
       " 'When the Saints Go Marching In [Live]',\n",
       " 'Un-Break My Heart',\n",
       " \"Something's Burning, Baby\",\n",
       " 'Just Like This Train',\n",
       " 'You Angel You',\n",
       " 'Punishment Fits the Crime',\n",
       " 'Someday Baby',\n",
       " 'Went to See the Gypsy',\n",
       " 'I Want You',\n",
       " 'Step It Up and Go [Remastered]',\n",
       " 'God Knows',\n",
       " 'Code of Silence',\n",
       " 'If I Had a Hammer [*]',\n",
       " 'John Henry',\n",
       " 'I Want You',\n",
       " 'Held Up Without a Gun',\n",
       " 'I Want You',\n",
       " 'I Want You',\n",
       " 'I Want You',\n",
       " 'Never Gonna Be the Same Again',\n",
       " \"Don't Fall Apart on Me Tonight\",\n",
       " 'God Knows',\n",
       " \"Tell Me That It Isn't True\",\n",
       " 'Why Was I Born',\n",
       " 'This Nearly Was Mine',\n",
       " 'One for the Road',\n",
       " 'Mary Hamilton [Stereo][Multimedia Track]',\n",
       " 'Jet Pilot [#]',\n",
       " 'Black Rider',\n",
       " 'I Want You',\n",
       " 'To Be Alone with You',\n",
       " 'One for the Road',\n",
       " 'Heartland',\n",
       " 'Fortunate Son',\n",
       " 'Held Up Without a Gun [*]',\n",
       " 'Road to Nowhere',\n",
       " 'Jet Pilot',\n",
       " \"I Couldn't Sleep a Wink Last Night\",\n",
       " 'Step It Up and Go',\n",
       " 'Under the Red Sky',\n",
       " 'Mrs. McGrath [DVD]',\n",
       " 'You Angel You',\n",
       " \"Froggie Went a Courtin'\",\n",
       " 'I Want You [incomplete] [Live]',\n",
       " 'Somebody Touched Me',\n",
       " 'When the Saints Go Marching In',\n",
       " 'I Want You',\n",
       " 'Easy Money [CD]',\n",
       " 'Someday Baby [Alternate Version][#]',\n",
       " 'You Angel You',\n",
       " 'Someday Baby',\n",
       " 'You Angel You',\n",
       " \"Don't Fall Apart on Me Tonight\",\n",
       " \"Let's Be Friends (Skin to Skin)\",\n",
       " 'I Believe in Miracles',\n",
       " \"Don't Fall Apart On Me Tonight\",\n",
       " 'Awake [Live]',\n",
       " 'Billy 4']"
      ]
     },
     "execution_count": 124,
     "metadata": {},
     "output_type": "execute_result"
    }
   ],
   "source": [
    "nb_mist"
   ]
  },
  {
   "cell_type": "code",
   "execution_count": 125,
   "metadata": {},
   "outputs": [],
   "source": [
    "compare_mist = [element for element in nb_mist if element not in lr_mist]\n"
   ]
  },
  {
   "cell_type": "code",
   "execution_count": 126,
   "metadata": {},
   "outputs": [
    {
     "data": {
      "text/plain": [
       "[]"
      ]
     },
     "execution_count": 126,
     "metadata": {},
     "output_type": "execute_result"
    }
   ],
   "source": [
    "compare_mist"
   ]
  },
  {
   "cell_type": "code",
   "execution_count": null,
   "metadata": {},
   "outputs": [],
   "source": []
  },
  {
   "cell_type": "code",
   "execution_count": null,
   "metadata": {},
   "outputs": [],
   "source": []
  },
  {
   "cell_type": "code",
   "execution_count": null,
   "metadata": {},
   "outputs": [],
   "source": []
  }
 ],
 "metadata": {
  "kernelspec": {
   "display_name": "Python 3",
   "language": "python",
   "name": "python3"
  },
  "language_info": {
   "codemirror_mode": {
    "name": "ipython",
    "version": 3
   },
   "file_extension": ".py",
   "mimetype": "text/x-python",
   "name": "python",
   "nbconvert_exporter": "python",
   "pygments_lexer": "ipython3",
   "version": "3.7.7"
  }
 },
 "nbformat": 4,
 "nbformat_minor": 4
}
