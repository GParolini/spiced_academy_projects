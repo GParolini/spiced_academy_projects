{
 "cells": [
  {
   "cell_type": "code",
   "execution_count": 26,
   "metadata": {},
   "outputs": [],
   "source": [
    "import requests\n",
    "import time\n",
    "#import schedule\n",
    "import pandas as pd"
   ]
  },
  {
   "cell_type": "code",
   "execution_count": 27,
   "metadata": {},
   "outputs": [],
   "source": [
    "cases = 'https://www.berlin.de/lageso/gesundheit/infektionsepidemiologie-infektionsschutz/corona/tabelle-indikatoren-gesamtuebersicht/index.php/index/all.json?q='\n",
    "boroughs = 'https://www.berlin.de/lageso/gesundheit/infektionsepidemiologie-infektionsschutz/corona/tabelle-bezirke-gesamtuebersicht/index.php/index/all.json?q='\n",
    "boroughs_gen = \"https://www.berlin.de/lageso/gesundheit/infektionsepidemiologie-infektionsschutz/corona/tabelle-bezirke/index.php/index/all.json?q=\"\n",
    "age_groups = 'https://www.berlin.de/lageso/gesundheit/infektionsepidemiologie-infektionsschutz/corona/tabelle-altersgruppen/index.php/index/all.json?q='\n",
    "incidence = 'https://www.berlin.de/lageso/gesundheit/infektionsepidemiologie-infektionsschutz/corona/tabelle-altersgruppen-gesamtuebersicht/index.php/index/all.json?q='"
   ]
  },
  {
   "cell_type": "code",
   "execution_count": 30,
   "metadata": {},
   "outputs": [],
   "source": [
    "def reading_task(api_request):\n",
    "        response = requests.get(api_request)\n",
    "        tab = pd.DataFrame(response.json()['index'])\n",
    "        return tab"
   ]
  },
  {
   "cell_type": "code",
   "execution_count": 39,
   "metadata": {},
   "outputs": [],
   "source": [
    "cases_data = reading_task(cases)\n",
    "boroughs_data = reading_task (boroughs)\n",
    "boroughs_gen_data = reading_task (boroughs_gen)\n",
    "age_groups_data = reading_task (age_groups)\n",
    "incidence_data = reading_task (incidence)"
   ]
  },
  {
   "cell_type": "code",
   "execution_count": 50,
   "metadata": {},
   "outputs": [],
   "source": [
    "cases_dict = {\"id\":\"id\", \"datum\":\"date\",\"fallzahl\":\"cases\", \"neue_faelle\":\"new_cases\", \n",
    "              \"genesene\":\"recovered\",\"todesfaelle\":\"deaths\",\"7_tage_inzidenz\":\"7_days_incidence\",\n",
    "             \"rel_veraenderung_der_7_tage_inzidenz\":\"rel_change_7_d_inc\", \n",
    "              \"its_belegung\": \"ICU occupancy\", \"4_tage_r_wert_berlin_rki\":\"4_days_r_value_rki\"}\n",
    "\n",
    "cases_data = cases_data.rename(columns=cases_dict)"
   ]
  },
  {
   "cell_type": "code",
   "execution_count": 79,
   "metadata": {},
   "outputs": [
    {
     "data": {
      "text/html": [
       "<div>\n",
       "<style scoped>\n",
       "    .dataframe tbody tr th:only-of-type {\n",
       "        vertical-align: middle;\n",
       "    }\n",
       "\n",
       "    .dataframe tbody tr th {\n",
       "        vertical-align: top;\n",
       "    }\n",
       "\n",
       "    .dataframe thead th {\n",
       "        text-align: right;\n",
       "    }\n",
       "</style>\n",
       "<table border=\"1\" class=\"dataframe\">\n",
       "  <thead>\n",
       "    <tr style=\"text-align: right;\">\n",
       "      <th></th>\n",
       "      <th>id</th>\n",
       "      <th>date</th>\n",
       "      <th>cases</th>\n",
       "      <th>new_cases</th>\n",
       "      <th>recovered</th>\n",
       "      <th>deaths</th>\n",
       "      <th>7_days_incidence</th>\n",
       "      <th>rel_change_7_d_inc</th>\n",
       "      <th>ICU occupancy</th>\n",
       "      <th>4_days_r_value_rki</th>\n",
       "    </tr>\n",
       "  </thead>\n",
       "  <tbody>\n",
       "    <tr>\n",
       "      <th>0</th>\n",
       "      <td>1201</td>\n",
       "      <td>2021-04-20</td>\n",
       "      <td>160479</td>\n",
       "      <td>759</td>\n",
       "      <td>146833</td>\n",
       "      <td>3163</td>\n",
       "      <td>152</td>\n",
       "      <td>17.9</td>\n",
       "      <td>26.3</td>\n",
       "      <td>0</td>\n",
       "    </tr>\n",
       "  </tbody>\n",
       "</table>\n",
       "</div>"
      ],
      "text/plain": [
       "     id        date   cases new_cases recovered deaths 7_days_incidence  \\\n",
       "0  1201  2021-04-20  160479       759    146833   3163              152   \n",
       "\n",
       "  rel_change_7_d_inc ICU occupancy 4_days_r_value_rki  \n",
       "0               17.9          26.3                  0  "
      ]
     },
     "execution_count": 79,
     "metadata": {},
     "output_type": "execute_result"
    }
   ],
   "source": [
    "cases_data[cases_data.eq().any(1)]"
   ]
  },
  {
   "cell_type": "code",
   "execution_count": 69,
   "metadata": {},
   "outputs": [
    {
     "data": {
      "text/html": [
       "<div>\n",
       "<style scoped>\n",
       "    .dataframe tbody tr th:only-of-type {\n",
       "        vertical-align: middle;\n",
       "    }\n",
       "\n",
       "    .dataframe tbody tr th {\n",
       "        vertical-align: top;\n",
       "    }\n",
       "\n",
       "    .dataframe thead th {\n",
       "        text-align: right;\n",
       "    }\n",
       "</style>\n",
       "<table border=\"1\" class=\"dataframe\">\n",
       "  <thead>\n",
       "    <tr style=\"text-align: right;\">\n",
       "      <th></th>\n",
       "      <th>id</th>\n",
       "      <th>date</th>\n",
       "      <th>cases</th>\n",
       "      <th>new_cases</th>\n",
       "      <th>recovered</th>\n",
       "      <th>deaths</th>\n",
       "      <th>7_days_incidence</th>\n",
       "      <th>rel_change_7_d_inc</th>\n",
       "      <th>ICU occupancy</th>\n",
       "      <th>4_days_r_value_rki</th>\n",
       "    </tr>\n",
       "  </thead>\n",
       "  <tbody>\n",
       "    <tr>\n",
       "      <th>0</th>\n",
       "      <td>1201</td>\n",
       "      <td>2021-04-20</td>\n",
       "      <td>160479</td>\n",
       "      <td>759</td>\n",
       "      <td>146833</td>\n",
       "      <td>3163</td>\n",
       "      <td>152</td>\n",
       "      <td>17.9</td>\n",
       "      <td>26.3</td>\n",
       "      <td>0</td>\n",
       "    </tr>\n",
       "    <tr>\n",
       "      <th>1</th>\n",
       "      <td>1198</td>\n",
       "      <td>2021-04-19</td>\n",
       "      <td>159720</td>\n",
       "      <td>463</td>\n",
       "      <td>145969</td>\n",
       "      <td>3153</td>\n",
       "      <td>152.4</td>\n",
       "      <td>31.4</td>\n",
       "      <td>26.2</td>\n",
       "      <td>0</td>\n",
       "    </tr>\n",
       "    <tr>\n",
       "      <th>2</th>\n",
       "      <td>1195</td>\n",
       "      <td>2021-04-18</td>\n",
       "      <td>159257</td>\n",
       "      <td>401</td>\n",
       "      <td>145262</td>\n",
       "      <td>3150</td>\n",
       "      <td>152.1</td>\n",
       "      <td>28.8</td>\n",
       "      <td>26.2</td>\n",
       "      <td>0</td>\n",
       "    </tr>\n",
       "    <tr>\n",
       "      <th>3</th>\n",
       "      <td>1192</td>\n",
       "      <td>2021-04-17</td>\n",
       "      <td>158856</td>\n",
       "      <td>548</td>\n",
       "      <td>144893</td>\n",
       "      <td>3151</td>\n",
       "      <td>155</td>\n",
       "      <td>26</td>\n",
       "      <td>26</td>\n",
       "      <td>0</td>\n",
       "    </tr>\n",
       "    <tr>\n",
       "      <th>4</th>\n",
       "      <td>1189</td>\n",
       "      <td>2021-04-16</td>\n",
       "      <td>158308</td>\n",
       "      <td>1288</td>\n",
       "      <td>144284</td>\n",
       "      <td>3147</td>\n",
       "      <td>159.6</td>\n",
       "      <td>55</td>\n",
       "      <td>26.1</td>\n",
       "      <td>0</td>\n",
       "    </tr>\n",
       "  </tbody>\n",
       "</table>\n",
       "</div>"
      ],
      "text/plain": [
       "     id        date   cases new_cases recovered deaths 7_days_incidence  \\\n",
       "0  1201  2021-04-20  160479       759    146833   3163              152   \n",
       "1  1198  2021-04-19  159720       463    145969   3153            152.4   \n",
       "2  1195  2021-04-18  159257       401    145262   3150            152.1   \n",
       "3  1192  2021-04-17  158856       548    144893   3151              155   \n",
       "4  1189  2021-04-16  158308      1288    144284   3147            159.6   \n",
       "\n",
       "  rel_change_7_d_inc ICU occupancy 4_days_r_value_rki  \n",
       "0               17.9          26.3                  0  \n",
       "1               31.4          26.2                  0  \n",
       "2               28.8          26.2                  0  \n",
       "3                 26            26                  0  \n",
       "4                 55          26.1                  0  "
      ]
     },
     "execution_count": 69,
     "metadata": {},
     "output_type": "execute_result"
    }
   ],
   "source": [
    "cases_data.head()"
   ]
  },
  {
   "cell_type": "code",
   "execution_count": 74,
   "metadata": {},
   "outputs": [
    {
     "data": {
      "text/plain": [
       "id                             int64\n",
       "date                  datetime64[ns]\n",
       "cases                          int64\n",
       "new_cases                      int64\n",
       "recovered                      int64\n",
       "deaths                         int64\n",
       "7_days_incidence             float64\n",
       "rel_change_7_d_inc           float64\n",
       "ICU occupancy                float64\n",
       "4_days_r_value_rki           float64\n",
       "dtype: object"
      ]
     },
     "execution_count": 74,
     "metadata": {},
     "output_type": "execute_result"
    }
   ],
   "source": [
    "cases_data.astype({'id': 'int64', 'cases':'int64','date':'datetime64','new_cases':'int64',\n",
    "                   'recovered':'int64', 'deaths':'int64','7_days_incidence':'float64', \n",
    "                   'rel_change_7_d_inc':'float64', 'ICU occupancy':'float64',\n",
    "                   '4_days_r_value_rki':'float64'}).dtypes"
   ]
  },
  {
   "cell_type": "code",
   "execution_count": 65,
   "metadata": {},
   "outputs": [
    {
     "data": {
      "text/plain": [
       "id                    object\n",
       "date                  object\n",
       "cases                 object\n",
       "new_cases             object\n",
       "recovered             object\n",
       "deaths                object\n",
       "7_days_incidence      object\n",
       "rel_change_7_d_inc    object\n",
       "ICU occupancy         object\n",
       "4_days_r_value_rki    object\n",
       "dtype: object"
      ]
     },
     "execution_count": 65,
     "metadata": {},
     "output_type": "execute_result"
    }
   ],
   "source": [
    "cases_data.dtypes"
   ]
  },
  {
   "cell_type": "code",
   "execution_count": 63,
   "metadata": {},
   "outputs": [
    {
     "data": {
      "text/plain": [
       "id                    object\n",
       "date                  object\n",
       "cases                 object\n",
       "new_cases             object\n",
       "recovered             object\n",
       "deaths                object\n",
       "7_days_incidence      object\n",
       "rel_change_7_d_inc    object\n",
       "ICU occupancy         object\n",
       "4_days_r_value_rki    object\n",
       "dtype: object"
      ]
     },
     "execution_count": 63,
     "metadata": {},
     "output_type": "execute_result"
    }
   ],
   "source": [
    "cases_data.dtypes"
   ]
  },
  {
   "cell_type": "code",
   "execution_count": 4,
   "metadata": {},
   "outputs": [
    {
     "name": "stdout",
     "output_type": "stream",
     "text": [
      "Successful response\n",
      "Successful response\n",
      "Successful response\n",
      "Successful response\n",
      "Successful response\n"
     ]
    },
    {
     "ename": "KeyboardInterrupt",
     "evalue": "",
     "output_type": "error",
     "traceback": [
      "\u001b[0;31m---------------------------------------------------------------------------\u001b[0m",
      "\u001b[0;31mKeyboardInterrupt\u001b[0m                         Traceback (most recent call last)",
      "\u001b[0;32m<ipython-input-4-ce7650fac637>\u001b[0m in \u001b[0;36m<module>\u001b[0;34m\u001b[0m\n\u001b[1;32m      7\u001b[0m \u001b[0;32mwhile\u001b[0m \u001b[0;32mTrue\u001b[0m\u001b[0;34m:\u001b[0m\u001b[0;34m\u001b[0m\u001b[0;34m\u001b[0m\u001b[0m\n\u001b[1;32m      8\u001b[0m     \u001b[0mschedule\u001b[0m\u001b[0;34m.\u001b[0m\u001b[0mrun_pending\u001b[0m\u001b[0;34m(\u001b[0m\u001b[0;34m)\u001b[0m\u001b[0;34m\u001b[0m\u001b[0;34m\u001b[0m\u001b[0m\n\u001b[0;32m----> 9\u001b[0;31m     \u001b[0mtime\u001b[0m\u001b[0;34m.\u001b[0m\u001b[0msleep\u001b[0m\u001b[0;34m(\u001b[0m\u001b[0;36m1\u001b[0m\u001b[0;34m)\u001b[0m\u001b[0;34m\u001b[0m\u001b[0;34m\u001b[0m\u001b[0m\n\u001b[0m",
      "\u001b[0;31mKeyboardInterrupt\u001b[0m: "
     ]
    }
   ],
   "source": [
    "cases_data = schedule.every().day.at(\"22:02\").do(reading_task, api_request = cases)\n",
    "boroughs_data = schedule.every().day.at(\"22:03\").do(reading_task, api_request = boroughs)\n",
    "boroughs_gen_data = schedule.every().day.at(\"22:04\").do(reading_task, api_request = boroughs_gen)\n",
    "age_groups = schedule.every().day.at(\"22:05\").do(reading_task, api_request = age_groups)\n",
    "incidence = schedule.every().day.at(\"22:06\").do(reading_task, api_request = incidence)\n",
    "\n",
    "while True:\n",
    "    schedule.run_pending()\n",
    "    time.sleep(1)"
   ]
  },
  {
   "cell_type": "code",
   "execution_count": null,
   "metadata": {},
   "outputs": [],
   "source": [
    "cases_data"
   ]
  },
  {
   "cell_type": "code",
   "execution_count": null,
   "metadata": {},
   "outputs": [],
   "source": [
    "age_groups_info = requests.get(age_groups).json()\n"
   ]
  },
  {
   "cell_type": "code",
   "execution_count": null,
   "metadata": {},
   "outputs": [],
   "source": [
    "df = pd.DataFrame(age_groups_info['index'])"
   ]
  },
  {
   "cell_type": "code",
   "execution_count": null,
   "metadata": {},
   "outputs": [],
   "source": [
    "df.info()"
   ]
  },
  {
   "cell_type": "code",
   "execution_count": null,
   "metadata": {},
   "outputs": [],
   "source": [
    "#while True:\n",
    "    #for item in tab_lst:\n",
    "        #response = requests.get(item)\n",
    "        #print(response.json()['results'])\n",
    "        #time.sleep(30)"
   ]
  },
  {
   "cell_type": "code",
   "execution_count": null,
   "metadata": {},
   "outputs": [],
   "source": []
  },
  {
   "cell_type": "code",
   "execution_count": null,
   "metadata": {},
   "outputs": [],
   "source": []
  }
 ],
 "metadata": {
  "kernelspec": {
   "display_name": "Python 3",
   "language": "python",
   "name": "python3"
  },
  "language_info": {
   "codemirror_mode": {
    "name": "ipython",
    "version": 3
   },
   "file_extension": ".py",
   "mimetype": "text/x-python",
   "name": "python",
   "nbconvert_exporter": "python",
   "pygments_lexer": "ipython3",
   "version": "3.7.7"
  }
 },
 "nbformat": 4,
 "nbformat_minor": 4
}
