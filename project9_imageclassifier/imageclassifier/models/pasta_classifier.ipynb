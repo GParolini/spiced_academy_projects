{
 "cells": [
  {
   "cell_type": "markdown",
   "id": "f535dfcb-fa4d-466c-bf13-6b735d2dd921",
   "metadata": {},
   "source": [
    "# Project 9: Pasta classifier with CNNs\n",
    "\n",
    "The notebook explains how to use a convolutional neural network to recognise images of different types of pasta. The project was developed as part of the Spiced Academy Data Science Bootcamp."
   ]
  },
  {
   "cell_type": "code",
   "execution_count": 30,
   "id": "7f35de27-f8c7-4ba0-9c17-942d75aee442",
   "metadata": {
    "tags": []
   },
   "outputs": [],
   "source": [
    "# imports\n",
    "\n",
    "\n",
    "import os\n",
    "import glob\n",
    "import numpy as np\n",
    "\n",
    "import matplotlib.pyplot as plt\n",
    "\n",
    "from tensorflow.keras.preprocessing.image import load_img, img_to_array\n",
    "\n",
    "# model\n",
    "from tensorflow.keras.models import Sequential\n",
    "\n",
    "# layers\n",
    "from tensorflow.keras.layers import Dense, Conv2D, MaxPool2D, Activation, Flatten\n",
    "\n",
    "# categorical\n",
    "from tensorflow.keras.utils import to_categorical\n",
    "\n",
    "#optimizer\n",
    "from tensorflow.keras.optimizers import Adam\n",
    "\n",
    "#callbacks\n",
    "from tensorflow.keras.callbacks import EarlyStopping\n"
   ]
  },
  {
   "cell_type": "markdown",
   "id": "bc012d15-2b73-4e5b-bc25-c21f02257a73",
   "metadata": {},
   "source": [
    "## Importing the images data and preprocessing them"
   ]
  },
  {
   "cell_type": "code",
   "execution_count": 31,
   "id": "4eec5b81-3d99-475c-8fd6-3e0601919cc5",
   "metadata": {},
   "outputs": [],
   "source": [
    "X = []"
   ]
  },
  {
   "cell_type": "code",
   "execution_count": 32,
   "id": "bf5ab65a-8b06-4690-99c0-af461502b4c6",
   "metadata": {},
   "outputs": [],
   "source": [
    "y = []"
   ]
  },
  {
   "cell_type": "code",
   "execution_count": 33,
   "id": "2f53d0ab-5bcc-43dc-9008-625e9db48d22",
   "metadata": {
    "tags": []
   },
   "outputs": [],
   "source": [
    "classes = ['farfalle', 'fusilli','linguine', 'penne']"
   ]
  },
  {
   "cell_type": "code",
   "execution_count": 34,
   "id": "7ee081e4-4e44-4a61-ae83-c2a5252c7c8a",
   "metadata": {},
   "outputs": [],
   "source": [
    "base_path ='/Users/giudittaparolini/Documents/Bootcamp/vanilla-vectors-student-code/project9_imageclassifier/imageclassifier/data/'"
   ]
  },
  {
   "cell_type": "code",
   "execution_count": 35,
   "id": "9125b2cb-d59e-42a8-bbc4-6228717c8e4e",
   "metadata": {},
   "outputs": [],
   "source": [
    "for i, target in enumerate(classes):\n",
    "    files = glob.glob(os.path.join(base_path,target,'*.png'), recursive = True)\n",
    "\n",
    "    for file in files:\n",
    "        img =load_img(os.path.join(base_path,target,file), grayscale=False, color_mode='rgb', target_size=(224,224))\n",
    "        img_array = img_to_array(img, data_format=None, dtype=None)\n",
    "        X.append(img_array)\n",
    "        if target == 'farfalle':\n",
    "            y.append(0)\n",
    "        elif target == 'fusilli':\n",
    "            y.append(1)\n",
    "        elif target == 'linguine':\n",
    "            y.append(2)\n",
    "        elif target == 'penne':\n",
    "            y.append(3)\n",
    "        else:\n",
    "            raise Exception(\"Sorry, this type of pasta is not available\")\n",
    "  \n",
    "    "
   ]
  },
  {
   "cell_type": "code",
   "execution_count": 36,
   "id": "8fc24210-25ea-45d6-b5d1-db802f41eaaf",
   "metadata": {},
   "outputs": [
    {
     "name": "stdout",
     "output_type": "stream",
     "text": [
      "(516, 224, 224, 3)\n"
     ]
    }
   ],
   "source": [
    "# Reshaping the arrays\n",
    "X=np.array(X)\n",
    "print(X.shape)\n"
   ]
  },
  {
   "cell_type": "code",
   "execution_count": 37,
   "id": "f5340f08-fb01-4fd3-ac2d-6ec736bfc177",
   "metadata": {},
   "outputs": [
    {
     "name": "stdout",
     "output_type": "stream",
     "text": [
      "<class 'numpy.ndarray'>\n"
     ]
    }
   ],
   "source": [
    "print(type(X))"
   ]
  },
  {
   "cell_type": "code",
   "execution_count": 38,
   "id": "6d8d9f2f-eb66-4a8e-8009-d833c30702e0",
   "metadata": {},
   "outputs": [
    {
     "data": {
      "text/plain": [
       "516"
      ]
     },
     "execution_count": 38,
     "metadata": {},
     "output_type": "execute_result"
    }
   ],
   "source": [
    "X.reshape(-1,224,224,3)\n",
    "len(X)"
   ]
  },
  {
   "cell_type": "code",
   "execution_count": 39,
   "id": "7525856b-935e-4ca6-81a4-03ef1906b5af",
   "metadata": {},
   "outputs": [
    {
     "name": "stdout",
     "output_type": "stream",
     "text": [
      "(516,)\n"
     ]
    }
   ],
   "source": [
    "y=np.array(y)\n",
    "print(y.shape)"
   ]
  },
  {
   "cell_type": "code",
   "execution_count": 40,
   "id": "9231e0c9-928f-4a45-b07a-8607507b618e",
   "metadata": {},
   "outputs": [
    {
     "name": "stdout",
     "output_type": "stream",
     "text": [
      "[0 0 0 0 0 0 0 0 0 0 0 0 0 0 0 0 0 0 0 0 0 0 0 0 0 0 0 0 0 0 0 0 0 0 0 0 0\n",
      " 0 0 0 0 0 0 0 0 0 0 0 0 0 0 0 0 0 0 0 0 0 0 0 0 0 0 0 0 0 0 0 0 0 0 0 0 0\n",
      " 0 0 0 0 0 0 0 0 0 0 0 0 0 0 0 0 0 0 0 0 0 0 0 0 0 0 0 0 0 0 0 0 0 0 0 0 0\n",
      " 0 0 0 0 0 0 0 0 0 0 0 0 0 0 0 0 0 0 1 1 1 1 1 1 1 1 1 1 1 1 1 1 1 1 1 1 1\n",
      " 1 1 1 1 1 1 1 1 1 1 1 1 1 1 1 1 1 1 1 1 1 1 1 1 1 1 1 1 1 1 1 1 1 1 1 1 1\n",
      " 1 1 1 1 1 1 1 1 1 1 1 1 1 1 1 1 1 1 1 1 1 1 1 1 1 1 1 1 1 1 1 1 1 1 1 1 1\n",
      " 1 1 1 1 1 1 1 1 1 1 1 1 1 1 1 1 1 1 1 1 1 1 1 1 1 1 1 1 1 1 1 1 1 1 1 1 2\n",
      " 2 2 2 2 2 2 2 2 2 2 2 2 2 2 2 2 2 2 2 2 2 2 2 2 2 2 2 2 2 2 2 2 2 2 2 2 2\n",
      " 2 2 2 2 2 2 2 2 2 2 2 2 2 2 2 2 2 2 2 2 2 2 2 2 2 2 2 2 2 2 2 2 2 2 2 2 2\n",
      " 2 2 2 2 2 2 2 2 2 2 2 2 2 2 2 2 2 2 2 2 2 2 2 2 2 2 2 2 2 2 2 2 2 2 2 2 2\n",
      " 2 2 2 2 2 2 2 2 2 2 2 2 2 2 2 2 2 3 3 3 3 3 3 3 3 3 3 3 3 3 3 3 3 3 3 3 3\n",
      " 3 3 3 3 3 3 3 3 3 3 3 3 3 3 3 3 3 3 3 3 3 3 3 3 3 3 3 3 3 3 3 3 3 3 3 3 3\n",
      " 3 3 3 3 3 3 3 3 3 3 3 3 3 3 3 3 3 3 3 3 3 3 3 3 3 3 3 3 3 3 3 3 3 3 3 3 3\n",
      " 3 3 3 3 3 3 3 3 3 3 3 3 3 3 3 3 3 3 3 3 3 3 3 3 3 3 3 3 3 3 3 3 3 3 3]\n"
     ]
    }
   ],
   "source": [
    "print(y)"
   ]
  },
  {
   "cell_type": "code",
   "execution_count": 41,
   "id": "6efa5b0b-0994-4669-9035-c5d2706a0e25",
   "metadata": {},
   "outputs": [
    {
     "data": {
      "text/plain": [
       "(516, 4)"
      ]
     },
     "execution_count": 41,
     "metadata": {},
     "output_type": "execute_result"
    }
   ],
   "source": [
    "y = to_categorical(y)\n",
    "y.shape"
   ]
  },
  {
   "cell_type": "code",
   "execution_count": 42,
   "id": "dee14c2d-f7f0-4b83-8915-a7f03dfb3da3",
   "metadata": {},
   "outputs": [
    {
     "data": {
      "text/plain": [
       "(516, 224, 224, 3)"
      ]
     },
     "execution_count": 42,
     "metadata": {},
     "output_type": "execute_result"
    }
   ],
   "source": [
    "X.shape"
   ]
  },
  {
   "cell_type": "markdown",
   "id": "c4b6458d-3295-4957-a727-56a50c5a4182",
   "metadata": {},
   "source": [
    "## Creating the CNN model"
   ]
  },
  {
   "cell_type": "code",
   "execution_count": 43,
   "id": "c40babda-c098-46fd-9e81-0c1f43460da9",
   "metadata": {},
   "outputs": [],
   "source": [
    "model = Sequential([\n",
    "    # First convolutional layer\n",
    "    Conv2D(filters=6, kernel_size=(3,3), input_shape=(224,224,3), padding='same'),\n",
    "    MaxPool2D(pool_size=(2,2), strides=(1,1)),\n",
    "    Activation('tanh'),\n",
    "    \n",
    "    # Second convolutional layer\n",
    "    Conv2D(filters=3, kernel_size=(3,3), input_shape=(224,224,3), padding='same'),\n",
    "    MaxPool2D(pool_size=(2,2), strides=(1,1)),\n",
    "    Activation('relu'),\n",
    "    \n",
    "    # Flatten and Dense\n",
    "    Flatten(),\n",
    "    Dense(units=4, activation='softmax')\n",
    "])"
   ]
  },
  {
   "cell_type": "code",
   "execution_count": 44,
   "id": "7ccd0e42-6671-4344-9b19-10cae4363b94",
   "metadata": {},
   "outputs": [
    {
     "name": "stdout",
     "output_type": "stream",
     "text": [
      "Model: \"sequential_1\"\n",
      "_________________________________________________________________\n",
      "Layer (type)                 Output Shape              Param #   \n",
      "=================================================================\n",
      "conv2d_2 (Conv2D)            (None, 224, 224, 6)       168       \n",
      "_________________________________________________________________\n",
      "max_pooling2d_2 (MaxPooling2 (None, 223, 223, 6)       0         \n",
      "_________________________________________________________________\n",
      "activation_2 (Activation)    (None, 223, 223, 6)       0         \n",
      "_________________________________________________________________\n",
      "conv2d_3 (Conv2D)            (None, 223, 223, 3)       165       \n",
      "_________________________________________________________________\n",
      "max_pooling2d_3 (MaxPooling2 (None, 222, 222, 3)       0         \n",
      "_________________________________________________________________\n",
      "activation_3 (Activation)    (None, 222, 222, 3)       0         \n",
      "_________________________________________________________________\n",
      "flatten_1 (Flatten)          (None, 147852)            0         \n",
      "_________________________________________________________________\n",
      "dense_1 (Dense)              (None, 4)                 591412    \n",
      "=================================================================\n",
      "Total params: 591,745\n",
      "Trainable params: 591,745\n",
      "Non-trainable params: 0\n",
      "_________________________________________________________________\n"
     ]
    }
   ],
   "source": [
    "model.summary()"
   ]
  },
  {
   "cell_type": "code",
   "execution_count": 45,
   "id": "c335dd3a-7dc2-4f76-8b94-8362ba146fa9",
   "metadata": {},
   "outputs": [],
   "source": [
    "#compile the model\n",
    "model.compile(optimizer='rmsprop', loss='categorical_crossentropy',\n",
    "              metrics=['accuracy']\n",
    ")"
   ]
  },
  {
   "cell_type": "code",
   "execution_count": 46,
   "id": "ac8c5b07-b21c-4fbf-9193-78ff45f96e38",
   "metadata": {},
   "outputs": [],
   "source": [
    "#inserting a callback\n",
    "callback = EarlyStopping(monitor='val_loss',\n",
    "                                         min_delta=0.001,\n",
    "                                         patience=5,\n",
    "                                         mode='min')"
   ]
  },
  {
   "cell_type": "code",
   "execution_count": 47,
   "id": "13c5c8a6-bcad-4a54-862d-41383d9e8d3a",
   "metadata": {},
   "outputs": [
    {
     "name": "stdout",
     "output_type": "stream",
     "text": [
      "Epoch 1/50\n",
      "13/13 [==============================] - 13s 918ms/step - loss: 1.5045 - accuracy: 0.3342 - val_loss: 2.7309 - val_accuracy: 0.0000e+00\n",
      "Epoch 2/50\n",
      "13/13 [==============================] - 18s 1s/step - loss: 1.1220 - accuracy: 0.6341 - val_loss: 2.8721 - val_accuracy: 0.0000e+00\n",
      "Epoch 3/50\n",
      "13/13 [==============================] - 15s 1s/step - loss: 0.7771 - accuracy: 0.7616 - val_loss: 3.8033 - val_accuracy: 0.0096\n",
      "Epoch 4/50\n",
      "13/13 [==============================] - 16s 1s/step - loss: 0.3603 - accuracy: 0.9183 - val_loss: 4.8024 - val_accuracy: 0.0769\n",
      "Epoch 5/50\n",
      "13/13 [==============================] - 13s 980ms/step - loss: 0.2120 - accuracy: 0.9446 - val_loss: 4.2143 - val_accuracy: 0.1635\n",
      "Epoch 6/50\n",
      "13/13 [==============================] - 12s 946ms/step - loss: 0.0471 - accuracy: 0.9981 - val_loss: 7.8002 - val_accuracy: 0.0865\n",
      "Epoch 7/50\n",
      "13/13 [==============================] - 14s 1s/step - loss: 0.1268 - accuracy: 0.9845 - val_loss: 5.6756 - val_accuracy: 0.1442\n",
      "Epoch 8/50\n",
      "13/13 [==============================] - 14s 1s/step - loss: 0.0771 - accuracy: 0.9748 - val_loss: 6.6836 - val_accuracy: 0.1346\n",
      "Epoch 9/50\n",
      "13/13 [==============================] - 14s 1s/step - loss: 0.0068 - accuracy: 1.0000 - val_loss: 8.4340 - val_accuracy: 0.0962\n",
      "Epoch 10/50\n",
      "13/13 [==============================] - 14s 1s/step - loss: 0.0022 - accuracy: 1.0000 - val_loss: 9.4668 - val_accuracy: 0.0962\n",
      "Epoch 11/50\n",
      "13/13 [==============================] - 12s 964ms/step - loss: 7.8667e-04 - accuracy: 1.0000 - val_loss: 10.2173 - val_accuracy: 0.1058\n",
      "Epoch 12/50\n",
      "13/13 [==============================] - 13s 1s/step - loss: 3.0722e-04 - accuracy: 1.0000 - val_loss: 10.6817 - val_accuracy: 0.1250\n",
      "Epoch 13/50\n",
      "13/13 [==============================] - 13s 1s/step - loss: 1.5694e-04 - accuracy: 1.0000 - val_loss: 10.9672 - val_accuracy: 0.1250\n",
      "Epoch 14/50\n",
      "13/13 [==============================] - 18s 1s/step - loss: 6.8473e-05 - accuracy: 1.0000 - val_loss: 11.4909 - val_accuracy: 0.1250\n",
      "Epoch 15/50\n",
      "13/13 [==============================] - 15s 1s/step - loss: 3.3637e-05 - accuracy: 1.0000 - val_loss: 11.5727 - val_accuracy: 0.1442\n",
      "Epoch 16/50\n",
      "13/13 [==============================] - 15s 1s/step - loss: 1.4838e-05 - accuracy: 1.0000 - val_loss: 12.1981 - val_accuracy: 0.1442\n",
      "Epoch 17/50\n",
      "13/13 [==============================] - 13s 1s/step - loss: 5.9461e-06 - accuracy: 1.0000 - val_loss: 12.1508 - val_accuracy: 0.1538\n",
      "Epoch 18/50\n",
      "13/13 [==============================] - 13s 987ms/step - loss: 2.8044e-06 - accuracy: 1.0000 - val_loss: 12.4997 - val_accuracy: 0.1538\n",
      "Epoch 19/50\n",
      "13/13 [==============================] - 12s 933ms/step - loss: 1.3093e-06 - accuracy: 1.0000 - val_loss: 12.8561 - val_accuracy: 0.1538\n",
      "Epoch 20/50\n",
      "13/13 [==============================] - 12s 911ms/step - loss: 7.3151e-07 - accuracy: 1.0000 - val_loss: 13.0050 - val_accuracy: 0.1538\n",
      "Epoch 21/50\n",
      "13/13 [==============================] - 15s 1s/step - loss: 3.4237e-07 - accuracy: 1.0000 - val_loss: 13.2044 - val_accuracy: 0.1538\n",
      "Epoch 22/50\n",
      "13/13 [==============================] - 15s 1s/step - loss: 1.9253e-07 - accuracy: 1.0000 - val_loss: 13.4051 - val_accuracy: 0.1442\n",
      "Epoch 23/50\n",
      "13/13 [==============================] - 13s 1s/step - loss: 9.5131e-08 - accuracy: 1.0000 - val_loss: 13.9576 - val_accuracy: 0.1442\n",
      "Epoch 24/50\n",
      "13/13 [==============================] - 17s 1s/step - loss: 5.2694e-08 - accuracy: 1.0000 - val_loss: 14.5294 - val_accuracy: 0.1442\n",
      "Epoch 25/50\n",
      "13/13 [==============================] - 16s 1s/step - loss: 2.7449e-08 - accuracy: 1.0000 - val_loss: 14.2458 - val_accuracy: 0.1635\n",
      "Epoch 26/50\n",
      "13/13 [==============================] - 14s 1s/step - loss: 1.2301e-08 - accuracy: 1.0000 - val_loss: 15.5238 - val_accuracy: 0.1538\n",
      "Epoch 27/50\n",
      "13/13 [==============================] - 13s 937ms/step - loss: 1.5912 - accuracy: 0.9265 - val_loss: 9.2628 - val_accuracy: 0.0673\n",
      "Epoch 28/50\n",
      "13/13 [==============================] - 13s 1s/step - loss: 0.0251 - accuracy: 0.9903 - val_loss: 8.3981 - val_accuracy: 0.1442\n",
      "Epoch 29/50\n",
      "13/13 [==============================] - 13s 1s/step - loss: 0.0032 - accuracy: 1.0000 - val_loss: 9.6237 - val_accuracy: 0.1058\n",
      "Epoch 30/50\n",
      "13/13 [==============================] - 11s 869ms/step - loss: 0.0013 - accuracy: 1.0000 - val_loss: 9.9198 - val_accuracy: 0.1058\n",
      "Epoch 31/50\n",
      "13/13 [==============================] - 16s 1s/step - loss: 7.9558e-04 - accuracy: 1.0000 - val_loss: 10.2090 - val_accuracy: 0.0865\n",
      "Epoch 32/50\n",
      "13/13 [==============================] - 12s 947ms/step - loss: 4.7306e-04 - accuracy: 1.0000 - val_loss: 10.1885 - val_accuracy: 0.1058\n",
      "Epoch 33/50\n",
      "13/13 [==============================] - 13s 1s/step - loss: 2.9829e-04 - accuracy: 1.0000 - val_loss: 10.5939 - val_accuracy: 0.0962\n",
      "Epoch 34/50\n",
      "13/13 [==============================] - 12s 918ms/step - loss: 1.6141e-04 - accuracy: 1.0000 - val_loss: 11.3559 - val_accuracy: 0.0865\n",
      "Epoch 35/50\n",
      "13/13 [==============================] - 12s 901ms/step - loss: 9.2988e-05 - accuracy: 1.0000 - val_loss: 11.7232 - val_accuracy: 0.0962\n",
      "Epoch 36/50\n",
      "13/13 [==============================] - 11s 881ms/step - loss: 5.3302e-05 - accuracy: 1.0000 - val_loss: 12.4160 - val_accuracy: 0.1058\n",
      "Epoch 37/50\n",
      "13/13 [==============================] - 11s 885ms/step - loss: 2.3794e-05 - accuracy: 1.0000 - val_loss: 12.7084 - val_accuracy: 0.1058\n",
      "Epoch 38/50\n",
      "13/13 [==============================] - 11s 871ms/step - loss: 1.3048e-05 - accuracy: 1.0000 - val_loss: 13.0035 - val_accuracy: 0.1058\n",
      "Epoch 39/50\n",
      "13/13 [==============================] - 13s 978ms/step - loss: 6.0550e-06 - accuracy: 1.0000 - val_loss: 13.5413 - val_accuracy: 0.1058\n",
      "Epoch 40/50\n",
      "13/13 [==============================] - 12s 912ms/step - loss: 2.9180e-06 - accuracy: 1.0000 - val_loss: 14.0548 - val_accuracy: 0.1058\n",
      "Epoch 41/50\n",
      "13/13 [==============================] - 11s 874ms/step - loss: 1.6520e-06 - accuracy: 1.0000 - val_loss: 14.4044 - val_accuracy: 0.1058\n",
      "Epoch 42/50\n",
      "13/13 [==============================] - 11s 880ms/step - loss: 8.3634e-07 - accuracy: 1.0000 - val_loss: 14.7877 - val_accuracy: 0.1058\n",
      "Epoch 43/50\n",
      "13/13 [==============================] - 11s 879ms/step - loss: 4.2657e-07 - accuracy: 1.0000 - val_loss: 15.3210 - val_accuracy: 0.1058\n",
      "Epoch 44/50\n",
      "13/13 [==============================] - 12s 962ms/step - loss: 2.0252e-07 - accuracy: 1.0000 - val_loss: 15.7333 - val_accuracy: 0.1058\n",
      "Epoch 45/50\n",
      "13/13 [==============================] - 13s 1s/step - loss: 1.0968e-07 - accuracy: 1.0000 - val_loss: 16.3495 - val_accuracy: 0.1058\n",
      "Epoch 46/50\n",
      "13/13 [==============================] - 12s 973ms/step - loss: 5.1497e-08 - accuracy: 1.0000 - val_loss: 16.6429 - val_accuracy: 0.1058\n",
      "Epoch 47/50\n",
      "13/13 [==============================] - 15s 1s/step - loss: 0.6752 - accuracy: 0.9655 - val_loss: 12.6856 - val_accuracy: 0.0577\n",
      "Epoch 48/50\n",
      "13/13 [==============================] - 11s 864ms/step - loss: 0.1214 - accuracy: 0.9711 - val_loss: 12.1981 - val_accuracy: 0.0769\n",
      "Epoch 49/50\n",
      "13/13 [==============================] - 12s 900ms/step - loss: 0.0216 - accuracy: 0.9877 - val_loss: 12.8952 - val_accuracy: 0.0769\n",
      "Epoch 50/50\n",
      "13/13 [==============================] - 11s 868ms/step - loss: 0.0043 - accuracy: 0.9982 - val_loss: 13.4573 - val_accuracy: 0.1250\n"
     ]
    }
   ],
   "source": [
    "# fit the model\n",
    "history = model.fit(x=X, y=y, batch_size=32, epochs=50, validation_split=0.2)"
   ]
  },
  {
   "cell_type": "code",
   "execution_count": 48,
   "id": "0d3d089d-7a26-4c8c-849d-d1cd1341f184",
   "metadata": {},
   "outputs": [
    {
     "name": "stdout",
     "output_type": "stream",
     "text": [
      "INFO:tensorflow:Assets written to: cnn_two_layers/assets\n"
     ]
    }
   ],
   "source": [
    "model.save('cnn_two_layers')"
   ]
  },
  {
   "cell_type": "code",
   "execution_count": 80,
   "id": "9ccaf8a6-9f94-44f8-a00b-4a1b87180161",
   "metadata": {},
   "outputs": [
    {
     "data": {
      "image/png": "[encoded data removed]",
      "text/plain": [
       "<Figure size 864x288 with 1 Axes>"
      ]
     },
     "metadata": {
      "needs_background": "light"
     },
     "output_type": "display_data"
    }
   ],
   "source": [
    "plt.figure(figsize=(12,4))\n",
    "plt.plot(history.history['accuracy'], label='accuracy')\n",
    "plt.plot(history.history['loss'], label='loss')\n",
    "plt.plot(history.history['val_accuracy'], label='val_accuracy')\n",
    "plt.legend()\n",
    "plt.show()"
   ]
  },
  {
   "cell_type": "code",
   "execution_count": 50,
   "id": "11892977-75ae-46bd-a43e-038e6f0bcb16",
   "metadata": {},
   "outputs": [
    {
     "name": "stdout",
     "output_type": "stream",
     "text": [
      "17/17 [==============================] - 7s 415ms/step - loss: 2.7129 - accuracy: 0.8236\n"
     ]
    },
    {
     "data": {
      "text/plain": [
       "[2.7129170894622803, 0.8236433863639832]"
      ]
     },
     "execution_count": 50,
     "metadata": {},
     "output_type": "execute_result"
    }
   ],
   "source": [
    "model.evaluate(X, y)"
   ]
  },
  {
   "cell_type": "markdown",
   "id": "0e96aae3-6204-45ec-9419-ba79ff27bf01",
   "metadata": {},
   "source": [
    "## Making predictions"
   ]
  },
  {
   "cell_type": "code",
   "execution_count": 67,
   "id": "e0064d6d-2f2c-4855-b55d-34496ae90026",
   "metadata": {},
   "outputs": [
    {
     "data": {
      "text/plain": [
       "<matplotlib.image.AxesImage at 0x7f806d64a8d0>"
      ]
     },
     "execution_count": 67,
     "metadata": {},
     "output_type": "execute_result"
    },
    {
     "data": {
      "image/png": "[encoded data removed]",
      "text/plain": [
       "<Figure size 432x288 with 1 Axes>"
      ]
     },
     "metadata": {
      "needs_background": "light"
     },
     "output_type": "display_data"
    }
   ],
   "source": [
    "test1 = load_img(os.path.join('test_images', 'farfalla.png'), color_mode='rgb', target_size =(224,224))\n",
    "plt.imshow(test1)"
   ]
  },
  {
   "cell_type": "code",
   "execution_count": 68,
   "id": "cc9dbaf0-8e73-48d3-80e7-45c56d2fe3b9",
   "metadata": {},
   "outputs": [
    {
     "data": {
      "text/plain": [
       "array([[0.822, 0.178, 0.   , 0.   ]], dtype=float32)"
      ]
     },
     "execution_count": 68,
     "metadata": {},
     "output_type": "execute_result"
    }
   ],
   "source": [
    "test1_array = img_to_array(test1)\n",
    "test1_array = test1_array.reshape(-1,224,224,3)\n",
    "pred_test1 = model.predict(test1_array)\n",
    "prediction_test1 = np.round(pred_test1, decimals=3)\n",
    "prediction_test1"
   ]
  },
  {
   "cell_type": "code",
   "execution_count": 69,
   "id": "34bcba72-b30c-4b91-aa32-b6e08f54055e",
   "metadata": {},
   "outputs": [
    {
     "data": {
      "text/plain": [
       "<matplotlib.image.AxesImage at 0x7f8070547dd8>"
      ]
     },
     "execution_count": 69,
     "metadata": {},
     "output_type": "execute_result"
    },
    {
     "data": {
      "image/png": "[encoded data removed]",
      "text/plain": [
       "<Figure size 432x288 with 1 Axes>"
      ]
     },
     "metadata": {
      "needs_background": "light"
     },
     "output_type": "display_data"
    }
   ],
   "source": [
    "test2 = load_img(os.path.join('test_images', 'fusillo.png'), target_size =(224,224))\n",
    "plt.imshow(test2)"
   ]
  },
  {
   "cell_type": "code",
   "execution_count": 70,
   "id": "0dda20f9-d914-4b18-92f0-742174a8dbdb",
   "metadata": {},
   "outputs": [
    {
     "data": {
      "text/plain": [
       "array([[0.127, 0.866, 0.   , 0.007]], dtype=float32)"
      ]
     },
     "execution_count": 70,
     "metadata": {},
     "output_type": "execute_result"
    }
   ],
   "source": [
    "test2_array = img_to_array(test2)\n",
    "test2_array = test2_array.reshape(-1,224,224,3)\n",
    "pred_test2 = model.predict(test2_array)\n",
    "prediction_test2 = np.round(pred_test2, decimals=3)\n",
    "prediction_test2"
   ]
  },
  {
   "cell_type": "code",
   "execution_count": 76,
   "id": "df482ba2-8f15-4a61-8d1a-2f463549ace7",
   "metadata": {},
   "outputs": [
    {
     "data": {
      "text/plain": [
       "<matplotlib.image.AxesImage at 0x7f80704c87f0>"
      ]
     },
     "execution_count": 76,
     "metadata": {},
     "output_type": "execute_result"
    },
    {
     "data": {
      "image/png": "[encoded data removed]",
      "text/plain": [
       "<Figure size 432x288 with 1 Axes>"
      ]
     },
     "metadata": {
      "needs_background": "light"
     },
     "output_type": "display_data"
    }
   ],
   "source": [
    "test3 = load_img(os.path.join('test_images', 'linguina.png'), target_size =(224,224))\n",
    "plt.imshow(test3)"
   ]
  },
  {
   "cell_type": "code",
   "execution_count": 77,
   "id": "d9483cfa-8ef0-45a7-9e08-1e5ae23231df",
   "metadata": {},
   "outputs": [
    {
     "data": {
      "text/plain": [
       "array([[0., 1., 0., 0.]], dtype=float32)"
      ]
     },
     "execution_count": 77,
     "metadata": {},
     "output_type": "execute_result"
    }
   ],
   "source": [
    "test3_array = img_to_array(test3)\n",
    "test3_array = test3_array.reshape(-1,224,224,3)\n",
    "pred_test3 = model.predict(test3_array)\n",
    "prediction_test3 = np.round(pred_test3, decimals=3)\n",
    "prediction_test3"
   ]
  },
  {
   "cell_type": "code",
   "execution_count": 78,
   "id": "ef93afd6-f823-4407-ad6b-ee2050a5ba2e",
   "metadata": {},
   "outputs": [
    {
     "data": {
      "text/plain": [
       "<matplotlib.image.AxesImage at 0x7f806d6b0da0>"
      ]
     },
     "execution_count": 78,
     "metadata": {},
     "output_type": "execute_result"
    },
    {
     "data": {
      "image/png": "[encoded data removed]",
      "text/plain": [
       "<Figure size 432x288 with 1 Axes>"
      ]
     },
     "metadata": {
      "needs_background": "light"
     },
     "output_type": "display_data"
    }
   ],
   "source": [
    "test4 = load_img(os.path.join('test_images', 'penna.png'), target_size =(224,224))\n",
    "plt.imshow(test4)"
   ]
  },
  {
   "cell_type": "code",
   "execution_count": 75,
   "id": "c1e51a4a-3a6c-48a2-87af-29cc950831e4",
   "metadata": {},
   "outputs": [
    {
     "data": {
      "text/plain": [
       "array([[0.32, 0.68, 0.  , 0.  ]], dtype=float32)"
      ]
     },
     "execution_count": 75,
     "metadata": {},
     "output_type": "execute_result"
    }
   ],
   "source": [
    "test4_array = img_to_array(test4)\n",
    "test4_array = test4_array.reshape(-1,224,224,3)\n",
    "pred_test4 = model.predict(test4_array)\n",
    "prediction_test4 = np.round(pred_test4, decimals=3)\n",
    "prediction_test4"
   ]
  },
  {
   "cell_type": "code",
   "execution_count": null,
   "id": "911d5e68-f6d8-4b80-83c2-8c08c0cd870b",
   "metadata": {},
   "outputs": [],
   "source": []
  },
  {
   "cell_type": "markdown",
   "id": "a142b532-0d6b-4956-a827-e8a9d833c5d8",
   "metadata": {},
   "source": [
    "## LeNet-5 architecture"
   ]
  },
  {
   "cell_type": "code",
   "execution_count": 103,
   "id": "d6acc4c3-3a72-48af-bf8c-d333bcfde92f",
   "metadata": {},
   "outputs": [],
   "source": [
    "model_alt = Sequential([\n",
    "### Implement LeNet-5 here\n",
    "    Conv2D(6, kernel_size=(5, 5), strides=(1, 1), padding=\"same\", input_shape=(224, 224, 3)),\n",
    "    Activation('relu'),\n",
    "    MaxPool2D(pool_size=(2, 2), strides=(2, 2), padding=\"valid\"),\n",
    "    \n",
    "    Conv2D(16, kernel_size=(5, 5), strides=(1, 1), padding=\"valid\"),\n",
    "    Activation('relu'),\n",
    "    MaxPool2D(pool_size=(2, 2), strides=(2, 2), padding=\"valid\"),\n",
    "    \n",
    "    Flatten(),\n",
    "    \n",
    "    Dense(120),\n",
    "    Activation('relu'),\n",
    "    \n",
    "    Dense(84),\n",
    "    Activation('relu'),\n",
    "    \n",
    "    Dense(4),\n",
    "    Activation('softmax'),\n",
    "])"
   ]
  },
  {
   "cell_type": "code",
   "execution_count": 104,
   "id": "17615d25-63c5-4ff9-b6b6-1babb1ba4a93",
   "metadata": {},
   "outputs": [
    {
     "name": "stdout",
     "output_type": "stream",
     "text": [
      "Model: \"sequential_4\"\n",
      "_________________________________________________________________\n",
      "Layer (type)                 Output Shape              Param #   \n",
      "=================================================================\n",
      "conv2d_9 (Conv2D)            (None, 224, 224, 6)       456       \n",
      "_________________________________________________________________\n",
      "activation_15 (Activation)   (None, 224, 224, 6)       0         \n",
      "_________________________________________________________________\n",
      "max_pooling2d_8 (MaxPooling2 (None, 112, 112, 6)       0         \n",
      "_________________________________________________________________\n",
      "conv2d_10 (Conv2D)           (None, 108, 108, 16)      2416      \n",
      "_________________________________________________________________\n",
      "activation_16 (Activation)   (None, 108, 108, 16)      0         \n",
      "_________________________________________________________________\n",
      "max_pooling2d_9 (MaxPooling2 (None, 54, 54, 16)        0         \n",
      "_________________________________________________________________\n",
      "flatten_4 (Flatten)          (None, 46656)             0         \n",
      "_________________________________________________________________\n",
      "dense_8 (Dense)              (None, 120)               5598840   \n",
      "_________________________________________________________________\n",
      "activation_17 (Activation)   (None, 120)               0         \n",
      "_________________________________________________________________\n",
      "dense_9 (Dense)              (None, 84)                10164     \n",
      "_________________________________________________________________\n",
      "activation_18 (Activation)   (None, 84)                0         \n",
      "_________________________________________________________________\n",
      "dense_10 (Dense)             (None, 4)                 340       \n",
      "_________________________________________________________________\n",
      "activation_19 (Activation)   (None, 4)                 0         \n",
      "=================================================================\n",
      "Total params: 5,612,216\n",
      "Trainable params: 5,612,216\n",
      "Non-trainable params: 0\n",
      "_________________________________________________________________\n"
     ]
    }
   ],
   "source": [
    "model_alt.summary()"
   ]
  },
  {
   "cell_type": "code",
   "execution_count": 105,
   "id": "a21fc231-9931-4696-af4d-f1554f383ebd",
   "metadata": {},
   "outputs": [],
   "source": [
    "model_alt.compile(optimizer='rmsprop', loss='categorical_crossentropy',\n",
    "              metrics=['accuracy']\n",
    ")"
   ]
  },
  {
   "cell_type": "code",
   "execution_count": 106,
   "id": "c6bf7c33-82d4-4e2f-a085-b46471e3befd",
   "metadata": {},
   "outputs": [],
   "source": [
    "callback = EarlyStopping(monitor='val_loss',\n",
    "                                         min_delta=0.001,\n",
    "                                         patience=5,\n",
    "                                         mode='min')"
   ]
  },
  {
   "cell_type": "code",
   "execution_count": 107,
   "id": "7885f642-b9aa-4f33-9234-2cd4cc3ce29d",
   "metadata": {},
   "outputs": [
    {
     "name": "stdout",
     "output_type": "stream",
     "text": [
      "Epoch 1/50\n",
      "13/13 [==============================] - 10s 700ms/step - loss: 72.3698 - accuracy: 0.2855 - val_loss: 2.7804 - val_accuracy: 0.0000e+00\n",
      "Epoch 2/50\n",
      "13/13 [==============================] - 9s 666ms/step - loss: 0.9960 - accuracy: 0.5562 - val_loss: 3.3216 - val_accuracy: 0.0000e+00\n",
      "Epoch 3/50\n",
      "13/13 [==============================] - 11s 890ms/step - loss: 0.5824 - accuracy: 0.8114 - val_loss: 1.6692 - val_accuracy: 0.2404\n",
      "Epoch 4/50\n",
      "13/13 [==============================] - 11s 830ms/step - loss: 0.6573 - accuracy: 0.8402 - val_loss: 3.1257 - val_accuracy: 0.1058\n",
      "Epoch 5/50\n",
      "13/13 [==============================] - 9s 717ms/step - loss: 0.2487 - accuracy: 0.9165 - val_loss: 4.1140 - val_accuracy: 0.0288\n",
      "Epoch 6/50\n",
      "13/13 [==============================] - 8s 651ms/step - loss: 0.1985 - accuracy: 0.9382 - val_loss: 3.8384 - val_accuracy: 0.0962\n",
      "Epoch 7/50\n",
      "13/13 [==============================] - 8s 653ms/step - loss: 0.1520 - accuracy: 0.9571 - val_loss: 1.4123 - val_accuracy: 0.3750\n",
      "Epoch 8/50\n",
      "13/13 [==============================] - 8s 652ms/step - loss: 0.6727 - accuracy: 0.7513 - val_loss: 2.5654 - val_accuracy: 0.0000e+00\n",
      "Epoch 9/50\n",
      "13/13 [==============================] - 8s 646ms/step - loss: 0.2676 - accuracy: 0.9334 - val_loss: 4.0826 - val_accuracy: 0.0385\n",
      "Epoch 10/50\n",
      "13/13 [==============================] - 9s 704ms/step - loss: 0.0120 - accuracy: 1.0000 - val_loss: 6.4744 - val_accuracy: 0.0288\n",
      "Epoch 11/50\n",
      "13/13 [==============================] - 9s 707ms/step - loss: 0.0049 - accuracy: 1.0000 - val_loss: 5.3752 - val_accuracy: 0.0577\n",
      "Epoch 12/50\n",
      "13/13 [==============================] - 9s 655ms/step - loss: 5.2640e-04 - accuracy: 1.0000 - val_loss: 4.9078 - val_accuracy: 0.0577\n",
      "Epoch 13/50\n",
      "13/13 [==============================] - 9s 657ms/step - loss: 4.5658e-04 - accuracy: 1.0000 - val_loss: 5.8537 - val_accuracy: 0.0769\n",
      "Epoch 14/50\n",
      "13/13 [==============================] - 9s 654ms/step - loss: 1.1123e-04 - accuracy: 1.0000 - val_loss: 6.3198 - val_accuracy: 0.0577\n",
      "Epoch 15/50\n",
      "13/13 [==============================] - 9s 675ms/step - loss: 5.3972e-05 - accuracy: 1.0000 - val_loss: 6.6820 - val_accuracy: 0.0673\n",
      "Epoch 16/50\n",
      "13/13 [==============================] - 10s 753ms/step - loss: 2.3460e-05 - accuracy: 1.0000 - val_loss: 6.1427 - val_accuracy: 0.1058\n",
      "Epoch 17/50\n",
      "13/13 [==============================] - 9s 661ms/step - loss: 1.1171e-05 - accuracy: 1.0000 - val_loss: 7.0476 - val_accuracy: 0.0865\n",
      "Epoch 18/50\n",
      "13/13 [==============================] - 8s 644ms/step - loss: 4.9358e-06 - accuracy: 1.0000 - val_loss: 7.5087 - val_accuracy: 0.0481\n",
      "Epoch 19/50\n",
      "13/13 [==============================] - 8s 648ms/step - loss: 2.0862e-06 - accuracy: 1.0000 - val_loss: 7.3685 - val_accuracy: 0.1058\n",
      "Epoch 20/50\n",
      "13/13 [==============================] - 8s 642ms/step - loss: 1.0453e-06 - accuracy: 1.0000 - val_loss: 7.9111 - val_accuracy: 0.0673\n",
      "Epoch 21/50\n",
      "13/13 [==============================] - 8s 643ms/step - loss: 5.6892e-07 - accuracy: 1.0000 - val_loss: 8.3075 - val_accuracy: 0.0673\n",
      "Epoch 22/50\n",
      "13/13 [==============================] - 8s 643ms/step - loss: 3.0420e-07 - accuracy: 1.0000 - val_loss: 7.8555 - val_accuracy: 0.1154\n",
      "Epoch 23/50\n",
      "13/13 [==============================] - 8s 642ms/step - loss: 1.7044e-07 - accuracy: 1.0000 - val_loss: 8.2918 - val_accuracy: 0.1058\n",
      "Epoch 24/50\n",
      "13/13 [==============================] - 8s 640ms/step - loss: 8.9028e-08 - accuracy: 1.0000 - val_loss: 8.9600 - val_accuracy: 0.0865\n",
      "Epoch 25/50\n",
      "13/13 [==============================] - 8s 641ms/step - loss: 4.6512e-08 - accuracy: 1.0000 - val_loss: 8.8880 - val_accuracy: 0.0962\n",
      "Epoch 26/50\n",
      "13/13 [==============================] - 8s 639ms/step - loss: 2.1687e-08 - accuracy: 1.0000 - val_loss: 9.2769 - val_accuracy: 0.0962\n",
      "Epoch 27/50\n",
      "13/13 [==============================] - 9s 658ms/step - loss: 1.3612e-08 - accuracy: 1.0000 - val_loss: 9.8350 - val_accuracy: 0.0865\n",
      "Epoch 28/50\n",
      "13/13 [==============================] - 8s 651ms/step - loss: 8.7682e-09 - accuracy: 1.0000 - val_loss: 14.9922 - val_accuracy: 0.0577\n",
      "Epoch 29/50\n",
      "13/13 [==============================] - 10s 744ms/step - loss: 4.2758 - accuracy: 0.5887 - val_loss: 7.5158 - val_accuracy: 0.1635\n",
      "Epoch 30/50\n",
      "13/13 [==============================] - 9s 654ms/step - loss: 1.2604 - accuracy: 0.8252 - val_loss: 4.2580 - val_accuracy: 0.0769\n",
      "Epoch 31/50\n",
      "13/13 [==============================] - 8s 648ms/step - loss: 0.0102 - accuracy: 1.0000 - val_loss: 5.9995 - val_accuracy: 0.0865\n",
      "Epoch 32/50\n",
      "13/13 [==============================] - 9s 655ms/step - loss: 3.2750e-04 - accuracy: 1.0000 - val_loss: 6.4964 - val_accuracy: 0.0865\n",
      "Epoch 33/50\n",
      "13/13 [==============================] - 9s 655ms/step - loss: 1.1286e-04 - accuracy: 1.0000 - val_loss: 6.6395 - val_accuracy: 0.0865\n",
      "Epoch 34/50\n",
      "13/13 [==============================] - 9s 707ms/step - loss: 6.3169e-05 - accuracy: 1.0000 - val_loss: 6.8434 - val_accuracy: 0.0865\n",
      "Epoch 35/50\n",
      "13/13 [==============================] - 9s 657ms/step - loss: 2.7261e-05 - accuracy: 1.0000 - val_loss: 7.3165 - val_accuracy: 0.0865\n",
      "Epoch 36/50\n",
      "13/13 [==============================] - 8s 648ms/step - loss: 1.3667e-05 - accuracy: 1.0000 - val_loss: 7.6957 - val_accuracy: 0.0865\n",
      "Epoch 37/50\n",
      "13/13 [==============================] - 9s 705ms/step - loss: 8.1185e-06 - accuracy: 1.0000 - val_loss: 8.0219 - val_accuracy: 0.0865\n",
      "Epoch 38/50\n",
      "13/13 [==============================] - 12s 935ms/step - loss: 3.9369e-06 - accuracy: 1.0000 - val_loss: 8.2421 - val_accuracy: 0.0769\n",
      "Epoch 39/50\n",
      "13/13 [==============================] - 9s 660ms/step - loss: 2.2335e-06 - accuracy: 1.0000 - val_loss: 8.4500 - val_accuracy: 0.0769\n",
      "Epoch 40/50\n",
      "13/13 [==============================] - 11s 823ms/step - loss: 1.1198e-06 - accuracy: 1.0000 - val_loss: 8.7386 - val_accuracy: 0.0673\n",
      "Epoch 41/50\n",
      "13/13 [==============================] - 11s 845ms/step - loss: 6.7735e-07 - accuracy: 1.0000 - val_loss: 8.9279 - val_accuracy: 0.0673\n",
      "Epoch 42/50\n",
      "13/13 [==============================] - 12s 945ms/step - loss: 3.4815e-07 - accuracy: 1.0000 - val_loss: 9.2344 - val_accuracy: 0.0769\n",
      "Epoch 43/50\n",
      "13/13 [==============================] - 9s 675ms/step - loss: 1.8238e-07 - accuracy: 1.0000 - val_loss: 9.2927 - val_accuracy: 0.0962\n",
      "Epoch 44/50\n",
      "13/13 [==============================] - 9s 676ms/step - loss: 1.0720e-07 - accuracy: 1.0000 - val_loss: 9.6471 - val_accuracy: 0.0962\n",
      "Epoch 45/50\n",
      "13/13 [==============================] - 9s 671ms/step - loss: 7.1021e-08 - accuracy: 1.0000 - val_loss: 9.9412 - val_accuracy: 0.0962\n",
      "Epoch 46/50\n",
      "13/13 [==============================] - 9s 682ms/step - loss: 4.2398e-08 - accuracy: 1.0000 - val_loss: 9.9430 - val_accuracy: 0.0962\n",
      "Epoch 47/50\n",
      "13/13 [==============================] - 9s 676ms/step - loss: 2.0563e-08 - accuracy: 1.0000 - val_loss: 10.1741 - val_accuracy: 0.0962\n",
      "Epoch 48/50\n",
      "13/13 [==============================] - 9s 674ms/step - loss: 1.1827e-08 - accuracy: 1.0000 - val_loss: 9.7456 - val_accuracy: 0.0962\n",
      "Epoch 49/50\n",
      "13/13 [==============================] - 9s 728ms/step - loss: 6.8990e-09 - accuracy: 1.0000 - val_loss: 10.6411 - val_accuracy: 0.0865\n",
      "Epoch 50/50\n",
      "13/13 [==============================] - 8s 653ms/step - loss: 2.7419e-09 - accuracy: 1.0000 - val_loss: 10.3852 - val_accuracy: 0.0865\n"
     ]
    }
   ],
   "source": [
    "history_alt = model_alt.fit(x=X, y=y, batch_size=32, epochs=50, validation_split=0.2)"
   ]
  },
  {
   "cell_type": "code",
   "execution_count": 108,
   "id": "50a19daa-8a1c-4a45-a179-59df7daab349",
   "metadata": {},
   "outputs": [
    {
     "name": "stdout",
     "output_type": "stream",
     "text": [
      "INFO:tensorflow:Assets written to: le_net/assets\n"
     ]
    }
   ],
   "source": [
    "model.save('le_net')"
   ]
  },
  {
   "cell_type": "code",
   "execution_count": 109,
   "id": "b7ea3377-3f5f-4737-bad0-bf939ab3475a",
   "metadata": {},
   "outputs": [
    {
     "data": {
      "image/png": "[encoded data removed]",
      "text/plain": [
       "<Figure size 864x288 with 1 Axes>"
      ]
     },
     "metadata": {
      "needs_background": "light"
     },
     "output_type": "display_data"
    }
   ],
   "source": [
    "plt.figure(figsize=(12,4))\n",
    "plt.plot(history_alt.history['accuracy'], label='accuracy')\n",
    "plt.plot(history_alt.history['val_accuracy'], label='val_accuracy')\n",
    "plt.legend()\n",
    "plt.show()"
   ]
  },
  {
   "cell_type": "code",
   "execution_count": 110,
   "id": "d37b539d-cff1-4bbd-9b00-265b568903a0",
   "metadata": {},
   "outputs": [
    {
     "data": {
      "text/plain": [
       "array([[0., 0., 0., 1.]], dtype=float32)"
      ]
     },
     "execution_count": 110,
     "metadata": {},
     "output_type": "execute_result"
    }
   ],
   "source": [
    "pred2_test1 = model_alt.predict(test1_array)\n",
    "prediction2_test1 = np.round(pred2_test1, decimals=3)\n",
    "prediction2_test1"
   ]
  },
  {
   "cell_type": "code",
   "execution_count": 111,
   "id": "1f26e222-33de-4e6e-9e05-22335b733ca4",
   "metadata": {},
   "outputs": [
    {
     "data": {
      "text/plain": [
       "array([[0., 1., 0., 0.]], dtype=float32)"
      ]
     },
     "execution_count": 111,
     "metadata": {},
     "output_type": "execute_result"
    }
   ],
   "source": [
    "pred2_test2 = model_alt.predict(test2_array)\n",
    "prediction2_test2 = np.round(pred2_test2, decimals=3)\n",
    "prediction2_test2"
   ]
  },
  {
   "cell_type": "code",
   "execution_count": 112,
   "id": "1e2e6398-c1aa-42c2-ad8a-039394cbed96",
   "metadata": {},
   "outputs": [
    {
     "data": {
      "text/plain": [
       "array([[0.   , 0.007, 0.993, 0.   ]], dtype=float32)"
      ]
     },
     "execution_count": 112,
     "metadata": {},
     "output_type": "execute_result"
    }
   ],
   "source": [
    "pred2_test3 = model_alt.predict(test3_array)\n",
    "prediction2_test3 = np.round(pred2_test3, decimals=3)\n",
    "prediction2_test3"
   ]
  },
  {
   "cell_type": "code",
   "execution_count": 113,
   "id": "391e4b23-e852-4918-a9b9-a775f50ad4ab",
   "metadata": {},
   "outputs": [
    {
     "data": {
      "text/plain": [
       "array([[0., 1., 0., 0.]], dtype=float32)"
      ]
     },
     "execution_count": 113,
     "metadata": {},
     "output_type": "execute_result"
    }
   ],
   "source": [
    "pred2_test4 = model_alt.predict(test4_array)\n",
    "prediction2_test4 = np.round(pred2_test4, decimals=3)\n",
    "prediction2_test4"
   ]
  },
  {
   "cell_type": "code",
   "execution_count": null,
   "id": "6f7cfa38-10f5-46ef-bbd8-c12c430b7f44",
   "metadata": {},
   "outputs": [],
   "source": []
  },
  {
   "cell_type": "code",
   "execution_count": null,
   "id": "08045904-61ad-4920-9167-9d0bbcd5a4dc",
   "metadata": {},
   "outputs": [],
   "source": []
  },
  {
   "cell_type": "code",
   "execution_count": null,
   "id": "9a832fd7-1797-4e84-8f5c-8010c635d139",
   "metadata": {},
   "outputs": [],
   "source": []
  }
 ],
 "metadata": {
  "kernelspec": {
   "display_name": "Python 3",
   "language": "python",
   "name": "python3"
  },
  "language_info": {
   "codemirror_mode": {
    "name": "ipython",
    "version": 3
   },
   "file_extension": ".py",
   "mimetype": "text/x-python",
   "name": "python",
   "nbconvert_exporter": "python",
   "pygments_lexer": "ipython3",
   "version": "3.6.13"
  }
 },
 "nbformat": 4,
 "nbformat_minor": 5
}
