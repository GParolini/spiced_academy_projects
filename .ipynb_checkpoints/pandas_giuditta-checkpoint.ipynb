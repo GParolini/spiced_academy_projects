{
 "cells": [
  {
   "cell_type": "markdown",
   "metadata": {},
   "source": [
    "# pandas\n",
    "\n",
    "\n",
    "## 0) What have we done so far?\n",
    "\n",
    "- ...\n",
    "\n",
    "\n",
    "## 1) pandas\n",
    "\n",
    "- \"pandas is a [...] open source data analysis and manipulation tool, built on top of the Python programming language.\" - https://pandas.pydata.org/\n",
    "- Could be compared to Excel, loosely speaking\n",
    "\n",
    "\n",
    "## What are the main functionalities of pandas"
   ]
  },
  {
   "cell_type": "markdown",
   "metadata": {},
   "source": [
    "| Functionality                                                             | Covered in Course   |\n",
    "| ------------------------------------------------------------------------- | ------------------- |\n",
    "| Reading and writing data                                                  | Today               |\n",
    "| ------------------------------------------------------------------------- | ------------------- |\n",
    "| Selecting subsets of a DataFrame / filtering DataFrames                   | Today               |\n",
    "| ------------------------------------------------------------------------- | ------------------- |\n",
    "| Creating new columns                                                      | Today               |\n",
    "| ------------------------------------------------------------------------- | ------------------- |\n",
    "| Plotting data                                                             | Tomorrow            |\n",
    "| ------------------------------------------------------------------------- | ------------------- |\n",
    "| Combining DataFrames                                                      | Tomorrow            |\n",
    "| ------------------------------------------------------------------------- | ------------------- |\n",
    "| Reshaping DataFrames                                                      | Thursday            |\n",
    "| ------------------------------------------------------------------------- | ------------------- |\n",
    "| Quick calculations / descriptive statistics                               | Thursday            |\n",
    "| ------------------------------------------------------------------------- | ------------------- |\n",
    "| Data aggregation                                                          | Friday              |\n",
    "| ------------------------------------------------------------------------- | ------------------- |\n",
    "| Data transformation                                                       | Friday              |\n",
    "| ------------------------------------------------------------------------- | ------------------- |\n",
    "| Handling missing data                                                     | Next week           |\n",
    "| ------------------------------------------------------------------------- | ------------------- |\n",
    "| Handling time data                                                        | Week 3              |\n",
    "\n",
    "\n",
    "## 3) Reading and Writing Data\n",
    "\n",
    "The main datatype of pandas is a pandas.DataFrame (or short DataFrame).\n",
    "\n",
    "A DataFrame can be compared to a table in Excel. So how do we create them?\n",
    "\n",
    "### 3.1 Create a DataFrame from a List"
   ]
  },
  {
   "cell_type": "code",
   "execution_count": 1,
   "metadata": {},
   "outputs": [],
   "source": [
    "import pandas as pd\n",
    "import numpy as np"
   ]
  },
  {
   "cell_type": "code",
   "execution_count": 2,
   "metadata": {},
   "outputs": [],
   "source": [
    "germany = [82_000_000, 1.9, \"Europe\"]"
   ]
  },
  {
   "cell_type": "code",
   "execution_count": 3,
   "metadata": {},
   "outputs": [
    {
     "data": {
      "text/plain": [
       "list"
      ]
     },
     "execution_count": 3,
     "metadata": {},
     "output_type": "execute_result"
    }
   ],
   "source": [
    "type (germany)"
   ]
  },
  {
   "cell_type": "code",
   "execution_count": 5,
   "metadata": {},
   "outputs": [],
   "source": [
    "denmark = [ 5_500_000, 1.8, \"Europe\"]"
   ]
  },
  {
   "cell_type": "code",
   "execution_count": 11,
   "metadata": {},
   "outputs": [],
   "source": [
    "countries = pd.DataFrame(data =[germany, denmark],\n",
    "                         columns = ['population', 'fertility_rate', 'continent'])"
   ]
  },
  {
   "cell_type": "raw",
   "metadata": {},
   "source": []
  },
  {
   "cell_type": "raw",
   "metadata": {},
   "source": []
  },
  {
   "cell_type": "markdown",
   "metadata": {},
   "source": [
    "### 4.2 Create a DataFrame from a dictionary"
   ]
  },
  {
   "cell_type": "code",
   "execution_count": 41,
   "metadata": {},
   "outputs": [],
   "source": [
    "data = {'spices': ['parsley', 'sage', 'rosemary', 'thyme'],\n",
    "        'value': [1.2, 3.4, np.nan, 5.6],\n",
    "        'good_for_spaghetti': [False, False, True, True]}"
   ]
  },
  {
   "cell_type": "code",
   "execution_count": null,
   "metadata": {},
   "outputs": [],
   "source": []
  },
  {
   "cell_type": "markdown",
   "metadata": {},
   "source": [
    "### 4.3 Read a DataFrame from a file"
   ]
  },
  {
   "cell_type": "code",
   "execution_count": 115,
   "metadata": {},
   "outputs": [],
   "source": [
    "df = ..."
   ]
  },
  {
   "cell_type": "code",
   "execution_count": 116,
   "metadata": {},
   "outputs": [],
   "source": [
    "# Inspect the DataFrame\n"
   ]
  },
  {
   "cell_type": "markdown",
   "metadata": {},
   "source": [
    "## 5) Selecting subsets and filtering DataFrames"
   ]
  },
  {
   "cell_type": "code",
   "execution_count": 117,
   "metadata": {},
   "outputs": [],
   "source": [
    "# Select one column\n"
   ]
  },
  {
   "cell_type": "code",
   "execution_count": 119,
   "metadata": {},
   "outputs": [],
   "source": [
    "# Select one column - option 2\n"
   ]
  },
  {
   "cell_type": "code",
   "execution_count": 120,
   "metadata": {},
   "outputs": [],
   "source": [
    "# Select multiple columns\n"
   ]
  },
  {
   "cell_type": "code",
   "execution_count": 124,
   "metadata": {},
   "outputs": [],
   "source": [
    "# Select rows - iloc\n"
   ]
  },
  {
   "cell_type": "code",
   "execution_count": 125,
   "metadata": {},
   "outputs": [],
   "source": [
    "# Select rows and columns\n"
   ]
  },
  {
   "cell_type": "code",
   "execution_count": 126,
   "metadata": {},
   "outputs": [],
   "source": [
    "# Select rows and columns - loc\n"
   ]
  },
  {
   "cell_type": "code",
   "execution_count": 127,
   "metadata": {},
   "outputs": [],
   "source": [
    "# Filter by column value\n"
   ]
  },
  {
   "cell_type": "code",
   "execution_count": 128,
   "metadata": {},
   "outputs": [],
   "source": [
    "# Filter by multiple conditions\n"
   ]
  },
  {
   "cell_type": "markdown",
   "metadata": {},
   "source": [
    "## 6) Create a new column"
   ]
  },
  {
   "cell_type": "code",
   "execution_count": null,
   "metadata": {},
   "outputs": [],
   "source": []
  }
 ],
 "metadata": {
  "kernelspec": {
   "display_name": "Python 3",
   "language": "python",
   "name": "python3"
  },
  "language_info": {
   "codemirror_mode": {
    "name": "ipython",
    "version": 3
   },
   "file_extension": ".py",
   "mimetype": "text/x-python",
   "name": "python",
   "nbconvert_exporter": "python",
   "pygments_lexer": "ipython3",
   "version": "3.7.7"
  }
 },
 "nbformat": 4,
 "nbformat_minor": 4
}
