{
 "cells": [
  {
   "cell_type": "code",
   "execution_count": 22,
   "metadata": {},
   "outputs": [],
   "source": [
    "import pandas as pd\n",
    "import os\n",
    "from datetime import datetime, timedelta\n",
    "import statistics\n",
    "from fbprophet import Prophet\n",
    "import seaborn as sns\n",
    "import matplotlib.pyplot as plt"
   ]
  },
  {
   "cell_type": "code",
   "execution_count": 23,
   "metadata": {},
   "outputs": [],
   "source": [
    "df = pd.read_csv(os.path.join(\"data\",\"TG_STAID002759.txt\"), names = ['souid', 'date', 'tg', 'q_tg'], \n",
    "                 header=0 )"
   ]
  },
  {
   "cell_type": "code",
   "execution_count": 24,
   "metadata": {},
   "outputs": [
    {
     "data": {
      "text/html": [
       "<div>\n",
       "<style scoped>\n",
       "    .dataframe tbody tr th:only-of-type {\n",
       "        vertical-align: middle;\n",
       "    }\n",
       "\n",
       "    .dataframe tbody tr th {\n",
       "        vertical-align: top;\n",
       "    }\n",
       "\n",
       "    .dataframe thead th {\n",
       "        text-align: right;\n",
       "    }\n",
       "</style>\n",
       "<table border=\"1\" class=\"dataframe\">\n",
       "  <thead>\n",
       "    <tr style=\"text-align: right;\">\n",
       "      <th></th>\n",
       "      <th>souid</th>\n",
       "      <th>date</th>\n",
       "      <th>tg</th>\n",
       "      <th>q_tg</th>\n",
       "    </tr>\n",
       "  </thead>\n",
       "  <tbody>\n",
       "    <tr>\n",
       "      <th>0</th>\n",
       "      <td>127488</td>\n",
       "      <td>18760101</td>\n",
       "      <td>22</td>\n",
       "      <td>0</td>\n",
       "    </tr>\n",
       "    <tr>\n",
       "      <th>1</th>\n",
       "      <td>127488</td>\n",
       "      <td>18760102</td>\n",
       "      <td>25</td>\n",
       "      <td>0</td>\n",
       "    </tr>\n",
       "    <tr>\n",
       "      <th>2</th>\n",
       "      <td>127488</td>\n",
       "      <td>18760103</td>\n",
       "      <td>3</td>\n",
       "      <td>0</td>\n",
       "    </tr>\n",
       "    <tr>\n",
       "      <th>3</th>\n",
       "      <td>127488</td>\n",
       "      <td>18760104</td>\n",
       "      <td>-58</td>\n",
       "      <td>0</td>\n",
       "    </tr>\n",
       "    <tr>\n",
       "      <th>4</th>\n",
       "      <td>127488</td>\n",
       "      <td>18760105</td>\n",
       "      <td>-98</td>\n",
       "      <td>0</td>\n",
       "    </tr>\n",
       "    <tr>\n",
       "      <th>...</th>\n",
       "      <td>...</td>\n",
       "      <td>...</td>\n",
       "      <td>...</td>\n",
       "      <td>...</td>\n",
       "    </tr>\n",
       "    <tr>\n",
       "      <th>53046</th>\n",
       "      <td>111448</td>\n",
       "      <td>20210327</td>\n",
       "      <td>69</td>\n",
       "      <td>0</td>\n",
       "    </tr>\n",
       "    <tr>\n",
       "      <th>53047</th>\n",
       "      <td>111448</td>\n",
       "      <td>20210328</td>\n",
       "      <td>77</td>\n",
       "      <td>0</td>\n",
       "    </tr>\n",
       "    <tr>\n",
       "      <th>53048</th>\n",
       "      <td>111448</td>\n",
       "      <td>20210329</td>\n",
       "      <td>144</td>\n",
       "      <td>0</td>\n",
       "    </tr>\n",
       "    <tr>\n",
       "      <th>53049</th>\n",
       "      <td>111448</td>\n",
       "      <td>20210330</td>\n",
       "      <td>149</td>\n",
       "      <td>0</td>\n",
       "    </tr>\n",
       "    <tr>\n",
       "      <th>53050</th>\n",
       "      <td>111448</td>\n",
       "      <td>20210331</td>\n",
       "      <td>154</td>\n",
       "      <td>0</td>\n",
       "    </tr>\n",
       "  </tbody>\n",
       "</table>\n",
       "<p>53051 rows × 4 columns</p>\n",
       "</div>"
      ],
      "text/plain": [
       "        souid      date   tg  q_tg\n",
       "0      127488  18760101   22     0\n",
       "1      127488  18760102   25     0\n",
       "2      127488  18760103    3     0\n",
       "3      127488  18760104  -58     0\n",
       "4      127488  18760105  -98     0\n",
       "...       ...       ...  ...   ...\n",
       "53046  111448  20210327   69     0\n",
       "53047  111448  20210328   77     0\n",
       "53048  111448  20210329  144     0\n",
       "53049  111448  20210330  149     0\n",
       "53050  111448  20210331  154     0\n",
       "\n",
       "[53051 rows x 4 columns]"
      ]
     },
     "execution_count": 24,
     "metadata": {},
     "output_type": "execute_result"
    }
   ],
   "source": [
    "df"
   ]
  },
  {
   "cell_type": "code",
   "execution_count": 25,
   "metadata": {},
   "outputs": [],
   "source": [
    "df['date'] = df['date'].astype(str)\n",
    "df['date']= pd.to_datetime(df['date'])"
   ]
  },
  {
   "cell_type": "code",
   "execution_count": 26,
   "metadata": {},
   "outputs": [],
   "source": [
    "df = df.set_index('date')"
   ]
  },
  {
   "cell_type": "code",
   "execution_count": 27,
   "metadata": {},
   "outputs": [
    {
     "data": {
      "text/plain": [
       "False    53051\n",
       "Name: date, dtype: int64"
      ]
     },
     "execution_count": 27,
     "metadata": {},
     "output_type": "execute_result"
    }
   ],
   "source": [
    "# Checking for gaps in the time series\n",
    "(df.index.to_series().diff()> pd.Timedelta(days=1)).value_counts()"
   ]
  },
  {
   "cell_type": "code",
   "execution_count": 28,
   "metadata": {},
   "outputs": [],
   "source": [
    "temp = df.index.to_series().diff() > pd.Timedelta(days=1)"
   ]
  },
  {
   "cell_type": "code",
   "execution_count": 29,
   "metadata": {},
   "outputs": [
    {
     "data": {
      "text/plain": [
       "date\n",
       "1876-01-02   1 days\n",
       "1972-10-25   1 days\n",
       "1972-10-26   1 days\n",
       "1972-10-27   1 days\n",
       "1972-10-28   1 days\n",
       "              ...  \n",
       "1924-06-07   1 days\n",
       "1924-06-08   1 days\n",
       "1924-05-29   1 days\n",
       "2021-03-31   1 days\n",
       "1876-01-01      NaT\n",
       "Name: date, Length: 53051, dtype: timedelta64[ns]"
      ]
     },
     "execution_count": 29,
     "metadata": {},
     "output_type": "execute_result"
    }
   ],
   "source": [
    "df.index.to_series().diff().sort_values()"
   ]
  },
  {
   "cell_type": "code",
   "execution_count": 30,
   "metadata": {},
   "outputs": [],
   "source": [
    "#I interpolate the temperature data where they are missing (code -9999) using the avg() of the previous\n",
    "#and following year\n",
    "df['q_tg'].astype(int)\n",
    "bad_data_index = df[df['q_tg']==9 ].index.tolist()\n",
    "\n",
    "for index in bad_data_index:\n",
    "    yb = datetime(index.year - 1, index.month, index.day)\n",
    "    yf = datetime(index.year + 1, index.month, index.day)\n",
    "    temp_yb = df.at[yb,'tg']\n",
    "    temp_yf = df.at[yf,'tg']\n",
    "    repl_val = statistics.mean([temp_yb,temp_yf])\n",
    "    df.at[index, 'tg'] = repl_val"
   ]
  },
  {
   "cell_type": "code",
   "execution_count": 31,
   "metadata": {},
   "outputs": [],
   "source": [
    "#Dividing the temperature column by 10 to get Celsius not 0.1 C\n",
    "df['tg'] = df['tg']/10"
   ]
  },
  {
   "cell_type": "code",
   "execution_count": 32,
   "metadata": {},
   "outputs": [],
   "source": [
    "#Dropping the data quality control as not helpful anymore\n",
    "df.drop('q_tg', axis=1, inplace=True)"
   ]
  },
  {
   "cell_type": "code",
   "execution_count": 33,
   "metadata": {},
   "outputs": [
    {
     "data": {
      "text/html": [
       "<div>\n",
       "<style scoped>\n",
       "    .dataframe tbody tr th:only-of-type {\n",
       "        vertical-align: middle;\n",
       "    }\n",
       "\n",
       "    .dataframe tbody tr th {\n",
       "        vertical-align: top;\n",
       "    }\n",
       "\n",
       "    .dataframe thead th {\n",
       "        text-align: right;\n",
       "    }\n",
       "</style>\n",
       "<table border=\"1\" class=\"dataframe\">\n",
       "  <thead>\n",
       "    <tr style=\"text-align: right;\">\n",
       "      <th></th>\n",
       "      <th>souid</th>\n",
       "      <th>tg</th>\n",
       "    </tr>\n",
       "    <tr>\n",
       "      <th>date</th>\n",
       "      <th></th>\n",
       "      <th></th>\n",
       "    </tr>\n",
       "  </thead>\n",
       "  <tbody>\n",
       "    <tr>\n",
       "      <th>1876-01-01</th>\n",
       "      <td>127488</td>\n",
       "      <td>2.2</td>\n",
       "    </tr>\n",
       "    <tr>\n",
       "      <th>1876-01-02</th>\n",
       "      <td>127488</td>\n",
       "      <td>2.5</td>\n",
       "    </tr>\n",
       "    <tr>\n",
       "      <th>1876-01-03</th>\n",
       "      <td>127488</td>\n",
       "      <td>0.3</td>\n",
       "    </tr>\n",
       "    <tr>\n",
       "      <th>1876-01-04</th>\n",
       "      <td>127488</td>\n",
       "      <td>-5.8</td>\n",
       "    </tr>\n",
       "    <tr>\n",
       "      <th>1876-01-05</th>\n",
       "      <td>127488</td>\n",
       "      <td>-9.8</td>\n",
       "    </tr>\n",
       "    <tr>\n",
       "      <th>...</th>\n",
       "      <td>...</td>\n",
       "      <td>...</td>\n",
       "    </tr>\n",
       "    <tr>\n",
       "      <th>2021-03-27</th>\n",
       "      <td>111448</td>\n",
       "      <td>6.9</td>\n",
       "    </tr>\n",
       "    <tr>\n",
       "      <th>2021-03-28</th>\n",
       "      <td>111448</td>\n",
       "      <td>7.7</td>\n",
       "    </tr>\n",
       "    <tr>\n",
       "      <th>2021-03-29</th>\n",
       "      <td>111448</td>\n",
       "      <td>14.4</td>\n",
       "    </tr>\n",
       "    <tr>\n",
       "      <th>2021-03-30</th>\n",
       "      <td>111448</td>\n",
       "      <td>14.9</td>\n",
       "    </tr>\n",
       "    <tr>\n",
       "      <th>2021-03-31</th>\n",
       "      <td>111448</td>\n",
       "      <td>15.4</td>\n",
       "    </tr>\n",
       "  </tbody>\n",
       "</table>\n",
       "<p>53051 rows × 2 columns</p>\n",
       "</div>"
      ],
      "text/plain": [
       "             souid    tg\n",
       "date                    \n",
       "1876-01-01  127488   2.2\n",
       "1876-01-02  127488   2.5\n",
       "1876-01-03  127488   0.3\n",
       "1876-01-04  127488  -5.8\n",
       "1876-01-05  127488  -9.8\n",
       "...            ...   ...\n",
       "2021-03-27  111448   6.9\n",
       "2021-03-28  111448   7.7\n",
       "2021-03-29  111448  14.4\n",
       "2021-03-30  111448  14.9\n",
       "2021-03-31  111448  15.4\n",
       "\n",
       "[53051 rows x 2 columns]"
      ]
     },
     "execution_count": 33,
     "metadata": {},
     "output_type": "execute_result"
    }
   ],
   "source": [
    "df"
   ]
  },
  {
   "cell_type": "code",
   "execution_count": 34,
   "metadata": {},
   "outputs": [],
   "source": [
    "temp_series = df['tg']"
   ]
  },
  {
   "cell_type": "code",
   "execution_count": 35,
   "metadata": {},
   "outputs": [
    {
     "name": "stdout",
     "output_type": "stream",
     "text": [
      "Requirement already satisfied: cydets in /Users/giudittaparolini/anaconda3/envs/testenv/lib/python3.7/site-packages (1.1)\n",
      "Requirement already satisfied: numpy>=1.14.3 in /Users/giudittaparolini/anaconda3/envs/testenv/lib/python3.7/site-packages (from cydets) (1.17.4)\n",
      "Requirement already satisfied: pandas>=0.22.0 in /Users/giudittaparolini/anaconda3/envs/testenv/lib/python3.7/site-packages (from cydets) (1.2.4)\n",
      "Requirement already satisfied: python-dateutil>=2.7.3 in /Users/giudittaparolini/anaconda3/envs/testenv/lib/python3.7/site-packages (from pandas>=0.22.0->cydets) (2.8.1)\n",
      "Requirement already satisfied: pytz>=2017.3 in /Users/giudittaparolini/anaconda3/envs/testenv/lib/python3.7/site-packages (from pandas>=0.22.0->cydets) (2020.1)\n",
      "Requirement already satisfied: six>=1.5 in /Users/giudittaparolini/anaconda3/envs/testenv/lib/python3.7/site-packages (from python-dateutil>=2.7.3->pandas>=0.22.0->cydets) (1.14.0)\n",
      "Note: you may need to restart the kernel to use updated packages.\n"
     ]
    }
   ],
   "source": [
    "pip install cydets"
   ]
  },
  {
   "cell_type": "code",
   "execution_count": 36,
   "metadata": {},
   "outputs": [],
   "source": [
    "from cydets.algorithm import detect_cycles"
   ]
  },
  {
   "cell_type": "code",
   "execution_count": 37,
   "metadata": {},
   "outputs": [],
   "source": [
    "cycles = detect_cycles(temp_series)"
   ]
  },
  {
   "cell_type": "code",
   "execution_count": 38,
   "metadata": {},
   "outputs": [],
   "source": [
    "ten_year_cycles = cycles[cycles['duration']>='3650 days'].sort_values('duration')"
   ]
  },
  {
   "cell_type": "code",
   "execution_count": 39,
   "metadata": {},
   "outputs": [
    {
     "data": {
      "text/html": [
       "<div>\n",
       "<style scoped>\n",
       "    .dataframe tbody tr th:only-of-type {\n",
       "        vertical-align: middle;\n",
       "    }\n",
       "\n",
       "    .dataframe tbody tr th {\n",
       "        vertical-align: top;\n",
       "    }\n",
       "\n",
       "    .dataframe thead th {\n",
       "        text-align: right;\n",
       "    }\n",
       "</style>\n",
       "<table border=\"1\" class=\"dataframe\">\n",
       "  <thead>\n",
       "    <tr style=\"text-align: right;\">\n",
       "      <th></th>\n",
       "      <th>t_start</th>\n",
       "      <th>t_end</th>\n",
       "      <th>t_minimum</th>\n",
       "      <th>doc</th>\n",
       "      <th>duration</th>\n",
       "    </tr>\n",
       "  </thead>\n",
       "  <tbody>\n",
       "    <tr>\n",
       "      <th>9367</th>\n",
       "      <td>1984-07-11</td>\n",
       "      <td>1994-08-01</td>\n",
       "      <td>1987-01-13</td>\n",
       "      <td>0.913371</td>\n",
       "      <td>3673 days</td>\n",
       "    </tr>\n",
       "    <tr>\n",
       "      <th>3511</th>\n",
       "      <td>1917-06-20</td>\n",
       "      <td>1928-07-16</td>\n",
       "      <td>1922-01-26</td>\n",
       "      <td>0.760829</td>\n",
       "      <td>4044 days</td>\n",
       "    </tr>\n",
       "    <tr>\n",
       "      <th>1</th>\n",
       "      <td>1876-01-01</td>\n",
       "      <td>1887-07-31</td>\n",
       "      <td>1876-12-24</td>\n",
       "      <td>0.340866</td>\n",
       "      <td>4229 days</td>\n",
       "    </tr>\n",
       "    <tr>\n",
       "      <th>5841</th>\n",
       "      <td>1943-08-02</td>\n",
       "      <td>1959-07-11</td>\n",
       "      <td>1956-02-01</td>\n",
       "      <td>0.871940</td>\n",
       "      <td>5822 days</td>\n",
       "    </tr>\n",
       "    <tr>\n",
       "      <th>10262</th>\n",
       "      <td>1994-08-01</td>\n",
       "      <td>2010-07-12</td>\n",
       "      <td>2006-01-23</td>\n",
       "      <td>0.866290</td>\n",
       "      <td>5824 days</td>\n",
       "    </tr>\n",
       "    <tr>\n",
       "      <th>7237</th>\n",
       "      <td>1959-07-11</td>\n",
       "      <td>1976-07-17</td>\n",
       "      <td>1969-12-21</td>\n",
       "      <td>0.849341</td>\n",
       "      <td>6216 days</td>\n",
       "    </tr>\n",
       "    <tr>\n",
       "      <th>2478</th>\n",
       "      <td>1905-07-01</td>\n",
       "      <td>1928-07-16</td>\n",
       "      <td>1917-02-04</td>\n",
       "      <td>0.822976</td>\n",
       "      <td>8416 days</td>\n",
       "    </tr>\n",
       "    <tr>\n",
       "      <th>7238</th>\n",
       "      <td>1959-07-11</td>\n",
       "      <td>1984-07-11</td>\n",
       "      <td>1978-12-31</td>\n",
       "      <td>0.896422</td>\n",
       "      <td>9132 days</td>\n",
       "    </tr>\n",
       "    <tr>\n",
       "      <th>2</th>\n",
       "      <td>1876-01-01</td>\n",
       "      <td>1905-07-01</td>\n",
       "      <td>1893-01-18</td>\n",
       "      <td>0.389831</td>\n",
       "      <td>10773 days</td>\n",
       "    </tr>\n",
       "    <tr>\n",
       "      <th>3</th>\n",
       "      <td>1876-01-01</td>\n",
       "      <td>2010-07-12</td>\n",
       "      <td>1929-02-10</td>\n",
       "      <td>0.467043</td>\n",
       "      <td>49135 days</td>\n",
       "    </tr>\n",
       "  </tbody>\n",
       "</table>\n",
       "</div>"
      ],
      "text/plain": [
       "         t_start      t_end  t_minimum       doc   duration\n",
       "9367  1984-07-11 1994-08-01 1987-01-13  0.913371  3673 days\n",
       "3511  1917-06-20 1928-07-16 1922-01-26  0.760829  4044 days\n",
       "1     1876-01-01 1887-07-31 1876-12-24  0.340866  4229 days\n",
       "5841  1943-08-02 1959-07-11 1956-02-01  0.871940  5822 days\n",
       "10262 1994-08-01 2010-07-12 2006-01-23  0.866290  5824 days\n",
       "7237  1959-07-11 1976-07-17 1969-12-21  0.849341  6216 days\n",
       "2478  1905-07-01 1928-07-16 1917-02-04  0.822976  8416 days\n",
       "7238  1959-07-11 1984-07-11 1978-12-31  0.896422  9132 days\n",
       "2     1876-01-01 1905-07-01 1893-01-18  0.389831 10773 days\n",
       "3     1876-01-01 2010-07-12 1929-02-10  0.467043 49135 days"
      ]
     },
     "execution_count": 39,
     "metadata": {},
     "output_type": "execute_result"
    }
   ],
   "source": [
    "ten_year_cycles"
   ]
  },
  {
   "cell_type": "code",
   "execution_count": 40,
   "metadata": {},
   "outputs": [],
   "source": [
    "df1 = df.reset_index()"
   ]
  },
  {
   "cell_type": "code",
   "execution_count": 41,
   "metadata": {},
   "outputs": [
    {
     "data": {
      "text/html": [
       "<div>\n",
       "<style scoped>\n",
       "    .dataframe tbody tr th:only-of-type {\n",
       "        vertical-align: middle;\n",
       "    }\n",
       "\n",
       "    .dataframe tbody tr th {\n",
       "        vertical-align: top;\n",
       "    }\n",
       "\n",
       "    .dataframe thead th {\n",
       "        text-align: right;\n",
       "    }\n",
       "</style>\n",
       "<table border=\"1\" class=\"dataframe\">\n",
       "  <thead>\n",
       "    <tr style=\"text-align: right;\">\n",
       "      <th></th>\n",
       "      <th>date</th>\n",
       "      <th>tg</th>\n",
       "    </tr>\n",
       "  </thead>\n",
       "  <tbody>\n",
       "    <tr>\n",
       "      <th>0</th>\n",
       "      <td>1876-01-01</td>\n",
       "      <td>2.2</td>\n",
       "    </tr>\n",
       "    <tr>\n",
       "      <th>1</th>\n",
       "      <td>1876-01-02</td>\n",
       "      <td>2.5</td>\n",
       "    </tr>\n",
       "    <tr>\n",
       "      <th>2</th>\n",
       "      <td>1876-01-03</td>\n",
       "      <td>0.3</td>\n",
       "    </tr>\n",
       "    <tr>\n",
       "      <th>3</th>\n",
       "      <td>1876-01-04</td>\n",
       "      <td>-5.8</td>\n",
       "    </tr>\n",
       "    <tr>\n",
       "      <th>4</th>\n",
       "      <td>1876-01-05</td>\n",
       "      <td>-9.8</td>\n",
       "    </tr>\n",
       "    <tr>\n",
       "      <th>...</th>\n",
       "      <td>...</td>\n",
       "      <td>...</td>\n",
       "    </tr>\n",
       "    <tr>\n",
       "      <th>53046</th>\n",
       "      <td>2021-03-27</td>\n",
       "      <td>6.9</td>\n",
       "    </tr>\n",
       "    <tr>\n",
       "      <th>53047</th>\n",
       "      <td>2021-03-28</td>\n",
       "      <td>7.7</td>\n",
       "    </tr>\n",
       "    <tr>\n",
       "      <th>53048</th>\n",
       "      <td>2021-03-29</td>\n",
       "      <td>14.4</td>\n",
       "    </tr>\n",
       "    <tr>\n",
       "      <th>53049</th>\n",
       "      <td>2021-03-30</td>\n",
       "      <td>14.9</td>\n",
       "    </tr>\n",
       "    <tr>\n",
       "      <th>53050</th>\n",
       "      <td>2021-03-31</td>\n",
       "      <td>15.4</td>\n",
       "    </tr>\n",
       "  </tbody>\n",
       "</table>\n",
       "<p>53051 rows × 2 columns</p>\n",
       "</div>"
      ],
      "text/plain": [
       "            date    tg\n",
       "0     1876-01-01   2.2\n",
       "1     1876-01-02   2.5\n",
       "2     1876-01-03   0.3\n",
       "3     1876-01-04  -5.8\n",
       "4     1876-01-05  -9.8\n",
       "...          ...   ...\n",
       "53046 2021-03-27   6.9\n",
       "53047 2021-03-28   7.7\n",
       "53048 2021-03-29  14.4\n",
       "53049 2021-03-30  14.9\n",
       "53050 2021-03-31  15.4\n",
       "\n",
       "[53051 rows x 2 columns]"
      ]
     },
     "execution_count": 41,
     "metadata": {},
     "output_type": "execute_result"
    }
   ],
   "source": [
    "df1.drop('souid', axis=1)"
   ]
  },
  {
   "cell_type": "code",
   "execution_count": 42,
   "metadata": {},
   "outputs": [],
   "source": [
    "df1.rename(columns = {'date' : 'ds', 'tg' : 'y'}, inplace = True)"
   ]
  },
  {
   "cell_type": "code",
   "execution_count": 43,
   "metadata": {},
   "outputs": [
    {
     "name": "stderr",
     "output_type": "stream",
     "text": [
      "INFO:fbprophet:Disabling daily seasonality. Run prophet with daily_seasonality=True to override this.\n"
     ]
    },
    {
     "data": {
      "text/plain": [
       "<fbprophet.forecaster.Prophet at 0x7ffd8ba30550>"
      ]
     },
     "execution_count": 43,
     "metadata": {},
     "output_type": "execute_result"
    }
   ],
   "source": [
    "m = Prophet()\n",
    "m.fit(df1)"
   ]
  },
  {
   "cell_type": "code",
   "execution_count": 44,
   "metadata": {},
   "outputs": [],
   "source": [
    "future = m.make_future_dataframe(periods=30)"
   ]
  },
  {
   "cell_type": "code",
   "execution_count": 45,
   "metadata": {},
   "outputs": [
    {
     "data": {
      "text/html": [
       "<div>\n",
       "<style scoped>\n",
       "    .dataframe tbody tr th:only-of-type {\n",
       "        vertical-align: middle;\n",
       "    }\n",
       "\n",
       "    .dataframe tbody tr th {\n",
       "        vertical-align: top;\n",
       "    }\n",
       "\n",
       "    .dataframe thead th {\n",
       "        text-align: right;\n",
       "    }\n",
       "</style>\n",
       "<table border=\"1\" class=\"dataframe\">\n",
       "  <thead>\n",
       "    <tr style=\"text-align: right;\">\n",
       "      <th></th>\n",
       "      <th>ds</th>\n",
       "    </tr>\n",
       "  </thead>\n",
       "  <tbody>\n",
       "    <tr>\n",
       "      <th>53076</th>\n",
       "      <td>2021-04-26</td>\n",
       "    </tr>\n",
       "    <tr>\n",
       "      <th>53077</th>\n",
       "      <td>2021-04-27</td>\n",
       "    </tr>\n",
       "    <tr>\n",
       "      <th>53078</th>\n",
       "      <td>2021-04-28</td>\n",
       "    </tr>\n",
       "    <tr>\n",
       "      <th>53079</th>\n",
       "      <td>2021-04-29</td>\n",
       "    </tr>\n",
       "    <tr>\n",
       "      <th>53080</th>\n",
       "      <td>2021-04-30</td>\n",
       "    </tr>\n",
       "  </tbody>\n",
       "</table>\n",
       "</div>"
      ],
      "text/plain": [
       "              ds\n",
       "53076 2021-04-26\n",
       "53077 2021-04-27\n",
       "53078 2021-04-28\n",
       "53079 2021-04-29\n",
       "53080 2021-04-30"
      ]
     },
     "execution_count": 45,
     "metadata": {},
     "output_type": "execute_result"
    }
   ],
   "source": [
    "future.tail()"
   ]
  },
  {
   "cell_type": "code",
   "execution_count": 46,
   "metadata": {},
   "outputs": [
    {
     "data": {
      "text/html": [
       "<div>\n",
       "<style scoped>\n",
       "    .dataframe tbody tr th:only-of-type {\n",
       "        vertical-align: middle;\n",
       "    }\n",
       "\n",
       "    .dataframe tbody tr th {\n",
       "        vertical-align: top;\n",
       "    }\n",
       "\n",
       "    .dataframe thead th {\n",
       "        text-align: right;\n",
       "    }\n",
       "</style>\n",
       "<table border=\"1\" class=\"dataframe\">\n",
       "  <thead>\n",
       "    <tr style=\"text-align: right;\">\n",
       "      <th></th>\n",
       "      <th>ds</th>\n",
       "      <th>yhat</th>\n",
       "      <th>yhat_lower</th>\n",
       "      <th>yhat_upper</th>\n",
       "    </tr>\n",
       "  </thead>\n",
       "  <tbody>\n",
       "    <tr>\n",
       "      <th>0</th>\n",
       "      <td>1876-01-01</td>\n",
       "      <td>0.316007</td>\n",
       "      <td>-4.619116</td>\n",
       "      <td>5.038522</td>\n",
       "    </tr>\n",
       "    <tr>\n",
       "      <th>1</th>\n",
       "      <td>1876-01-02</td>\n",
       "      <td>0.308157</td>\n",
       "      <td>-4.735414</td>\n",
       "      <td>5.055089</td>\n",
       "    </tr>\n",
       "    <tr>\n",
       "      <th>2</th>\n",
       "      <td>1876-01-03</td>\n",
       "      <td>0.320138</td>\n",
       "      <td>-4.630244</td>\n",
       "      <td>5.383054</td>\n",
       "    </tr>\n",
       "    <tr>\n",
       "      <th>3</th>\n",
       "      <td>1876-01-04</td>\n",
       "      <td>0.229869</td>\n",
       "      <td>-4.385211</td>\n",
       "      <td>5.142697</td>\n",
       "    </tr>\n",
       "    <tr>\n",
       "      <th>4</th>\n",
       "      <td>1876-01-05</td>\n",
       "      <td>0.201491</td>\n",
       "      <td>-4.705618</td>\n",
       "      <td>4.884556</td>\n",
       "    </tr>\n",
       "    <tr>\n",
       "      <th>...</th>\n",
       "      <td>...</td>\n",
       "      <td>...</td>\n",
       "      <td>...</td>\n",
       "      <td>...</td>\n",
       "    </tr>\n",
       "    <tr>\n",
       "      <th>53076</th>\n",
       "      <td>2021-04-26</td>\n",
       "      <td>12.392200</td>\n",
       "      <td>7.736171</td>\n",
       "      <td>17.443265</td>\n",
       "    </tr>\n",
       "    <tr>\n",
       "      <th>53077</th>\n",
       "      <td>2021-04-27</td>\n",
       "      <td>12.515338</td>\n",
       "      <td>7.790790</td>\n",
       "      <td>17.408023</td>\n",
       "    </tr>\n",
       "    <tr>\n",
       "      <th>53078</th>\n",
       "      <td>2021-04-28</td>\n",
       "      <td>12.698465</td>\n",
       "      <td>8.224129</td>\n",
       "      <td>17.571067</td>\n",
       "    </tr>\n",
       "    <tr>\n",
       "      <th>53079</th>\n",
       "      <td>2021-04-29</td>\n",
       "      <td>12.823928</td>\n",
       "      <td>8.344381</td>\n",
       "      <td>17.653579</td>\n",
       "    </tr>\n",
       "    <tr>\n",
       "      <th>53080</th>\n",
       "      <td>2021-04-30</td>\n",
       "      <td>12.996402</td>\n",
       "      <td>8.096103</td>\n",
       "      <td>17.838671</td>\n",
       "    </tr>\n",
       "  </tbody>\n",
       "</table>\n",
       "<p>53081 rows × 4 columns</p>\n",
       "</div>"
      ],
      "text/plain": [
       "              ds       yhat  yhat_lower  yhat_upper\n",
       "0     1876-01-01   0.316007   -4.619116    5.038522\n",
       "1     1876-01-02   0.308157   -4.735414    5.055089\n",
       "2     1876-01-03   0.320138   -4.630244    5.383054\n",
       "3     1876-01-04   0.229869   -4.385211    5.142697\n",
       "4     1876-01-05   0.201491   -4.705618    4.884556\n",
       "...          ...        ...         ...         ...\n",
       "53076 2021-04-26  12.392200    7.736171   17.443265\n",
       "53077 2021-04-27  12.515338    7.790790   17.408023\n",
       "53078 2021-04-28  12.698465    8.224129   17.571067\n",
       "53079 2021-04-29  12.823928    8.344381   17.653579\n",
       "53080 2021-04-30  12.996402    8.096103   17.838671\n",
       "\n",
       "[53081 rows x 4 columns]"
      ]
     },
     "execution_count": 46,
     "metadata": {},
     "output_type": "execute_result"
    }
   ],
   "source": [
    "forecast = m.predict(future)\n",
    "forecast[['ds', 'yhat', 'yhat_lower', 'yhat_upper']]"
   ]
  },
  {
   "cell_type": "code",
   "execution_count": 47,
   "metadata": {},
   "outputs": [],
   "source": [
    "forecast_april = forecast.tail(5)"
   ]
  },
  {
   "cell_type": "code",
   "execution_count": 48,
   "metadata": {},
   "outputs": [],
   "source": [
    "cols = ['ds','yhat_lower', 'yhat_upper','yhat']\n",
    "plot_df = forecast_april[cols]"
   ]
  },
  {
   "cell_type": "code",
   "execution_count": 49,
   "metadata": {},
   "outputs": [
    {
     "data": {
      "text/plain": [
       "ds            datetime64[ns]\n",
       "yhat_lower           float64\n",
       "yhat_upper           float64\n",
       "yhat                 float64\n",
       "dtype: object"
      ]
     },
     "execution_count": 49,
     "metadata": {},
     "output_type": "execute_result"
    }
   ],
   "source": [
    "plot_df.dtypes"
   ]
  },
  {
   "cell_type": "code",
   "execution_count": 50,
   "metadata": {},
   "outputs": [
    {
     "data": {
      "text/plain": [
       "RangeIndex(start=53076, stop=53081, step=1)"
      ]
     },
     "execution_count": 50,
     "metadata": {},
     "output_type": "execute_result"
    }
   ],
   "source": [
    "plot_df.index"
   ]
  },
  {
   "cell_type": "code",
   "execution_count": 51,
   "metadata": {},
   "outputs": [
    {
     "data": {
      "image/png": "[encoded data removed]",
      "text/plain": [
       "<Figure size 432x288 with 1 Axes>"
      ]
     },
     "metadata": {
      "needs_background": "light"
     },
     "output_type": "display_data"
    }
   ],
   "source": [
    "fig, ax = plt.subplots()\n",
    "sns.lineplot(plot_df['ds'],y=plot_df['yhat'], label='yhat')\n",
    "sns.lineplot(plot_df['ds'],plot_df['yhat_lower'], label='yhat_lower')\n",
    "sns.lineplot(plot_df['ds'],plot_df['yhat_upper'], label='yhat_upper')\n",
    "plt.xticks(rotation=30) # rotates the x axis titles by 30 degrees\n",
    "plt.xlabel('date')\n",
    "plt.ylabel('temperature')\n",
    "plt.legend()\n",
    "leg = plt.legend( loc = 'upper right')\n",
    "plt.legend(bbox_to_anchor = [0.7, 0.22]);"
   ]
  },
  {
   "cell_type": "code",
   "execution_count": null,
   "metadata": {},
   "outputs": [],
   "source": []
  }
 ],
 "metadata": {
  "kernelspec": {
   "display_name": "Python 3",
   "language": "python",
   "name": "python3"
  },
  "language_info": {
   "codemirror_mode": {
    "name": "ipython",
    "version": 3
   },
   "file_extension": ".py",
   "mimetype": "text/x-python",
   "name": "python",
   "nbconvert_exporter": "python",
   "pygments_lexer": "ipython3",
   "version": "3.7.7"
  }
 },
 "nbformat": 4,
 "nbformat_minor": 5
}
