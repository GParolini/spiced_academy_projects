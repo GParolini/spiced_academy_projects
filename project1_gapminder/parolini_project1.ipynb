{
 "cells": [
  {
   "cell_type": "markdown",
   "metadata": {},
   "source": [
    "# Creating an animated scatterplot"
   ]
  },
  {
   "cell_type": "markdown",
   "metadata": {},
   "source": [
    "The notebook explains how to create an animated scatterplot using data on worldwide population, life expectancy and fertility rate made available by the Gapminder project. The notebook was developed as project work for the Spiced Academy Data Science Bootcamp (March-June 2021)."
   ]
  },
  {
   "cell_type": "markdown",
   "metadata": {},
   "source": [
    "## Imports"
   ]
  },
  {
   "cell_type": "code",
   "execution_count": 2,
   "metadata": {},
   "outputs": [],
   "source": [
    "import pandas as pd\n",
    "import seaborn as sns\n",
    "import matplotlib.pyplot as plt\n",
    "import imageio"
   ]
  },
  {
   "cell_type": "markdown",
   "metadata": {},
   "source": [
    "## Reading data"
   ]
  },
  {
   "cell_type": "code",
   "execution_count": 3,
   "metadata": {},
   "outputs": [
    {
     "data": {
      "text/html": [
       "<div>\n",
       "<style scoped>\n",
       "    .dataframe tbody tr th:only-of-type {\n",
       "        vertical-align: middle;\n",
       "    }\n",
       "\n",
       "    .dataframe tbody tr th {\n",
       "        vertical-align: top;\n",
       "    }\n",
       "\n",
       "    .dataframe thead th {\n",
       "        text-align: right;\n",
       "    }\n",
       "</style>\n",
       "<table border=\"1\" class=\"dataframe\">\n",
       "  <thead>\n",
       "    <tr style=\"text-align: right;\">\n",
       "      <th></th>\n",
       "      <th>1800</th>\n",
       "      <th>1801</th>\n",
       "      <th>1802</th>\n",
       "      <th>1803</th>\n",
       "      <th>1804</th>\n",
       "      <th>1805</th>\n",
       "      <th>1806</th>\n",
       "      <th>1807</th>\n",
       "      <th>1808</th>\n",
       "      <th>1809</th>\n",
       "      <th>...</th>\n",
       "      <th>2006</th>\n",
       "      <th>2007</th>\n",
       "      <th>2008</th>\n",
       "      <th>2009</th>\n",
       "      <th>2010</th>\n",
       "      <th>2011</th>\n",
       "      <th>2012</th>\n",
       "      <th>2013</th>\n",
       "      <th>2014</th>\n",
       "      <th>2015</th>\n",
       "    </tr>\n",
       "    <tr>\n",
       "      <th>Total fertility rate</th>\n",
       "      <th></th>\n",
       "      <th></th>\n",
       "      <th></th>\n",
       "      <th></th>\n",
       "      <th></th>\n",
       "      <th></th>\n",
       "      <th></th>\n",
       "      <th></th>\n",
       "      <th></th>\n",
       "      <th></th>\n",
       "      <th></th>\n",
       "      <th></th>\n",
       "      <th></th>\n",
       "      <th></th>\n",
       "      <th></th>\n",
       "      <th></th>\n",
       "      <th></th>\n",
       "      <th></th>\n",
       "      <th></th>\n",
       "      <th></th>\n",
       "      <th></th>\n",
       "    </tr>\n",
       "  </thead>\n",
       "  <tbody>\n",
       "    <tr>\n",
       "      <th>Abkhazia</th>\n",
       "      <td>NaN</td>\n",
       "      <td>NaN</td>\n",
       "      <td>NaN</td>\n",
       "      <td>NaN</td>\n",
       "      <td>NaN</td>\n",
       "      <td>NaN</td>\n",
       "      <td>NaN</td>\n",
       "      <td>NaN</td>\n",
       "      <td>NaN</td>\n",
       "      <td>NaN</td>\n",
       "      <td>...</td>\n",
       "      <td>NaN</td>\n",
       "      <td>NaN</td>\n",
       "      <td>NaN</td>\n",
       "      <td>NaN</td>\n",
       "      <td>NaN</td>\n",
       "      <td>NaN</td>\n",
       "      <td>NaN</td>\n",
       "      <td>NaN</td>\n",
       "      <td>NaN</td>\n",
       "      <td>NaN</td>\n",
       "    </tr>\n",
       "    <tr>\n",
       "      <th>Afghanistan</th>\n",
       "      <td>7.00</td>\n",
       "      <td>7.00</td>\n",
       "      <td>7.00</td>\n",
       "      <td>7.00</td>\n",
       "      <td>7.00</td>\n",
       "      <td>7.00</td>\n",
       "      <td>7.00</td>\n",
       "      <td>7.00</td>\n",
       "      <td>7.00</td>\n",
       "      <td>7.00</td>\n",
       "      <td>...</td>\n",
       "      <td>6.70</td>\n",
       "      <td>6.46</td>\n",
       "      <td>6.20</td>\n",
       "      <td>5.93</td>\n",
       "      <td>5.66</td>\n",
       "      <td>5.40</td>\n",
       "      <td>5.14</td>\n",
       "      <td>4.90</td>\n",
       "      <td>4.68</td>\n",
       "      <td>4.47</td>\n",
       "    </tr>\n",
       "    <tr>\n",
       "      <th>Akrotiri and Dhekelia</th>\n",
       "      <td>NaN</td>\n",
       "      <td>NaN</td>\n",
       "      <td>NaN</td>\n",
       "      <td>NaN</td>\n",
       "      <td>NaN</td>\n",
       "      <td>NaN</td>\n",
       "      <td>NaN</td>\n",
       "      <td>NaN</td>\n",
       "      <td>NaN</td>\n",
       "      <td>NaN</td>\n",
       "      <td>...</td>\n",
       "      <td>NaN</td>\n",
       "      <td>NaN</td>\n",
       "      <td>NaN</td>\n",
       "      <td>NaN</td>\n",
       "      <td>NaN</td>\n",
       "      <td>NaN</td>\n",
       "      <td>NaN</td>\n",
       "      <td>NaN</td>\n",
       "      <td>NaN</td>\n",
       "      <td>NaN</td>\n",
       "    </tr>\n",
       "    <tr>\n",
       "      <th>Albania</th>\n",
       "      <td>4.60</td>\n",
       "      <td>4.60</td>\n",
       "      <td>4.60</td>\n",
       "      <td>4.60</td>\n",
       "      <td>4.60</td>\n",
       "      <td>4.60</td>\n",
       "      <td>4.60</td>\n",
       "      <td>4.60</td>\n",
       "      <td>4.60</td>\n",
       "      <td>4.60</td>\n",
       "      <td>...</td>\n",
       "      <td>1.85</td>\n",
       "      <td>1.80</td>\n",
       "      <td>1.76</td>\n",
       "      <td>1.74</td>\n",
       "      <td>1.74</td>\n",
       "      <td>1.75</td>\n",
       "      <td>1.76</td>\n",
       "      <td>1.77</td>\n",
       "      <td>1.78</td>\n",
       "      <td>1.78</td>\n",
       "    </tr>\n",
       "    <tr>\n",
       "      <th>Algeria</th>\n",
       "      <td>6.99</td>\n",
       "      <td>6.99</td>\n",
       "      <td>6.99</td>\n",
       "      <td>6.99</td>\n",
       "      <td>6.99</td>\n",
       "      <td>6.99</td>\n",
       "      <td>6.99</td>\n",
       "      <td>6.99</td>\n",
       "      <td>6.99</td>\n",
       "      <td>6.99</td>\n",
       "      <td>...</td>\n",
       "      <td>2.58</td>\n",
       "      <td>2.66</td>\n",
       "      <td>2.73</td>\n",
       "      <td>2.78</td>\n",
       "      <td>2.82</td>\n",
       "      <td>2.83</td>\n",
       "      <td>2.82</td>\n",
       "      <td>2.80</td>\n",
       "      <td>2.76</td>\n",
       "      <td>2.71</td>\n",
       "    </tr>\n",
       "  </tbody>\n",
       "</table>\n",
       "<p>5 rows × 216 columns</p>\n",
       "</div>"
      ],
      "text/plain": [
       "                       1800  1801  1802  1803  1804  1805  1806  1807  1808  \\\n",
       "Total fertility rate                                                          \n",
       "Abkhazia                NaN   NaN   NaN   NaN   NaN   NaN   NaN   NaN   NaN   \n",
       "Afghanistan            7.00  7.00  7.00  7.00  7.00  7.00  7.00  7.00  7.00   \n",
       "Akrotiri and Dhekelia   NaN   NaN   NaN   NaN   NaN   NaN   NaN   NaN   NaN   \n",
       "Albania                4.60  4.60  4.60  4.60  4.60  4.60  4.60  4.60  4.60   \n",
       "Algeria                6.99  6.99  6.99  6.99  6.99  6.99  6.99  6.99  6.99   \n",
       "\n",
       "                       1809  ...  2006  2007  2008  2009  2010  2011  2012  \\\n",
       "Total fertility rate         ...                                             \n",
       "Abkhazia                NaN  ...   NaN   NaN   NaN   NaN   NaN   NaN   NaN   \n",
       "Afghanistan            7.00  ...  6.70  6.46  6.20  5.93  5.66  5.40  5.14   \n",
       "Akrotiri and Dhekelia   NaN  ...   NaN   NaN   NaN   NaN   NaN   NaN   NaN   \n",
       "Albania                4.60  ...  1.85  1.80  1.76  1.74  1.74  1.75  1.76   \n",
       "Algeria                6.99  ...  2.58  2.66  2.73  2.78  2.82  2.83  2.82   \n",
       "\n",
       "                       2013  2014  2015  \n",
       "Total fertility rate                     \n",
       "Abkhazia                NaN   NaN   NaN  \n",
       "Afghanistan            4.90  4.68  4.47  \n",
       "Akrotiri and Dhekelia   NaN   NaN   NaN  \n",
       "Albania                1.77  1.78  1.78  \n",
       "Algeria                2.80  2.76  2.71  \n",
       "\n",
       "[5 rows x 216 columns]"
      ]
     },
     "execution_count": 3,
     "metadata": {},
     "output_type": "execute_result"
    }
   ],
   "source": [
    "fert = pd.read_csv('gapminder_total_fertility.csv', index_col=0)\n",
    "fert.head()"
   ]
  },
  {
   "cell_type": "code",
   "execution_count": 4,
   "metadata": {},
   "outputs": [
    {
     "data": {
      "text/html": [
       "<div>\n",
       "<style scoped>\n",
       "    .dataframe tbody tr th:only-of-type {\n",
       "        vertical-align: middle;\n",
       "    }\n",
       "\n",
       "    .dataframe tbody tr th {\n",
       "        vertical-align: top;\n",
       "    }\n",
       "\n",
       "    .dataframe thead th {\n",
       "        text-align: right;\n",
       "    }\n",
       "</style>\n",
       "<table border=\"1\" class=\"dataframe\">\n",
       "  <thead>\n",
       "    <tr style=\"text-align: right;\">\n",
       "      <th></th>\n",
       "      <th>1800</th>\n",
       "      <th>1801</th>\n",
       "      <th>1802</th>\n",
       "      <th>1803</th>\n",
       "      <th>1804</th>\n",
       "      <th>1805</th>\n",
       "      <th>1806</th>\n",
       "      <th>1807</th>\n",
       "      <th>1808</th>\n",
       "      <th>1809</th>\n",
       "      <th>...</th>\n",
       "      <th>2007</th>\n",
       "      <th>2008</th>\n",
       "      <th>2009</th>\n",
       "      <th>2010</th>\n",
       "      <th>2011</th>\n",
       "      <th>2012</th>\n",
       "      <th>2013</th>\n",
       "      <th>2014</th>\n",
       "      <th>2015</th>\n",
       "      <th>2016</th>\n",
       "    </tr>\n",
       "    <tr>\n",
       "      <th>Life expectancy</th>\n",
       "      <th></th>\n",
       "      <th></th>\n",
       "      <th></th>\n",
       "      <th></th>\n",
       "      <th></th>\n",
       "      <th></th>\n",
       "      <th></th>\n",
       "      <th></th>\n",
       "      <th></th>\n",
       "      <th></th>\n",
       "      <th></th>\n",
       "      <th></th>\n",
       "      <th></th>\n",
       "      <th></th>\n",
       "      <th></th>\n",
       "      <th></th>\n",
       "      <th></th>\n",
       "      <th></th>\n",
       "      <th></th>\n",
       "      <th></th>\n",
       "      <th></th>\n",
       "    </tr>\n",
       "  </thead>\n",
       "  <tbody>\n",
       "    <tr>\n",
       "      <th>Abkhazia</th>\n",
       "      <td>NaN</td>\n",
       "      <td>NaN</td>\n",
       "      <td>NaN</td>\n",
       "      <td>NaN</td>\n",
       "      <td>NaN</td>\n",
       "      <td>NaN</td>\n",
       "      <td>NaN</td>\n",
       "      <td>NaN</td>\n",
       "      <td>NaN</td>\n",
       "      <td>NaN</td>\n",
       "      <td>...</td>\n",
       "      <td>NaN</td>\n",
       "      <td>NaN</td>\n",
       "      <td>NaN</td>\n",
       "      <td>NaN</td>\n",
       "      <td>NaN</td>\n",
       "      <td>NaN</td>\n",
       "      <td>NaN</td>\n",
       "      <td>NaN</td>\n",
       "      <td>NaN</td>\n",
       "      <td>NaN</td>\n",
       "    </tr>\n",
       "    <tr>\n",
       "      <th>Afghanistan</th>\n",
       "      <td>28.21</td>\n",
       "      <td>28.20</td>\n",
       "      <td>28.19</td>\n",
       "      <td>28.18</td>\n",
       "      <td>28.17</td>\n",
       "      <td>28.16</td>\n",
       "      <td>28.15</td>\n",
       "      <td>28.14</td>\n",
       "      <td>28.13</td>\n",
       "      <td>28.12</td>\n",
       "      <td>...</td>\n",
       "      <td>52.4</td>\n",
       "      <td>52.8</td>\n",
       "      <td>53.3</td>\n",
       "      <td>53.6</td>\n",
       "      <td>54.0</td>\n",
       "      <td>54.4</td>\n",
       "      <td>54.8</td>\n",
       "      <td>54.9</td>\n",
       "      <td>53.8</td>\n",
       "      <td>52.72</td>\n",
       "    </tr>\n",
       "    <tr>\n",
       "      <th>Akrotiri and Dhekelia</th>\n",
       "      <td>NaN</td>\n",
       "      <td>NaN</td>\n",
       "      <td>NaN</td>\n",
       "      <td>NaN</td>\n",
       "      <td>NaN</td>\n",
       "      <td>NaN</td>\n",
       "      <td>NaN</td>\n",
       "      <td>NaN</td>\n",
       "      <td>NaN</td>\n",
       "      <td>NaN</td>\n",
       "      <td>...</td>\n",
       "      <td>NaN</td>\n",
       "      <td>NaN</td>\n",
       "      <td>NaN</td>\n",
       "      <td>NaN</td>\n",
       "      <td>NaN</td>\n",
       "      <td>NaN</td>\n",
       "      <td>NaN</td>\n",
       "      <td>NaN</td>\n",
       "      <td>NaN</td>\n",
       "      <td>NaN</td>\n",
       "    </tr>\n",
       "    <tr>\n",
       "      <th>Albania</th>\n",
       "      <td>35.40</td>\n",
       "      <td>35.40</td>\n",
       "      <td>35.40</td>\n",
       "      <td>35.40</td>\n",
       "      <td>35.40</td>\n",
       "      <td>35.40</td>\n",
       "      <td>35.40</td>\n",
       "      <td>35.40</td>\n",
       "      <td>35.40</td>\n",
       "      <td>35.40</td>\n",
       "      <td>...</td>\n",
       "      <td>76.6</td>\n",
       "      <td>76.8</td>\n",
       "      <td>77.0</td>\n",
       "      <td>77.2</td>\n",
       "      <td>77.4</td>\n",
       "      <td>77.5</td>\n",
       "      <td>77.7</td>\n",
       "      <td>77.9</td>\n",
       "      <td>78.0</td>\n",
       "      <td>78.10</td>\n",
       "    </tr>\n",
       "    <tr>\n",
       "      <th>Algeria</th>\n",
       "      <td>28.82</td>\n",
       "      <td>28.82</td>\n",
       "      <td>28.82</td>\n",
       "      <td>28.82</td>\n",
       "      <td>28.82</td>\n",
       "      <td>28.82</td>\n",
       "      <td>28.82</td>\n",
       "      <td>28.82</td>\n",
       "      <td>28.82</td>\n",
       "      <td>28.82</td>\n",
       "      <td>...</td>\n",
       "      <td>75.3</td>\n",
       "      <td>75.5</td>\n",
       "      <td>75.7</td>\n",
       "      <td>76.0</td>\n",
       "      <td>76.1</td>\n",
       "      <td>76.2</td>\n",
       "      <td>76.3</td>\n",
       "      <td>76.3</td>\n",
       "      <td>76.4</td>\n",
       "      <td>76.50</td>\n",
       "    </tr>\n",
       "  </tbody>\n",
       "</table>\n",
       "<p>5 rows × 217 columns</p>\n",
       "</div>"
      ],
      "text/plain": [
       "                        1800   1801   1802   1803   1804   1805   1806   1807  \\\n",
       "Life expectancy                                                                 \n",
       "Abkhazia                 NaN    NaN    NaN    NaN    NaN    NaN    NaN    NaN   \n",
       "Afghanistan            28.21  28.20  28.19  28.18  28.17  28.16  28.15  28.14   \n",
       "Akrotiri and Dhekelia    NaN    NaN    NaN    NaN    NaN    NaN    NaN    NaN   \n",
       "Albania                35.40  35.40  35.40  35.40  35.40  35.40  35.40  35.40   \n",
       "Algeria                28.82  28.82  28.82  28.82  28.82  28.82  28.82  28.82   \n",
       "\n",
       "                        1808   1809  ...  2007  2008  2009  2010  2011  2012  \\\n",
       "Life expectancy                      ...                                       \n",
       "Abkhazia                 NaN    NaN  ...   NaN   NaN   NaN   NaN   NaN   NaN   \n",
       "Afghanistan            28.13  28.12  ...  52.4  52.8  53.3  53.6  54.0  54.4   \n",
       "Akrotiri and Dhekelia    NaN    NaN  ...   NaN   NaN   NaN   NaN   NaN   NaN   \n",
       "Albania                35.40  35.40  ...  76.6  76.8  77.0  77.2  77.4  77.5   \n",
       "Algeria                28.82  28.82  ...  75.3  75.5  75.7  76.0  76.1  76.2   \n",
       "\n",
       "                       2013  2014  2015   2016  \n",
       "Life expectancy                                 \n",
       "Abkhazia                NaN   NaN   NaN    NaN  \n",
       "Afghanistan            54.8  54.9  53.8  52.72  \n",
       "Akrotiri and Dhekelia   NaN   NaN   NaN    NaN  \n",
       "Albania                77.7  77.9  78.0  78.10  \n",
       "Algeria                76.3  76.3  76.4  76.50  \n",
       "\n",
       "[5 rows x 217 columns]"
      ]
     },
     "execution_count": 4,
     "metadata": {},
     "output_type": "execute_result"
    }
   ],
   "source": [
    "life = pd.read_excel('gapminder_lifeexpectancy.xlsx', index_col=0)\n",
    "life.head()"
   ]
  },
  {
   "cell_type": "code",
   "execution_count": 5,
   "metadata": {},
   "outputs": [
    {
     "data": {
      "text/html": [
       "<div>\n",
       "<style scoped>\n",
       "    .dataframe tbody tr th:only-of-type {\n",
       "        vertical-align: middle;\n",
       "    }\n",
       "\n",
       "    .dataframe tbody tr th {\n",
       "        vertical-align: top;\n",
       "    }\n",
       "\n",
       "    .dataframe thead th {\n",
       "        text-align: right;\n",
       "    }\n",
       "</style>\n",
       "<table border=\"1\" class=\"dataframe\">\n",
       "  <thead>\n",
       "    <tr style=\"text-align: right;\">\n",
       "      <th></th>\n",
       "      <th>1800</th>\n",
       "      <th>1810</th>\n",
       "      <th>1820</th>\n",
       "      <th>1830</th>\n",
       "      <th>1840</th>\n",
       "      <th>1850</th>\n",
       "      <th>1860</th>\n",
       "      <th>1870</th>\n",
       "      <th>1880</th>\n",
       "      <th>1890</th>\n",
       "      <th>...</th>\n",
       "      <th>2006</th>\n",
       "      <th>2007</th>\n",
       "      <th>2008</th>\n",
       "      <th>2009</th>\n",
       "      <th>2010</th>\n",
       "      <th>2011</th>\n",
       "      <th>2012</th>\n",
       "      <th>2013</th>\n",
       "      <th>2014</th>\n",
       "      <th>2015</th>\n",
       "    </tr>\n",
       "    <tr>\n",
       "      <th>Total population</th>\n",
       "      <th></th>\n",
       "      <th></th>\n",
       "      <th></th>\n",
       "      <th></th>\n",
       "      <th></th>\n",
       "      <th></th>\n",
       "      <th></th>\n",
       "      <th></th>\n",
       "      <th></th>\n",
       "      <th></th>\n",
       "      <th></th>\n",
       "      <th></th>\n",
       "      <th></th>\n",
       "      <th></th>\n",
       "      <th></th>\n",
       "      <th></th>\n",
       "      <th></th>\n",
       "      <th></th>\n",
       "      <th></th>\n",
       "      <th></th>\n",
       "      <th></th>\n",
       "    </tr>\n",
       "  </thead>\n",
       "  <tbody>\n",
       "    <tr>\n",
       "      <th>Abkhazia</th>\n",
       "      <td>NaN</td>\n",
       "      <td>NaN</td>\n",
       "      <td>NaN</td>\n",
       "      <td>NaN</td>\n",
       "      <td>NaN</td>\n",
       "      <td>NaN</td>\n",
       "      <td>NaN</td>\n",
       "      <td>NaN</td>\n",
       "      <td>NaN</td>\n",
       "      <td>NaN</td>\n",
       "      <td>...</td>\n",
       "      <td>NaN</td>\n",
       "      <td>NaN</td>\n",
       "      <td>NaN</td>\n",
       "      <td>NaN</td>\n",
       "      <td>NaN</td>\n",
       "      <td>NaN</td>\n",
       "      <td>NaN</td>\n",
       "      <td>NaN</td>\n",
       "      <td>NaN</td>\n",
       "      <td>NaN</td>\n",
       "    </tr>\n",
       "    <tr>\n",
       "      <th>Afghanistan</th>\n",
       "      <td>3280000.0</td>\n",
       "      <td>3280000.0</td>\n",
       "      <td>3323519.0</td>\n",
       "      <td>3448982.0</td>\n",
       "      <td>3625022.0</td>\n",
       "      <td>3810047.0</td>\n",
       "      <td>3973968.0</td>\n",
       "      <td>4169690.0</td>\n",
       "      <td>4419695.0</td>\n",
       "      <td>4710171.0</td>\n",
       "      <td>...</td>\n",
       "      <td>25183615.0</td>\n",
       "      <td>25877544.0</td>\n",
       "      <td>26528741.0</td>\n",
       "      <td>27207291.0</td>\n",
       "      <td>27962207.0</td>\n",
       "      <td>28809167.0</td>\n",
       "      <td>29726803.0</td>\n",
       "      <td>30682500.0</td>\n",
       "      <td>31627506.0</td>\n",
       "      <td>32526562.0</td>\n",
       "    </tr>\n",
       "    <tr>\n",
       "      <th>Akrotiri and Dhekelia</th>\n",
       "      <td>NaN</td>\n",
       "      <td>NaN</td>\n",
       "      <td>NaN</td>\n",
       "      <td>NaN</td>\n",
       "      <td>NaN</td>\n",
       "      <td>NaN</td>\n",
       "      <td>NaN</td>\n",
       "      <td>NaN</td>\n",
       "      <td>NaN</td>\n",
       "      <td>NaN</td>\n",
       "      <td>...</td>\n",
       "      <td>15700.0</td>\n",
       "      <td>15700.0</td>\n",
       "      <td>15700.0</td>\n",
       "      <td>NaN</td>\n",
       "      <td>NaN</td>\n",
       "      <td>NaN</td>\n",
       "      <td>NaN</td>\n",
       "      <td>NaN</td>\n",
       "      <td>NaN</td>\n",
       "      <td>NaN</td>\n",
       "    </tr>\n",
       "    <tr>\n",
       "      <th>Albania</th>\n",
       "      <td>410445.0</td>\n",
       "      <td>423591.0</td>\n",
       "      <td>438671.0</td>\n",
       "      <td>457234.0</td>\n",
       "      <td>478227.0</td>\n",
       "      <td>506889.0</td>\n",
       "      <td>552800.0</td>\n",
       "      <td>610036.0</td>\n",
       "      <td>672544.0</td>\n",
       "      <td>741688.0</td>\n",
       "      <td>...</td>\n",
       "      <td>3050741.0</td>\n",
       "      <td>3010849.0</td>\n",
       "      <td>2968026.0</td>\n",
       "      <td>2929886.0</td>\n",
       "      <td>2901883.0</td>\n",
       "      <td>2886010.0</td>\n",
       "      <td>2880667.0</td>\n",
       "      <td>2883281.0</td>\n",
       "      <td>2889676.0</td>\n",
       "      <td>2896679.0</td>\n",
       "    </tr>\n",
       "    <tr>\n",
       "      <th>Algeria</th>\n",
       "      <td>2503218.0</td>\n",
       "      <td>2595056.0</td>\n",
       "      <td>2713079.0</td>\n",
       "      <td>2880355.0</td>\n",
       "      <td>3082721.0</td>\n",
       "      <td>3299305.0</td>\n",
       "      <td>3536468.0</td>\n",
       "      <td>3811028.0</td>\n",
       "      <td>4143163.0</td>\n",
       "      <td>4525691.0</td>\n",
       "      <td>...</td>\n",
       "      <td>33749328.0</td>\n",
       "      <td>34261971.0</td>\n",
       "      <td>34811059.0</td>\n",
       "      <td>35401790.0</td>\n",
       "      <td>36036159.0</td>\n",
       "      <td>36717132.0</td>\n",
       "      <td>37439427.0</td>\n",
       "      <td>38186135.0</td>\n",
       "      <td>38934334.0</td>\n",
       "      <td>39666519.0</td>\n",
       "    </tr>\n",
       "  </tbody>\n",
       "</table>\n",
       "<p>5 rows × 81 columns</p>\n",
       "</div>"
      ],
      "text/plain": [
       "                            1800       1810       1820       1830       1840  \\\n",
       "Total population                                                               \n",
       "Abkhazia                     NaN        NaN        NaN        NaN        NaN   \n",
       "Afghanistan            3280000.0  3280000.0  3323519.0  3448982.0  3625022.0   \n",
       "Akrotiri and Dhekelia        NaN        NaN        NaN        NaN        NaN   \n",
       "Albania                 410445.0   423591.0   438671.0   457234.0   478227.0   \n",
       "Algeria                2503218.0  2595056.0  2713079.0  2880355.0  3082721.0   \n",
       "\n",
       "                            1850       1860       1870       1880       1890  \\\n",
       "Total population                                                               \n",
       "Abkhazia                     NaN        NaN        NaN        NaN        NaN   \n",
       "Afghanistan            3810047.0  3973968.0  4169690.0  4419695.0  4710171.0   \n",
       "Akrotiri and Dhekelia        NaN        NaN        NaN        NaN        NaN   \n",
       "Albania                 506889.0   552800.0   610036.0   672544.0   741688.0   \n",
       "Algeria                3299305.0  3536468.0  3811028.0  4143163.0  4525691.0   \n",
       "\n",
       "                       ...        2006        2007        2008        2009  \\\n",
       "Total population       ...                                                   \n",
       "Abkhazia               ...         NaN         NaN         NaN         NaN   \n",
       "Afghanistan            ...  25183615.0  25877544.0  26528741.0  27207291.0   \n",
       "Akrotiri and Dhekelia  ...     15700.0     15700.0     15700.0         NaN   \n",
       "Albania                ...   3050741.0   3010849.0   2968026.0   2929886.0   \n",
       "Algeria                ...  33749328.0  34261971.0  34811059.0  35401790.0   \n",
       "\n",
       "                             2010        2011        2012        2013  \\\n",
       "Total population                                                        \n",
       "Abkhazia                      NaN         NaN         NaN         NaN   \n",
       "Afghanistan            27962207.0  28809167.0  29726803.0  30682500.0   \n",
       "Akrotiri and Dhekelia         NaN         NaN         NaN         NaN   \n",
       "Albania                 2901883.0   2886010.0   2880667.0   2883281.0   \n",
       "Algeria                36036159.0  36717132.0  37439427.0  38186135.0   \n",
       "\n",
       "                             2014        2015  \n",
       "Total population                               \n",
       "Abkhazia                      NaN         NaN  \n",
       "Afghanistan            31627506.0  32526562.0  \n",
       "Akrotiri and Dhekelia         NaN         NaN  \n",
       "Albania                 2889676.0   2896679.0  \n",
       "Algeria                38934334.0  39666519.0  \n",
       "\n",
       "[5 rows x 81 columns]"
      ]
     },
     "execution_count": 5,
     "metadata": {},
     "output_type": "execute_result"
    }
   ],
   "source": [
    "pop = pd.read_excel(\"gapminder_population.xlsx\", index_col = 0)\n",
    "pop.head()"
   ]
  },
  {
   "cell_type": "markdown",
   "metadata": {},
   "source": [
    "## Data Wrangling"
   ]
  },
  {
   "cell_type": "markdown",
   "metadata": {},
   "source": [
    "The data tables are reshaped in long-format and joined in a single dataframe"
   ]
  },
  {
   "cell_type": "code",
   "execution_count": 6,
   "metadata": {},
   "outputs": [
    {
     "data": {
      "text/plain": [
       "(260, 216)"
      ]
     },
     "execution_count": 6,
     "metadata": {},
     "output_type": "execute_result"
    }
   ],
   "source": [
    "fert.shape"
   ]
  },
  {
   "cell_type": "code",
   "execution_count": 7,
   "metadata": {},
   "outputs": [
    {
     "data": {
      "text/plain": [
       "(260, 217)"
      ]
     },
     "execution_count": 7,
     "metadata": {},
     "output_type": "execute_result"
    }
   ],
   "source": [
    "life.shape"
   ]
  },
  {
   "cell_type": "code",
   "execution_count": 8,
   "metadata": {},
   "outputs": [
    {
     "data": {
      "text/plain": [
       "(275, 81)"
      ]
     },
     "execution_count": 8,
     "metadata": {},
     "output_type": "execute_result"
    }
   ],
   "source": [
    "pop.shape\n"
   ]
  },
  {
   "cell_type": "code",
   "execution_count": 9,
   "metadata": {},
   "outputs": [
    {
     "data": {
      "text/plain": [
       "Index(['1800', '1801', '1802', '1803', '1804', '1805', '1806', '1807', '1808',\n",
       "       '1809',\n",
       "       ...\n",
       "       '2006', '2007', '2008', '2009', '2010', '2011', '2012', '2013', '2014',\n",
       "       '2015'],\n",
       "      dtype='object', length=216)"
      ]
     },
     "execution_count": 9,
     "metadata": {},
     "output_type": "execute_result"
    }
   ],
   "source": [
    "fert.columns"
   ]
  },
  {
   "cell_type": "code",
   "execution_count": 10,
   "metadata": {},
   "outputs": [
    {
     "data": {
      "text/plain": [
       "Int64Index([1800, 1801, 1802, 1803, 1804, 1805, 1806, 1807, 1808, 1809,\n",
       "            ...\n",
       "            2007, 2008, 2009, 2010, 2011, 2012, 2013, 2014, 2015, 2016],\n",
       "           dtype='int64', length=217)"
      ]
     },
     "execution_count": 10,
     "metadata": {},
     "output_type": "execute_result"
    }
   ],
   "source": [
    "life.columns"
   ]
  },
  {
   "cell_type": "code",
   "execution_count": 11,
   "metadata": {},
   "outputs": [
    {
     "data": {
      "text/plain": [
       "Int64Index([1800, 1810, 1820, 1830, 1840, 1850, 1860, 1870, 1880, 1890, 1900,\n",
       "            1910, 1920, 1930, 1940, 1950, 1951, 1952, 1953, 1954, 1955, 1956,\n",
       "            1957, 1958, 1959, 1960, 1961, 1962, 1963, 1964, 1965, 1966, 1967,\n",
       "            1968, 1969, 1970, 1971, 1972, 1973, 1974, 1975, 1976, 1977, 1978,\n",
       "            1979, 1980, 1981, 1982, 1983, 1984, 1985, 1986, 1987, 1988, 1989,\n",
       "            1990, 1991, 1992, 1993, 1994, 1995, 1996, 1997, 1998, 1999, 2000,\n",
       "            2001, 2002, 2003, 2004, 2005, 2006, 2007, 2008, 2009, 2010, 2011,\n",
       "            2012, 2013, 2014, 2015],\n",
       "           dtype='int64')"
      ]
     },
     "execution_count": 11,
     "metadata": {},
     "output_type": "execute_result"
    }
   ],
   "source": [
    "pop.columns"
   ]
  },
  {
   "cell_type": "code",
   "execution_count": 12,
   "metadata": {
    "scrolled": true
   },
   "outputs": [
    {
     "data": {
      "text/plain": [
       "Index(['Abkhazia', 'Afghanistan', 'Akrotiri and Dhekelia', 'Albania',\n",
       "       'Algeria', 'American Samoa', 'Andorra', 'Angola', 'Anguilla',\n",
       "       'Antigua and Barbuda',\n",
       "       ...\n",
       "       'Vietnam', 'Virgin Islands (U.S.)', 'North Yemen (former)',\n",
       "       'South Yemen (former)', 'Yemen', 'Yugoslavia', 'Zambia', 'Zimbabwe',\n",
       "       'Åland', 'Åland'],\n",
       "      dtype='object', name='Total fertility rate', length=260)"
      ]
     },
     "execution_count": 12,
     "metadata": {},
     "output_type": "execute_result"
    }
   ],
   "source": [
    "fert.index"
   ]
  },
  {
   "cell_type": "code",
   "execution_count": 13,
   "metadata": {},
   "outputs": [],
   "source": [
    "fert.index.name = 'country'"
   ]
  },
  {
   "cell_type": "code",
   "execution_count": 14,
   "metadata": {},
   "outputs": [],
   "source": [
    "fert = fert.reset_index()"
   ]
  },
  {
   "cell_type": "code",
   "execution_count": 15,
   "metadata": {},
   "outputs": [],
   "source": [
    "fert = fert.melt(id_vars='country', var_name='year', value_name='fertility_rate')"
   ]
  },
  {
   "cell_type": "code",
   "execution_count": 16,
   "metadata": {},
   "outputs": [
    {
     "name": "stdout",
     "output_type": "stream",
     "text": [
      "                     country  year  fertility_rate\n",
      "0                   Abkhazia  1800             NaN\n",
      "1                Afghanistan  1800            7.00\n",
      "2      Akrotiri and Dhekelia  1800             NaN\n",
      "3                    Albania  1800            4.60\n",
      "4                    Algeria  1800            6.99\n",
      "...                      ...   ...             ...\n",
      "56155             Yugoslavia  2015             NaN\n",
      "56156                 Zambia  2015            5.59\n",
      "56157               Zimbabwe  2015            3.35\n",
      "56158                  Åland  2015             NaN\n",
      "56159                  Åland  2015             NaN\n",
      "\n",
      "[56160 rows x 3 columns]\n"
     ]
    }
   ],
   "source": [
    "print(fert)"
   ]
  },
  {
   "cell_type": "code",
   "execution_count": 17,
   "metadata": {
    "scrolled": true
   },
   "outputs": [
    {
     "data": {
      "text/plain": [
       "Index(['Abkhazia', 'Afghanistan', 'Akrotiri and Dhekelia', 'Albania',\n",
       "       'Algeria', 'American Samoa', 'Andorra', 'Angola', 'Anguilla',\n",
       "       'Antigua and Barbuda',\n",
       "       ...\n",
       "       'Vietnam', 'Virgin Islands (U.S.)', 'North Yemen (former)',\n",
       "       'South Yemen (former)', 'Yemen', 'Yugoslavia', 'Zambia', 'Zimbabwe',\n",
       "       'Åland', 'South Sudan'],\n",
       "      dtype='object', name='Life expectancy', length=260)"
      ]
     },
     "execution_count": 17,
     "metadata": {},
     "output_type": "execute_result"
    }
   ],
   "source": [
    "life.index"
   ]
  },
  {
   "cell_type": "code",
   "execution_count": 18,
   "metadata": {},
   "outputs": [],
   "source": [
    "life.index.name = 'country'"
   ]
  },
  {
   "cell_type": "code",
   "execution_count": 19,
   "metadata": {},
   "outputs": [],
   "source": [
    "life = life.reset_index()"
   ]
  },
  {
   "cell_type": "code",
   "execution_count": 20,
   "metadata": {
    "scrolled": true
   },
   "outputs": [
    {
     "name": "stdout",
     "output_type": "stream",
     "text": [
      "                     country  year  life_expectancy\n",
      "0                   Abkhazia  1800              NaN\n",
      "1                Afghanistan  1800            28.21\n",
      "2      Akrotiri and Dhekelia  1800              NaN\n",
      "3                    Albania  1800            35.40\n",
      "4                    Algeria  1800            28.82\n",
      "...                      ...   ...              ...\n",
      "56415             Yugoslavia  2016              NaN\n",
      "56416                 Zambia  2016            57.10\n",
      "56417               Zimbabwe  2016            61.69\n",
      "56418                  Åland  2016              NaN\n",
      "56419            South Sudan  2016            56.10\n",
      "\n",
      "[56420 rows x 3 columns]\n"
     ]
    }
   ],
   "source": [
    "life = life.melt(id_vars='country', var_name='year', value_name='life_expectancy')\n",
    "print(life)"
   ]
  },
  {
   "cell_type": "code",
   "execution_count": 21,
   "metadata": {
    "scrolled": true
   },
   "outputs": [
    {
     "data": {
      "text/plain": [
       "Index(['Abkhazia', 'Afghanistan', 'Akrotiri and Dhekelia', 'Albania',\n",
       "       'Algeria', 'American Samoa', 'Andorra', 'Angola', 'Anguilla',\n",
       "       'Antigua and Barbuda',\n",
       "       ...\n",
       "       'British Indian Ocean Territory', 'Clipperton',\n",
       "       'French Southern and Antarctic Lands', 'Gaza Strip',\n",
       "       'Heard and McDonald Islands', 'Northern Marianas',\n",
       "       'South Georgia and the South Sandwich Islands',\n",
       "       'US Minor Outlying Islands', 'Virgin Islands', 'West Bank'],\n",
       "      dtype='object', name='Total population', length=275)"
      ]
     },
     "execution_count": 21,
     "metadata": {},
     "output_type": "execute_result"
    }
   ],
   "source": [
    "pop.index"
   ]
  },
  {
   "cell_type": "code",
   "execution_count": 22,
   "metadata": {},
   "outputs": [],
   "source": [
    "pop.index.name = 'country'"
   ]
  },
  {
   "cell_type": "code",
   "execution_count": 23,
   "metadata": {},
   "outputs": [],
   "source": [
    "pop = pop.reset_index()"
   ]
  },
  {
   "cell_type": "code",
   "execution_count": 24,
   "metadata": {},
   "outputs": [
    {
     "name": "stdout",
     "output_type": "stream",
     "text": [
      "                                            country  year  population\n",
      "0                                          Abkhazia  1800         NaN\n",
      "1                                       Afghanistan  1800   3280000.0\n",
      "2                             Akrotiri and Dhekelia  1800         NaN\n",
      "3                                           Albania  1800    410445.0\n",
      "4                                           Algeria  1800   2503218.0\n",
      "...                                             ...   ...         ...\n",
      "22270                             Northern Marianas  2015         NaN\n",
      "22271  South Georgia and the South Sandwich Islands  2015         NaN\n",
      "22272                     US Minor Outlying Islands  2015         NaN\n",
      "22273                                Virgin Islands  2015         NaN\n",
      "22274                                     West Bank  2015         NaN\n",
      "\n",
      "[22275 rows x 3 columns]\n"
     ]
    }
   ],
   "source": [
    "pop = pop.melt(id_vars='country', var_name='year', value_name='population')\n",
    "print(pop)\n"
   ]
  },
  {
   "cell_type": "code",
   "execution_count": 25,
   "metadata": {},
   "outputs": [
    {
     "name": "stdout",
     "output_type": "stream",
     "text": [
      "country            object\n",
      "year               object\n",
      "fertility_rate    float64\n",
      "dtype: object\n"
     ]
    }
   ],
   "source": [
    "print(fert.dtypes)"
   ]
  },
  {
   "cell_type": "code",
   "execution_count": 26,
   "metadata": {},
   "outputs": [],
   "source": [
    "fert.year = fert.year.astype(int)"
   ]
  },
  {
   "cell_type": "code",
   "execution_count": 27,
   "metadata": {},
   "outputs": [
    {
     "name": "stdout",
     "output_type": "stream",
     "text": [
      "country             object\n",
      "year                object\n",
      "life_expectancy    float64\n",
      "dtype: object\n"
     ]
    }
   ],
   "source": [
    "print(life.dtypes)"
   ]
  },
  {
   "cell_type": "code",
   "execution_count": 28,
   "metadata": {},
   "outputs": [],
   "source": [
    "life.year = life.year.astype(int)"
   ]
  },
  {
   "cell_type": "code",
   "execution_count": 29,
   "metadata": {},
   "outputs": [
    {
     "name": "stdout",
     "output_type": "stream",
     "text": [
      "country        object\n",
      "year           object\n",
      "population    float64\n",
      "dtype: object\n"
     ]
    }
   ],
   "source": [
    "print(pop.dtypes)"
   ]
  },
  {
   "cell_type": "code",
   "execution_count": 30,
   "metadata": {},
   "outputs": [],
   "source": [
    "pop.year = pop.year.astype(int)"
   ]
  },
  {
   "cell_type": "markdown",
   "metadata": {},
   "source": [
    "### Merging the dataframes"
   ]
  },
  {
   "cell_type": "code",
   "execution_count": 31,
   "metadata": {},
   "outputs": [],
   "source": [
    "df1 = fert.merge(pop)"
   ]
  },
  {
   "cell_type": "code",
   "execution_count": 32,
   "metadata": {},
   "outputs": [
    {
     "data": {
      "text/html": [
       "<div>\n",
       "<style scoped>\n",
       "    .dataframe tbody tr th:only-of-type {\n",
       "        vertical-align: middle;\n",
       "    }\n",
       "\n",
       "    .dataframe tbody tr th {\n",
       "        vertical-align: top;\n",
       "    }\n",
       "\n",
       "    .dataframe thead th {\n",
       "        text-align: right;\n",
       "    }\n",
       "</style>\n",
       "<table border=\"1\" class=\"dataframe\">\n",
       "  <thead>\n",
       "    <tr style=\"text-align: right;\">\n",
       "      <th></th>\n",
       "      <th>country</th>\n",
       "      <th>year</th>\n",
       "      <th>fertility_rate</th>\n",
       "      <th>population</th>\n",
       "    </tr>\n",
       "  </thead>\n",
       "  <tbody>\n",
       "    <tr>\n",
       "      <th>0</th>\n",
       "      <td>Abkhazia</td>\n",
       "      <td>1800</td>\n",
       "      <td>NaN</td>\n",
       "      <td>NaN</td>\n",
       "    </tr>\n",
       "    <tr>\n",
       "      <th>1</th>\n",
       "      <td>Afghanistan</td>\n",
       "      <td>1800</td>\n",
       "      <td>7.00</td>\n",
       "      <td>3280000.0</td>\n",
       "    </tr>\n",
       "    <tr>\n",
       "      <th>2</th>\n",
       "      <td>Akrotiri and Dhekelia</td>\n",
       "      <td>1800</td>\n",
       "      <td>NaN</td>\n",
       "      <td>NaN</td>\n",
       "    </tr>\n",
       "    <tr>\n",
       "      <th>3</th>\n",
       "      <td>Albania</td>\n",
       "      <td>1800</td>\n",
       "      <td>4.60</td>\n",
       "      <td>410445.0</td>\n",
       "    </tr>\n",
       "    <tr>\n",
       "      <th>4</th>\n",
       "      <td>Algeria</td>\n",
       "      <td>1800</td>\n",
       "      <td>6.99</td>\n",
       "      <td>2503218.0</td>\n",
       "    </tr>\n",
       "  </tbody>\n",
       "</table>\n",
       "</div>"
      ],
      "text/plain": [
       "                 country  year  fertility_rate  population\n",
       "0               Abkhazia  1800             NaN         NaN\n",
       "1            Afghanistan  1800            7.00   3280000.0\n",
       "2  Akrotiri and Dhekelia  1800             NaN         NaN\n",
       "3                Albania  1800            4.60    410445.0\n",
       "4                Algeria  1800            6.99   2503218.0"
      ]
     },
     "execution_count": 32,
     "metadata": {},
     "output_type": "execute_result"
    }
   ],
   "source": [
    "df1.head()"
   ]
  },
  {
   "cell_type": "code",
   "execution_count": 33,
   "metadata": {},
   "outputs": [
    {
     "name": "stdout",
     "output_type": "stream",
     "text": [
      "                     country  year  life_expectancy  fertility_rate  \\\n",
      "0                   Abkhazia  1800              NaN             NaN   \n",
      "1                Afghanistan  1800            28.21            7.00   \n",
      "2      Akrotiri and Dhekelia  1800              NaN             NaN   \n",
      "3                    Albania  1800            35.40            4.60   \n",
      "4                    Algeria  1800            28.82            6.99   \n",
      "...                      ...   ...              ...             ...   \n",
      "20974             Yugoslavia  2015              NaN             NaN   \n",
      "20975                 Zambia  2015            56.70            5.59   \n",
      "20976               Zimbabwe  2015            59.30            3.35   \n",
      "20977                  Åland  2015              NaN             NaN   \n",
      "20978                  Åland  2015              NaN             NaN   \n",
      "\n",
      "       population  \n",
      "0             NaN  \n",
      "1       3280000.0  \n",
      "2             NaN  \n",
      "3        410445.0  \n",
      "4       2503218.0  \n",
      "...           ...  \n",
      "20974         NaN  \n",
      "20975  16211767.0  \n",
      "20976  15602751.0  \n",
      "20977         NaN  \n",
      "20978         NaN  \n",
      "\n",
      "[20979 rows x 5 columns]\n"
     ]
    }
   ],
   "source": [
    "df= life.merge(df1)\n",
    "print(df)"
   ]
  },
  {
   "cell_type": "markdown",
   "metadata": {},
   "source": [
    "## Plotting data"
   ]
  },
  {
   "cell_type": "markdown",
   "metadata": {},
   "source": [
    "### Lineplot"
   ]
  },
  {
   "cell_type": "code",
   "execution_count": 34,
   "metadata": {},
   "outputs": [],
   "source": [
    "sns.set()"
   ]
  },
  {
   "cell_type": "code",
   "execution_count": 35,
   "metadata": {},
   "outputs": [],
   "source": [
    "df_subset = df.loc[df['country'].isin(['France', 'Germany', 'Sweden'])]\n"
   ]
  },
  {
   "cell_type": "code",
   "execution_count": 36,
   "metadata": {},
   "outputs": [
    {
     "data": {
      "text/html": [
       "<div>\n",
       "<style scoped>\n",
       "    .dataframe tbody tr th:only-of-type {\n",
       "        vertical-align: middle;\n",
       "    }\n",
       "\n",
       "    .dataframe tbody tr th {\n",
       "        vertical-align: top;\n",
       "    }\n",
       "\n",
       "    .dataframe thead th {\n",
       "        text-align: right;\n",
       "    }\n",
       "</style>\n",
       "<table border=\"1\" class=\"dataframe\">\n",
       "  <thead>\n",
       "    <tr style=\"text-align: right;\">\n",
       "      <th></th>\n",
       "      <th>country</th>\n",
       "      <th>year</th>\n",
       "      <th>life_expectancy</th>\n",
       "      <th>fertility_rate</th>\n",
       "      <th>population</th>\n",
       "    </tr>\n",
       "  </thead>\n",
       "  <tbody>\n",
       "    <tr>\n",
       "      <th>76</th>\n",
       "      <td>France</td>\n",
       "      <td>1800</td>\n",
       "      <td>33.97</td>\n",
       "      <td>4.41</td>\n",
       "      <td>29355111.0</td>\n",
       "    </tr>\n",
       "    <tr>\n",
       "      <th>82</th>\n",
       "      <td>Germany</td>\n",
       "      <td>1800</td>\n",
       "      <td>38.37</td>\n",
       "      <td>5.40</td>\n",
       "      <td>22886919.0</td>\n",
       "    </tr>\n",
       "    <tr>\n",
       "      <th>217</th>\n",
       "      <td>Sweden</td>\n",
       "      <td>1800</td>\n",
       "      <td>32.16</td>\n",
       "      <td>4.07</td>\n",
       "      <td>2354189.0</td>\n",
       "    </tr>\n",
       "    <tr>\n",
       "      <th>335</th>\n",
       "      <td>France</td>\n",
       "      <td>1810</td>\n",
       "      <td>37.40</td>\n",
       "      <td>3.90</td>\n",
       "      <td>30293172.0</td>\n",
       "    </tr>\n",
       "    <tr>\n",
       "      <th>341</th>\n",
       "      <td>Germany</td>\n",
       "      <td>1810</td>\n",
       "      <td>38.37</td>\n",
       "      <td>5.35</td>\n",
       "      <td>23882461.0</td>\n",
       "    </tr>\n",
       "    <tr>\n",
       "      <th>...</th>\n",
       "      <td>...</td>\n",
       "      <td>...</td>\n",
       "      <td>...</td>\n",
       "      <td>...</td>\n",
       "      <td>...</td>\n",
       "    </tr>\n",
       "    <tr>\n",
       "      <th>20543</th>\n",
       "      <td>Germany</td>\n",
       "      <td>2014</td>\n",
       "      <td>80.70</td>\n",
       "      <td>1.43</td>\n",
       "      <td>80646262.0</td>\n",
       "    </tr>\n",
       "    <tr>\n",
       "      <th>20678</th>\n",
       "      <td>Sweden</td>\n",
       "      <td>2014</td>\n",
       "      <td>82.10</td>\n",
       "      <td>1.93</td>\n",
       "      <td>9703247.0</td>\n",
       "    </tr>\n",
       "    <tr>\n",
       "      <th>20796</th>\n",
       "      <td>France</td>\n",
       "      <td>2015</td>\n",
       "      <td>81.80</td>\n",
       "      <td>1.98</td>\n",
       "      <td>64395345.0</td>\n",
       "    </tr>\n",
       "    <tr>\n",
       "      <th>20802</th>\n",
       "      <td>Germany</td>\n",
       "      <td>2015</td>\n",
       "      <td>80.80</td>\n",
       "      <td>1.44</td>\n",
       "      <td>80688545.0</td>\n",
       "    </tr>\n",
       "    <tr>\n",
       "      <th>20937</th>\n",
       "      <td>Sweden</td>\n",
       "      <td>2015</td>\n",
       "      <td>82.10</td>\n",
       "      <td>1.93</td>\n",
       "      <td>9779426.0</td>\n",
       "    </tr>\n",
       "  </tbody>\n",
       "</table>\n",
       "<p>243 rows × 5 columns</p>\n",
       "</div>"
      ],
      "text/plain": [
       "       country  year  life_expectancy  fertility_rate  population\n",
       "76      France  1800            33.97            4.41  29355111.0\n",
       "82     Germany  1800            38.37            5.40  22886919.0\n",
       "217     Sweden  1800            32.16            4.07   2354189.0\n",
       "335     France  1810            37.40            3.90  30293172.0\n",
       "341    Germany  1810            38.37            5.35  23882461.0\n",
       "...        ...   ...              ...             ...         ...\n",
       "20543  Germany  2014            80.70            1.43  80646262.0\n",
       "20678   Sweden  2014            82.10            1.93   9703247.0\n",
       "20796   France  2015            81.80            1.98  64395345.0\n",
       "20802  Germany  2015            80.80            1.44  80688545.0\n",
       "20937   Sweden  2015            82.10            1.93   9779426.0\n",
       "\n",
       "[243 rows x 5 columns]"
      ]
     },
     "execution_count": 36,
     "metadata": {},
     "output_type": "execute_result"
    }
   ],
   "source": [
    "df_subset"
   ]
  },
  {
   "cell_type": "code",
   "execution_count": 37,
   "metadata": {},
   "outputs": [
    {
     "data": {
      "image/png": "[encoded data removed]",
      "text/plain": [
       "<Figure size 432x288 with 1 Axes>"
      ]
     },
     "metadata": {},
     "output_type": "display_data"
    }
   ],
   "source": [
    "fig_a = sns.lineplot(x='year', y='life_expectancy', hue='country',\n",
    "            data=df_subset);\n",
    "lg_a = fig_a.legend()\n",
    "lg_a.texts[0].set_text(\"Country\")"
   ]
  },
  {
   "cell_type": "markdown",
   "metadata": {},
   "source": [
    "### Scatterplots"
   ]
  },
  {
   "cell_type": "code",
   "execution_count": 38,
   "metadata": {},
   "outputs": [
    {
     "data": {
      "image/png": "[encoded data removed]",
      "text/plain": [
       "<Figure size 432x288 with 1 Axes>"
      ]
     },
     "metadata": {},
     "output_type": "display_data"
    }
   ],
   "source": [
    "fig_b = sns.scatterplot(x='year', y='life_expectancy', hue='country',\n",
    "            data=df_subset, alpha=0.6);\n",
    "lg_b = fig_b.legend()\n",
    "lg_b.texts[0].set_text(\"Country\")"
   ]
  },
  {
   "cell_type": "markdown",
   "metadata": {},
   "source": [
    "## Animated Scatterplot (limited to three countries)"
   ]
  },
  {
   "cell_type": "code",
   "execution_count": 39,
   "metadata": {},
   "outputs": [],
   "source": [
    "\"\"\" Series of scatterplots built without the population as parameter used to set the size \n",
    "of the marker\"\"\"\n",
    "for year in range(1960, 2016):\n",
    "    fig = plt.figure(figsize=(6, 3), dpi=150)\n",
    "    scatter = sns.scatterplot(x='life_expectancy', y='fertility_rate', hue='country',\n",
    "            data=df_subset[df_subset['year']==year], alpha=0.6)\n",
    "    lg_scatter = scatter.legend()\n",
    "    lg_scatter.texts[0].set_text(\"\")\n",
    "    plt.xlabel('Life expectancy')\n",
    "    plt.ylabel('Fertility rate') \n",
    "    plt.axis((1960, 2015, 50, 90))\n",
    "    leg = plt.legend(loc='lower right', bbox_to_anchor=(0.8,0, 0.2, 0.2),\n",
    "           ncol=1, fontsize=5)\n",
    "    leg.texts[0].set_text(\"\")\n",
    "    namefile = \"lifeexp3_\"+str(year)+\".png\"\n",
    "    plt.savefig(namefile)\n",
    "    plt.close()"
   ]
  },
  {
   "cell_type": "code",
   "execution_count": 40,
   "metadata": {},
   "outputs": [],
   "source": [
    "\"\"\" Scatterplots built with the population as parameter used to set the size \n",
    "of the marker\"\"\"\n",
    "for year in range(1960, 2016):\n",
    "    fig = plt.figure(figsize=(6, 3), dpi=150)\n",
    "    sns.scatterplot(x='life_expectancy', y='fertility_rate', size ='population',\n",
    "                    hue='country', data=df_subset[df_subset['year']==year], alpha=0.6)\n",
    "    plt.xlabel('Life expectancy')\n",
    "    plt.ylabel('Fertility rate') \n",
    "    plt.axis((1960, 2015, 50, 90))\n",
    "    plt.tight_layout()\n",
    "    leg = plt.legend(loc='lower right', bbox_to_anchor=(0.8,0, 0.2, 0.2),\n",
    "           ncol=1, fontsize=5)\n",
    "    leg.texts[0].set_text(\"\")\n",
    "    leg.texts[4].set_text(\"\")\n",
    "    namefile = \"life_exp_3\"+str(year)+\".png\"\n",
    "    plt.savefig(namefile)\n",
    "    plt.close()"
   ]
  },
  {
   "cell_type": "code",
   "execution_count": 41,
   "metadata": {},
   "outputs": [],
   "source": [
    "images = []\n",
    "\n",
    "for i in range(1960, 2016):\n",
    "    filename = 'life_exp_{}.png'.format(i)\n",
    "    images.append(imageio.imread(filename))\n",
    "\n",
    "imageio.mimsave('animated3.gif', images, fps=5)"
   ]
  },
  {
   "cell_type": "markdown",
   "metadata": {},
   "source": [
    "## Animated Scatterplot (all countries)"
   ]
  },
  {
   "cell_type": "code",
   "execution_count": 42,
   "metadata": {},
   "outputs": [],
   "source": [
    "for year in range(1960, 2016):\n",
    "    fig = plt.figure(figsize=(6, 3), dpi=150)\n",
    "    sns.scatterplot(x='life_expectancy', y='fertility_rate', size ='population', sizes =(1,2000),\n",
    "                    hue='country', data=df[df['year']==year], alpha=0.6, legend=False)\n",
    "    plt.xlabel('Life expectancy')\n",
    "    plt.ylabel('Fertility rate') \n",
    "    plt.axis((30, 90, 0, 9))\n",
    "    plt.tight_layout()\n",
    "    namefile = \"life_exp_all\"+str(year)+\".png\"\n",
    "    plt.savefig(namefile)\n",
    "    plt.close()"
   ]
  },
  {
   "cell_type": "code",
   "execution_count": 43,
   "metadata": {},
   "outputs": [],
   "source": [
    "images = []\n",
    "\n",
    "for i in range(1960, 2016):\n",
    "    filename = 'life_exp_all{}.png'.format(i)\n",
    "    images.append(imageio.imread(filename))\n",
    "\n",
    "imageio.mimsave('output.gif', images, fps=5)"
   ]
  },
  {
   "cell_type": "markdown",
   "metadata": {},
   "source": [
    "## Additional plots"
   ]
  },
  {
   "cell_type": "code",
   "execution_count": 45,
   "metadata": {
    "scrolled": true
   },
   "outputs": [
    {
     "name": "stderr",
     "output_type": "stream",
     "text": [
      "/Users/giudittaparolini/anaconda3/envs/testenv/lib/python3.7/site-packages/ipykernel_launcher.py:1: UserWarning: Boolean Series key will be reindexed to match DataFrame index.\n",
      "  \"\"\"Entry point for launching an IPython kernel.\n"
     ]
    }
   ],
   "source": [
    "df_cusv = df.loc[df['country'].isin(['China', 'United States', 'Somalia', 'Venezuela'])][(df['year']>1959) &(df['year']<2016)]"
   ]
  },
  {
   "cell_type": "code",
   "execution_count": 46,
   "metadata": {
    "scrolled": true
   },
   "outputs": [
    {
     "data": {
      "text/html": [
       "<div>\n",
       "<style scoped>\n",
       "    .dataframe tbody tr th:only-of-type {\n",
       "        vertical-align: middle;\n",
       "    }\n",
       "\n",
       "    .dataframe tbody tr th {\n",
       "        vertical-align: top;\n",
       "    }\n",
       "\n",
       "    .dataframe thead th {\n",
       "        text-align: right;\n",
       "    }\n",
       "</style>\n",
       "<table border=\"1\" class=\"dataframe\">\n",
       "  <thead>\n",
       "    <tr style=\"text-align: right;\">\n",
       "      <th></th>\n",
       "      <th>country</th>\n",
       "      <th>year</th>\n",
       "      <th>life_expectancy</th>\n",
       "      <th>fertility_rate</th>\n",
       "      <th>population</th>\n",
       "    </tr>\n",
       "  </thead>\n",
       "  <tbody>\n",
       "    <tr>\n",
       "      <th>6519</th>\n",
       "      <td>China</td>\n",
       "      <td>1960</td>\n",
       "      <td>30.53</td>\n",
       "      <td>3.99</td>\n",
       "      <td>6.444502e+08</td>\n",
       "    </tr>\n",
       "    <tr>\n",
       "      <th>6682</th>\n",
       "      <td>Somalia</td>\n",
       "      <td>1960</td>\n",
       "      <td>38.34</td>\n",
       "      <td>7.25</td>\n",
       "      <td>2.756380e+06</td>\n",
       "    </tr>\n",
       "    <tr>\n",
       "      <th>6714</th>\n",
       "      <td>United States</td>\n",
       "      <td>1960</td>\n",
       "      <td>69.91</td>\n",
       "      <td>3.67</td>\n",
       "      <td>1.861765e+08</td>\n",
       "    </tr>\n",
       "    <tr>\n",
       "      <th>6720</th>\n",
       "      <td>Venezuela</td>\n",
       "      <td>1960</td>\n",
       "      <td>60.08</td>\n",
       "      <td>6.62</td>\n",
       "      <td>8.146845e+06</td>\n",
       "    </tr>\n",
       "    <tr>\n",
       "      <th>6778</th>\n",
       "      <td>China</td>\n",
       "      <td>1961</td>\n",
       "      <td>32.95</td>\n",
       "      <td>3.28</td>\n",
       "      <td>6.546251e+08</td>\n",
       "    </tr>\n",
       "    <tr>\n",
       "      <th>...</th>\n",
       "      <td>...</td>\n",
       "      <td>...</td>\n",
       "      <td>...</td>\n",
       "      <td>...</td>\n",
       "      <td>...</td>\n",
       "    </tr>\n",
       "    <tr>\n",
       "      <th>20706</th>\n",
       "      <td>Venezuela</td>\n",
       "      <td>2014</td>\n",
       "      <td>74.80</td>\n",
       "      <td>2.36</td>\n",
       "      <td>3.069383e+07</td>\n",
       "    </tr>\n",
       "    <tr>\n",
       "      <th>20764</th>\n",
       "      <td>China</td>\n",
       "      <td>2015</td>\n",
       "      <td>76.20</td>\n",
       "      <td>1.57</td>\n",
       "      <td>1.376049e+09</td>\n",
       "    </tr>\n",
       "    <tr>\n",
       "      <th>20927</th>\n",
       "      <td>Somalia</td>\n",
       "      <td>2015</td>\n",
       "      <td>54.20</td>\n",
       "      <td>6.36</td>\n",
       "      <td>1.078710e+07</td>\n",
       "    </tr>\n",
       "    <tr>\n",
       "      <th>20959</th>\n",
       "      <td>United States</td>\n",
       "      <td>2015</td>\n",
       "      <td>79.10</td>\n",
       "      <td>1.97</td>\n",
       "      <td>3.217736e+08</td>\n",
       "    </tr>\n",
       "    <tr>\n",
       "      <th>20965</th>\n",
       "      <td>Venezuela</td>\n",
       "      <td>2015</td>\n",
       "      <td>74.80</td>\n",
       "      <td>2.34</td>\n",
       "      <td>3.110808e+07</td>\n",
       "    </tr>\n",
       "  </tbody>\n",
       "</table>\n",
       "<p>224 rows × 5 columns</p>\n",
       "</div>"
      ],
      "text/plain": [
       "             country  year  life_expectancy  fertility_rate    population\n",
       "6519           China  1960            30.53            3.99  6.444502e+08\n",
       "6682         Somalia  1960            38.34            7.25  2.756380e+06\n",
       "6714   United States  1960            69.91            3.67  1.861765e+08\n",
       "6720       Venezuela  1960            60.08            6.62  8.146845e+06\n",
       "6778           China  1961            32.95            3.28  6.546251e+08\n",
       "...              ...   ...              ...             ...           ...\n",
       "20706      Venezuela  2014            74.80            2.36  3.069383e+07\n",
       "20764          China  2015            76.20            1.57  1.376049e+09\n",
       "20927        Somalia  2015            54.20            6.36  1.078710e+07\n",
       "20959  United States  2015            79.10            1.97  3.217736e+08\n",
       "20965      Venezuela  2015            74.80            2.34  3.110808e+07\n",
       "\n",
       "[224 rows x 5 columns]"
      ]
     },
     "execution_count": 46,
     "metadata": {},
     "output_type": "execute_result"
    }
   ],
   "source": [
    "df_cusv"
   ]
  },
  {
   "cell_type": "code",
   "execution_count": 47,
   "metadata": {},
   "outputs": [
    {
     "data": {
      "image/png": "[encoded data removed]",
      "text/plain": [
       "<Figure size 432x288 with 1 Axes>"
      ]
     },
     "metadata": {},
     "output_type": "display_data"
    }
   ],
   "source": [
    "fig1 = sns.lineplot(x='year', y='life_expectancy', hue='country',\n",
    "            data=df_cusv);\n",
    "lg1 = fig1.legend()\n",
    "lg1.texts[0].set_text(\"Country\")\n",
    "plt.xlabel('Year')\n",
    "plt.ylabel('Life expectancy') \n",
    "plt.savefig(\"life_exp_csuv.jpg\")"
   ]
  },
  {
   "cell_type": "code",
   "execution_count": 48,
   "metadata": {},
   "outputs": [
    {
     "data": {
      "image/png": "[encoded data removed]",
      "text/plain": [
       "<Figure size 432x288 with 1 Axes>"
      ]
     },
     "metadata": {},
     "output_type": "display_data"
    }
   ],
   "source": [
    "fig2=sns.lineplot(x='year', y='fertility_rate', hue='country',\n",
    "            data=df_cusv);\n",
    "lg2 = fig2.legend()\n",
    "lg2.texts[0].set_text(\"Country\")\n",
    "plt.xlabel('Year')\n",
    "plt.ylabel('Fertility') \n",
    "plt.savefig(\"fertility_csuv.jpg\")"
   ]
  },
  {
   "cell_type": "code",
   "execution_count": 49,
   "metadata": {},
   "outputs": [
    {
     "data": {
      "image/png": "[encoded data removed]",
      "text/plain": [
       "<Figure size 432x288 with 1 Axes>"
      ]
     },
     "metadata": {},
     "output_type": "display_data"
    }
   ],
   "source": [
    "fig3 = sns.lineplot(x='year', y='population', hue='country',\n",
    "            data=df_cusv);\n",
    "lg3 = fig3.legend()\n",
    "lg3.texts[0].set_text(\"Country\")\n",
    "plt.xlabel('Year')\n",
    "plt.ylabel('Population') \n",
    "plt.savefig(\"population_csuv.jpg\")"
   ]
  },
  {
   "cell_type": "code",
   "execution_count": 50,
   "metadata": {},
   "outputs": [],
   "source": [
    "for year in range(1960, 2016):\n",
    "    fig = plt.figure(figsize=(6, 3), dpi=150)\n",
    "    sns.scatterplot(x='year', y='life_expectancy', size ='population',\n",
    "                    hue='country', data=df_cusv[df_cusv['year']==year], alpha=0.6)\n",
    "    plt.xlabel('Year')\n",
    "    plt.ylabel('Life expectancy') \n",
    "    plt.axis((1960, 2015, 30, 90))\n",
    "    plt.tight_layout()\n",
    "    leg = plt.legend(loc='lower right', bbox_to_anchor=(0.8,0, 0.2, 0.2),\n",
    "           ncol=1, fontsize=5)\n",
    "    leg.texts[0].set_text(\"\")\n",
    "    leg.texts[5].set_text(\"\")\n",
    "    namefile = \"life_expcusv_\"+str(year)+\".png\"\n",
    "    plt.savefig(namefile)\n",
    "    plt.close()\n"
   ]
  },
  {
   "cell_type": "code",
   "execution_count": 51,
   "metadata": {},
   "outputs": [],
   "source": [
    "images = []\n",
    "\n",
    "for i in range(1960, 2016):\n",
    "    filename = 'life_expcusv_{}.png'.format(i)\n",
    "    images.append(imageio.imread(filename))\n",
    "\n",
    "imageio.mimsave('animated_cusv.gif', images, fps=5)"
   ]
  },
  {
   "cell_type": "code",
   "execution_count": 52,
   "metadata": {},
   "outputs": [],
   "source": [
    "for year in range(1960, 2016):\n",
    "    fig = plt.figure(figsize=(6, 3), dpi=150)\n",
    "    sns.scatterplot(x='life_expectancy', y='fertility_rate', size ='population',\n",
    "                    hue='country', data=df_cusv[df_cusv['year']==year], alpha=0.6)\n",
    "    plt.xlabel('Life expectancy')\n",
    "    plt.ylabel('Fertility') \n",
    "    plt.axis((1960, 2015, 30, 90))\n",
    "    plt.tight_layout()\n",
    "    leg = plt.legend(loc='lower right', bbox_to_anchor=(0.8,0, 0.2, 0.2),\n",
    "           ncol=1, fontsize=5)\n",
    "    leg.texts[0].set_text(\"\")\n",
    "    leg.texts[5].set_text(\"\")\n",
    "    namefile = \"lifeexp_\"+str(year)+\".png\"\n",
    "    plt.savefig(namefile)\n",
    "    plt.close()"
   ]
  },
  {
   "cell_type": "code",
   "execution_count": null,
   "metadata": {},
   "outputs": [],
   "source": [
    "images = []\n",
    "\n",
    "for i in range(1960, 2016):\n",
    "    filename = 'lifeexp_{}.png'.format(i)\n",
    "    images.append(imageio.imread(filename))\n",
    "\n",
    "imageio.mimsave('output.gif', images, fps=5)"
   ]
  },
  {
   "cell_type": "markdown",
   "metadata": {},
   "source": [
    "****************************************************************************************"
   ]
  },
  {
   "cell_type": "code",
   "execution_count": null,
   "metadata": {},
   "outputs": [],
   "source": [
    "df.head()"
   ]
  },
  {
   "cell_type": "code",
   "execution_count": null,
   "metadata": {
    "scrolled": true
   },
   "outputs": [],
   "source": [
    "df_centuries = df.loc[df['year'].isin([1800, 1900, 2000])]\n"
   ]
  },
  {
   "cell_type": "code",
   "execution_count": null,
   "metadata": {
    "scrolled": false
   },
   "outputs": [],
   "source": [
    "df_centuries"
   ]
  },
  {
   "cell_type": "code",
   "execution_count": null,
   "metadata": {},
   "outputs": [],
   "source": [
    "df_centuries['year'].unique()"
   ]
  },
  {
   "cell_type": "code",
   "execution_count": null,
   "metadata": {
    "scrolled": true
   },
   "outputs": [],
   "source": [
    "df_centuries.dtypes"
   ]
  },
  {
   "cell_type": "code",
   "execution_count": null,
   "metadata": {},
   "outputs": [],
   "source": [
    "plt.figure(figsize=(12,8))\n",
    "scatter_centuries= sns.scatterplot(data=df_centuries,\n",
    "                                   x='life_expectancy',\n",
    "                                   y='fertility_rate',\n",
    "                                   hue = 'year',\n",
    "                                   palette=['gray', 'darkturquoise', 'lightcoral'])\n",
    "lgd = scatter_centuries.legend()\n",
    "lgd.texts[0].set_text(\"Year\")\n",
    "plt.xlabel('Life expectancy')\n",
    "plt.ylabel('Fertility rate')\n",
    "plt.savefig('palette.jpg');"
   ]
  },
  {
   "cell_type": "code",
   "execution_count": null,
   "metadata": {},
   "outputs": [],
   "source": [
    "plt.figure(figsize=(12,8))\n",
    "scatter_centuries= sns.scatterplot(data=df_centuries, \n",
    "                                   x='life_expectancy',\n",
    "                                   y='fertility_rate', hue = 'year')\n",
    "lgd = scatter_centuries.legend()\n",
    "lgd.texts[0].set_text(\"Year\")\n",
    "plt.xlabel('Life expectancy')\n",
    "plt.ylabel('Fertility rate')\n",
    "plt.savefig('odd.jpg');"
   ]
  }
 ],
 "metadata": {
  "kernelspec": {
   "display_name": "Python 3",
   "language": "python",
   "name": "python3"
  },
  "language_info": {
   "codemirror_mode": {
    "name": "ipython",
    "version": 3
   },
   "file_extension": ".py",
   "mimetype": "text/x-python",
   "name": "python",
   "nbconvert_exporter": "python",
   "pygments_lexer": "ipython3",
   "version": "3.7.7"
  }
 },
 "nbformat": 4,
 "nbformat_minor": 4
}
