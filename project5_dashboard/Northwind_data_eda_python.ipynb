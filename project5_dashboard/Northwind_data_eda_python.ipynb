{
 "cells": [
  {
   "cell_type": "code",
   "execution_count": 145,
   "metadata": {},
   "outputs": [],
   "source": [
    "import pandas as pd\n",
    "import glob"
   ]
  },
  {
   "cell_type": "code",
   "execution_count": 146,
   "metadata": {},
   "outputs": [],
   "source": [
    "csv_files = glob.glob(\"data/*.csv\")"
   ]
  },
  {
   "cell_type": "code",
   "execution_count": 147,
   "metadata": {},
   "outputs": [
    {
     "data": {
      "text/plain": [
       "['data/customers.csv',\n",
       " 'data/categories.csv',\n",
       " 'data/regions.csv',\n",
       " 'data/products.csv',\n",
       " 'data/employee_territories.csv',\n",
       " 'data/orders.csv',\n",
       " 'data/suppliers.csv',\n",
       " 'data/shippers.csv',\n",
       " 'data/territories.csv',\n",
       " 'data/employees.csv',\n",
       " 'data/order_details.csv']"
      ]
     },
     "execution_count": 147,
     "metadata": {},
     "output_type": "execute_result"
    }
   ],
   "source": [
    "csv_files"
   ]
  },
  {
   "cell_type": "code",
   "execution_count": 148,
   "metadata": {},
   "outputs": [],
   "source": [
    "df0 = pd.read_csv(\"data/customers.csv\")\n",
    "df1 = pd.read_csv(\"data/categories.csv\")\n",
    "df2 = pd.read_csv(\"data/regions.csv\")\n",
    "df3 = pd.read_csv(\"data/products.csv\")\n",
    "df4 = pd.read_csv(\"data/employee_territories.csv\")\n",
    "df5 = pd.read_csv(\"data/orders.csv\")    \n",
    "df6 = pd.read_csv(\"data/suppliers.csv\")\n",
    "df7 = pd.read_csv(\"data/shippers.csv\")\n",
    "df8 = pd.read_csv(\"data/territories.csv\")\n",
    "df9 = pd.read_csv(\"data/employees.csv\")\n",
    "df10 = pd.read_csv(\"data/order_details.csv\")"
   ]
  },
  {
   "cell_type": "code",
   "execution_count": 149,
   "metadata": {},
   "outputs": [],
   "source": [
    "df_dict = {0:\"customers\", 1:\"categories\", 2:\"regions\", 3:\"products\", 4:\"employee_territories\", 5:\"orders\",\n",
    "          6:\"suppliers\", 7:\"shippers\", 8: \"territories\", 9: \"employees\", 10: \"order_details\"}"
   ]
  },
  {
   "cell_type": "code",
   "execution_count": 150,
   "metadata": {},
   "outputs": [],
   "source": [
    "df_lst =[df0, df1, df2, df3, df4, df5, df6, df7, df8, df9, df10]"
   ]
  },
  {
   "cell_type": "code",
   "execution_count": 295,
   "metadata": {},
   "outputs": [],
   "source": [
    "df_col_values = []\n",
    "for df in df_lst:\n",
    "    cols = list(df.columns.values)\n",
    "    df_col_values.append(cols)"
   ]
  },
  {
   "cell_type": "code",
   "execution_count": 152,
   "metadata": {},
   "outputs": [],
   "source": [
    "df_n = [i for i in range (1, 12)]"
   ]
  },
  {
   "cell_type": "code",
   "execution_count": 165,
   "metadata": {},
   "outputs": [],
   "source": [
    "lst_cols = list(zip(df_n,df_col_values))"
   ]
  },
  {
   "cell_type": "code",
   "execution_count": 248,
   "metadata": {},
   "outputs": [
    {
     "name": "stdout",
     "output_type": "stream",
     "text": [
      "11\n"
     ]
    }
   ],
   "source": [
    "print(len(lst_cols))"
   ]
  },
  {
   "cell_type": "code",
   "execution_count": 167,
   "metadata": {},
   "outputs": [
    {
     "data": {
      "text/plain": [
       "(1,\n",
       " ['customerID',\n",
       "  'companyName',\n",
       "  'contactName',\n",
       "  'contactTitle',\n",
       "  'address',\n",
       "  'city',\n",
       "  'region',\n",
       "  'postalCode',\n",
       "  'country',\n",
       "  'phone',\n",
       "  'fax'])"
      ]
     },
     "execution_count": 167,
     "metadata": {},
     "output_type": "execute_result"
    }
   ],
   "source": [
    "lst_cols[0]"
   ]
  },
  {
   "cell_type": "code",
   "execution_count": 290,
   "metadata": {},
   "outputs": [],
   "source": [
    "def compare_csv_cols (df_dict, list_cols):\n",
    "    \n",
    "    for i in range(0,len(list_cols)):\n",
    "        for j in range(0,len(list_cols)):\n",
    "            \n",
    "            if i!=j:\n",
    "                set1 = set(list_cols[i][1])\n",
    "                set2 = set(list_cols[j][1])\n",
    "                set_int = set1.intersection(set2)\n",
    "                if list(set_int)!=[]:\n",
    "                    tup = (df_dict[i], df_dict[j], list(set_int))\n",
    "                    print(tup)             \n",
    "          \n",
    "    \n",
    "    \n",
    "                \n",
    "    \n",
    "                \n",
    "    "
   ]
  },
  {
   "cell_type": "code",
   "execution_count": 291,
   "metadata": {},
   "outputs": [
    {
     "name": "stdout",
     "output_type": "stream",
     "text": [
      "('customers', 'orders', ['customerID'])\n",
      "('customers', 'suppliers', ['address', 'phone', 'contactName', 'country', 'city', 'region', 'fax', 'contactTitle', 'postalCode', 'companyName'])\n",
      "('customers', 'shippers', ['companyName', 'phone'])\n",
      "('customers', 'employees', ['address', 'country', 'city', 'region', 'postalCode'])\n",
      "('categories', 'products', ['categoryID'])\n",
      "('regions', 'territories', ['regionID'])\n",
      "('products', 'categories', ['categoryID'])\n",
      "('products', 'suppliers', ['supplierID'])\n",
      "('products', 'order_details', ['unitPrice', 'productID'])\n",
      "('employee_territories', 'orders', ['employeeID'])\n",
      "('employee_territories', 'territories', ['territoryID'])\n",
      "('employee_territories', 'employees', ['employeeID'])\n",
      "('orders', 'customers', ['customerID'])\n",
      "('orders', 'employee_territories', ['employeeID'])\n",
      "('orders', 'employees', ['employeeID'])\n",
      "('orders', 'order_details', ['orderID'])\n",
      "('suppliers', 'customers', ['address', 'phone', 'contactName', 'country', 'city', 'region', 'fax', 'contactTitle', 'postalCode', 'companyName'])\n",
      "('suppliers', 'products', ['supplierID'])\n",
      "('suppliers', 'shippers', ['companyName', 'phone'])\n",
      "('suppliers', 'employees', ['address', 'country', 'city', 'region', 'postalCode'])\n",
      "('shippers', 'customers', ['companyName', 'phone'])\n",
      "('shippers', 'suppliers', ['companyName', 'phone'])\n",
      "('territories', 'regions', ['regionID'])\n",
      "('territories', 'employee_territories', ['territoryID'])\n",
      "('employees', 'customers', ['address', 'country', 'city', 'region', 'postalCode'])\n",
      "('employees', 'employee_territories', ['employeeID'])\n",
      "('employees', 'orders', ['employeeID'])\n",
      "('employees', 'suppliers', ['address', 'country', 'city', 'region', 'postalCode'])\n",
      "('order_details', 'products', ['unitPrice', 'productID'])\n",
      "('order_details', 'orders', ['orderID'])\n"
     ]
    }
   ],
   "source": [
    "compared = compare_csv_cols(df_dict,lst_cols)"
   ]
  },
  {
   "cell_type": "code",
   "execution_count": null,
   "metadata": {},
   "outputs": [],
   "source": []
  }
 ],
 "metadata": {
  "kernelspec": {
   "display_name": "Python 3",
   "language": "python",
   "name": "python3"
  },
  "language_info": {
   "codemirror_mode": {
    "name": "ipython",
    "version": 3
   },
   "file_extension": ".py",
   "mimetype": "text/x-python",
   "name": "python",
   "nbconvert_exporter": "python",
   "pygments_lexer": "ipython3",
   "version": "3.7.7"
  }
 },
 "nbformat": 4,
 "nbformat_minor": 4
}
