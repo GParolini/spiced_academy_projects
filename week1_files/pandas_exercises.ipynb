{
 "cells": [
  {
   "cell_type": "markdown",
   "metadata": {},
   "source": [
    "Fix five bugs"
   ]
  },
  {
   "cell_type": "code",
   "execution_count": 4,
   "metadata": {},
   "outputs": [],
   "source": [
    "import pandas as pd"
   ]
  },
  {
   "cell_type": "code",
   "execution_count": 5,
   "metadata": {},
   "outputs": [
    {
     "name": "stdout",
     "output_type": "stream",
     "text": [
      "One-Hot Chili Peppers\n",
      "Bayesian Basil\n",
      "Tensor Thyme\n",
      "Linear Lavender\n",
      "Artificial Neural Nutmeg\n",
      "Polynomial Peppermint\n",
      "Sigmoid Saffron\n"
     ]
    }
   ],
   "source": [
    "\"\"\"\n",
    "spices = ['One-Hot Chili Peppers',\n",
    "          'Bayesian Basil',\n",
    "          'Tensor Thyme'\n",
    "          'Linear Lavender',\n",
    "          'Artificial Neural Nutmeg',\n",
    "          'Polynomial Peppermint',\n",
    "          'Sigmoid Saffron'\n",
    "          ]\n",
    "\"\"\"\n",
    "spices = ['One-Hot Chili Peppers',\n",
    "          'Bayesian Basil',\n",
    "          'Tensor Thyme',\n",
    "          'Linear Lavender',\n",
    "          'Artificial Neural Nutmeg',\n",
    "          'Polynomial Peppermint',\n",
    "          'Sigmoid Saffron'\n",
    "          ]\n",
    "\n",
    "for spice in spices:\n",
    "    print(spice)"
   ]
  },
  {
   "cell_type": "code",
   "execution_count": 6,
   "metadata": {},
   "outputs": [
    {
     "name": "stdout",
     "output_type": "stream",
     "text": [
      "[2, 6, 9, 9, 9, 8, 8]\n"
     ]
    }
   ],
   "source": [
    "#participants = [2, 6, 9, 9, 9, 8]\n",
    "participants_6 = [2, 6, 9, 9, 9, 8]\n",
    "participants = participants_6 + [8]\n",
    "print(participants)\n"
   ]
  },
  {
   "cell_type": "code",
   "execution_count": 7,
   "metadata": {},
   "outputs": [
    {
     "data": {
      "text/html": [
       "<div>\n",
       "<style scoped>\n",
       "    .dataframe tbody tr th:only-of-type {\n",
       "        vertical-align: middle;\n",
       "    }\n",
       "\n",
       "    .dataframe tbody tr th {\n",
       "        vertical-align: top;\n",
       "    }\n",
       "\n",
       "    .dataframe thead th {\n",
       "        text-align: right;\n",
       "    }\n",
       "</style>\n",
       "<table border=\"1\" class=\"dataframe\">\n",
       "  <thead>\n",
       "    <tr style=\"text-align: right;\">\n",
       "      <th></th>\n",
       "      <th>name</th>\n",
       "      <th>participants</th>\n",
       "    </tr>\n",
       "  </thead>\n",
       "  <tbody>\n",
       "    <tr>\n",
       "      <th>0</th>\n",
       "      <td>One-Hot Chili Peppers</td>\n",
       "      <td>2</td>\n",
       "    </tr>\n",
       "    <tr>\n",
       "      <th>1</th>\n",
       "      <td>Bayesian Basil</td>\n",
       "      <td>6</td>\n",
       "    </tr>\n",
       "    <tr>\n",
       "      <th>2</th>\n",
       "      <td>Tensor Thyme</td>\n",
       "      <td>9</td>\n",
       "    </tr>\n",
       "    <tr>\n",
       "      <th>3</th>\n",
       "      <td>Linear Lavender</td>\n",
       "      <td>9</td>\n",
       "    </tr>\n",
       "    <tr>\n",
       "      <th>4</th>\n",
       "      <td>Artificial Neural Nutmeg</td>\n",
       "      <td>9</td>\n",
       "    </tr>\n",
       "    <tr>\n",
       "      <th>5</th>\n",
       "      <td>Polynomial Peppermint</td>\n",
       "      <td>8</td>\n",
       "    </tr>\n",
       "    <tr>\n",
       "      <th>6</th>\n",
       "      <td>Sigmoid Saffron</td>\n",
       "      <td>8</td>\n",
       "    </tr>\n",
       "  </tbody>\n",
       "</table>\n",
       "</div>"
      ],
      "text/plain": [
       "                       name  participants\n",
       "0     One-Hot Chili Peppers             2\n",
       "1            Bayesian Basil             6\n",
       "2              Tensor Thyme             9\n",
       "3           Linear Lavender             9\n",
       "4  Artificial Neural Nutmeg             9\n",
       "5     Polynomial Peppermint             8\n",
       "6           Sigmoid Saffron             8"
      ]
     },
     "execution_count": 7,
     "metadata": {},
     "output_type": "execute_result"
    }
   ],
   "source": [
    "df = pd.DataFrame({'name': spices,\n",
    "                   'participants': participants\n",
    "                   })\n",
    "df.head(7)"
   ]
  },
  {
   "cell_type": "code",
   "execution_count": 8,
   "metadata": {},
   "outputs": [
    {
     "name": "stdout",
     "output_type": "stream",
     "text": [
      "[2, 6, 8, 8, 9, 9, 9]\n"
     ]
    }
   ],
   "source": [
    "#print(sort_values(by='participants', ascending=False))\n",
    "\n",
    "sorted_participants = sorted(participants)\n",
    "print(sorted_participants)"
   ]
  },
  {
   "cell_type": "code",
   "execution_count": 9,
   "metadata": {},
   "outputs": [
    {
     "name": "stdout",
     "output_type": "stream",
     "text": [
      "total participants: 51\n"
     ]
    }
   ],
   "source": [
    "#print(\"\\ntotal participants:\", df.sum(['participants']))\n",
    "part = df['participants']\n",
    "num_part = part.sum()\n",
    "print(\"total participants:\", num_part)\n",
    "#print(\"total participants:\", df.sum(['participants']))"
   ]
  },
  {
   "cell_type": "code",
   "execution_count": 68,
   "metadata": {},
   "outputs": [
    {
     "data": {
      "text/html": [
       "<div>\n",
       "<style scoped>\n",
       "    .dataframe tbody tr th:only-of-type {\n",
       "        vertical-align: middle;\n",
       "    }\n",
       "\n",
       "    .dataframe tbody tr th {\n",
       "        vertical-align: top;\n",
       "    }\n",
       "\n",
       "    .dataframe thead th {\n",
       "        text-align: right;\n",
       "    }\n",
       "</style>\n",
       "<table border=\"1\" class=\"dataframe\">\n",
       "  <thead>\n",
       "    <tr style=\"text-align: right;\">\n",
       "      <th></th>\n",
       "      <th>continent</th>\n",
       "      <th>country</th>\n",
       "    </tr>\n",
       "  </thead>\n",
       "  <tbody>\n",
       "    <tr>\n",
       "      <th>0</th>\n",
       "      <td>Africa</td>\n",
       "      <td>Algeria</td>\n",
       "    </tr>\n",
       "    <tr>\n",
       "      <th>1</th>\n",
       "      <td>Africa</td>\n",
       "      <td>Angola</td>\n",
       "    </tr>\n",
       "    <tr>\n",
       "      <th>2</th>\n",
       "      <td>Africa</td>\n",
       "      <td>Benin</td>\n",
       "    </tr>\n",
       "    <tr>\n",
       "      <th>3</th>\n",
       "      <td>Africa</td>\n",
       "      <td>Botswana</td>\n",
       "    </tr>\n",
       "    <tr>\n",
       "      <th>4</th>\n",
       "      <td>Africa</td>\n",
       "      <td>Burkina</td>\n",
       "    </tr>\n",
       "  </tbody>\n",
       "</table>\n",
       "</div>"
      ],
      "text/plain": [
       "  continent   country\n",
       "0    Africa   Algeria\n",
       "1    Africa    Angola\n",
       "2    Africa     Benin\n",
       "3    Africa  Botswana\n",
       "4    Africa   Burkina"
      ]
     },
     "execution_count": 68,
     "metadata": {},
     "output_type": "execute_result"
    }
   ],
   "source": [
    "# 1. read the file into a DataFrame\n",
    "df = pd.read_csv(\"continents.csv\",\n",
    "                sep=\";\")\n",
    "df.head()"
   ]
  },
  {
   "cell_type": "code",
   "execution_count": 69,
   "metadata": {},
   "outputs": [
    {
     "name": "stdout",
     "output_type": "stream",
     "text": [
      "df rows: 194\n",
      "df columns: 2\n"
     ]
    }
   ],
   "source": [
    "# 2. display the number of rows and columns\n",
    "t = df.shape\n",
    "print(\"df rows:\", t[0])\n",
    "print(\"df columns:\", t[1])\n"
   ]
  },
  {
   "cell_type": "code",
   "execution_count": 70,
   "metadata": {},
   "outputs": [
    {
     "name": "stdout",
     "output_type": "stream",
     "text": [
      "0     Algeria\n",
      "1      Angola\n",
      "2       Benin\n",
      "3    Botswana\n",
      "4     Burkina\n",
      "Name: country, dtype: object\n"
     ]
    }
   ],
   "source": [
    "# 3. display the first 5 countries in the alphabet\n",
    "countries = df[\"country\"]\n",
    "print(countries.head())"
   ]
  },
  {
   "cell_type": "code",
   "execution_count": 71,
   "metadata": {},
   "outputs": [
    {
     "name": "stdout",
     "output_type": "stream",
     "text": [
      "                       country\n",
      "continent                     \n",
      "Africa                      54\n",
      "Asia                        44\n",
      "Australia and Oceania       14\n",
      "Europe                      47\n",
      "North America               23\n",
      "South America               12\n"
     ]
    }
   ],
   "source": [
    "# 4. which continent has the most countries?\n",
    "nation_continent_counts = df.groupby(\"continent\").count()\n",
    "print(nation_continent_counts)\n",
    "#print(\"The continent with the most countries is: \", nation_continent_counts.loc[0])"
   ]
  },
  {
   "cell_type": "code",
   "execution_count": 74,
   "metadata": {},
   "outputs": [
    {
     "name": "stdout",
     "output_type": "stream",
     "text": [
      "    continent country\n",
      "108    Europe  Cyprus\n"
     ]
    }
   ],
   "source": [
    "# 5. find out on which continent Cyprus is\n",
    "cyprus_cont = df[df[\"country\"]==\"Cyprus\"]\n",
    "\n",
    "print(cyprus_cont)"
   ]
  },
  {
   "cell_type": "code",
   "execution_count": 77,
   "metadata": {},
   "outputs": [
    {
     "name": "stdout",
     "output_type": "stream",
     "text": [
      "   continent                        country\n",
      "0     Africa                        Algeria\n",
      "1     Africa                         Angola\n",
      "2     Africa                          Benin\n",
      "3     Africa                       Botswana\n",
      "4     Africa                        Burkina\n",
      "5     Africa                        Burundi\n",
      "6     Africa                       Cameroon\n",
      "7     Africa                     Cape Verde\n",
      "8     Africa       Central African Republic\n",
      "9     Africa                           Chad\n",
      "10    Africa                        Comoros\n",
      "11    Africa                          Congo\n",
      "12    Africa  Congo, Democratic Republic of\n",
      "13    Africa                       Djibouti\n",
      "14    Africa                          Egypt\n",
      "15    Africa              Equatorial Guinea\n",
      "16    Africa                        Eritrea\n",
      "17    Africa                       Ethiopia\n",
      "18    Africa                          Gabon\n",
      "19    Africa                         Gambia\n",
      "20    Africa                          Ghana\n",
      "21    Africa                         Guinea\n",
      "22    Africa                  Guinea-Bissau\n",
      "23    Africa                    Ivory Coast\n",
      "24    Africa                          Kenya\n",
      "25    Africa                        Lesotho\n",
      "26    Africa                        Liberia\n",
      "27    Africa                          Libya\n",
      "28    Africa                     Madagascar\n",
      "29    Africa                         Malawi\n",
      "30    Africa                           Mali\n",
      "31    Africa                     Mauritania\n",
      "32    Africa                      Mauritius\n",
      "33    Africa                        Morocco\n",
      "34    Africa                     Mozambique\n",
      "35    Africa                        Namibia\n",
      "36    Africa                          Niger\n",
      "37    Africa                        Nigeria\n",
      "38    Africa                         Rwanda\n",
      "39    Africa          Sao Tome and Principe\n",
      "40    Africa                        Senegal\n",
      "41    Africa                     Seychelles\n",
      "42    Africa                   Sierra Leone\n",
      "43    Africa                        Somalia\n",
      "44    Africa                   South Africa\n",
      "45    Africa                    South Sudan\n",
      "46    Africa                          Sudan\n",
      "47    Africa                      Swaziland\n",
      "48    Africa                       Tanzania\n",
      "49    Africa                           Togo\n",
      "50    Africa                        Tunisia\n",
      "51    Africa                         Uganda\n",
      "52    Africa                         Zambia\n",
      "53    Africa                       Zimbabwe\n"
     ]
    }
   ],
   "source": [
    "# 6. define a DataFrame with all African countries\n",
    "africa = df[df[\"continent\"]==\"Africa\"]\n",
    "print(africa)"
   ]
  },
  {
   "cell_type": "code",
   "execution_count": 80,
   "metadata": {},
   "outputs": [
    {
     "name": "stdout",
     "output_type": "stream",
     "text": [
      "    continent               country\n",
      "80       Asia                 Nepal\n",
      "81       Asia                  Oman\n",
      "82       Asia              Pakistan\n",
      "83       Asia           Philippines\n",
      "84       Asia                 Qatar\n",
      "85       Asia    Russian Federation\n",
      "86       Asia          Saudi Arabia\n",
      "87       Asia             Singapore\n",
      "88       Asia             Sri Lanka\n",
      "89       Asia                 Syria\n",
      "90       Asia            Tajikistan\n",
      "91       Asia              Thailand\n",
      "92       Asia                Turkey\n",
      "93       Asia          Turkmenistan\n",
      "94       Asia  United Arab Emirates\n",
      "95       Asia            Uzbekistan\n",
      "96       Asia               Vietnam\n",
      "97       Asia                 Yemen\n",
      "98     Europe               Albania\n",
      "99     Europe               Andorra\n",
      "100    Europe               Armenia\n"
     ]
    }
   ],
   "source": [
    "# 7. define a DataFrame with countries 80 through 100\n",
    "subset = df.iloc[80:101]\n",
    "print(subset)"
   ]
  },
  {
   "cell_type": "code",
   "execution_count": 85,
   "metadata": {},
   "outputs": [
    {
     "name": "stdout",
     "output_type": "stream",
     "text": [
      "         continent                   country\n",
      "0           Africa                   Algeria\n",
      "2           Africa                     Benin\n",
      "4           Africa                   Burkina\n",
      "6           Africa                  Cameroon\n",
      "8           Africa  Central African Republic\n",
      "..             ...                       ...\n",
      "184  South America                    Brazil\n",
      "186  South America                  Colombia\n",
      "188  South America                    Guyana\n",
      "190  South America                      Peru\n",
      "192  South America                   Uruguay\n",
      "\n",
      "[97 rows x 2 columns]\n"
     ]
    }
   ],
   "source": [
    "# 8. select every second country\n",
    "subset_odd = df.iloc[::2,:]\n",
    "print(subset_odd)"
   ]
  }
 ],
 "metadata": {
  "kernelspec": {
   "display_name": "Python 3",
   "language": "python",
   "name": "python3"
  },
  "language_info": {
   "codemirror_mode": {
    "name": "ipython",
    "version": 3
   },
   "file_extension": ".py",
   "mimetype": "text/x-python",
   "name": "python",
   "nbconvert_exporter": "python",
   "pygments_lexer": "ipython3",
   "version": "3.7.1"
  }
 },
 "nbformat": 4,
 "nbformat_minor": 4
}
