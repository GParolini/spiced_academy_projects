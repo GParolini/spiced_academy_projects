{
 "cells": [
  {
   "cell_type": "markdown",
   "metadata": {},
   "source": [
    "# Gradient Descent"
   ]
  },
  {
   "cell_type": "markdown",
   "metadata": {},
   "source": [
    "#### KR: \"The most important algorithm in Machine Learning!\""
   ]
  },
  {
   "cell_type": "markdown",
   "metadata": {},
   "source": [
    "In e.g. linear regression, we want to find the parameters that provide the best fit to our data. To do that we need:\n",
    "\n",
    "1. A measure of how well our model is performing. In machine learning that's normally known as a **loss function**. If our model is performing well, we want the loss function to be small in value. If the model isn't performing well, we want the loss function to reflect that and be large. Did you see a loss function yesterday that satisfies this?\n",
    "\n",
    "$$ MSE = \\frac{1}{n} \\sum(y_{pred}-y_{true})^2 $$\n",
    "\n",
    "2. A way to change our model parameters in a way that gets us from a model that isn't performing well, to a model that performs well -- a model which minimizes the loss function. In the general case this is called an **optimization algorithm**; today we'll look at a particular type of optimization algorithm called gradient descent."
   ]
  },
  {
   "cell_type": "markdown",
   "metadata": {},
   "source": [
    "$$ w_{new} = w_{old} + \\Delta w $$"
   ]
  },
  {
   "cell_type": "markdown",
   "metadata": {},
   "source": [
    "$$ \\Delta w = -\\alpha \\; \\nabla L(w) $$"
   ]
  },
  {
   "cell_type": "markdown",
   "metadata": {},
   "source": [
    "Here:\n",
    "\n",
    "$\\alpha$ is the learning rate\n",
    "\n",
    "$\\nabla L(w) $ is the gradient (first derivative) of the loss function with respect to parameter $w$"
   ]
  },
  {
   "cell_type": "markdown",
   "metadata": {},
   "source": [
    "For *linear regression*, your loss function will look something like this. Let's see on this simple example how and why the weights update formula makes sense."
   ]
  },
  {
   "attachments": {
    "parabola.png": {
     "image/png": "[encoded data removed]"
    }
   },
   "cell_type": "markdown",
   "metadata": {},
   "source": [
    "![parabola.png](attachment:parabola.png)"
   ]
  },
  {
   "cell_type": "markdown",
   "metadata": {},
   "source": [
    "Let's now try to implement gradient descent ourselves."
   ]
  },
  {
   "cell_type": "markdown",
   "metadata": {},
   "source": [
    "## Gradient Descent from Scratch"
   ]
  },
  {
   "cell_type": "code",
   "execution_count": null,
   "metadata": {},
   "outputs": [],
   "source": [
    "import numpy as np\n",
    "import matplotlib.pyplot as plt\n",
    "\n",
    "plt.rcParams[\"figure.figsize\"] = (8, 6)\n",
    "plt.rcParams['font.size'] = 14"
   ]
  },
  {
   "cell_type": "markdown",
   "metadata": {},
   "source": [
    "### Step 0: _create data_"
   ]
  },
  {
   "cell_type": "markdown",
   "metadata": {},
   "source": [
    "Let's first create some data points following roughly the line:"
   ]
  },
  {
   "cell_type": "markdown",
   "metadata": {},
   "source": [
    "$$ y = -1.5 + 2.0x $$"
   ]
  },
  {
   "cell_type": "code",
   "execution_count": null,
   "metadata": {},
   "outputs": [],
   "source": [
    "slope = 2.0\n",
    "intercept = -1.5"
   ]
  },
  {
   "cell_type": "code",
   "execution_count": null,
   "metadata": {},
   "outputs": [],
   "source": [
    "x = np.random.normal(0, 1, 500)"
   ]
  },
  {
   "cell_type": "code",
   "execution_count": null,
   "metadata": {},
   "outputs": [],
   "source": [
    "ytrue = slope*x + intercept + np.random.normal(0, 1, len(x))"
   ]
  },
  {
   "cell_type": "code",
   "execution_count": null,
   "metadata": {},
   "outputs": [],
   "source": [
    "plt.scatter(x, ytrue)"
   ]
  },
  {
   "cell_type": "markdown",
   "metadata": {},
   "source": [
    "### Step 1: _make line_"
   ]
  },
  {
   "cell_type": "markdown",
   "metadata": {},
   "source": [
    "We'd now like to create a function that for a list of values (`x`) returns the predicted value of y (`ypred`) given a slope (`w1`) and an intercept (`w0`)."
   ]
  },
  {
   "cell_type": "code",
   "execution_count": null,
   "metadata": {},
   "outputs": [],
   "source": [
    "def make_line(x, w0, w1):  \n",
    "    ypred = w0 + w1*x\n",
    "    return ypred"
   ]
  },
  {
   "cell_type": "code",
   "execution_count": null,
   "metadata": {},
   "outputs": [],
   "source": [
    "plt.scatter(x, ytrue)\n",
    "plt.plot(x, make_line(x, 3, 2), color='r')"
   ]
  },
  {
   "cell_type": "markdown",
   "metadata": {},
   "source": [
    "### Step 2: _calculate loss function_"
   ]
  },
  {
   "cell_type": "markdown",
   "metadata": {},
   "source": [
    "We already defined our loss function above. Let's now code it."
   ]
  },
  {
   "cell_type": "markdown",
   "metadata": {},
   "source": [
    "$$ MSE = \\frac{1}{n} \\sum (y_{true}-y_{pred})^2 $$"
   ]
  },
  {
   "cell_type": "code",
   "execution_count": null,
   "metadata": {},
   "outputs": [],
   "source": [
    "def mse(ytrue, ypred):\n",
    "    error = np.mean((ytrue-ypred)**2)\n",
    "    return error"
   ]
  },
  {
   "cell_type": "code",
   "execution_count": null,
   "metadata": {},
   "outputs": [],
   "source": [
    "a = np.array([1.0, 1.2, 1.4, 1.6])\n",
    "b = np.array([0.2, 0.4, 0.6, 0.8])\n",
    "\n",
    "assert round(mse(a,b), 2) == 0.64"
   ]
  },
  {
   "cell_type": "markdown",
   "metadata": {},
   "source": [
    "### Step 3: _calculate gradient_"
   ]
  },
  {
   "cell_type": "markdown",
   "metadata": {},
   "source": [
    "To calculate the first derivative, use the definition of the derivative:"
   ]
  },
  {
   "cell_type": "markdown",
   "metadata": {},
   "source": [
    "$$ f'(x) = \\lim_{h \\to 0} \\frac{f(x+h)-f(x)}{h} $$"
   ]
  },
  {
   "cell_type": "markdown",
   "metadata": {},
   "source": [
    "Things to keep in mind:\n",
    "* Make sure you use all functions you defined above\n",
    "* We are calculating partial derivatives of the loss function with respect to the parameters, so when tweaking w0 we're keeping w1, and vice versa."
   ]
  },
  {
   "cell_type": "code",
   "execution_count": null,
   "metadata": {},
   "outputs": [],
   "source": [
    "def calc_gradient(x, ytrue, w0, w1):\n",
    "\n",
    "    dw = 0.0001\n",
    "    ypred = make_line(x, w0, w1)\n",
    "\n",
    "    '''tweak first parameter'''\n",
    "    w1_change = w1 + dw\n",
    "    # calculate predictions using w0 and w1_change\n",
    "    ypred_w1 = make_line(x, w0, w1_change)\n",
    "    deriv_w1 = (mse(ytrue, ypred_w1) - mse(ytrue, ypred)) / dw\n",
    "\n",
    "    '''tweak second parameter'''\n",
    "    w0_change = w0 + dw\n",
    "    # calculate predictions using w0_change and w1\n",
    "    ypred_w0 = make_line(x, w0_change, w1)\n",
    "    deriv_w0 = (mse(ytrue, ypred_w0) - mse(ytrue, ypred)) / dw\n",
    "\n",
    "    return [deriv_w0, deriv_w1] # return both derivations as a list    "
   ]
  },
  {
   "cell_type": "markdown",
   "metadata": {},
   "source": [
    "### Step 4: _implement gradient descent_"
   ]
  },
  {
   "cell_type": "markdown",
   "metadata": {},
   "source": [
    "Repeat the following steps `MAX_ITER`times.\n",
    "In each iteration of the loop:\n",
    "\n",
    "      1. Calculate the gradient of the loss function\n",
    "         with respect to each model parameter.\n",
    "      2. If the gradient becomes really close to zero,\n",
    "         break out of the loop.\n",
    "      3. For each model parameter,\n",
    "         - calculate the updated parameter value using the formula from above.\n",
    "         - overwrite the value with its updated value.\n",
    "      4. Print all variables to check if they\n",
    "         are converging to their expected values.\n"
   ]
  },
  {
   "cell_type": "code",
   "execution_count": null,
   "metadata": {
    "scrolled": false
   },
   "outputs": [],
   "source": [
    "w0 = -1.0 # arbitrary starting value\n",
    "w1 = 5.0 # arbitrary starting value\n",
    "LR = 0.1 # choose a small learning rate\n",
    "MAX_ITER = 500\n",
    "THRESHOLD = 0.01\n",
    "\n",
    "for i in range(MAX_ITER):\n",
    "    \n",
    "    # 1. Calculate the gradient of the loss function with respect to each model parameter.\n",
    "    deriv_w0, deriv_w1 = calc_gradient(x, ytrue, w0, w1)\n",
    "    \n",
    "    # 2. If the gradient becomes really close to zero, break out of the loop.\n",
    "    if ((abs(deriv_w0) <= THRESHOLD) and (abs(deriv_w1) <= THRESHOLD)):\n",
    "        print(f\"CONVERGED, ITERATION {i}\")\n",
    "        print(f\"SLOPE: {w1}, INTERCEPT: {w0}\")\n",
    "        print(f\"Derivatives & threshold: {deriv_w0}, {deriv_w1}, {THRESHOLD}\")\n",
    "        break\n",
    "        \n",
    "    # 3. For each model parameter,\n",
    "    else:\n",
    "    # - calculate the updated parameter value using the formula from above.\n",
    "        w0_new = w0 - LR*deriv_w0\n",
    "        w1_new = w1 - LR*deriv_w1\n",
    "    # - overwrite the value with its updated value.\n",
    "        w0 = w0_new\n",
    "        w1 = w1_new\n",
    "        \n",
    "    # 4. Print all variables to check if they are converging to their expected values.\n",
    "    if i % 10 == 0:\n",
    "        print(f\"ITERATION: {i}\")\n",
    "        print(f\"SLOPE: {w1}, derivative: {deriv_w1}\")\n",
    "        print(f\"INTERCEPT: {w0}, derivative: {deriv_w0}\")\n",
    "        \n",
    "        plt.scatter(x, ytrue)\n",
    "        plt.plot(x, make_line(x, w0, w1), color='r')\n",
    "        plt.show()"
   ]
  }
 ],
 "metadata": {
  "kernelspec": {
   "display_name": "Python 3",
   "language": "python",
   "name": "python3"
  },
  "language_info": {
   "codemirror_mode": {
    "name": "ipython",
    "version": 3
   },
   "file_extension": ".py",
   "mimetype": "text/x-python",
   "name": "python",
   "nbconvert_exporter": "python",
   "pygments_lexer": "ipython3",
   "version": "3.7.0"
  }
 },
 "nbformat": 4,
 "nbformat_minor": 4
}
